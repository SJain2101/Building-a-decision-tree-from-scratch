{
 "cells": [
  {
   "cell_type": "markdown",
   "source": [
    "# Importing Libraries"
   ],
   "metadata": {
    "collapsed": false
   }
  },
  {
   "cell_type": "code",
   "execution_count": 1,
   "metadata": {
    "collapsed": true
   },
   "outputs": [],
   "source": [
    "import random #for splitting the data set into training and testing\n",
    "from math import log #for calculating entropy of splits\n",
    "from sklearn import tree #for comparison\n",
    "from sklearn import metrics #performance metrics"
   ]
  },
  {
   "cell_type": "markdown",
   "source": [
    "# train_test_split\n",
    "indices are fed to the random function. whatever indices are selected....those are pushed to test data....rest are pushed to train data."
   ],
   "metadata": {
    "collapsed": false,
    "pycharm": {
     "name": "#%% md\n"
    }
   }
  },
  {
   "cell_type": "code",
   "source": [
    "def train_test_split(dataset,test_size= 0.2): #handles both integer and fractional(proportion) test sizes\n",
    "    total = range(len(dataset))\n",
    "    if (type(test_size) == float) and (test_size > 0) and (test_size <1): # if fractional value is passed\n",
    "        size = int(test_size*len(dataset))\n",
    "        test_index = random.sample(population=total,k=size)\n",
    "    elif (type(test_size)== int) and (test_size <= len(dataset)): # if an integer is passed\n",
    "        test_index = random.sample(population=total,k=test_size)\n",
    "    else:\n",
    "        raise Exception('invalid test_size')\n",
    "    test = [dataset[value] for value in total if value in test_index]\n",
    "    train = [dataset[value] for value  in total if value not in test_index]\n",
    "    return train,test"
   ],
   "metadata": {
    "collapsed": false,
    "pycharm": {
     "name": "#%%\n"
    }
   },
   "execution_count": 3,
   "outputs": []
  },
  {
   "cell_type": "code",
   "source": [
    "def find_unique (dataset,column): #finding unique entries in a column/feature\n",
    "    values = set() #always holds unique values.\n",
    "    for datapoint in dataset:\n",
    "        values.add(datapoint[column])\n",
    "    x = list(values)\n",
    "    x.sort() #sorting helps in finding the midpoints\n",
    "    return x\n"
   ],
   "metadata": {
    "collapsed": false,
    "pycharm": {
     "name": "#%%\n"
    }
   },
   "execution_count": 4,
   "outputs": []
  },
  {
   "cell_type": "markdown",
   "source": [
    "# distinguishing continuous and categorical features"
   ],
   "metadata": {
    "collapsed": false,
    "pycharm": {
     "name": "#%% md\n"
    }
   }
  },
  {
   "cell_type": "code",
   "source": [
    "def get_feature_type(dataset,threshold=10): #manual analysis is necessary to determine the threshold before calling this function. This function helps in marking features as continuous and categorical\n",
    "    feature_type = []\n",
    "    for i in range(len(dataset[0])-1):\n",
    "        count = len(find_unique(dataset,i))\n",
    "        if isinstance(dataset[0][i],str) or count<=threshold:\n",
    "            feature_type.append('categorical')\n",
    "        else:\n",
    "            feature_type.append('continuous')\n",
    "    return feature_type"
   ],
   "metadata": {
    "collapsed": false,
    "pycharm": {
     "name": "#%%\n"
    }
   },
   "execution_count": 5,
   "outputs": []
  },
  {
   "cell_type": "code",
   "source": [
    "def find_centres (dataset): #Finding the split points for the entire data set\n",
    "    dict = {}\n",
    "    for i in range(len(dataset[0])-1): #ignore the labels\n",
    "        #centres = set() #order is not required and unique centres are needed\n",
    "        column_values = find_unique(dataset,i) #find unique feature values\n",
    "        if feature_type[i] == 'continuous': #this will be global to this function\n",
    "            # for j in range(1,len(column_values)): #This entire for loop is just to find mid points. I think this can be avoided--->TO DO\n",
    "            #     centres.add((column_values[j-1]+column_values[j])/2)\n",
    "            # dict[i] = centres\n",
    "            column_values.pop()\n",
    "            centres = set(column_values)\n",
    "            dict[i] = centres\n",
    "        elif len(column_values)>1: #categorical variable must have more than one categories. #CHeck the edge case\n",
    "            # for column_value in column_values:\n",
    "            #     centres.add(column_value)\n",
    "            centres = set(column_values)\n",
    "            dict[i] = centres\n",
    "\n",
    "    return dict\n",
    "\n",
    "# def find_centres (dataset): #Finding the split points for the entire data set\n",
    "#     dict = {}\n",
    "#     for i in range(len(dataset[0])-1): #ignore the labels\n",
    "#         #centres = set() #order is not required and unique centres are needed\n",
    "#         column_values = find_unique(dataset,i) #find unique feature values\n",
    "#         if feature_type[i] == 'continuous': #this will be global to this function\n",
    "#             # for j in range(1,len(column_values)): #This entire for loop is just to find mid points. I think this can be avoided--->TO DO\n",
    "#             #     centres.add((column_values[j-1]+column_values[j])/2)\n",
    "#             # dict[i] = centres\n",
    "#             column_values.pop()\n",
    "#             #centres = set(column_values)\n",
    "#             #dict[i] = centres\n",
    "#         #elif len(column_values)>1: #categorical variable must have more than one categories. #CHeck the edge case\n",
    "#             # for column_value in column_values:\n",
    "#             #     centres.add(column_value)\n",
    "#         centres = set(column_values)\n",
    "#         dict[i] = centres\n",
    "#\n",
    "#     return dict"
   ],
   "metadata": {
    "collapsed": false,
    "pycharm": {
     "name": "#%%\n"
    }
   },
   "execution_count": 6,
   "outputs": []
  },
  {
   "cell_type": "code",
   "source": [
    "def split_data(dataset,feature_index,centre): # splits the data beased on given feature and given entre point\n",
    "    left,right = [],[]  #the splits\n",
    "    for datapoint in dataset:\n",
    "        if feature_type[feature_index] == 'continuous':\n",
    "            if datapoint[feature_index]<= centre: #split is not on equality for continuous feature\n",
    "                left.append(datapoint)\n",
    "            else:\n",
    "                right.append(datapoint)\n",
    "        else: #categorical\n",
    "            if datapoint[feature_index]== centre:\n",
    "                left.append(datapoint)\n",
    "            else:\n",
    "                right.append(datapoint)\n",
    "    return left,right"
   ],
   "metadata": {
    "collapsed": false,
    "pycharm": {
     "name": "#%%\n"
    }
   },
   "execution_count": 7,
   "outputs": []
  },
  {
   "cell_type": "code",
   "source": [
    "def class_counts(dataset): #returns the counts of the datapoints belong to a class\n",
    "    counts = {}  # a dictionary of label -> count.\n",
    "    for datapoint in dataset:\n",
    "        # in our dataset format, the label is always the last column\n",
    "        label = datapoint[-1]\n",
    "        if label not in counts:\n",
    "            counts[label] = 0\n",
    "        counts[label] += 1\n",
    "    return counts"
   ],
   "metadata": {
    "collapsed": false,
    "pycharm": {
     "name": "#%%\n"
    }
   },
   "execution_count": 8,
   "outputs": []
  },
  {
   "cell_type": "code",
   "execution_count": 9,
   "outputs": [],
   "source": [
    "def gini(dataset): # returns the gini value for a data set\n",
    "    total = len(dataset)\n",
    "    counts = class_counts(dataset)\n",
    "    gin = 1\n",
    "    for label in counts:\n",
    "        prob = counts[label]/total\n",
    "        gin-= prob**2\n",
    "    return gin"
   ],
   "metadata": {
    "collapsed": false,
    "pycharm": {
     "name": "#%%\n"
    }
   }
  },
  {
   "cell_type": "code",
   "execution_count": 10,
   "outputs": [],
   "source": [
    "def entropy(dataset): #returns the entropy value for a data set\n",
    "    total = len(dataset)\n",
    "    counts = class_counts(dataset)\n",
    "    ent = 0\n",
    "    for label in counts:\n",
    "        prob = counts[label]/total\n",
    "        prod = -prob * log(prob,2)\n",
    "        ent+= prod\n",
    "    return ent"
   ],
   "metadata": {
    "collapsed": false,
    "pycharm": {
     "name": "#%%\n"
    }
   }
  },
  {
   "cell_type": "code",
   "execution_count": 11,
   "outputs": [],
   "source": [
    "def entropy_split(left,right): # returns entropy for the entire split\n",
    "    total = len(left)+len(right)\n",
    "    return (len(left)/total)*entropy(left)+ (len(right)/total)*entropy(right)"
   ],
   "metadata": {
    "collapsed": false,
    "pycharm": {
     "name": "#%%\n"
    }
   }
  },
  {
   "cell_type": "code",
   "execution_count": 12,
   "outputs": [],
   "source": [
    "def gini_split (left,right): # returns gini value for the entire split\n",
    "    total = len(left)+len(right)\n",
    "    return (len(left)/total)*gini(left)+ (len(right)/total)*gini(right)"
   ],
   "metadata": {
    "collapsed": false,
    "pycharm": {
     "name": "#%%\n"
    }
   }
  },
  {
   "cell_type": "code",
   "execution_count": 13,
   "outputs": [],
   "source": [
    "def find_best_split(dataset,split_type): # function to find the best split point based on the split criteria\n",
    "    if split_type == 'gini':\n",
    "        function = gini_split\n",
    "    else:\n",
    "        function = entropy_split\n",
    "    mini_gini = 9999999999\n",
    "    best_feature_index = '999999999999'\n",
    "    best_centre = 'X'\n",
    "    best_left = 'X'\n",
    "    best_right = 'X'\n",
    "    potential_split = find_centres(dataset)\n",
    "    for feature in potential_split:  #for every feature\n",
    "        for centre in potential_split[feature]:  # for every possible mid point in the feature\n",
    "            left,right = split_data(dataset,feature,centre) # split the data\n",
    "            current_gini = function(left,right) #calcualte the gini value for the split\n",
    "            if current_gini < mini_gini:\n",
    "                mini_gini = current_gini\n",
    "                best_feature_index = feature\n",
    "                best_centre = centre\n",
    "                best_left = left\n",
    "                best_right = right\n",
    "    return mini_gini,best_centre,best_feature_index,best_left,best_right"
   ],
   "metadata": {
    "collapsed": false,
    "pycharm": {
     "name": "#%%\n"
    }
   }
  },
  {
   "cell_type": "code",
   "execution_count": 14,
   "outputs": [],
   "source": [
    "class Decision_Tree: # class to store the state of the decision tree. Entire tree can be identified if the root is remembered\n",
    "    def __init__(self,value,question = None, left=None,right= None):\n",
    "        self.value = value\n",
    "        self.question = question\n",
    "        self.left = left\n",
    "        self.right = right\n",
    "\n",
    "    def __eq__(self, other):\n",
    "        if self is None or other is None:\n",
    "            return False\n",
    "        return (self.value == other.value) and (self.question == other.question) and (self.left == other.left) and (self.right == other.right)"
   ],
   "metadata": {
    "collapsed": false,
    "pycharm": {
     "name": "#%%\n"
    }
   }
  },
  {
   "cell_type": "code",
   "source": [
    "def build_tree(dataset, header=None, split_type='gini', min_samples_split=2, max_depth=None, counter=0,\n",
    "               featureType=None):  # main function to build the decision tree\n",
    "    if counter == 0:\n",
    "        if split_type != 'gini' and split_type != 'entropy':\n",
    "            raise ValueError(\"Unsupported split type\")\n",
    "        global feature_type\n",
    "        if featureType == None:\n",
    "            feature_type = get_feature_type(dataset)\n",
    "        else:\n",
    "            if (len(dataset[0])-1) == len(featureType) and type(featureType) == list:\n",
    "                feature_type = featureType\n",
    "            else:\n",
    "                raise ValueError('Length mismatch between feature type and the data_set')\n",
    "        if header is not None:  ## block added recently\n",
    "            if len(header) != len(dataset[0]):\n",
    "                raise ValueError('Length mismatch between feature type and the header passed')  ##Added recently\n",
    "    mini_gini, mid, feature_index, left_side, right_side = find_best_split(dataset,\n",
    "                                                                           split_type)  # find the best split for the database\n",
    "\n",
    "    if (mini_gini == 0) or (mini_gini == 9999999999) or (left_side == []) or (left_side == 'X') or (\n",
    "            right_side == []) or (right_side == 'X') or (mid == 'X') or (len(dataset) <= min_samples_split) or (\n",
    "            (max_depth is not None) and (counter == max_depth)):  # Base cases of no splits\n",
    "        pred = class_counts(dataset)  # make the prediction and form a leaf node\n",
    "        # print(predict)\n",
    "        # print(max(predict,key =predict.get),)\n",
    "        return Decision_Tree(str(max(pred, key=pred.get)))  ##changing to store string info for leaf\n",
    "    else:\n",
    "        counter += 1\n",
    "        operator = '=='\n",
    "        if feature_type[feature_index] == 'continuous':  # setting the operator based on the feature type\n",
    "            operator = '<='\n",
    "        if header:\n",
    "            string = \"is {} {} {}?\".format(header[feature_index], operator, mid)\n",
    "        else:\n",
    "            string = \"is {} {} {}?\".format(feature_index, operator, mid)\n",
    "        left_tree = build_tree(left_side, header, split_type, min_samples_split, max_depth=max_depth, counter=counter)\n",
    "        right_tree = build_tree(right_side, header, split_type, min_samples_split, max_depth=max_depth, counter=counter)\n",
    "        if left_tree == right_tree:  # to handle the case when left sub tree and right sub tree give same prediction\n",
    "            pred = class_counts(dataset)\n",
    "            return Decision_Tree(str(max(pred, key=pred.get)))  ## changing to store string value for the leaf node to handle both integer and string labels\n",
    "        else:\n",
    "            return Decision_Tree([feature_index, operator, mid], string, left_tree,\n",
    "                                 right_tree)  # create a node in the tree (not a leaf node)"
   ],
   "metadata": {
    "collapsed": false,
    "pycharm": {
     "name": "#%%\n"
    }
   },
   "execution_count": 15,
   "outputs": []
  },
  {
   "cell_type": "code",
   "execution_count": 16,
   "outputs": [],
   "source": [
    "def print_tree(root, spacing=\"\"):\n",
    "    # Base case: we've reached a leaf\n",
    "    if (root.left == None) and (root.right == None):\n",
    "        print (spacing + \"Prediction: \", root.value)\n",
    "        return\n",
    "\n",
    "    # Print the question at this node\n",
    "    print (spacing + str(root.question))\n",
    "\n",
    "    # Call this function recursively on the true branch\n",
    "    print (spacing + '--> Left:')\n",
    "    print_tree(root.left, spacing + \"  \")\n",
    "\n",
    "    # Call this function recursively on the false branch\n",
    "    print (spacing + '--> Right:')\n",
    "    print_tree(root.right, spacing + \"  \")"
   ],
   "metadata": {
    "collapsed": false,
    "pycharm": {
     "name": "#%%\n"
    }
   }
  },
  {
   "cell_type": "code",
   "execution_count": 17,
   "outputs": [],
   "source": [
    "def predict (root,test): #for predicting multiple data points\n",
    "    predictions = []\n",
    "    for point in test:\n",
    "        predictions.append(predict_single(root,point))\n",
    "    return predictions"
   ],
   "metadata": {
    "collapsed": false,
    "pycharm": {
     "name": "#%%\n"
    }
   }
  },
  {
   "cell_type": "code",
   "execution_count": 18,
   "outputs": [],
   "source": [
    "def predict_single (root,sample):\n",
    "     # base case if root.value is a string we actually have reached a prediction.\n",
    "    if type(root.value) == str:\n",
    "        return root.value\n",
    "    else:\n",
    "        if root.value[1] == '<=': #prediction based on the operator type\n",
    "            if sample[root.value[0]] <= root.value[-1]:\n",
    "                return predict_single(root.left,sample)\n",
    "            else:\n",
    "                return predict_single(root.right,sample)\n",
    "        else:\n",
    "            if sample[root.value[0]] == root.value[-1]:\n",
    "                return predict_single(root.left,sample)\n",
    "            else:\n",
    "                return predict_single(root.right,sample)"
   ],
   "metadata": {
    "collapsed": false,
    "pycharm": {
     "name": "#%%\n"
    }
   }
  },
  {
   "cell_type": "markdown",
   "source": [
    "# Reading the data set"
   ],
   "metadata": {
    "collapsed": false,
    "pycharm": {
     "name": "#%% md\n"
    }
   }
  },
  {
   "cell_type": "code",
   "execution_count": 19,
   "outputs": [],
   "source": [
    "file = open('iris.data','r') #reading the iris data set. We are already aware that it is clean data set. No missing values.\n",
    "line = file.readline()\n",
    "iris_dataset = []"
   ],
   "metadata": {
    "collapsed": false,
    "pycharm": {
     "name": "#%%\n"
    }
   }
  },
  {
   "cell_type": "code",
   "execution_count": 20,
   "outputs": [
    {
     "data": {
      "text/plain": "'5.1,3.5,1.4,0.2,Iris-setosa\\n'"
     },
     "execution_count": 20,
     "metadata": {},
     "output_type": "execute_result"
    }
   ],
   "source": [
    "line"
   ],
   "metadata": {
    "collapsed": false,
    "pycharm": {
     "name": "#%%\n"
    }
   }
  },
  {
   "cell_type": "code",
   "execution_count": 21,
   "outputs": [
    {
     "data": {
      "text/plain": "['5.1', '3.5', '1.4', '0.2', 'Iris-setosa\\n']"
     },
     "execution_count": 21,
     "metadata": {},
     "output_type": "execute_result"
    }
   ],
   "source": [
    "datapoint = line.split(',')\n",
    "datapoint"
   ],
   "metadata": {
    "collapsed": false,
    "pycharm": {
     "name": "#%%\n"
    }
   }
  },
  {
   "cell_type": "code",
   "execution_count": 22,
   "outputs": [],
   "source": [
    "while len(line)> 1:\n",
    "    line = line[:len(line)-1] #remove the newline character from the end of the string\n",
    "    datapoint = line.split(',')\n",
    "    iris_dataset.append(datapoint)\n",
    "    line = file.readline()"
   ],
   "metadata": {
    "collapsed": false,
    "pycharm": {
     "name": "#%%\n"
    }
   }
  },
  {
   "cell_type": "code",
   "execution_count": 23,
   "outputs": [],
   "source": [
    "file.close()"
   ],
   "metadata": {
    "collapsed": false,
    "pycharm": {
     "name": "#%%\n"
    }
   }
  },
  {
   "cell_type": "code",
   "execution_count": 24,
   "outputs": [
    {
     "data": {
      "text/plain": "[['5.1', '3.5', '1.4', '0.2', 'Iris-setosa'],\n ['4.9', '3.0', '1.4', '0.2', 'Iris-setosa'],\n ['4.7', '3.2', '1.3', '0.2', 'Iris-setosa'],\n ['4.6', '3.1', '1.5', '0.2', 'Iris-setosa'],\n ['5.0', '3.6', '1.4', '0.2', 'Iris-setosa'],\n ['5.4', '3.9', '1.7', '0.4', 'Iris-setosa'],\n ['4.6', '3.4', '1.4', '0.3', 'Iris-setosa'],\n ['5.0', '3.4', '1.5', '0.2', 'Iris-setosa'],\n ['4.4', '2.9', '1.4', '0.2', 'Iris-setosa'],\n ['4.9', '3.1', '1.5', '0.1', 'Iris-setosa'],\n ['5.4', '3.7', '1.5', '0.2', 'Iris-setosa'],\n ['4.8', '3.4', '1.6', '0.2', 'Iris-setosa'],\n ['4.8', '3.0', '1.4', '0.1', 'Iris-setosa'],\n ['4.3', '3.0', '1.1', '0.1', 'Iris-setosa'],\n ['5.8', '4.0', '1.2', '0.2', 'Iris-setosa'],\n ['5.7', '4.4', '1.5', '0.4', 'Iris-setosa'],\n ['5.4', '3.9', '1.3', '0.4', 'Iris-setosa'],\n ['5.1', '3.5', '1.4', '0.3', 'Iris-setosa'],\n ['5.7', '3.8', '1.7', '0.3', 'Iris-setosa'],\n ['5.1', '3.8', '1.5', '0.3', 'Iris-setosa'],\n ['5.4', '3.4', '1.7', '0.2', 'Iris-setosa'],\n ['5.1', '3.7', '1.5', '0.4', 'Iris-setosa'],\n ['4.6', '3.6', '1.0', '0.2', 'Iris-setosa'],\n ['5.1', '3.3', '1.7', '0.5', 'Iris-setosa'],\n ['4.8', '3.4', '1.9', '0.2', 'Iris-setosa'],\n ['5.0', '3.0', '1.6', '0.2', 'Iris-setosa'],\n ['5.0', '3.4', '1.6', '0.4', 'Iris-setosa'],\n ['5.2', '3.5', '1.5', '0.2', 'Iris-setosa'],\n ['5.2', '3.4', '1.4', '0.2', 'Iris-setosa'],\n ['4.7', '3.2', '1.6', '0.2', 'Iris-setosa'],\n ['4.8', '3.1', '1.6', '0.2', 'Iris-setosa'],\n ['5.4', '3.4', '1.5', '0.4', 'Iris-setosa'],\n ['5.2', '4.1', '1.5', '0.1', 'Iris-setosa'],\n ['5.5', '4.2', '1.4', '0.2', 'Iris-setosa'],\n ['4.9', '3.1', '1.5', '0.1', 'Iris-setosa'],\n ['5.0', '3.2', '1.2', '0.2', 'Iris-setosa'],\n ['5.5', '3.5', '1.3', '0.2', 'Iris-setosa'],\n ['4.9', '3.1', '1.5', '0.1', 'Iris-setosa'],\n ['4.4', '3.0', '1.3', '0.2', 'Iris-setosa'],\n ['5.1', '3.4', '1.5', '0.2', 'Iris-setosa'],\n ['5.0', '3.5', '1.3', '0.3', 'Iris-setosa'],\n ['4.5', '2.3', '1.3', '0.3', 'Iris-setosa'],\n ['4.4', '3.2', '1.3', '0.2', 'Iris-setosa'],\n ['5.0', '3.5', '1.6', '0.6', 'Iris-setosa'],\n ['5.1', '3.8', '1.9', '0.4', 'Iris-setosa'],\n ['4.8', '3.0', '1.4', '0.3', 'Iris-setosa'],\n ['5.1', '3.8', '1.6', '0.2', 'Iris-setosa'],\n ['4.6', '3.2', '1.4', '0.2', 'Iris-setosa'],\n ['5.3', '3.7', '1.5', '0.2', 'Iris-setosa'],\n ['5.0', '3.3', '1.4', '0.2', 'Iris-setosa'],\n ['7.0', '3.2', '4.7', '1.4', 'Iris-versicolor'],\n ['6.4', '3.2', '4.5', '1.5', 'Iris-versicolor'],\n ['6.9', '3.1', '4.9', '1.5', 'Iris-versicolor'],\n ['5.5', '2.3', '4.0', '1.3', 'Iris-versicolor'],\n ['6.5', '2.8', '4.6', '1.5', 'Iris-versicolor'],\n ['5.7', '2.8', '4.5', '1.3', 'Iris-versicolor'],\n ['6.3', '3.3', '4.7', '1.6', 'Iris-versicolor'],\n ['4.9', '2.4', '3.3', '1.0', 'Iris-versicolor'],\n ['6.6', '2.9', '4.6', '1.3', 'Iris-versicolor'],\n ['5.2', '2.7', '3.9', '1.4', 'Iris-versicolor'],\n ['5.0', '2.0', '3.5', '1.0', 'Iris-versicolor'],\n ['5.9', '3.0', '4.2', '1.5', 'Iris-versicolor'],\n ['6.0', '2.2', '4.0', '1.0', 'Iris-versicolor'],\n ['6.1', '2.9', '4.7', '1.4', 'Iris-versicolor'],\n ['5.6', '2.9', '3.6', '1.3', 'Iris-versicolor'],\n ['6.7', '3.1', '4.4', '1.4', 'Iris-versicolor'],\n ['5.6', '3.0', '4.5', '1.5', 'Iris-versicolor'],\n ['5.8', '2.7', '4.1', '1.0', 'Iris-versicolor'],\n ['6.2', '2.2', '4.5', '1.5', 'Iris-versicolor'],\n ['5.6', '2.5', '3.9', '1.1', 'Iris-versicolor'],\n ['5.9', '3.2', '4.8', '1.8', 'Iris-versicolor'],\n ['6.1', '2.8', '4.0', '1.3', 'Iris-versicolor'],\n ['6.3', '2.5', '4.9', '1.5', 'Iris-versicolor'],\n ['6.1', '2.8', '4.7', '1.2', 'Iris-versicolor'],\n ['6.4', '2.9', '4.3', '1.3', 'Iris-versicolor'],\n ['6.6', '3.0', '4.4', '1.4', 'Iris-versicolor'],\n ['6.8', '2.8', '4.8', '1.4', 'Iris-versicolor'],\n ['6.7', '3.0', '5.0', '1.7', 'Iris-versicolor'],\n ['6.0', '2.9', '4.5', '1.5', 'Iris-versicolor'],\n ['5.7', '2.6', '3.5', '1.0', 'Iris-versicolor'],\n ['5.5', '2.4', '3.8', '1.1', 'Iris-versicolor'],\n ['5.5', '2.4', '3.7', '1.0', 'Iris-versicolor'],\n ['5.8', '2.7', '3.9', '1.2', 'Iris-versicolor'],\n ['6.0', '2.7', '5.1', '1.6', 'Iris-versicolor'],\n ['5.4', '3.0', '4.5', '1.5', 'Iris-versicolor'],\n ['6.0', '3.4', '4.5', '1.6', 'Iris-versicolor'],\n ['6.7', '3.1', '4.7', '1.5', 'Iris-versicolor'],\n ['6.3', '2.3', '4.4', '1.3', 'Iris-versicolor'],\n ['5.6', '3.0', '4.1', '1.3', 'Iris-versicolor'],\n ['5.5', '2.5', '4.0', '1.3', 'Iris-versicolor'],\n ['5.5', '2.6', '4.4', '1.2', 'Iris-versicolor'],\n ['6.1', '3.0', '4.6', '1.4', 'Iris-versicolor'],\n ['5.8', '2.6', '4.0', '1.2', 'Iris-versicolor'],\n ['5.0', '2.3', '3.3', '1.0', 'Iris-versicolor'],\n ['5.6', '2.7', '4.2', '1.3', 'Iris-versicolor'],\n ['5.7', '3.0', '4.2', '1.2', 'Iris-versicolor'],\n ['5.7', '2.9', '4.2', '1.3', 'Iris-versicolor'],\n ['6.2', '2.9', '4.3', '1.3', 'Iris-versicolor'],\n ['5.1', '2.5', '3.0', '1.1', 'Iris-versicolor'],\n ['5.7', '2.8', '4.1', '1.3', 'Iris-versicolor'],\n ['6.3', '3.3', '6.0', '2.5', 'Iris-virginica'],\n ['5.8', '2.7', '5.1', '1.9', 'Iris-virginica'],\n ['7.1', '3.0', '5.9', '2.1', 'Iris-virginica'],\n ['6.3', '2.9', '5.6', '1.8', 'Iris-virginica'],\n ['6.5', '3.0', '5.8', '2.2', 'Iris-virginica'],\n ['7.6', '3.0', '6.6', '2.1', 'Iris-virginica'],\n ['4.9', '2.5', '4.5', '1.7', 'Iris-virginica'],\n ['7.3', '2.9', '6.3', '1.8', 'Iris-virginica'],\n ['6.7', '2.5', '5.8', '1.8', 'Iris-virginica'],\n ['7.2', '3.6', '6.1', '2.5', 'Iris-virginica'],\n ['6.5', '3.2', '5.1', '2.0', 'Iris-virginica'],\n ['6.4', '2.7', '5.3', '1.9', 'Iris-virginica'],\n ['6.8', '3.0', '5.5', '2.1', 'Iris-virginica'],\n ['5.7', '2.5', '5.0', '2.0', 'Iris-virginica'],\n ['5.8', '2.8', '5.1', '2.4', 'Iris-virginica'],\n ['6.4', '3.2', '5.3', '2.3', 'Iris-virginica'],\n ['6.5', '3.0', '5.5', '1.8', 'Iris-virginica'],\n ['7.7', '3.8', '6.7', '2.2', 'Iris-virginica'],\n ['7.7', '2.6', '6.9', '2.3', 'Iris-virginica'],\n ['6.0', '2.2', '5.0', '1.5', 'Iris-virginica'],\n ['6.9', '3.2', '5.7', '2.3', 'Iris-virginica'],\n ['5.6', '2.8', '4.9', '2.0', 'Iris-virginica'],\n ['7.7', '2.8', '6.7', '2.0', 'Iris-virginica'],\n ['6.3', '2.7', '4.9', '1.8', 'Iris-virginica'],\n ['6.7', '3.3', '5.7', '2.1', 'Iris-virginica'],\n ['7.2', '3.2', '6.0', '1.8', 'Iris-virginica'],\n ['6.2', '2.8', '4.8', '1.8', 'Iris-virginica'],\n ['6.1', '3.0', '4.9', '1.8', 'Iris-virginica'],\n ['6.4', '2.8', '5.6', '2.1', 'Iris-virginica'],\n ['7.2', '3.0', '5.8', '1.6', 'Iris-virginica'],\n ['7.4', '2.8', '6.1', '1.9', 'Iris-virginica'],\n ['7.9', '3.8', '6.4', '2.0', 'Iris-virginica'],\n ['6.4', '2.8', '5.6', '2.2', 'Iris-virginica'],\n ['6.3', '2.8', '5.1', '1.5', 'Iris-virginica'],\n ['6.1', '2.6', '5.6', '1.4', 'Iris-virginica'],\n ['7.7', '3.0', '6.1', '2.3', 'Iris-virginica'],\n ['6.3', '3.4', '5.6', '2.4', 'Iris-virginica'],\n ['6.4', '3.1', '5.5', '1.8', 'Iris-virginica'],\n ['6.0', '3.0', '4.8', '1.8', 'Iris-virginica'],\n ['6.9', '3.1', '5.4', '2.1', 'Iris-virginica'],\n ['6.7', '3.1', '5.6', '2.4', 'Iris-virginica'],\n ['6.9', '3.1', '5.1', '2.3', 'Iris-virginica'],\n ['5.8', '2.7', '5.1', '1.9', 'Iris-virginica'],\n ['6.8', '3.2', '5.9', '2.3', 'Iris-virginica'],\n ['6.7', '3.3', '5.7', '2.5', 'Iris-virginica'],\n ['6.7', '3.0', '5.2', '2.3', 'Iris-virginica'],\n ['6.3', '2.5', '5.0', '1.9', 'Iris-virginica'],\n ['6.5', '3.0', '5.2', '2.0', 'Iris-virginica'],\n ['6.2', '3.4', '5.4', '2.3', 'Iris-virginica'],\n ['5.9', '3.0', '5.1', '1.8', 'Iris-virginica']]"
     },
     "execution_count": 24,
     "metadata": {},
     "output_type": "execute_result"
    }
   ],
   "source": [
    "iris_dataset"
   ],
   "metadata": {
    "collapsed": false,
    "pycharm": {
     "name": "#%%\n"
    }
   }
  },
  {
   "cell_type": "code",
   "execution_count": 25,
   "outputs": [
    {
     "data": {
      "text/plain": "150"
     },
     "execution_count": 25,
     "metadata": {},
     "output_type": "execute_result"
    }
   ],
   "source": [
    "len(iris_dataset)"
   ],
   "metadata": {
    "collapsed": false,
    "pycharm": {
     "name": "#%%\n"
    }
   }
  },
  {
   "cell_type": "code",
   "execution_count": 26,
   "outputs": [],
   "source": [
    "for datapoint in iris_dataset: # data type conversion\n",
    "    for j in range(len(datapoint)-1):\n",
    "        datapoint[j] = float(datapoint[j])"
   ],
   "metadata": {
    "collapsed": false,
    "pycharm": {
     "name": "#%%\n"
    }
   }
  },
  {
   "cell_type": "code",
   "execution_count": 27,
   "outputs": [
    {
     "data": {
      "text/plain": "[[5.1, 3.5, 1.4, 0.2, 'Iris-setosa'],\n [4.9, 3.0, 1.4, 0.2, 'Iris-setosa'],\n [4.7, 3.2, 1.3, 0.2, 'Iris-setosa'],\n [4.6, 3.1, 1.5, 0.2, 'Iris-setosa'],\n [5.0, 3.6, 1.4, 0.2, 'Iris-setosa'],\n [5.4, 3.9, 1.7, 0.4, 'Iris-setosa'],\n [4.6, 3.4, 1.4, 0.3, 'Iris-setosa'],\n [5.0, 3.4, 1.5, 0.2, 'Iris-setosa'],\n [4.4, 2.9, 1.4, 0.2, 'Iris-setosa'],\n [4.9, 3.1, 1.5, 0.1, 'Iris-setosa'],\n [5.4, 3.7, 1.5, 0.2, 'Iris-setosa'],\n [4.8, 3.4, 1.6, 0.2, 'Iris-setosa'],\n [4.8, 3.0, 1.4, 0.1, 'Iris-setosa'],\n [4.3, 3.0, 1.1, 0.1, 'Iris-setosa'],\n [5.8, 4.0, 1.2, 0.2, 'Iris-setosa'],\n [5.7, 4.4, 1.5, 0.4, 'Iris-setosa'],\n [5.4, 3.9, 1.3, 0.4, 'Iris-setosa'],\n [5.1, 3.5, 1.4, 0.3, 'Iris-setosa'],\n [5.7, 3.8, 1.7, 0.3, 'Iris-setosa'],\n [5.1, 3.8, 1.5, 0.3, 'Iris-setosa'],\n [5.4, 3.4, 1.7, 0.2, 'Iris-setosa'],\n [5.1, 3.7, 1.5, 0.4, 'Iris-setosa'],\n [4.6, 3.6, 1.0, 0.2, 'Iris-setosa'],\n [5.1, 3.3, 1.7, 0.5, 'Iris-setosa'],\n [4.8, 3.4, 1.9, 0.2, 'Iris-setosa'],\n [5.0, 3.0, 1.6, 0.2, 'Iris-setosa'],\n [5.0, 3.4, 1.6, 0.4, 'Iris-setosa'],\n [5.2, 3.5, 1.5, 0.2, 'Iris-setosa'],\n [5.2, 3.4, 1.4, 0.2, 'Iris-setosa'],\n [4.7, 3.2, 1.6, 0.2, 'Iris-setosa'],\n [4.8, 3.1, 1.6, 0.2, 'Iris-setosa'],\n [5.4, 3.4, 1.5, 0.4, 'Iris-setosa'],\n [5.2, 4.1, 1.5, 0.1, 'Iris-setosa'],\n [5.5, 4.2, 1.4, 0.2, 'Iris-setosa'],\n [4.9, 3.1, 1.5, 0.1, 'Iris-setosa'],\n [5.0, 3.2, 1.2, 0.2, 'Iris-setosa'],\n [5.5, 3.5, 1.3, 0.2, 'Iris-setosa'],\n [4.9, 3.1, 1.5, 0.1, 'Iris-setosa'],\n [4.4, 3.0, 1.3, 0.2, 'Iris-setosa'],\n [5.1, 3.4, 1.5, 0.2, 'Iris-setosa'],\n [5.0, 3.5, 1.3, 0.3, 'Iris-setosa'],\n [4.5, 2.3, 1.3, 0.3, 'Iris-setosa'],\n [4.4, 3.2, 1.3, 0.2, 'Iris-setosa'],\n [5.0, 3.5, 1.6, 0.6, 'Iris-setosa'],\n [5.1, 3.8, 1.9, 0.4, 'Iris-setosa'],\n [4.8, 3.0, 1.4, 0.3, 'Iris-setosa'],\n [5.1, 3.8, 1.6, 0.2, 'Iris-setosa'],\n [4.6, 3.2, 1.4, 0.2, 'Iris-setosa'],\n [5.3, 3.7, 1.5, 0.2, 'Iris-setosa'],\n [5.0, 3.3, 1.4, 0.2, 'Iris-setosa'],\n [7.0, 3.2, 4.7, 1.4, 'Iris-versicolor'],\n [6.4, 3.2, 4.5, 1.5, 'Iris-versicolor'],\n [6.9, 3.1, 4.9, 1.5, 'Iris-versicolor'],\n [5.5, 2.3, 4.0, 1.3, 'Iris-versicolor'],\n [6.5, 2.8, 4.6, 1.5, 'Iris-versicolor'],\n [5.7, 2.8, 4.5, 1.3, 'Iris-versicolor'],\n [6.3, 3.3, 4.7, 1.6, 'Iris-versicolor'],\n [4.9, 2.4, 3.3, 1.0, 'Iris-versicolor'],\n [6.6, 2.9, 4.6, 1.3, 'Iris-versicolor'],\n [5.2, 2.7, 3.9, 1.4, 'Iris-versicolor'],\n [5.0, 2.0, 3.5, 1.0, 'Iris-versicolor'],\n [5.9, 3.0, 4.2, 1.5, 'Iris-versicolor'],\n [6.0, 2.2, 4.0, 1.0, 'Iris-versicolor'],\n [6.1, 2.9, 4.7, 1.4, 'Iris-versicolor'],\n [5.6, 2.9, 3.6, 1.3, 'Iris-versicolor'],\n [6.7, 3.1, 4.4, 1.4, 'Iris-versicolor'],\n [5.6, 3.0, 4.5, 1.5, 'Iris-versicolor'],\n [5.8, 2.7, 4.1, 1.0, 'Iris-versicolor'],\n [6.2, 2.2, 4.5, 1.5, 'Iris-versicolor'],\n [5.6, 2.5, 3.9, 1.1, 'Iris-versicolor'],\n [5.9, 3.2, 4.8, 1.8, 'Iris-versicolor'],\n [6.1, 2.8, 4.0, 1.3, 'Iris-versicolor'],\n [6.3, 2.5, 4.9, 1.5, 'Iris-versicolor'],\n [6.1, 2.8, 4.7, 1.2, 'Iris-versicolor'],\n [6.4, 2.9, 4.3, 1.3, 'Iris-versicolor'],\n [6.6, 3.0, 4.4, 1.4, 'Iris-versicolor'],\n [6.8, 2.8, 4.8, 1.4, 'Iris-versicolor'],\n [6.7, 3.0, 5.0, 1.7, 'Iris-versicolor'],\n [6.0, 2.9, 4.5, 1.5, 'Iris-versicolor'],\n [5.7, 2.6, 3.5, 1.0, 'Iris-versicolor'],\n [5.5, 2.4, 3.8, 1.1, 'Iris-versicolor'],\n [5.5, 2.4, 3.7, 1.0, 'Iris-versicolor'],\n [5.8, 2.7, 3.9, 1.2, 'Iris-versicolor'],\n [6.0, 2.7, 5.1, 1.6, 'Iris-versicolor'],\n [5.4, 3.0, 4.5, 1.5, 'Iris-versicolor'],\n [6.0, 3.4, 4.5, 1.6, 'Iris-versicolor'],\n [6.7, 3.1, 4.7, 1.5, 'Iris-versicolor'],\n [6.3, 2.3, 4.4, 1.3, 'Iris-versicolor'],\n [5.6, 3.0, 4.1, 1.3, 'Iris-versicolor'],\n [5.5, 2.5, 4.0, 1.3, 'Iris-versicolor'],\n [5.5, 2.6, 4.4, 1.2, 'Iris-versicolor'],\n [6.1, 3.0, 4.6, 1.4, 'Iris-versicolor'],\n [5.8, 2.6, 4.0, 1.2, 'Iris-versicolor'],\n [5.0, 2.3, 3.3, 1.0, 'Iris-versicolor'],\n [5.6, 2.7, 4.2, 1.3, 'Iris-versicolor'],\n [5.7, 3.0, 4.2, 1.2, 'Iris-versicolor'],\n [5.7, 2.9, 4.2, 1.3, 'Iris-versicolor'],\n [6.2, 2.9, 4.3, 1.3, 'Iris-versicolor'],\n [5.1, 2.5, 3.0, 1.1, 'Iris-versicolor'],\n [5.7, 2.8, 4.1, 1.3, 'Iris-versicolor'],\n [6.3, 3.3, 6.0, 2.5, 'Iris-virginica'],\n [5.8, 2.7, 5.1, 1.9, 'Iris-virginica'],\n [7.1, 3.0, 5.9, 2.1, 'Iris-virginica'],\n [6.3, 2.9, 5.6, 1.8, 'Iris-virginica'],\n [6.5, 3.0, 5.8, 2.2, 'Iris-virginica'],\n [7.6, 3.0, 6.6, 2.1, 'Iris-virginica'],\n [4.9, 2.5, 4.5, 1.7, 'Iris-virginica'],\n [7.3, 2.9, 6.3, 1.8, 'Iris-virginica'],\n [6.7, 2.5, 5.8, 1.8, 'Iris-virginica'],\n [7.2, 3.6, 6.1, 2.5, 'Iris-virginica'],\n [6.5, 3.2, 5.1, 2.0, 'Iris-virginica'],\n [6.4, 2.7, 5.3, 1.9, 'Iris-virginica'],\n [6.8, 3.0, 5.5, 2.1, 'Iris-virginica'],\n [5.7, 2.5, 5.0, 2.0, 'Iris-virginica'],\n [5.8, 2.8, 5.1, 2.4, 'Iris-virginica'],\n [6.4, 3.2, 5.3, 2.3, 'Iris-virginica'],\n [6.5, 3.0, 5.5, 1.8, 'Iris-virginica'],\n [7.7, 3.8, 6.7, 2.2, 'Iris-virginica'],\n [7.7, 2.6, 6.9, 2.3, 'Iris-virginica'],\n [6.0, 2.2, 5.0, 1.5, 'Iris-virginica'],\n [6.9, 3.2, 5.7, 2.3, 'Iris-virginica'],\n [5.6, 2.8, 4.9, 2.0, 'Iris-virginica'],\n [7.7, 2.8, 6.7, 2.0, 'Iris-virginica'],\n [6.3, 2.7, 4.9, 1.8, 'Iris-virginica'],\n [6.7, 3.3, 5.7, 2.1, 'Iris-virginica'],\n [7.2, 3.2, 6.0, 1.8, 'Iris-virginica'],\n [6.2, 2.8, 4.8, 1.8, 'Iris-virginica'],\n [6.1, 3.0, 4.9, 1.8, 'Iris-virginica'],\n [6.4, 2.8, 5.6, 2.1, 'Iris-virginica'],\n [7.2, 3.0, 5.8, 1.6, 'Iris-virginica'],\n [7.4, 2.8, 6.1, 1.9, 'Iris-virginica'],\n [7.9, 3.8, 6.4, 2.0, 'Iris-virginica'],\n [6.4, 2.8, 5.6, 2.2, 'Iris-virginica'],\n [6.3, 2.8, 5.1, 1.5, 'Iris-virginica'],\n [6.1, 2.6, 5.6, 1.4, 'Iris-virginica'],\n [7.7, 3.0, 6.1, 2.3, 'Iris-virginica'],\n [6.3, 3.4, 5.6, 2.4, 'Iris-virginica'],\n [6.4, 3.1, 5.5, 1.8, 'Iris-virginica'],\n [6.0, 3.0, 4.8, 1.8, 'Iris-virginica'],\n [6.9, 3.1, 5.4, 2.1, 'Iris-virginica'],\n [6.7, 3.1, 5.6, 2.4, 'Iris-virginica'],\n [6.9, 3.1, 5.1, 2.3, 'Iris-virginica'],\n [5.8, 2.7, 5.1, 1.9, 'Iris-virginica'],\n [6.8, 3.2, 5.9, 2.3, 'Iris-virginica'],\n [6.7, 3.3, 5.7, 2.5, 'Iris-virginica'],\n [6.7, 3.0, 5.2, 2.3, 'Iris-virginica'],\n [6.3, 2.5, 5.0, 1.9, 'Iris-virginica'],\n [6.5, 3.0, 5.2, 2.0, 'Iris-virginica'],\n [6.2, 3.4, 5.4, 2.3, 'Iris-virginica'],\n [5.9, 3.0, 5.1, 1.8, 'Iris-virginica']]"
     },
     "execution_count": 27,
     "metadata": {},
     "output_type": "execute_result"
    }
   ],
   "source": [
    "iris_dataset"
   ],
   "metadata": {
    "collapsed": false,
    "pycharm": {
     "name": "#%%\n"
    }
   }
  },
  {
   "cell_type": "code",
   "execution_count": 28,
   "outputs": [],
   "source": [
    "iris_header= ['sepal_length','sepal_width','petal_length','petal_width','labels']"
   ],
   "metadata": {
    "collapsed": false,
    "pycharm": {
     "name": "#%%\n"
    }
   }
  },
  {
   "cell_type": "code",
   "execution_count": 29,
   "outputs": [
    {
     "data": {
      "text/plain": "[[3.0, 'male', 22.0, 1.0, 0.0, 7.25, 'S', '0'],\n [1.0, 'female', 38.0, 1.0, 0.0, 71.2833, 'C', '1'],\n [3.0, 'female', 26.0, 0.0, 0.0, 7.925, 'S', '1'],\n [1.0, 'female', 35.0, 1.0, 0.0, 53.1, 'S', '1'],\n [3.0, 'male', 35.0, 0.0, 0.0, 8.05, 'S', '0'],\n [3.0, 'male', 28.0, 0.0, 0.0, 8.4583, 'Q', '0'],\n [1.0, 'male', 54.0, 0.0, 0.0, 51.8625, 'S', '0'],\n [3.0, 'male', 2.0, 3.0, 1.0, 21.075, 'S', '0'],\n [3.0, 'female', 27.0, 0.0, 2.0, 11.1333, 'S', '1'],\n [2.0, 'female', 14.0, 1.0, 0.0, 30.0708, 'C', '1'],\n [3.0, 'female', 4.0, 1.0, 1.0, 16.7, 'S', '1'],\n [1.0, 'female', 58.0, 0.0, 0.0, 26.55, 'S', '1'],\n [3.0, 'male', 20.0, 0.0, 0.0, 8.05, 'S', '0'],\n [3.0, 'male', 39.0, 1.0, 5.0, 31.275, 'S', '0'],\n [3.0, 'female', 14.0, 0.0, 0.0, 7.8542, 'S', '0'],\n [2.0, 'female', 55.0, 0.0, 0.0, 16.0, 'S', '1'],\n [3.0, 'male', 2.0, 4.0, 1.0, 29.125, 'Q', '0'],\n [2.0, 'male', 28.0, 0.0, 0.0, 13.0, 'S', '1'],\n [3.0, 'female', 31.0, 1.0, 0.0, 18.0, 'S', '0'],\n [3.0, 'female', 28.0, 0.0, 0.0, 7.225, 'C', '1'],\n [2.0, 'male', 35.0, 0.0, 0.0, 26.0, 'S', '0'],\n [2.0, 'male', 34.0, 0.0, 0.0, 13.0, 'S', '1'],\n [3.0, 'female', 15.0, 0.0, 0.0, 8.0292, 'Q', '1'],\n [1.0, 'male', 28.0, 0.0, 0.0, 35.5, 'S', '1'],\n [3.0, 'female', 8.0, 3.0, 1.0, 21.075, 'S', '0'],\n [3.0, 'female', 38.0, 1.0, 5.0, 31.3875, 'S', '1'],\n [3.0, 'male', 28.0, 0.0, 0.0, 7.225, 'C', '0'],\n [1.0, 'male', 19.0, 3.0, 2.0, 263.0, 'S', '0'],\n [3.0, 'female', 28.0, 0.0, 0.0, 7.8792, 'Q', '1'],\n [3.0, 'male', 28.0, 0.0, 0.0, 7.8958, 'S', '0'],\n [1.0, 'male', 40.0, 0.0, 0.0, 27.7208, 'C', '0'],\n [1.0, 'female', 28.0, 1.0, 0.0, 146.5208, 'C', '1'],\n [3.0, 'female', 28.0, 0.0, 0.0, 7.75, 'Q', '1'],\n [2.0, 'male', 66.0, 0.0, 0.0, 10.5, 'S', '0'],\n [1.0, 'male', 28.0, 1.0, 0.0, 82.1708, 'C', '0'],\n [1.0, 'male', 42.0, 1.0, 0.0, 52.0, 'S', '0'],\n [3.0, 'male', 28.0, 0.0, 0.0, 7.2292, 'C', '1'],\n [3.0, 'male', 21.0, 0.0, 0.0, 8.05, 'S', '0'],\n [3.0, 'female', 18.0, 2.0, 0.0, 18.0, 'S', '0'],\n [3.0, 'female', 14.0, 1.0, 0.0, 11.2417, 'C', '1'],\n [3.0, 'female', 40.0, 1.0, 0.0, 9.475, 'S', '0'],\n [2.0, 'female', 27.0, 1.0, 0.0, 21.0, 'S', '0'],\n [3.0, 'male', 28.0, 0.0, 0.0, 7.8958, 'C', '0'],\n [2.0, 'female', 3.0, 1.0, 2.0, 41.5792, 'C', '1'],\n [3.0, 'female', 19.0, 0.0, 0.0, 7.8792, 'Q', '1'],\n [3.0, 'male', 28.0, 0.0, 0.0, 8.05, 'S', '0'],\n [3.0, 'male', 28.0, 1.0, 0.0, 15.5, 'Q', '0'],\n [3.0, 'female', 28.0, 0.0, 0.0, 7.75, 'Q', '1'],\n [3.0, 'male', 28.0, 2.0, 0.0, 21.6792, 'C', '0'],\n [3.0, 'female', 18.0, 1.0, 0.0, 17.8, 'S', '0'],\n [3.0, 'male', 7.0, 4.0, 1.0, 39.6875, 'S', '0'],\n [3.0, 'male', 21.0, 0.0, 0.0, 7.8, 'S', '0'],\n [1.0, 'female', 49.0, 1.0, 0.0, 76.7292, 'C', '1'],\n [2.0, 'female', 29.0, 1.0, 0.0, 26.0, 'S', '1'],\n [1.0, 'male', 65.0, 0.0, 1.0, 61.9792, 'C', '0'],\n [1.0, 'male', 28.0, 0.0, 0.0, 35.5, 'S', '1'],\n [2.0, 'female', 21.0, 0.0, 0.0, 10.5, 'S', '1'],\n [3.0, 'male', 28.5, 0.0, 0.0, 7.2292, 'C', '0'],\n [2.0, 'female', 5.0, 1.0, 2.0, 27.75, 'S', '1'],\n [3.0, 'male', 11.0, 5.0, 2.0, 46.9, 'S', '0'],\n [3.0, 'male', 22.0, 0.0, 0.0, 7.2292, 'C', '0'],\n [1.0, 'female', 38.0, 0.0, 0.0, 80.0, 'S', '1'],\n [1.0, 'male', 45.0, 1.0, 0.0, 83.475, 'S', '0'],\n [3.0, 'male', 4.0, 3.0, 2.0, 27.9, 'S', '0'],\n [1.0, 'male', 28.0, 0.0, 0.0, 27.7208, 'C', '0'],\n [3.0, 'male', 28.0, 1.0, 1.0, 15.2458, 'C', '1'],\n [2.0, 'female', 29.0, 0.0, 0.0, 10.5, 'S', '1'],\n [3.0, 'male', 19.0, 0.0, 0.0, 8.1583, 'S', '0'],\n [3.0, 'female', 17.0, 4.0, 2.0, 7.925, 'S', '1'],\n [3.0, 'male', 26.0, 2.0, 0.0, 8.6625, 'S', '0'],\n [2.0, 'male', 32.0, 0.0, 0.0, 10.5, 'S', '0'],\n [3.0, 'female', 16.0, 5.0, 2.0, 46.9, 'S', '0'],\n [2.0, 'male', 21.0, 0.0, 0.0, 73.5, 'S', '0'],\n [3.0, 'male', 26.0, 1.0, 0.0, 14.4542, 'C', '0'],\n [3.0, 'male', 32.0, 0.0, 0.0, 56.4958, 'S', '1'],\n [3.0, 'male', 25.0, 0.0, 0.0, 7.65, 'S', '0'],\n [3.0, 'male', 28.0, 0.0, 0.0, 7.8958, 'S', '0'],\n [3.0, 'male', 28.0, 0.0, 0.0, 8.05, 'S', '0'],\n [2.0, 'male', 0.83, 0.0, 2.0, 29.0, 'S', '1'],\n [3.0, 'female', 30.0, 0.0, 0.0, 12.475, 'S', '1'],\n [3.0, 'male', 22.0, 0.0, 0.0, 9.0, 'S', '0'],\n [3.0, 'male', 29.0, 0.0, 0.0, 9.5, 'S', '1'],\n [3.0, 'female', 28.0, 0.0, 0.0, 7.7875, 'Q', '1'],\n [1.0, 'male', 28.0, 0.0, 0.0, 47.1, 'S', '0'],\n [2.0, 'female', 17.0, 0.0, 0.0, 10.5, 'S', '1'],\n [3.0, 'female', 33.0, 3.0, 0.0, 15.85, 'S', '1'],\n [3.0, 'male', 16.0, 1.0, 3.0, 34.375, 'S', '0'],\n [3.0, 'male', 28.0, 0.0, 0.0, 8.05, 'S', '0'],\n [1.0, 'female', 23.0, 3.0, 2.0, 263.0, 'S', '1'],\n [3.0, 'male', 24.0, 0.0, 0.0, 8.05, 'S', '0'],\n [3.0, 'male', 29.0, 0.0, 0.0, 8.05, 'S', '0'],\n [3.0, 'male', 20.0, 0.0, 0.0, 7.8542, 'S', '0'],\n [1.0, 'male', 46.0, 1.0, 0.0, 61.175, 'S', '0'],\n [3.0, 'male', 26.0, 1.0, 2.0, 20.575, 'S', '0'],\n [3.0, 'male', 59.0, 0.0, 0.0, 7.25, 'S', '0'],\n [3.0, 'male', 28.0, 0.0, 0.0, 8.05, 'S', '0'],\n [1.0, 'male', 71.0, 0.0, 0.0, 34.6542, 'C', '0'],\n [1.0, 'male', 23.0, 0.0, 1.0, 63.3583, 'C', '1'],\n [2.0, 'female', 34.0, 0.0, 1.0, 23.0, 'S', '1'],\n [2.0, 'male', 34.0, 1.0, 0.0, 26.0, 'S', '0'],\n [3.0, 'female', 28.0, 0.0, 0.0, 7.8958, 'S', '0'],\n [3.0, 'male', 28.0, 0.0, 0.0, 7.8958, 'S', '0'],\n [1.0, 'male', 21.0, 0.0, 1.0, 77.2875, 'S', '0'],\n [3.0, 'male', 33.0, 0.0, 0.0, 8.6542, 'S', '0'],\n [3.0, 'male', 37.0, 2.0, 0.0, 7.925, 'S', '0'],\n [3.0, 'male', 28.0, 0.0, 0.0, 7.8958, 'S', '0'],\n [3.0, 'female', 21.0, 0.0, 0.0, 7.65, 'S', '1'],\n [3.0, 'male', 28.0, 0.0, 0.0, 7.775, 'S', '1'],\n [3.0, 'male', 38.0, 0.0, 0.0, 7.8958, 'S', '0'],\n [3.0, 'female', 28.0, 1.0, 0.0, 24.15, 'Q', '1'],\n [1.0, 'male', 47.0, 0.0, 0.0, 52.0, 'S', '0'],\n [3.0, 'female', 14.5, 1.0, 0.0, 14.4542, 'C', '0'],\n [3.0, 'male', 22.0, 0.0, 0.0, 8.05, 'S', '0'],\n [3.0, 'female', 20.0, 1.0, 0.0, 9.825, 'S', '0'],\n [3.0, 'female', 17.0, 0.0, 0.0, 14.4583, 'C', '0'],\n [3.0, 'male', 21.0, 0.0, 0.0, 7.925, 'S', '0'],\n [3.0, 'male', 70.5, 0.0, 0.0, 7.75, 'Q', '0'],\n [2.0, 'male', 29.0, 1.0, 0.0, 21.0, 'S', '0'],\n [1.0, 'male', 24.0, 0.0, 1.0, 247.5208, 'C', '0'],\n [3.0, 'female', 2.0, 4.0, 2.0, 31.275, 'S', '0'],\n [2.0, 'male', 21.0, 2.0, 0.0, 73.5, 'S', '0'],\n [3.0, 'male', 28.0, 0.0, 0.0, 8.05, 'S', '0'],\n [2.0, 'male', 32.5, 1.0, 0.0, 30.0708, 'C', '0'],\n [2.0, 'female', 32.5, 0.0, 0.0, 13.0, 'S', '1'],\n [1.0, 'male', 54.0, 0.0, 1.0, 77.2875, 'S', '0'],\n [3.0, 'male', 12.0, 1.0, 0.0, 11.2417, 'C', '1'],\n [3.0, 'male', 28.0, 0.0, 0.0, 7.75, 'Q', '0'],\n [3.0, 'male', 24.0, 0.0, 0.0, 7.1417, 'S', '1'],\n [3.0, 'female', 28.0, 1.0, 1.0, 22.3583, 'C', '1'],\n [3.0, 'male', 45.0, 0.0, 0.0, 6.975, 'S', '0'],\n [3.0, 'male', 33.0, 0.0, 0.0, 7.8958, 'C', '0'],\n [3.0, 'male', 20.0, 0.0, 0.0, 7.05, 'S', '0'],\n [3.0, 'female', 47.0, 1.0, 0.0, 14.5, 'S', '0'],\n [2.0, 'female', 29.0, 1.0, 0.0, 26.0, 'S', '1'],\n [2.0, 'male', 25.0, 0.0, 0.0, 13.0, 'S', '0'],\n [2.0, 'male', 23.0, 0.0, 0.0, 15.0458, 'C', '0'],\n [1.0, 'female', 19.0, 0.0, 2.0, 26.2833, 'S', '1'],\n [1.0, 'male', 37.0, 1.0, 0.0, 53.1, 'S', '0'],\n [3.0, 'male', 16.0, 0.0, 0.0, 9.2167, 'S', '0'],\n [1.0, 'male', 24.0, 0.0, 0.0, 79.2, 'C', '0'],\n [3.0, 'female', 28.0, 0.0, 2.0, 15.2458, 'C', '0'],\n [3.0, 'female', 22.0, 0.0, 0.0, 7.75, 'S', '1'],\n [3.0, 'female', 24.0, 1.0, 0.0, 15.85, 'S', '1'],\n [3.0, 'male', 19.0, 0.0, 0.0, 6.75, 'Q', '0'],\n [2.0, 'male', 18.0, 0.0, 0.0, 11.5, 'S', '0'],\n [2.0, 'male', 19.0, 1.0, 1.0, 36.75, 'S', '0'],\n [3.0, 'male', 27.0, 0.0, 0.0, 7.7958, 'S', '1'],\n [3.0, 'female', 9.0, 2.0, 2.0, 34.375, 'S', '0'],\n [2.0, 'male', 36.5, 0.0, 2.0, 26.0, 'S', '0'],\n [2.0, 'male', 42.0, 0.0, 0.0, 13.0, 'S', '0'],\n [2.0, 'male', 51.0, 0.0, 0.0, 12.525, 'S', '0'],\n [1.0, 'female', 22.0, 1.0, 0.0, 66.6, 'S', '1'],\n [3.0, 'male', 55.5, 0.0, 0.0, 8.05, 'S', '0'],\n [3.0, 'male', 40.5, 0.0, 2.0, 14.5, 'S', '0'],\n [3.0, 'male', 28.0, 0.0, 0.0, 7.3125, 'S', '0'],\n [1.0, 'male', 51.0, 0.0, 1.0, 61.3792, 'C', '0'],\n [3.0, 'female', 16.0, 0.0, 0.0, 7.7333, 'Q', '1'],\n [3.0, 'male', 30.0, 0.0, 0.0, 8.05, 'S', '0'],\n [3.0, 'male', 28.0, 0.0, 0.0, 8.6625, 'S', '0'],\n [3.0, 'male', 28.0, 8.0, 2.0, 69.55, 'S', '0'],\n [3.0, 'male', 44.0, 0.0, 1.0, 16.1, 'S', '0'],\n [2.0, 'female', 40.0, 0.0, 0.0, 15.75, 'S', '1'],\n [3.0, 'male', 26.0, 0.0, 0.0, 7.775, 'S', '0'],\n [3.0, 'male', 17.0, 0.0, 0.0, 8.6625, 'S', '0'],\n [3.0, 'male', 1.0, 4.0, 1.0, 39.6875, 'S', '0'],\n [3.0, 'male', 9.0, 0.0, 2.0, 20.525, 'S', '1'],\n [1.0, 'female', 28.0, 0.0, 1.0, 55.0, 'S', '1'],\n [3.0, 'female', 45.0, 1.0, 4.0, 27.9, 'S', '0'],\n [1.0, 'male', 28.0, 0.0, 0.0, 25.925, 'S', '0'],\n [3.0, 'male', 28.0, 0.0, 0.0, 56.4958, 'S', '0'],\n [1.0, 'male', 61.0, 0.0, 0.0, 33.5, 'S', '0'],\n [3.0, 'male', 4.0, 4.0, 1.0, 29.125, 'Q', '0'],\n [3.0, 'female', 1.0, 1.0, 1.0, 11.1333, 'S', '1'],\n [3.0, 'male', 21.0, 0.0, 0.0, 7.925, 'S', '0'],\n [1.0, 'male', 56.0, 0.0, 0.0, 30.6958, 'C', '0'],\n [3.0, 'male', 18.0, 1.0, 1.0, 7.8542, 'S', '0'],\n [3.0, 'male', 28.0, 3.0, 1.0, 25.4667, 'S', '0'],\n [1.0, 'female', 50.0, 0.0, 0.0, 28.7125, 'C', '0'],\n [2.0, 'male', 30.0, 0.0, 0.0, 13.0, 'S', '0'],\n [3.0, 'male', 36.0, 0.0, 0.0, 0.0, 'S', '0'],\n [3.0, 'female', 28.0, 8.0, 2.0, 69.55, 'S', '0'],\n [2.0, 'male', 28.0, 0.0, 0.0, 15.05, 'C', '0'],\n [3.0, 'male', 9.0, 4.0, 2.0, 31.3875, 'S', '0'],\n [2.0, 'male', 1.0, 2.0, 1.0, 39.0, 'S', '1'],\n [3.0, 'female', 4.0, 0.0, 2.0, 22.025, 'S', '1'],\n [1.0, 'male', 28.0, 0.0, 0.0, 50.0, 'S', '0'],\n [3.0, 'female', 28.0, 1.0, 0.0, 15.5, 'Q', '1'],\n [1.0, 'male', 45.0, 0.0, 0.0, 26.55, 'S', '1'],\n [3.0, 'male', 40.0, 1.0, 1.0, 15.5, 'Q', '0'],\n [3.0, 'male', 36.0, 0.0, 0.0, 7.8958, 'S', '0'],\n [2.0, 'female', 32.0, 0.0, 0.0, 13.0, 'S', '1'],\n [2.0, 'male', 19.0, 0.0, 0.0, 13.0, 'S', '0'],\n [3.0, 'female', 19.0, 1.0, 0.0, 7.8542, 'S', '1'],\n [2.0, 'male', 3.0, 1.0, 1.0, 26.0, 'S', '1'],\n [1.0, 'female', 44.0, 0.0, 0.0, 27.7208, 'C', '1'],\n [1.0, 'female', 58.0, 0.0, 0.0, 146.5208, 'C', '1'],\n [3.0, 'male', 28.0, 0.0, 0.0, 7.75, 'Q', '0'],\n [3.0, 'male', 42.0, 0.0, 1.0, 8.4042, 'S', '0'],\n [3.0, 'female', 28.0, 0.0, 0.0, 7.75, 'Q', '1'],\n [2.0, 'female', 24.0, 0.0, 0.0, 13.0, 'S', '0'],\n [3.0, 'male', 28.0, 0.0, 0.0, 9.5, 'S', '0'],\n [3.0, 'male', 28.0, 8.0, 2.0, 69.55, 'S', '0'],\n [3.0, 'male', 34.0, 0.0, 0.0, 6.4958, 'S', '0'],\n [3.0, 'male', 45.5, 0.0, 0.0, 7.225, 'C', '0'],\n [3.0, 'male', 18.0, 0.0, 0.0, 8.05, 'S', '1'],\n [3.0, 'female', 2.0, 0.0, 1.0, 10.4625, 'S', '0'],\n [3.0, 'male', 32.0, 1.0, 0.0, 15.85, 'S', '0'],\n [3.0, 'male', 26.0, 0.0, 0.0, 18.7875, 'C', '1'],\n [3.0, 'female', 16.0, 0.0, 0.0, 7.75, 'Q', '1'],\n [1.0, 'male', 40.0, 0.0, 0.0, 31.0, 'C', '1'],\n [3.0, 'male', 24.0, 0.0, 0.0, 7.05, 'S', '0'],\n [2.0, 'female', 35.0, 0.0, 0.0, 21.0, 'S', '1'],\n [3.0, 'male', 22.0, 0.0, 0.0, 7.25, 'S', '0'],\n [2.0, 'male', 30.0, 0.0, 0.0, 13.0, 'S', '0'],\n [3.0, 'male', 28.0, 1.0, 0.0, 7.75, 'Q', '0'],\n [1.0, 'female', 31.0, 1.0, 0.0, 113.275, 'C', '1'],\n [3.0, 'female', 27.0, 0.0, 0.0, 7.925, 'S', '1'],\n [2.0, 'male', 42.0, 1.0, 0.0, 27.0, 'S', '0'],\n [1.0, 'female', 32.0, 0.0, 0.0, 76.2917, 'C', '1'],\n [2.0, 'male', 30.0, 0.0, 0.0, 10.5, 'S', '0'],\n [3.0, 'male', 16.0, 0.0, 0.0, 8.05, 'S', '1'],\n [2.0, 'male', 27.0, 0.0, 0.0, 13.0, 'S', '0'],\n [3.0, 'male', 51.0, 0.0, 0.0, 8.05, 'S', '0'],\n [3.0, 'male', 28.0, 0.0, 0.0, 7.8958, 'S', '0'],\n [1.0, 'male', 38.0, 1.0, 0.0, 90.0, 'S', '1'],\n [3.0, 'male', 22.0, 0.0, 0.0, 9.35, 'S', '0'],\n [2.0, 'male', 19.0, 0.0, 0.0, 10.5, 'S', '1'],\n [3.0, 'male', 20.5, 0.0, 0.0, 7.25, 'S', '0'],\n [2.0, 'male', 18.0, 0.0, 0.0, 13.0, 'S', '0'],\n [3.0, 'female', 28.0, 3.0, 1.0, 25.4667, 'S', '0'],\n [1.0, 'female', 35.0, 1.0, 0.0, 83.475, 'S', '1'],\n [3.0, 'male', 29.0, 0.0, 0.0, 7.775, 'S', '0'],\n [2.0, 'male', 59.0, 0.0, 0.0, 13.5, 'S', '0'],\n [3.0, 'female', 5.0, 4.0, 2.0, 31.3875, 'S', '1'],\n [2.0, 'male', 24.0, 0.0, 0.0, 10.5, 'S', '0'],\n [3.0, 'female', 28.0, 0.0, 0.0, 7.55, 'S', '0'],\n [2.0, 'male', 44.0, 1.0, 0.0, 26.0, 'S', '0'],\n [2.0, 'female', 8.0, 0.0, 2.0, 26.25, 'S', '1'],\n [2.0, 'male', 19.0, 0.0, 0.0, 10.5, 'S', '0'],\n [2.0, 'male', 33.0, 0.0, 0.0, 12.275, 'S', '0'],\n [3.0, 'female', 28.0, 1.0, 0.0, 14.4542, 'C', '0'],\n [3.0, 'female', 28.0, 1.0, 0.0, 15.5, 'Q', '1'],\n [2.0, 'male', 29.0, 0.0, 0.0, 10.5, 'S', '0'],\n [3.0, 'male', 22.0, 0.0, 0.0, 7.125, 'S', '0'],\n [3.0, 'male', 30.0, 0.0, 0.0, 7.225, 'C', '0'],\n [1.0, 'male', 44.0, 2.0, 0.0, 90.0, 'Q', '0'],\n [3.0, 'female', 25.0, 0.0, 0.0, 7.775, 'S', '0'],\n [2.0, 'female', 24.0, 0.0, 2.0, 14.5, 'S', '1'],\n [1.0, 'male', 37.0, 1.0, 1.0, 52.5542, 'S', '1'],\n [2.0, 'male', 54.0, 1.0, 0.0, 26.0, 'S', '0'],\n [3.0, 'male', 28.0, 0.0, 0.0, 7.25, 'S', '0'],\n [3.0, 'female', 29.0, 1.0, 1.0, 10.4625, 'S', '0'],\n [1.0, 'male', 62.0, 0.0, 0.0, 26.55, 'S', '0'],\n [3.0, 'male', 30.0, 1.0, 0.0, 16.1, 'S', '0'],\n [3.0, 'female', 41.0, 0.0, 2.0, 20.2125, 'S', '0'],\n [3.0, 'female', 29.0, 0.0, 2.0, 15.2458, 'C', '1'],\n [1.0, 'female', 28.0, 0.0, 0.0, 79.2, 'C', '1'],\n [1.0, 'female', 30.0, 0.0, 0.0, 86.5, 'S', '1'],\n [1.0, 'female', 35.0, 0.0, 0.0, 512.3292, 'C', '1'],\n [2.0, 'female', 50.0, 0.0, 1.0, 26.0, 'S', '1'],\n [3.0, 'male', 28.0, 0.0, 0.0, 7.75, 'Q', '0'],\n [3.0, 'male', 3.0, 4.0, 2.0, 31.3875, 'S', '1'],\n [1.0, 'male', 52.0, 1.0, 1.0, 79.65, 'S', '0'],\n [1.0, 'male', 40.0, 0.0, 0.0, 0.0, 'S', '0'],\n [3.0, 'female', 28.0, 0.0, 0.0, 7.75, 'Q', '0'],\n [2.0, 'male', 36.0, 0.0, 0.0, 10.5, 'S', '0'],\n [3.0, 'male', 16.0, 4.0, 1.0, 39.6875, 'S', '0'],\n [3.0, 'male', 25.0, 1.0, 0.0, 7.775, 'S', '1'],\n [1.0, 'female', 58.0, 0.0, 1.0, 153.4625, 'S', '1'],\n [1.0, 'female', 35.0, 0.0, 0.0, 135.6333, 'S', '1'],\n [1.0, 'male', 28.0, 0.0, 0.0, 31.0, 'S', '0'],\n [3.0, 'male', 25.0, 0.0, 0.0, 0.0, 'S', '1'],\n [2.0, 'female', 41.0, 0.0, 1.0, 19.5, 'S', '1'],\n [1.0, 'male', 37.0, 0.0, 1.0, 29.7, 'C', '0'],\n [3.0, 'female', 28.0, 0.0, 0.0, 7.75, 'Q', '1'],\n [1.0, 'female', 63.0, 1.0, 0.0, 77.9583, 'S', '1'],\n [3.0, 'female', 45.0, 0.0, 0.0, 7.75, 'S', '0'],\n [2.0, 'male', 28.0, 0.0, 0.0, 0.0, 'S', '0'],\n [3.0, 'male', 7.0, 4.0, 1.0, 29.125, 'Q', '0'],\n [3.0, 'female', 35.0, 1.0, 1.0, 20.25, 'S', '1'],\n [3.0, 'male', 65.0, 0.0, 0.0, 7.75, 'Q', '0'],\n [3.0, 'male', 28.0, 0.0, 0.0, 7.8542, 'S', '0'],\n [3.0, 'male', 16.0, 0.0, 0.0, 9.5, 'S', '0'],\n [3.0, 'male', 19.0, 0.0, 0.0, 8.05, 'S', '1'],\n [1.0, 'male', 28.0, 0.0, 0.0, 26.0, 'S', '0'],\n [3.0, 'male', 33.0, 0.0, 0.0, 8.6625, 'C', '0'],\n [3.0, 'male', 30.0, 0.0, 0.0, 9.5, 'S', '1'],\n [3.0, 'male', 22.0, 0.0, 0.0, 7.8958, 'S', '0'],\n [2.0, 'male', 42.0, 0.0, 0.0, 13.0, 'S', '1'],\n [3.0, 'female', 22.0, 0.0, 0.0, 7.75, 'Q', '1'],\n [1.0, 'female', 26.0, 0.0, 0.0, 78.85, 'S', '1'],\n [1.0, 'female', 19.0, 1.0, 0.0, 91.0792, 'C', '1'],\n [2.0, 'male', 36.0, 0.0, 0.0, 12.875, 'C', '0'],\n [3.0, 'female', 24.0, 0.0, 0.0, 8.85, 'S', '0'],\n [3.0, 'male', 24.0, 0.0, 0.0, 7.8958, 'S', '0'],\n [1.0, 'male', 28.0, 0.0, 0.0, 27.7208, 'C', '0'],\n [3.0, 'male', 23.5, 0.0, 0.0, 7.2292, 'C', '0'],\n [1.0, 'female', 2.0, 1.0, 2.0, 151.55, 'S', '0'],\n [1.0, 'male', 28.0, 0.0, 0.0, 30.5, 'S', '1'],\n [1.0, 'female', 50.0, 0.0, 1.0, 247.5208, 'C', '1'],\n [3.0, 'female', 28.0, 0.0, 0.0, 7.75, 'Q', '1'],\n [3.0, 'male', 28.0, 2.0, 0.0, 23.25, 'Q', '1'],\n [3.0, 'male', 19.0, 0.0, 0.0, 0.0, 'S', '0'],\n [2.0, 'female', 28.0, 0.0, 0.0, 12.35, 'Q', '1'],\n [3.0, 'male', 28.0, 0.0, 0.0, 8.05, 'S', '0'],\n [1.0, 'male', 0.92, 1.0, 2.0, 151.55, 'S', '1'],\n [1.0, 'female', 28.0, 0.0, 0.0, 110.8833, 'C', '1'],\n [1.0, 'female', 17.0, 1.0, 0.0, 108.9, 'C', '1'],\n [2.0, 'male', 30.0, 1.0, 0.0, 24.0, 'C', '0'],\n [1.0, 'female', 30.0, 0.0, 0.0, 56.9292, 'C', '1'],\n [1.0, 'female', 24.0, 0.0, 0.0, 83.1583, 'C', '1'],\n [1.0, 'female', 18.0, 2.0, 2.0, 262.375, 'C', '1'],\n [2.0, 'female', 26.0, 1.0, 1.0, 26.0, 'S', '0'],\n [3.0, 'male', 28.0, 0.0, 0.0, 7.8958, 'S', '0'],\n [2.0, 'male', 43.0, 1.0, 1.0, 26.25, 'S', '0'],\n [3.0, 'female', 26.0, 0.0, 0.0, 7.8542, 'S', '1'],\n [2.0, 'female', 24.0, 1.0, 0.0, 26.0, 'S', '1'],\n [2.0, 'male', 54.0, 0.0, 0.0, 14.0, 'S', '0'],\n [1.0, 'female', 31.0, 0.0, 2.0, 164.8667, 'S', '1'],\n [1.0, 'female', 40.0, 1.0, 1.0, 134.5, 'C', '1'],\n [3.0, 'male', 22.0, 0.0, 0.0, 7.25, 'S', '0'],\n [3.0, 'male', 27.0, 0.0, 0.0, 7.8958, 'S', '0'],\n [2.0, 'female', 30.0, 0.0, 0.0, 12.35, 'Q', '1'],\n [2.0, 'female', 22.0, 1.0, 1.0, 29.0, 'S', '1'],\n [3.0, 'male', 28.0, 8.0, 2.0, 69.55, 'S', '0'],\n [1.0, 'female', 36.0, 0.0, 0.0, 135.6333, 'C', '1'],\n [3.0, 'male', 61.0, 0.0, 0.0, 6.2375, 'S', '0'],\n [2.0, 'female', 36.0, 0.0, 0.0, 13.0, 'S', '1'],\n [3.0, 'female', 31.0, 1.0, 1.0, 20.525, 'S', '1'],\n [1.0, 'female', 16.0, 0.0, 1.0, 57.9792, 'C', '1'],\n [3.0, 'female', 28.0, 2.0, 0.0, 23.25, 'Q', '1'],\n [1.0, 'male', 45.5, 0.0, 0.0, 28.5, 'S', '0'],\n [1.0, 'male', 38.0, 0.0, 1.0, 153.4625, 'S', '0'],\n [3.0, 'male', 16.0, 2.0, 0.0, 18.0, 'S', '0'],\n [1.0, 'female', 28.0, 1.0, 0.0, 133.65, 'S', '1'],\n [3.0, 'male', 28.0, 0.0, 0.0, 7.8958, 'S', '0'],\n [1.0, 'male', 29.0, 1.0, 0.0, 66.6, 'S', '0'],\n [1.0, 'female', 41.0, 0.0, 0.0, 134.5, 'C', '1'],\n [3.0, 'male', 45.0, 0.0, 0.0, 8.05, 'S', '1'],\n [1.0, 'male', 45.0, 0.0, 0.0, 35.5, 'S', '0'],\n [2.0, 'male', 2.0, 1.0, 1.0, 26.0, 'S', '1'],\n [1.0, 'female', 24.0, 3.0, 2.0, 263.0, 'S', '1'],\n [2.0, 'male', 28.0, 0.0, 0.0, 13.0, 'S', '0'],\n [2.0, 'male', 25.0, 0.0, 0.0, 13.0, 'S', '0'],\n [2.0, 'male', 36.0, 0.0, 0.0, 13.0, 'S', '0'],\n [2.0, 'female', 24.0, 0.0, 0.0, 13.0, 'S', '1'],\n [2.0, 'female', 40.0, 0.0, 0.0, 13.0, 'S', '1'],\n [3.0, 'female', 28.0, 1.0, 0.0, 16.1, 'S', '1'],\n [3.0, 'male', 3.0, 1.0, 1.0, 15.9, 'S', '1'],\n [3.0, 'male', 42.0, 0.0, 0.0, 8.6625, 'S', '0'],\n [3.0, 'male', 23.0, 0.0, 0.0, 9.225, 'S', '0'],\n [1.0, 'male', 28.0, 0.0, 0.0, 35.0, 'S', '0'],\n [3.0, 'male', 15.0, 1.0, 1.0, 7.2292, 'C', '0'],\n [3.0, 'male', 25.0, 1.0, 0.0, 17.8, 'S', '0'],\n [3.0, 'male', 28.0, 0.0, 0.0, 7.225, 'C', '0'],\n [3.0, 'male', 28.0, 0.0, 0.0, 9.5, 'S', '0'],\n [1.0, 'female', 22.0, 0.0, 1.0, 55.0, 'S', '1'],\n [2.0, 'female', 38.0, 0.0, 0.0, 13.0, 'S', '0'],\n [3.0, 'female', 28.0, 0.0, 0.0, 7.8792, 'Q', '1'],\n [3.0, 'female', 28.0, 0.0, 0.0, 7.8792, 'Q', '1'],\n [3.0, 'male', 40.0, 1.0, 4.0, 27.9, 'S', '0'],\n [2.0, 'male', 29.0, 1.0, 0.0, 27.7208, 'C', '0'],\n [3.0, 'female', 45.0, 0.0, 1.0, 14.4542, 'C', '0'],\n [3.0, 'male', 35.0, 0.0, 0.0, 7.05, 'S', '0'],\n [3.0, 'male', 28.0, 1.0, 0.0, 15.5, 'Q', '0'],\n [3.0, 'male', 30.0, 0.0, 0.0, 7.25, 'S', '0'],\n [1.0, 'female', 60.0, 1.0, 0.0, 75.25, 'C', '1'],\n [3.0, 'female', 28.0, 0.0, 0.0, 7.2292, 'C', '1'],\n [3.0, 'female', 28.0, 0.0, 0.0, 7.75, 'Q', '1'],\n [1.0, 'female', 24.0, 0.0, 0.0, 69.3, 'C', '1'],\n [1.0, 'male', 25.0, 1.0, 0.0, 55.4417, 'C', '1'],\n [3.0, 'male', 18.0, 1.0, 0.0, 6.4958, 'S', '0'],\n [3.0, 'male', 19.0, 0.0, 0.0, 8.05, 'S', '0'],\n [1.0, 'male', 22.0, 0.0, 0.0, 135.6333, 'C', '0'],\n [3.0, 'female', 3.0, 3.0, 1.0, 21.075, 'S', '0'],\n [1.0, 'female', 28.0, 1.0, 0.0, 82.1708, 'C', '1'],\n [3.0, 'female', 22.0, 0.0, 0.0, 7.25, 'S', '1'],\n [1.0, 'male', 27.0, 0.0, 2.0, 211.5, 'C', '0'],\n [3.0, 'male', 20.0, 0.0, 0.0, 4.0125, 'C', '0'],\n [3.0, 'male', 19.0, 0.0, 0.0, 7.775, 'S', '0'],\n [1.0, 'female', 42.0, 0.0, 0.0, 227.525, 'C', '1'],\n [3.0, 'female', 1.0, 0.0, 2.0, 15.7417, 'C', '1'],\n [3.0, 'male', 32.0, 0.0, 0.0, 7.925, 'S', '0'],\n [1.0, 'female', 35.0, 1.0, 0.0, 52.0, 'S', '1'],\n [3.0, 'male', 28.0, 0.0, 0.0, 7.8958, 'S', '0'],\n [2.0, 'male', 18.0, 0.0, 0.0, 73.5, 'S', '0'],\n [3.0, 'male', 1.0, 5.0, 2.0, 46.9, 'S', '0'],\n [2.0, 'female', 36.0, 0.0, 0.0, 13.0, 'S', '1'],\n [3.0, 'male', 28.0, 0.0, 0.0, 7.7292, 'Q', '0'],\n [2.0, 'female', 17.0, 0.0, 0.0, 12.0, 'C', '1'],\n [1.0, 'male', 36.0, 1.0, 2.0, 120.0, 'S', '1'],\n [3.0, 'male', 21.0, 0.0, 0.0, 7.7958, 'S', '1'],\n [3.0, 'male', 28.0, 2.0, 0.0, 7.925, 'S', '0'],\n [1.0, 'female', 23.0, 1.0, 0.0, 113.275, 'C', '1'],\n [3.0, 'female', 24.0, 0.0, 2.0, 16.7, 'S', '1'],\n [3.0, 'male', 22.0, 0.0, 0.0, 7.7958, 'S', '0'],\n [3.0, 'female', 31.0, 0.0, 0.0, 7.8542, 'S', '0'],\n [2.0, 'male', 46.0, 0.0, 0.0, 26.0, 'S', '0'],\n [2.0, 'male', 23.0, 0.0, 0.0, 10.5, 'S', '0'],\n [2.0, 'female', 28.0, 0.0, 0.0, 12.65, 'S', '1'],\n [3.0, 'male', 39.0, 0.0, 0.0, 7.925, 'S', '1'],\n [3.0, 'male', 26.0, 0.0, 0.0, 8.05, 'S', '0'],\n [3.0, 'female', 21.0, 1.0, 0.0, 9.825, 'S', '0'],\n [3.0, 'male', 28.0, 1.0, 0.0, 15.85, 'S', '0'],\n [3.0, 'female', 20.0, 0.0, 0.0, 8.6625, 'S', '0'],\n [2.0, 'male', 34.0, 1.0, 0.0, 21.0, 'S', '0'],\n [3.0, 'male', 51.0, 0.0, 0.0, 7.75, 'S', '0'],\n [2.0, 'male', 3.0, 1.0, 1.0, 18.75, 'S', '1'],\n [3.0, 'male', 21.0, 0.0, 0.0, 7.775, 'S', '0'],\n [3.0, 'female', 28.0, 3.0, 1.0, 25.4667, 'S', '0'],\n [3.0, 'male', 28.0, 0.0, 0.0, 7.8958, 'S', '0'],\n [3.0, 'male', 28.0, 0.0, 0.0, 6.8583, 'Q', '0'],\n [1.0, 'female', 33.0, 1.0, 0.0, 90.0, 'Q', '1'],\n [2.0, 'male', 28.0, 0.0, 0.0, 0.0, 'S', '0'],\n [3.0, 'male', 44.0, 0.0, 0.0, 7.925, 'S', '1'],\n [3.0, 'female', 28.0, 0.0, 0.0, 8.05, 'S', '0'],\n [2.0, 'female', 34.0, 1.0, 1.0, 32.5, 'S', '1'],\n [2.0, 'female', 18.0, 0.0, 2.0, 13.0, 'S', '1'],\n [2.0, 'male', 30.0, 0.0, 0.0, 13.0, 'S', '0'],\n [3.0, 'female', 10.0, 0.0, 2.0, 24.15, 'S', '0'],\n [3.0, 'male', 28.0, 0.0, 0.0, 7.8958, 'C', '0'],\n [3.0, 'male', 21.0, 0.0, 0.0, 7.7333, 'Q', '0'],\n [3.0, 'male', 29.0, 0.0, 0.0, 7.875, 'S', '0'],\n [3.0, 'female', 28.0, 1.0, 1.0, 14.4, 'S', '0'],\n [3.0, 'male', 18.0, 1.0, 1.0, 20.2125, 'S', '0'],\n [3.0, 'male', 28.0, 0.0, 0.0, 7.25, 'S', '0'],\n [2.0, 'female', 28.0, 1.0, 0.0, 26.0, 'S', '1'],\n [2.0, 'female', 19.0, 0.0, 0.0, 26.0, 'S', '1'],\n [3.0, 'male', 28.0, 0.0, 0.0, 7.75, 'Q', '0'],\n [3.0, 'male', 32.0, 0.0, 0.0, 8.05, 'S', '1'],\n [1.0, 'male', 28.0, 0.0, 0.0, 26.55, 'S', '1'],\n [3.0, 'female', 28.0, 1.0, 0.0, 16.1, 'S', '1'],\n [2.0, 'female', 42.0, 1.0, 0.0, 26.0, 'S', '1'],\n [3.0, 'male', 17.0, 0.0, 0.0, 7.125, 'S', '0'],\n [1.0, 'male', 50.0, 1.0, 0.0, 55.9, 'S', '0'],\n [1.0, 'female', 14.0, 1.0, 2.0, 120.0, 'S', '1'],\n [3.0, 'female', 21.0, 2.0, 2.0, 34.375, 'S', '0'],\n [2.0, 'female', 24.0, 2.0, 3.0, 18.75, 'S', '1'],\n [1.0, 'male', 64.0, 1.0, 4.0, 263.0, 'S', '0'],\n [2.0, 'male', 31.0, 0.0, 0.0, 10.5, 'S', '0'],\n [2.0, 'female', 45.0, 1.0, 1.0, 26.25, 'S', '1'],\n [3.0, 'male', 20.0, 0.0, 0.0, 9.5, 'S', '0'],\n [3.0, 'male', 25.0, 1.0, 0.0, 7.775, 'S', '0'],\n [2.0, 'female', 28.0, 0.0, 0.0, 13.0, 'S', '1'],\n [3.0, 'male', 28.0, 0.0, 0.0, 8.1125, 'S', '1'],\n [1.0, 'male', 4.0, 0.0, 2.0, 81.8583, 'S', '1'],\n [2.0, 'female', 13.0, 0.0, 1.0, 19.5, 'S', '1'],\n [1.0, 'male', 34.0, 0.0, 0.0, 26.55, 'S', '1'],\n [3.0, 'female', 5.0, 2.0, 1.0, 19.2583, 'C', '1'],\n [1.0, 'male', 52.0, 0.0, 0.0, 30.5, 'S', '1'],\n [2.0, 'male', 36.0, 1.0, 2.0, 27.75, 'S', '0'],\n [3.0, 'male', 28.0, 1.0, 0.0, 19.9667, 'S', '0'],\n [1.0, 'male', 30.0, 0.0, 0.0, 27.75, 'C', '0'],\n [1.0, 'male', 49.0, 1.0, 0.0, 89.1042, 'C', '1'],\n [3.0, 'male', 28.0, 0.0, 0.0, 8.05, 'S', '0'],\n [3.0, 'male', 29.0, 0.0, 0.0, 7.8958, 'C', '1'],\n [1.0, 'male', 65.0, 0.0, 0.0, 26.55, 'S', '0'],\n [1.0, 'female', 28.0, 1.0, 0.0, 51.8625, 'S', '1'],\n [2.0, 'female', 50.0, 0.0, 0.0, 10.5, 'S', '1'],\n [3.0, 'male', 28.0, 0.0, 0.0, 7.75, 'Q', '0'],\n [1.0, 'male', 48.0, 0.0, 0.0, 26.55, 'S', '1'],\n [3.0, 'male', 34.0, 0.0, 0.0, 8.05, 'S', '0'],\n [1.0, 'male', 47.0, 0.0, 0.0, 38.5, 'S', '0'],\n [2.0, 'male', 48.0, 0.0, 0.0, 13.0, 'S', '0'],\n [3.0, 'male', 28.0, 0.0, 0.0, 8.05, 'S', '0'],\n [3.0, 'male', 38.0, 0.0, 0.0, 7.05, 'S', '0'],\n [2.0, 'male', 28.0, 0.0, 0.0, 0.0, 'S', '0'],\n [1.0, 'male', 56.0, 0.0, 0.0, 26.55, 'S', '0'],\n [3.0, 'male', 28.0, 0.0, 0.0, 7.725, 'Q', '0'],\n [3.0, 'female', 0.75, 2.0, 1.0, 19.2583, 'C', '1'],\n [3.0, 'male', 28.0, 0.0, 0.0, 7.25, 'S', '0'],\n [3.0, 'male', 38.0, 0.0, 0.0, 8.6625, 'S', '0'],\n [2.0, 'female', 33.0, 1.0, 2.0, 27.75, 'S', '1'],\n [2.0, 'female', 23.0, 0.0, 0.0, 13.7917, 'C', '1'],\n [3.0, 'female', 22.0, 0.0, 0.0, 9.8375, 'S', '0'],\n [1.0, 'male', 28.0, 0.0, 0.0, 52.0, 'S', '0'],\n [2.0, 'male', 34.0, 1.0, 0.0, 21.0, 'S', '0'],\n [3.0, 'male', 29.0, 1.0, 0.0, 7.0458, 'S', '0'],\n [3.0, 'male', 22.0, 0.0, 0.0, 7.5208, 'S', '0'],\n [3.0, 'female', 2.0, 0.0, 1.0, 12.2875, 'S', '1'],\n [3.0, 'male', 9.0, 5.0, 2.0, 46.9, 'S', '0'],\n [2.0, 'male', 28.0, 0.0, 0.0, 0.0, 'S', '0'],\n [3.0, 'male', 50.0, 0.0, 0.0, 8.05, 'S', '0'],\n [3.0, 'female', 63.0, 0.0, 0.0, 9.5875, 'S', '1'],\n [1.0, 'male', 25.0, 1.0, 0.0, 91.0792, 'C', '1'],\n [3.0, 'female', 28.0, 3.0, 1.0, 25.4667, 'S', '0'],\n [1.0, 'female', 35.0, 1.0, 0.0, 90.0, 'S', '1'],\n [1.0, 'male', 58.0, 0.0, 0.0, 29.7, 'C', '0'],\n [3.0, 'male', 30.0, 0.0, 0.0, 8.05, 'S', '0'],\n [3.0, 'male', 9.0, 1.0, 1.0, 15.9, 'S', '1'],\n [3.0, 'male', 28.0, 1.0, 0.0, 19.9667, 'S', '0'],\n [3.0, 'male', 21.0, 0.0, 0.0, 7.25, 'S', '0'],\n [1.0, 'male', 55.0, 0.0, 0.0, 30.5, 'S', '0'],\n [1.0, 'male', 71.0, 0.0, 0.0, 49.5042, 'C', '0'],\n [3.0, 'male', 21.0, 0.0, 0.0, 8.05, 'S', '0'],\n [3.0, 'male', 28.0, 0.0, 0.0, 14.4583, 'C', '0'],\n [1.0, 'female', 54.0, 1.0, 0.0, 78.2667, 'C', '1'],\n [3.0, 'male', 28.0, 0.0, 0.0, 15.1, 'S', '0'],\n [1.0, 'female', 25.0, 1.0, 2.0, 151.55, 'S', '0'],\n [3.0, 'male', 24.0, 0.0, 0.0, 7.7958, 'S', '0'],\n [3.0, 'male', 17.0, 0.0, 0.0, 8.6625, 'S', '0'],\n [3.0, 'female', 21.0, 0.0, 0.0, 7.75, 'Q', '0'],\n [3.0, 'female', 28.0, 0.0, 0.0, 7.6292, 'Q', '0'],\n [3.0, 'female', 37.0, 0.0, 0.0, 9.5875, 'S', '0'],\n [1.0, 'female', 16.0, 0.0, 0.0, 86.5, 'S', '1'],\n [1.0, 'male', 18.0, 1.0, 0.0, 108.9, 'C', '0'],\n [2.0, 'female', 33.0, 0.0, 2.0, 26.0, 'S', '1'],\n [1.0, 'male', 28.0, 0.0, 0.0, 26.55, 'S', '1'],\n [3.0, 'male', 28.0, 0.0, 0.0, 22.525, 'S', '0'],\n [3.0, 'male', 26.0, 0.0, 0.0, 56.4958, 'S', '1'],\n [3.0, 'male', 29.0, 0.0, 0.0, 7.75, 'Q', '1'],\n [3.0, 'male', 28.0, 0.0, 0.0, 8.05, 'S', '0'],\n [1.0, 'male', 36.0, 0.0, 0.0, 26.2875, 'S', '1'],\n [1.0, 'female', 54.0, 1.0, 0.0, 59.4, 'C', '1'],\n [3.0, 'male', 24.0, 0.0, 0.0, 7.4958, 'S', '0'],\n [1.0, 'male', 47.0, 0.0, 0.0, 34.0208, 'S', '0'],\n [2.0, 'female', 34.0, 0.0, 0.0, 10.5, 'S', '1'],\n [3.0, 'male', 28.0, 0.0, 0.0, 24.15, 'Q', '0'],\n [2.0, 'female', 36.0, 1.0, 0.0, 26.0, 'S', '1'],\n [3.0, 'male', 32.0, 0.0, 0.0, 7.8958, 'S', '0'],\n [1.0, 'female', 30.0, 0.0, 0.0, 93.5, 'S', '1'],\n [3.0, 'male', 22.0, 0.0, 0.0, 7.8958, 'S', '0'],\n [3.0, 'male', 28.0, 0.0, 0.0, 7.225, 'C', '0'],\n [1.0, 'female', 44.0, 0.0, 1.0, 57.9792, 'C', '1'],\n [3.0, 'male', 28.0, 0.0, 0.0, 7.2292, 'C', '0'],\n [3.0, 'male', 40.5, 0.0, 0.0, 7.75, 'Q', '0'],\n [2.0, 'female', 50.0, 0.0, 0.0, 10.5, 'S', '1'],\n [1.0, 'male', 28.0, 0.0, 0.0, 221.7792, 'S', '0'],\n [3.0, 'male', 39.0, 0.0, 0.0, 7.925, 'S', '0'],\n [2.0, 'male', 23.0, 2.0, 1.0, 11.5, 'S', '0'],\n [2.0, 'female', 2.0, 1.0, 1.0, 26.0, 'S', '1'],\n [3.0, 'male', 28.0, 0.0, 0.0, 7.2292, 'C', '0'],\n [3.0, 'male', 17.0, 1.0, 1.0, 7.2292, 'C', '0'],\n [3.0, 'female', 28.0, 0.0, 2.0, 22.3583, 'C', '1'],\n [3.0, 'female', 30.0, 0.0, 0.0, 8.6625, 'S', '0'],\n [2.0, 'female', 7.0, 0.0, 2.0, 26.25, 'S', '1'],\n [1.0, 'male', 45.0, 0.0, 0.0, 26.55, 'S', '0'],\n [1.0, 'female', 30.0, 0.0, 0.0, 106.425, 'C', '1'],\n [3.0, 'male', 28.0, 0.0, 0.0, 14.5, 'S', '0'],\n [1.0, 'female', 22.0, 0.0, 2.0, 49.5, 'C', '1'],\n [1.0, 'female', 36.0, 0.0, 2.0, 71.0, 'S', '1'],\n [3.0, 'female', 9.0, 4.0, 2.0, 31.275, 'S', '0'],\n [3.0, 'female', 11.0, 4.0, 2.0, 31.275, 'S', '0'],\n [2.0, 'male', 32.0, 1.0, 0.0, 26.0, 'S', '1'],\n [1.0, 'male', 50.0, 1.0, 0.0, 106.425, 'C', '0'],\n [1.0, 'male', 64.0, 0.0, 0.0, 26.0, 'S', '0'],\n [2.0, 'female', 19.0, 1.0, 0.0, 26.0, 'S', '1'],\n [2.0, 'male', 28.0, 0.0, 0.0, 13.8625, 'C', '1'],\n [3.0, 'male', 33.0, 1.0, 1.0, 20.525, 'S', '0'],\n [2.0, 'male', 8.0, 1.0, 1.0, 36.75, 'S', '1'],\n [1.0, 'male', 17.0, 0.0, 2.0, 110.8833, 'C', '1'],\n [2.0, 'male', 27.0, 0.0, 0.0, 26.0, 'S', '0'],\n [3.0, 'male', 28.0, 0.0, 0.0, 7.8292, 'Q', '0'],\n [3.0, 'male', 22.0, 0.0, 0.0, 7.225, 'C', '1'],\n [3.0, 'female', 22.0, 0.0, 0.0, 7.775, 'S', '1'],\n [1.0, 'male', 62.0, 0.0, 0.0, 26.55, 'S', '0'],\n [1.0, 'female', 48.0, 1.0, 0.0, 39.6, 'C', '1'],\n [1.0, 'male', 28.0, 0.0, 0.0, 227.525, 'C', '0'],\n [1.0, 'female', 39.0, 1.0, 1.0, 79.65, 'S', '1'],\n [3.0, 'female', 36.0, 1.0, 0.0, 17.4, 'S', '1'],\n [3.0, 'male', 28.0, 0.0, 0.0, 7.75, 'Q', '0'],\n [3.0, 'male', 40.0, 0.0, 0.0, 7.8958, 'S', '0'],\n [2.0, 'male', 28.0, 0.0, 0.0, 13.5, 'S', '0'],\n [3.0, 'male', 28.0, 0.0, 0.0, 8.05, 'S', '0'],\n [3.0, 'female', 28.0, 0.0, 0.0, 8.05, 'S', '0'],\n [3.0, 'male', 24.0, 2.0, 0.0, 24.15, 'S', '0'],\n [3.0, 'male', 19.0, 0.0, 0.0, 7.8958, 'S', '0'],\n [3.0, 'female', 29.0, 0.0, 4.0, 21.075, 'S', '0'],\n [3.0, 'male', 28.0, 0.0, 0.0, 7.2292, 'C', '0'],\n [3.0, 'male', 32.0, 0.0, 0.0, 7.8542, 'S', '1'],\n [2.0, 'male', 62.0, 0.0, 0.0, 10.5, 'S', '1'],\n [1.0, 'female', 53.0, 2.0, 0.0, 51.4792, 'S', '1'],\n [1.0, 'male', 36.0, 0.0, 0.0, 26.3875, 'S', '1'],\n [3.0, 'female', 28.0, 0.0, 0.0, 7.75, 'Q', '1'],\n [3.0, 'male', 16.0, 0.0, 0.0, 8.05, 'S', '0'],\n [3.0, 'male', 19.0, 0.0, 0.0, 14.5, 'S', '0'],\n [2.0, 'female', 34.0, 0.0, 0.0, 13.0, 'S', '1'],\n [1.0, 'female', 39.0, 1.0, 0.0, 55.9, 'S', '1'],\n [3.0, 'female', 28.0, 1.0, 0.0, 14.4583, 'C', '0'],\n [3.0, 'male', 32.0, 0.0, 0.0, 7.925, 'S', '1'],\n [2.0, 'female', 25.0, 1.0, 1.0, 30.0, 'S', '1'],\n [1.0, 'female', 39.0, 1.0, 1.0, 110.8833, 'C', '1'],\n [2.0, 'male', 54.0, 0.0, 0.0, 26.0, 'S', '0'],\n [1.0, 'male', 36.0, 0.0, 0.0, 40.125, 'C', '0'],\n [3.0, 'male', 28.0, 0.0, 0.0, 8.7125, 'C', '0'],\n [1.0, 'female', 18.0, 0.0, 2.0, 79.65, 'S', '1'],\n [2.0, 'male', 47.0, 0.0, 0.0, 15.0, 'S', '0'],\n [1.0, 'male', 60.0, 1.0, 1.0, 79.2, 'C', '1'],\n [3.0, 'male', 22.0, 0.0, 0.0, 8.05, 'S', '0'],\n [3.0, 'male', 28.0, 0.0, 0.0, 8.05, 'S', '0'],\n [3.0, 'male', 35.0, 0.0, 0.0, 7.125, 'S', '0'],\n [1.0, 'female', 52.0, 1.0, 0.0, 78.2667, 'C', '1'],\n [3.0, 'male', 47.0, 0.0, 0.0, 7.25, 'S', '0'],\n [3.0, 'female', 28.0, 0.0, 2.0, 7.75, 'Q', '0'],\n [2.0, 'male', 37.0, 1.0, 0.0, 26.0, 'S', '0'],\n [3.0, 'male', 36.0, 1.0, 1.0, 24.15, 'S', '0'],\n [2.0, 'female', 28.0, 0.0, 0.0, 33.0, 'S', '1'],\n [3.0, 'male', 49.0, 0.0, 0.0, 0.0, 'S', '0'],\n [3.0, 'male', 28.0, 0.0, 0.0, 7.225, 'C', '0'],\n [1.0, 'male', 49.0, 1.0, 0.0, 56.9292, 'C', '1'],\n [2.0, 'female', 24.0, 2.0, 1.0, 27.0, 'S', '1'],\n [3.0, 'male', 28.0, 0.0, 0.0, 7.8958, 'S', '0'],\n [1.0, 'male', 28.0, 0.0, 0.0, 42.4, 'S', '0'],\n [3.0, 'male', 44.0, 0.0, 0.0, 8.05, 'S', '0'],\n [1.0, 'male', 35.0, 0.0, 0.0, 26.55, 'C', '1'],\n [3.0, 'male', 36.0, 1.0, 0.0, 15.55, 'S', '0'],\n [3.0, 'male', 30.0, 0.0, 0.0, 7.8958, 'S', '0'],\n [1.0, 'male', 27.0, 0.0, 0.0, 30.5, 'S', '1'],\n [2.0, 'female', 22.0, 1.0, 2.0, 41.5792, 'C', '1'],\n [1.0, 'female', 40.0, 0.0, 0.0, 153.4625, 'S', '1'],\n [3.0, 'female', 39.0, 1.0, 5.0, 31.275, 'S', '0'],\n [3.0, 'male', 28.0, 0.0, 0.0, 7.05, 'S', '0'],\n [3.0, 'female', 28.0, 1.0, 0.0, 15.5, 'Q', '1'],\n [3.0, 'male', 28.0, 0.0, 0.0, 7.75, 'Q', '0'],\n [3.0, 'male', 35.0, 0.0, 0.0, 8.05, 'S', '0'],\n [2.0, 'female', 24.0, 1.0, 2.0, 65.0, 'S', '1'],\n [3.0, 'male', 34.0, 1.0, 1.0, 14.4, 'S', '0'],\n [3.0, 'female', 26.0, 1.0, 0.0, 16.1, 'S', '0'],\n [2.0, 'female', 4.0, 2.0, 1.0, 39.0, 'S', '1'],\n [2.0, 'male', 26.0, 0.0, 0.0, 10.5, 'S', '0'],\n [3.0, 'male', 27.0, 1.0, 0.0, 14.4542, 'C', '0'],\n [1.0, 'male', 42.0, 1.0, 0.0, 52.5542, 'S', '1'],\n [3.0, 'male', 20.0, 1.0, 1.0, 15.7417, 'C', '1'],\n [3.0, 'male', 21.0, 0.0, 0.0, 7.8542, 'S', '0'],\n [3.0, 'male', 21.0, 0.0, 0.0, 16.1, 'S', '0'],\n [1.0, 'male', 61.0, 0.0, 0.0, 32.3208, 'S', '0'],\n [2.0, 'male', 57.0, 0.0, 0.0, 12.35, 'Q', '0'],\n [1.0, 'female', 21.0, 0.0, 0.0, 77.9583, 'S', '1'],\n [3.0, 'male', 26.0, 0.0, 0.0, 7.8958, 'S', '0'],\n [3.0, 'male', 28.0, 0.0, 0.0, 7.7333, 'Q', '0'],\n [1.0, 'male', 80.0, 0.0, 0.0, 30.0, 'S', '1'],\n [3.0, 'male', 51.0, 0.0, 0.0, 7.0542, 'S', '0'],\n [1.0, 'male', 32.0, 0.0, 0.0, 30.5, 'C', '1'],\n [1.0, 'male', 28.0, 0.0, 0.0, 0.0, 'S', '0'],\n [3.0, 'female', 9.0, 3.0, 2.0, 27.9, 'S', '0'],\n [2.0, 'female', 28.0, 0.0, 0.0, 13.0, 'S', '1'],\n [3.0, 'male', 32.0, 0.0, 0.0, 7.925, 'S', '0'],\n [2.0, 'male', 31.0, 1.0, 1.0, 26.25, 'S', '0'],\n [3.0, 'female', 41.0, 0.0, 5.0, 39.6875, 'S', '0'],\n [3.0, 'male', 28.0, 1.0, 0.0, 16.1, 'S', '0'],\n [3.0, 'male', 20.0, 0.0, 0.0, 7.8542, 'S', '0'],\n [1.0, 'female', 24.0, 0.0, 0.0, 69.3, 'C', '1'],\n [3.0, 'female', 2.0, 3.0, 2.0, 27.9, 'S', '0'],\n [3.0, 'male', 28.0, 0.0, 0.0, 56.4958, 'S', '1'],\n [3.0, 'female', 0.75, 2.0, 1.0, 19.2583, 'C', '1'],\n [1.0, 'male', 48.0, 1.0, 0.0, 76.7292, 'C', '1'],\n [3.0, 'male', 19.0, 0.0, 0.0, 7.8958, 'S', '0'],\n [1.0, 'male', 56.0, 0.0, 0.0, 35.5, 'C', '1'],\n [3.0, 'male', 28.0, 0.0, 0.0, 7.55, 'S', '0'],\n [3.0, 'female', 23.0, 0.0, 0.0, 7.55, 'S', '1'],\n [3.0, 'male', 28.0, 0.0, 0.0, 7.8958, 'S', '0'],\n [2.0, 'female', 18.0, 0.0, 1.0, 23.0, 'S', '1'],\n [3.0, 'male', 21.0, 0.0, 0.0, 8.4333, 'S', '0'],\n [3.0, 'female', 28.0, 0.0, 0.0, 7.8292, 'Q', '1'],\n [3.0, 'female', 18.0, 0.0, 0.0, 6.75, 'Q', '0'],\n [2.0, 'male', 24.0, 2.0, 0.0, 73.5, 'S', '0'],\n [3.0, 'male', 28.0, 0.0, 0.0, 7.8958, 'S', '0'],\n [3.0, 'female', 32.0, 1.0, 1.0, 15.5, 'Q', '0'],\n [2.0, 'male', 23.0, 0.0, 0.0, 13.0, 'S', '0'],\n [1.0, 'male', 58.0, 0.0, 2.0, 113.275, 'C', '0'],\n [1.0, 'male', 50.0, 2.0, 0.0, 133.65, 'S', '1'],\n [3.0, 'male', 40.0, 0.0, 0.0, 7.225, 'C', '0'],\n [1.0, 'male', 47.0, 0.0, 0.0, 25.5875, 'S', '0'],\n [3.0, 'male', 36.0, 0.0, 0.0, 7.4958, 'S', '0'],\n [3.0, 'male', 20.0, 1.0, 0.0, 7.925, 'S', '1'],\n [2.0, 'male', 32.0, 2.0, 0.0, 73.5, 'S', '0'],\n [2.0, 'male', 25.0, 0.0, 0.0, 13.0, 'S', '0'],\n [3.0, 'male', 28.0, 0.0, 0.0, 7.775, 'S', '0'],\n [3.0, 'male', 43.0, 0.0, 0.0, 8.05, 'S', '0'],\n [1.0, 'female', 28.0, 1.0, 0.0, 52.0, 'S', '1'],\n [2.0, 'female', 40.0, 1.0, 1.0, 39.0, 'S', '1'],\n [1.0, 'male', 31.0, 1.0, 0.0, 52.0, 'S', '0'],\n [2.0, 'male', 70.0, 0.0, 0.0, 10.5, 'S', '0'],\n [2.0, 'male', 31.0, 0.0, 0.0, 13.0, 'S', '1'],\n [2.0, 'male', 28.0, 0.0, 0.0, 0.0, 'S', '0'],\n [3.0, 'male', 18.0, 0.0, 0.0, 7.775, 'S', '0'],\n [3.0, 'male', 24.5, 0.0, 0.0, 8.05, 'S', '0'],\n [3.0, 'female', 18.0, 0.0, 0.0, 9.8417, 'S', '1'],\n [3.0, 'female', 43.0, 1.0, 6.0, 46.9, 'S', '0'],\n [1.0, 'male', 36.0, 0.0, 1.0, 512.3292, 'C', '1'],\n [3.0, 'female', 28.0, 0.0, 0.0, 8.1375, 'Q', '0'],\n [1.0, 'male', 27.0, 0.0, 0.0, 76.7292, 'C', '1'],\n [3.0, 'male', 20.0, 0.0, 0.0, 9.225, 'S', '0'],\n [3.0, 'male', 14.0, 5.0, 2.0, 46.9, 'S', '0'],\n [2.0, 'male', 60.0, 1.0, 1.0, 39.0, 'S', '0'],\n [2.0, 'male', 25.0, 1.0, 2.0, 41.5792, 'C', '0'],\n [3.0, 'male', 14.0, 4.0, 1.0, 39.6875, 'S', '0'],\n [3.0, 'male', 19.0, 0.0, 0.0, 10.1708, 'S', '0'],\n [3.0, 'male', 18.0, 0.0, 0.0, 7.7958, 'S', '0'],\n [1.0, 'female', 15.0, 0.0, 1.0, 211.3375, 'S', '1'],\n [1.0, 'male', 31.0, 1.0, 0.0, 57.0, 'S', '1'],\n [3.0, 'female', 4.0, 0.0, 1.0, 13.4167, 'C', '1'],\n [3.0, 'male', 28.0, 0.0, 0.0, 56.4958, 'S', '1'],\n [3.0, 'male', 25.0, 0.0, 0.0, 7.225, 'C', '0'],\n [1.0, 'male', 60.0, 0.0, 0.0, 26.55, 'S', '0'],\n [2.0, 'male', 52.0, 0.0, 0.0, 13.5, 'S', '0'],\n [3.0, 'male', 44.0, 0.0, 0.0, 8.05, 'S', '0'],\n [3.0, 'female', 28.0, 0.0, 0.0, 7.7333, 'Q', '1'],\n [1.0, 'male', 49.0, 1.0, 1.0, 110.8833, 'C', '0'],\n [3.0, 'male', 42.0, 0.0, 0.0, 7.65, 'S', '0'],\n [1.0, 'female', 18.0, 1.0, 0.0, 227.525, 'C', '1'],\n [1.0, 'male', 35.0, 0.0, 0.0, 26.2875, 'S', '1'],\n [3.0, 'female', 18.0, 0.0, 1.0, 14.4542, 'C', '0'],\n [3.0, 'male', 25.0, 0.0, 0.0, 7.7417, 'Q', '0'],\n [3.0, 'male', 26.0, 1.0, 0.0, 7.8542, 'S', '0'],\n [2.0, 'male', 39.0, 0.0, 0.0, 26.0, 'S', '0'],\n [2.0, 'female', 45.0, 0.0, 0.0, 13.5, 'S', '1'],\n [1.0, 'male', 42.0, 0.0, 0.0, 26.2875, 'S', '1'],\n [1.0, 'female', 22.0, 0.0, 0.0, 151.55, 'S', '1'],\n [3.0, 'male', 28.0, 1.0, 1.0, 15.2458, 'C', '1'],\n [1.0, 'female', 24.0, 0.0, 0.0, 49.5042, 'C', '1'],\n [1.0, 'male', 28.0, 0.0, 0.0, 26.55, 'S', '0'],\n [1.0, 'male', 48.0, 1.0, 0.0, 52.0, 'S', '1'],\n [3.0, 'male', 29.0, 0.0, 0.0, 9.4833, 'S', '0'],\n [2.0, 'male', 52.0, 0.0, 0.0, 13.0, 'S', '0'],\n [3.0, 'male', 19.0, 0.0, 0.0, 7.65, 'S', '0'],\n [1.0, 'female', 38.0, 0.0, 0.0, 227.525, 'C', '1'],\n [2.0, 'female', 27.0, 0.0, 0.0, 10.5, 'S', '1'],\n [3.0, 'male', 28.0, 0.0, 0.0, 15.5, 'Q', '0'],\n [3.0, 'male', 33.0, 0.0, 0.0, 7.775, 'S', '0'],\n [2.0, 'female', 6.0, 0.0, 1.0, 33.0, 'S', '1'],\n [3.0, 'male', 17.0, 1.0, 0.0, 7.0542, 'S', '0'],\n [2.0, 'male', 34.0, 0.0, 0.0, 13.0, 'S', '0'],\n [2.0, 'male', 50.0, 0.0, 0.0, 13.0, 'S', '0'],\n [1.0, 'male', 27.0, 1.0, 0.0, 53.1, 'S', '1'],\n [3.0, 'male', 20.0, 0.0, 0.0, 8.6625, 'S', '0'],\n [2.0, 'female', 30.0, 3.0, 0.0, 21.0, 'S', '1'],\n [3.0, 'female', 28.0, 0.0, 0.0, 7.7375, 'Q', '1'],\n [2.0, 'male', 25.0, 1.0, 0.0, 26.0, 'S', '0'],\n [3.0, 'female', 25.0, 1.0, 0.0, 7.925, 'S', '0'],\n [1.0, 'female', 29.0, 0.0, 0.0, 211.3375, 'S', '1'],\n [3.0, 'male', 11.0, 0.0, 0.0, 18.7875, 'C', '0'],\n [2.0, 'male', 28.0, 0.0, 0.0, 0.0, 'S', '0'],\n [2.0, 'male', 23.0, 0.0, 0.0, 13.0, 'S', '0'],\n [2.0, 'male', 23.0, 0.0, 0.0, 13.0, 'S', '0'],\n [3.0, 'male', 28.5, 0.0, 0.0, 16.1, 'S', '0'],\n [3.0, 'female', 48.0, 1.0, 3.0, 34.375, 'S', '0'],\n [1.0, 'male', 35.0, 0.0, 0.0, 512.3292, 'C', '1'],\n [3.0, 'male', 28.0, 0.0, 0.0, 7.8958, 'S', '0'],\n [3.0, 'male', 28.0, 0.0, 0.0, 7.8958, 'S', '0'],\n [1.0, 'male', 28.0, 0.0, 0.0, 30.0, 'S', '1'],\n [1.0, 'male', 36.0, 1.0, 0.0, 78.85, 'S', '0'],\n [1.0, 'female', 21.0, 2.0, 2.0, 262.375, 'C', '1'],\n [3.0, 'male', 24.0, 1.0, 0.0, 16.1, 'S', '0'],\n [3.0, 'male', 31.0, 0.0, 0.0, 7.925, 'S', '1'],\n [1.0, 'male', 70.0, 1.0, 1.0, 71.0, 'S', '0'],\n [3.0, 'male', 16.0, 1.0, 1.0, 20.25, 'S', '0'],\n [2.0, 'female', 30.0, 0.0, 0.0, 13.0, 'S', '1'],\n [1.0, 'male', 19.0, 1.0, 0.0, 53.1, 'S', '0'],\n [3.0, 'male', 31.0, 0.0, 0.0, 7.75, 'Q', '0'],\n [2.0, 'female', 4.0, 1.0, 1.0, 23.0, 'S', '1'],\n [3.0, 'male', 6.0, 0.0, 1.0, 12.475, 'S', '1'],\n [3.0, 'male', 33.0, 0.0, 0.0, 9.5, 'S', '0'],\n [3.0, 'male', 23.0, 0.0, 0.0, 7.8958, 'S', '0'],\n [2.0, 'female', 48.0, 1.0, 2.0, 65.0, 'S', '1'],\n [2.0, 'male', 0.67, 1.0, 1.0, 14.5, 'S', '1'],\n [3.0, 'male', 28.0, 0.0, 0.0, 7.7958, 'S', '0'],\n [2.0, 'male', 18.0, 0.0, 0.0, 11.5, 'S', '0'],\n [3.0, 'male', 34.0, 0.0, 0.0, 8.05, 'S', '0'],\n [1.0, 'female', 33.0, 0.0, 0.0, 86.5, 'S', '1'],\n [3.0, 'male', 28.0, 0.0, 0.0, 14.5, 'S', '0'],\n [3.0, 'male', 41.0, 0.0, 0.0, 7.125, 'S', '0'],\n [3.0, 'male', 20.0, 0.0, 0.0, 7.2292, 'C', '1'],\n [1.0, 'female', 36.0, 1.0, 2.0, 120.0, 'S', '1'],\n [3.0, 'male', 16.0, 0.0, 0.0, 7.775, 'S', '0'],\n [1.0, 'female', 51.0, 1.0, 0.0, 77.9583, 'S', '1'],\n [1.0, 'male', 28.0, 0.0, 0.0, 39.6, 'C', '0'],\n [3.0, 'female', 30.5, 0.0, 0.0, 7.75, 'Q', '0'],\n [3.0, 'male', 28.0, 1.0, 0.0, 24.15, 'Q', '0'],\n [3.0, 'male', 32.0, 0.0, 0.0, 8.3625, 'S', '0'],\n [3.0, 'male', 24.0, 0.0, 0.0, 9.5, 'S', '0'],\n [3.0, 'male', 48.0, 0.0, 0.0, 7.8542, 'S', '0'],\n [2.0, 'female', 57.0, 0.0, 0.0, 10.5, 'S', '0'],\n [3.0, 'male', 28.0, 0.0, 0.0, 7.225, 'C', '0'],\n [2.0, 'female', 54.0, 1.0, 3.0, 23.0, 'S', '1'],\n [3.0, 'male', 18.0, 0.0, 0.0, 7.75, 'S', '0'],\n [3.0, 'male', 28.0, 0.0, 0.0, 7.75, 'Q', '0'],\n [3.0, 'female', 5.0, 0.0, 0.0, 12.475, 'S', '1'],\n [3.0, 'male', 28.0, 0.0, 0.0, 7.7375, 'Q', '0'],\n [1.0, 'female', 43.0, 0.0, 1.0, 211.3375, 'S', '1'],\n [3.0, 'female', 13.0, 0.0, 0.0, 7.2292, 'C', '1'],\n [1.0, 'female', 17.0, 1.0, 0.0, 57.0, 'S', '1'],\n [1.0, 'male', 29.0, 0.0, 0.0, 30.0, 'S', '0'],\n [3.0, 'male', 28.0, 1.0, 2.0, 23.45, 'S', '0'],\n [3.0, 'male', 25.0, 0.0, 0.0, 7.05, 'S', '0'],\n [3.0, 'male', 25.0, 0.0, 0.0, 7.25, 'S', '0'],\n [3.0, 'female', 18.0, 0.0, 0.0, 7.4958, 'S', '1'],\n [3.0, 'male', 8.0, 4.0, 1.0, 29.125, 'Q', '0'],\n [3.0, 'male', 1.0, 1.0, 2.0, 20.575, 'S', '1'],\n [1.0, 'male', 46.0, 0.0, 0.0, 79.2, 'C', '0'],\n [3.0, 'male', 28.0, 0.0, 0.0, 7.75, 'Q', '0'],\n [2.0, 'male', 16.0, 0.0, 0.0, 26.0, 'S', '0'],\n [3.0, 'female', 28.0, 8.0, 2.0, 69.55, 'S', '0'],\n [1.0, 'male', 28.0, 0.0, 0.0, 30.6958, 'C', '0'],\n [3.0, 'male', 25.0, 0.0, 0.0, 7.8958, 'S', '0'],\n [2.0, 'male', 39.0, 0.0, 0.0, 13.0, 'S', '0'],\n [1.0, 'female', 49.0, 0.0, 0.0, 25.9292, 'S', '1'],\n [3.0, 'female', 31.0, 0.0, 0.0, 8.6833, 'S', '1'],\n [3.0, 'male', 30.0, 0.0, 0.0, 7.2292, 'C', '0'],\n [3.0, 'female', 30.0, 1.0, 1.0, 24.15, 'S', '0'],\n [2.0, 'male', 34.0, 0.0, 0.0, 13.0, 'S', '0'],\n [2.0, 'female', 31.0, 1.0, 1.0, 26.25, 'S', '1'],\n [1.0, 'male', 11.0, 1.0, 2.0, 120.0, 'S', '1'],\n [3.0, 'male', 0.42, 0.0, 1.0, 8.5167, 'C', '1'],\n [3.0, 'male', 27.0, 0.0, 0.0, 6.975, 'S', '1'],\n [3.0, 'male', 31.0, 0.0, 0.0, 7.775, 'S', '0'],\n [1.0, 'male', 39.0, 0.0, 0.0, 0.0, 'S', '0'],\n [3.0, 'female', 18.0, 0.0, 0.0, 7.775, 'S', '0'],\n [2.0, 'male', 39.0, 0.0, 0.0, 13.0, 'S', '0'],\n [1.0, 'female', 33.0, 1.0, 0.0, 53.1, 'S', '1'],\n [3.0, 'male', 26.0, 0.0, 0.0, 7.8875, 'S', '0'],\n [3.0, 'male', 39.0, 0.0, 0.0, 24.15, 'S', '0'],\n [2.0, 'male', 35.0, 0.0, 0.0, 10.5, 'S', '0'],\n [3.0, 'female', 6.0, 4.0, 2.0, 31.275, 'S', '0'],\n [3.0, 'male', 30.5, 0.0, 0.0, 8.05, 'S', '0'],\n [1.0, 'male', 28.0, 0.0, 0.0, 0.0, 'S', '0'],\n [3.0, 'female', 23.0, 0.0, 0.0, 7.925, 'S', '0'],\n [2.0, 'male', 31.0, 1.0, 1.0, 37.0042, 'C', '0'],\n [3.0, 'male', 43.0, 0.0, 0.0, 6.45, 'S', '0'],\n [3.0, 'male', 10.0, 3.0, 2.0, 27.9, 'S', '0'],\n [1.0, 'female', 52.0, 1.0, 1.0, 93.5, 'S', '1'],\n [3.0, 'male', 27.0, 0.0, 0.0, 8.6625, 'S', '1'],\n [1.0, 'male', 38.0, 0.0, 0.0, 0.0, 'S', '0'],\n [3.0, 'female', 27.0, 0.0, 1.0, 12.475, 'S', '1'],\n [3.0, 'male', 2.0, 4.0, 1.0, 39.6875, 'S', '0'],\n [3.0, 'male', 28.0, 0.0, 0.0, 6.95, 'Q', '0'],\n [3.0, 'male', 28.0, 0.0, 0.0, 56.4958, 'S', '0'],\n [2.0, 'male', 1.0, 0.0, 2.0, 37.0042, 'C', '1'],\n [3.0, 'male', 28.0, 0.0, 0.0, 7.75, 'Q', '1'],\n [1.0, 'female', 62.0, 0.0, 0.0, 80.0, 'S', '1'],\n [3.0, 'female', 15.0, 1.0, 0.0, 14.4542, 'C', '1'],\n [2.0, 'male', 0.83, 1.0, 1.0, 18.75, 'S', '1'],\n [3.0, 'male', 28.0, 0.0, 0.0, 7.2292, 'C', '0'],\n [3.0, 'male', 23.0, 0.0, 0.0, 7.8542, 'S', '0'],\n [3.0, 'male', 18.0, 0.0, 0.0, 8.3, 'S', '0'],\n [1.0, 'female', 39.0, 1.0, 1.0, 83.1583, 'C', '1'],\n [3.0, 'male', 21.0, 0.0, 0.0, 8.6625, 'S', '0'],\n [3.0, 'male', 28.0, 0.0, 0.0, 8.05, 'S', '0'],\n [3.0, 'male', 32.0, 0.0, 0.0, 56.4958, 'S', '1'],\n [1.0, 'male', 28.0, 0.0, 0.0, 29.7, 'C', '1'],\n [3.0, 'male', 20.0, 0.0, 0.0, 7.925, 'S', '0'],\n [2.0, 'male', 16.0, 0.0, 0.0, 10.5, 'S', '0'],\n [1.0, 'female', 30.0, 0.0, 0.0, 31.0, 'C', '1'],\n [3.0, 'male', 34.5, 0.0, 0.0, 6.4375, 'C', '0'],\n [3.0, 'male', 17.0, 0.0, 0.0, 8.6625, 'S', '0'],\n [3.0, 'male', 42.0, 0.0, 0.0, 7.55, 'S', '0'],\n [3.0, 'male', 28.0, 8.0, 2.0, 69.55, 'S', '0'],\n [3.0, 'male', 35.0, 0.0, 0.0, 7.8958, 'C', '0'],\n [2.0, 'male', 28.0, 0.0, 1.0, 33.0, 'S', '0'],\n [1.0, 'female', 28.0, 1.0, 0.0, 89.1042, 'C', '1'],\n [3.0, 'male', 4.0, 4.0, 2.0, 31.275, 'S', '0'],\n [3.0, 'male', 74.0, 0.0, 0.0, 7.775, 'S', '0'],\n [3.0, 'female', 9.0, 1.0, 1.0, 15.2458, 'C', '0'],\n [1.0, 'female', 16.0, 0.0, 1.0, 39.4, 'S', '1'],\n [2.0, 'female', 44.0, 1.0, 0.0, 26.0, 'S', '0'],\n [3.0, 'female', 18.0, 0.0, 1.0, 9.35, 'S', '1'],\n [1.0, 'female', 45.0, 1.0, 1.0, 164.8667, 'S', '1'],\n [1.0, 'male', 51.0, 0.0, 0.0, 26.55, 'S', '1'],\n [3.0, 'female', 24.0, 0.0, 3.0, 19.2583, 'C', '1'],\n [3.0, 'male', 28.0, 0.0, 0.0, 7.2292, 'C', '0'],\n [3.0, 'male', 41.0, 2.0, 0.0, 14.1083, 'S', '0'],\n [2.0, 'male', 21.0, 1.0, 0.0, 11.5, 'S', '0'],\n [1.0, 'female', 48.0, 0.0, 0.0, 25.9292, 'S', '1'],\n [3.0, 'female', 28.0, 8.0, 2.0, 69.55, 'S', '0'],\n [2.0, 'male', 24.0, 0.0, 0.0, 13.0, 'S', '0'],\n [2.0, 'female', 42.0, 0.0, 0.0, 13.0, 'S', '1'],\n [2.0, 'female', 27.0, 1.0, 0.0, 13.8583, 'C', '1'],\n [1.0, 'male', 31.0, 0.0, 0.0, 50.4958, 'S', '0'],\n [3.0, 'male', 28.0, 0.0, 0.0, 9.5, 'S', '0'],\n [3.0, 'male', 4.0, 1.0, 1.0, 11.1333, 'S', '1'],\n [3.0, 'male', 26.0, 0.0, 0.0, 7.8958, 'S', '0'],\n [1.0, 'female', 47.0, 1.0, 1.0, 52.5542, 'S', '1'],\n [1.0, 'male', 33.0, 0.0, 0.0, 5.0, 'S', '0'],\n [3.0, 'male', 47.0, 0.0, 0.0, 9.0, 'S', '0'],\n [2.0, 'female', 28.0, 1.0, 0.0, 24.0, 'C', '1'],\n [3.0, 'female', 15.0, 0.0, 0.0, 7.225, 'C', '1'],\n [3.0, 'male', 20.0, 0.0, 0.0, 9.8458, 'S', '0'],\n [3.0, 'male', 19.0, 0.0, 0.0, 7.8958, 'S', '0'],\n [3.0, 'male', 28.0, 0.0, 0.0, 7.8958, 'S', '0'],\n [1.0, 'female', 56.0, 0.0, 1.0, 83.1583, 'C', '1'],\n [2.0, 'female', 25.0, 0.0, 1.0, 26.0, 'S', '1'],\n [3.0, 'male', 33.0, 0.0, 0.0, 7.8958, 'S', '0'],\n [3.0, 'female', 22.0, 0.0, 0.0, 10.5167, 'S', '0'],\n [2.0, 'male', 28.0, 0.0, 0.0, 10.5, 'S', '0'],\n [3.0, 'male', 25.0, 0.0, 0.0, 7.05, 'S', '0'],\n [3.0, 'female', 39.0, 0.0, 5.0, 29.125, 'Q', '0'],\n [2.0, 'male', 27.0, 0.0, 0.0, 13.0, 'S', '0'],\n [1.0, 'female', 19.0, 0.0, 0.0, 30.0, 'S', '1'],\n [3.0, 'female', 28.0, 1.0, 2.0, 23.45, 'S', '0'],\n [1.0, 'male', 26.0, 0.0, 0.0, 30.0, 'C', '1'],\n [3.0, 'male', 32.0, 0.0, 0.0, 7.75, 'Q', '0']]"
     },
     "execution_count": 29,
     "metadata": {},
     "output_type": "execute_result"
    }
   ],
   "source": [
    "file = open('Titanic.csv',\n",
    "            'r')  #reading the iris data set. We are already aware that it is clean data set. No missing values.\n",
    "line = file.readline()\n",
    "titanic_dataset = []\n",
    "datapoint = line.split(',')\n",
    "while len(line) > 1:\n",
    "    line = line[:len(line) - 1]  #remove the newline character from the end of the string\n",
    "    datapoint = line.split(',')\n",
    "    titanic_dataset.append(datapoint)\n",
    "    line = file.readline()\n",
    "file.close()\n",
    "for datapoint in titanic_dataset:  # data type conversion\n",
    "    for j in range(len(datapoint) - 1):\n",
    "        if (j != 1) and (j != 6):\n",
    "            datapoint[j] = float(datapoint[j])\n",
    "titanic_dataset\n"
   ],
   "metadata": {
    "collapsed": false,
    "pycharm": {
     "name": "#%%\n"
    }
   }
  },
  {
   "cell_type": "code",
   "execution_count": 30,
   "outputs": [],
   "source": [
    "titanic_header= ['Pclass','Sex','Age','SibSp','Parch','Fare','Embarked','Label',]"
   ],
   "metadata": {
    "collapsed": false,
    "pycharm": {
     "name": "#%%\n"
    }
   }
  },
  {
   "cell_type": "code",
   "execution_count": 31,
   "outputs": [],
   "source": [
    "train,test = train_test_split(iris_dataset)"
   ],
   "metadata": {
    "collapsed": false,
    "pycharm": {
     "name": "#%%\n"
    }
   }
  },
  {
   "cell_type": "code",
   "execution_count": 32,
   "outputs": [
    {
     "data": {
      "text/plain": "120"
     },
     "execution_count": 32,
     "metadata": {},
     "output_type": "execute_result"
    }
   ],
   "source": [
    "len(train)"
   ],
   "metadata": {
    "collapsed": false,
    "pycharm": {
     "name": "#%%\n"
    }
   }
  },
  {
   "cell_type": "code",
   "execution_count": 33,
   "outputs": [
    {
     "name": "stdout",
     "output_type": "stream",
     "text": [
      "[1.0, 1.1, 1.2, 1.3, 1.4, 1.5, 1.6, 1.7, 1.9, 3.0, 3.3, 3.5, 3.7, 3.9, 4.0, 4.1, 4.2, 4.3, 4.4, 4.5, 4.6, 4.7, 4.8, 4.9, 5.0, 5.1, 5.2, 5.3, 5.4, 5.5, 5.6, 5.7, 5.8, 5.9, 6.0, 6.1, 6.3, 6.4, 6.6, 6.7, 6.9]\n"
     ]
    }
   ],
   "source": [
    "x = find_unique(train,2)\n",
    "print(x)"
   ],
   "metadata": {
    "collapsed": false,
    "pycharm": {
     "name": "#%%\n"
    }
   }
  },
  {
   "cell_type": "code",
   "execution_count": 34,
   "outputs": [
    {
     "data": {
      "text/plain": "['categorical',\n 'categorical',\n 'continuous',\n 'categorical',\n 'categorical',\n 'continuous',\n 'categorical']"
     },
     "execution_count": 34,
     "metadata": {},
     "output_type": "execute_result"
    }
   ],
   "source": [
    "feature_type = get_feature_type(titanic_dataset)\n",
    "feature_type"
   ],
   "metadata": {
    "collapsed": false,
    "pycharm": {
     "name": "#%%\n"
    }
   }
  },
  {
   "cell_type": "code",
   "execution_count": 35,
   "outputs": [],
   "source": [
    "left,right=split_data(titanic_dataset,1,'male')"
   ],
   "metadata": {
    "collapsed": false,
    "pycharm": {
     "name": "#%%\n"
    }
   }
  },
  {
   "cell_type": "code",
   "execution_count": 36,
   "outputs": [
    {
     "data": {
      "text/plain": "[[3.0, 'male', 22.0, 1.0, 0.0, 7.25, 'S', '0'],\n [3.0, 'male', 35.0, 0.0, 0.0, 8.05, 'S', '0'],\n [3.0, 'male', 28.0, 0.0, 0.0, 8.4583, 'Q', '0'],\n [1.0, 'male', 54.0, 0.0, 0.0, 51.8625, 'S', '0'],\n [3.0, 'male', 2.0, 3.0, 1.0, 21.075, 'S', '0'],\n [3.0, 'male', 20.0, 0.0, 0.0, 8.05, 'S', '0'],\n [3.0, 'male', 39.0, 1.0, 5.0, 31.275, 'S', '0'],\n [3.0, 'male', 2.0, 4.0, 1.0, 29.125, 'Q', '0'],\n [2.0, 'male', 28.0, 0.0, 0.0, 13.0, 'S', '1'],\n [2.0, 'male', 35.0, 0.0, 0.0, 26.0, 'S', '0'],\n [2.0, 'male', 34.0, 0.0, 0.0, 13.0, 'S', '1'],\n [1.0, 'male', 28.0, 0.0, 0.0, 35.5, 'S', '1'],\n [3.0, 'male', 28.0, 0.0, 0.0, 7.225, 'C', '0'],\n [1.0, 'male', 19.0, 3.0, 2.0, 263.0, 'S', '0'],\n [3.0, 'male', 28.0, 0.0, 0.0, 7.8958, 'S', '0'],\n [1.0, 'male', 40.0, 0.0, 0.0, 27.7208, 'C', '0'],\n [2.0, 'male', 66.0, 0.0, 0.0, 10.5, 'S', '0'],\n [1.0, 'male', 28.0, 1.0, 0.0, 82.1708, 'C', '0'],\n [1.0, 'male', 42.0, 1.0, 0.0, 52.0, 'S', '0'],\n [3.0, 'male', 28.0, 0.0, 0.0, 7.2292, 'C', '1'],\n [3.0, 'male', 21.0, 0.0, 0.0, 8.05, 'S', '0'],\n [3.0, 'male', 28.0, 0.0, 0.0, 7.8958, 'C', '0'],\n [3.0, 'male', 28.0, 0.0, 0.0, 8.05, 'S', '0'],\n [3.0, 'male', 28.0, 1.0, 0.0, 15.5, 'Q', '0'],\n [3.0, 'male', 28.0, 2.0, 0.0, 21.6792, 'C', '0'],\n [3.0, 'male', 7.0, 4.0, 1.0, 39.6875, 'S', '0'],\n [3.0, 'male', 21.0, 0.0, 0.0, 7.8, 'S', '0'],\n [1.0, 'male', 65.0, 0.0, 1.0, 61.9792, 'C', '0'],\n [1.0, 'male', 28.0, 0.0, 0.0, 35.5, 'S', '1'],\n [3.0, 'male', 28.5, 0.0, 0.0, 7.2292, 'C', '0'],\n [3.0, 'male', 11.0, 5.0, 2.0, 46.9, 'S', '0'],\n [3.0, 'male', 22.0, 0.0, 0.0, 7.2292, 'C', '0'],\n [1.0, 'male', 45.0, 1.0, 0.0, 83.475, 'S', '0'],\n [3.0, 'male', 4.0, 3.0, 2.0, 27.9, 'S', '0'],\n [1.0, 'male', 28.0, 0.0, 0.0, 27.7208, 'C', '0'],\n [3.0, 'male', 28.0, 1.0, 1.0, 15.2458, 'C', '1'],\n [3.0, 'male', 19.0, 0.0, 0.0, 8.1583, 'S', '0'],\n [3.0, 'male', 26.0, 2.0, 0.0, 8.6625, 'S', '0'],\n [2.0, 'male', 32.0, 0.0, 0.0, 10.5, 'S', '0'],\n [2.0, 'male', 21.0, 0.0, 0.0, 73.5, 'S', '0'],\n [3.0, 'male', 26.0, 1.0, 0.0, 14.4542, 'C', '0'],\n [3.0, 'male', 32.0, 0.0, 0.0, 56.4958, 'S', '1'],\n [3.0, 'male', 25.0, 0.0, 0.0, 7.65, 'S', '0'],\n [3.0, 'male', 28.0, 0.0, 0.0, 7.8958, 'S', '0'],\n [3.0, 'male', 28.0, 0.0, 0.0, 8.05, 'S', '0'],\n [2.0, 'male', 0.83, 0.0, 2.0, 29.0, 'S', '1'],\n [3.0, 'male', 22.0, 0.0, 0.0, 9.0, 'S', '0'],\n [3.0, 'male', 29.0, 0.0, 0.0, 9.5, 'S', '1'],\n [1.0, 'male', 28.0, 0.0, 0.0, 47.1, 'S', '0'],\n [3.0, 'male', 16.0, 1.0, 3.0, 34.375, 'S', '0'],\n [3.0, 'male', 28.0, 0.0, 0.0, 8.05, 'S', '0'],\n [3.0, 'male', 24.0, 0.0, 0.0, 8.05, 'S', '0'],\n [3.0, 'male', 29.0, 0.0, 0.0, 8.05, 'S', '0'],\n [3.0, 'male', 20.0, 0.0, 0.0, 7.8542, 'S', '0'],\n [1.0, 'male', 46.0, 1.0, 0.0, 61.175, 'S', '0'],\n [3.0, 'male', 26.0, 1.0, 2.0, 20.575, 'S', '0'],\n [3.0, 'male', 59.0, 0.0, 0.0, 7.25, 'S', '0'],\n [3.0, 'male', 28.0, 0.0, 0.0, 8.05, 'S', '0'],\n [1.0, 'male', 71.0, 0.0, 0.0, 34.6542, 'C', '0'],\n [1.0, 'male', 23.0, 0.0, 1.0, 63.3583, 'C', '1'],\n [2.0, 'male', 34.0, 1.0, 0.0, 26.0, 'S', '0'],\n [3.0, 'male', 28.0, 0.0, 0.0, 7.8958, 'S', '0'],\n [1.0, 'male', 21.0, 0.0, 1.0, 77.2875, 'S', '0'],\n [3.0, 'male', 33.0, 0.0, 0.0, 8.6542, 'S', '0'],\n [3.0, 'male', 37.0, 2.0, 0.0, 7.925, 'S', '0'],\n [3.0, 'male', 28.0, 0.0, 0.0, 7.8958, 'S', '0'],\n [3.0, 'male', 28.0, 0.0, 0.0, 7.775, 'S', '1'],\n [3.0, 'male', 38.0, 0.0, 0.0, 7.8958, 'S', '0'],\n [1.0, 'male', 47.0, 0.0, 0.0, 52.0, 'S', '0'],\n [3.0, 'male', 22.0, 0.0, 0.0, 8.05, 'S', '0'],\n [3.0, 'male', 21.0, 0.0, 0.0, 7.925, 'S', '0'],\n [3.0, 'male', 70.5, 0.0, 0.0, 7.75, 'Q', '0'],\n [2.0, 'male', 29.0, 1.0, 0.0, 21.0, 'S', '0'],\n [1.0, 'male', 24.0, 0.0, 1.0, 247.5208, 'C', '0'],\n [2.0, 'male', 21.0, 2.0, 0.0, 73.5, 'S', '0'],\n [3.0, 'male', 28.0, 0.0, 0.0, 8.05, 'S', '0'],\n [2.0, 'male', 32.5, 1.0, 0.0, 30.0708, 'C', '0'],\n [1.0, 'male', 54.0, 0.0, 1.0, 77.2875, 'S', '0'],\n [3.0, 'male', 12.0, 1.0, 0.0, 11.2417, 'C', '1'],\n [3.0, 'male', 28.0, 0.0, 0.0, 7.75, 'Q', '0'],\n [3.0, 'male', 24.0, 0.0, 0.0, 7.1417, 'S', '1'],\n [3.0, 'male', 45.0, 0.0, 0.0, 6.975, 'S', '0'],\n [3.0, 'male', 33.0, 0.0, 0.0, 7.8958, 'C', '0'],\n [3.0, 'male', 20.0, 0.0, 0.0, 7.05, 'S', '0'],\n [2.0, 'male', 25.0, 0.0, 0.0, 13.0, 'S', '0'],\n [2.0, 'male', 23.0, 0.0, 0.0, 15.0458, 'C', '0'],\n [1.0, 'male', 37.0, 1.0, 0.0, 53.1, 'S', '0'],\n [3.0, 'male', 16.0, 0.0, 0.0, 9.2167, 'S', '0'],\n [1.0, 'male', 24.0, 0.0, 0.0, 79.2, 'C', '0'],\n [3.0, 'male', 19.0, 0.0, 0.0, 6.75, 'Q', '0'],\n [2.0, 'male', 18.0, 0.0, 0.0, 11.5, 'S', '0'],\n [2.0, 'male', 19.0, 1.0, 1.0, 36.75, 'S', '0'],\n [3.0, 'male', 27.0, 0.0, 0.0, 7.7958, 'S', '1'],\n [2.0, 'male', 36.5, 0.0, 2.0, 26.0, 'S', '0'],\n [2.0, 'male', 42.0, 0.0, 0.0, 13.0, 'S', '0'],\n [2.0, 'male', 51.0, 0.0, 0.0, 12.525, 'S', '0'],\n [3.0, 'male', 55.5, 0.0, 0.0, 8.05, 'S', '0'],\n [3.0, 'male', 40.5, 0.0, 2.0, 14.5, 'S', '0'],\n [3.0, 'male', 28.0, 0.0, 0.0, 7.3125, 'S', '0'],\n [1.0, 'male', 51.0, 0.0, 1.0, 61.3792, 'C', '0'],\n [3.0, 'male', 30.0, 0.0, 0.0, 8.05, 'S', '0'],\n [3.0, 'male', 28.0, 0.0, 0.0, 8.6625, 'S', '0'],\n [3.0, 'male', 28.0, 8.0, 2.0, 69.55, 'S', '0'],\n [3.0, 'male', 44.0, 0.0, 1.0, 16.1, 'S', '0'],\n [3.0, 'male', 26.0, 0.0, 0.0, 7.775, 'S', '0'],\n [3.0, 'male', 17.0, 0.0, 0.0, 8.6625, 'S', '0'],\n [3.0, 'male', 1.0, 4.0, 1.0, 39.6875, 'S', '0'],\n [3.0, 'male', 9.0, 0.0, 2.0, 20.525, 'S', '1'],\n [1.0, 'male', 28.0, 0.0, 0.0, 25.925, 'S', '0'],\n [3.0, 'male', 28.0, 0.0, 0.0, 56.4958, 'S', '0'],\n [1.0, 'male', 61.0, 0.0, 0.0, 33.5, 'S', '0'],\n [3.0, 'male', 4.0, 4.0, 1.0, 29.125, 'Q', '0'],\n [3.0, 'male', 21.0, 0.0, 0.0, 7.925, 'S', '0'],\n [1.0, 'male', 56.0, 0.0, 0.0, 30.6958, 'C', '0'],\n [3.0, 'male', 18.0, 1.0, 1.0, 7.8542, 'S', '0'],\n [3.0, 'male', 28.0, 3.0, 1.0, 25.4667, 'S', '0'],\n [2.0, 'male', 30.0, 0.0, 0.0, 13.0, 'S', '0'],\n [3.0, 'male', 36.0, 0.0, 0.0, 0.0, 'S', '0'],\n [2.0, 'male', 28.0, 0.0, 0.0, 15.05, 'C', '0'],\n [3.0, 'male', 9.0, 4.0, 2.0, 31.3875, 'S', '0'],\n [2.0, 'male', 1.0, 2.0, 1.0, 39.0, 'S', '1'],\n [1.0, 'male', 28.0, 0.0, 0.0, 50.0, 'S', '0'],\n [1.0, 'male', 45.0, 0.0, 0.0, 26.55, 'S', '1'],\n [3.0, 'male', 40.0, 1.0, 1.0, 15.5, 'Q', '0'],\n [3.0, 'male', 36.0, 0.0, 0.0, 7.8958, 'S', '0'],\n [2.0, 'male', 19.0, 0.0, 0.0, 13.0, 'S', '0'],\n [2.0, 'male', 3.0, 1.0, 1.0, 26.0, 'S', '1'],\n [3.0, 'male', 28.0, 0.0, 0.0, 7.75, 'Q', '0'],\n [3.0, 'male', 42.0, 0.0, 1.0, 8.4042, 'S', '0'],\n [3.0, 'male', 28.0, 0.0, 0.0, 9.5, 'S', '0'],\n [3.0, 'male', 28.0, 8.0, 2.0, 69.55, 'S', '0'],\n [3.0, 'male', 34.0, 0.0, 0.0, 6.4958, 'S', '0'],\n [3.0, 'male', 45.5, 0.0, 0.0, 7.225, 'C', '0'],\n [3.0, 'male', 18.0, 0.0, 0.0, 8.05, 'S', '1'],\n [3.0, 'male', 32.0, 1.0, 0.0, 15.85, 'S', '0'],\n [3.0, 'male', 26.0, 0.0, 0.0, 18.7875, 'C', '1'],\n [1.0, 'male', 40.0, 0.0, 0.0, 31.0, 'C', '1'],\n [3.0, 'male', 24.0, 0.0, 0.0, 7.05, 'S', '0'],\n [3.0, 'male', 22.0, 0.0, 0.0, 7.25, 'S', '0'],\n [2.0, 'male', 30.0, 0.0, 0.0, 13.0, 'S', '0'],\n [3.0, 'male', 28.0, 1.0, 0.0, 7.75, 'Q', '0'],\n [2.0, 'male', 42.0, 1.0, 0.0, 27.0, 'S', '0'],\n [2.0, 'male', 30.0, 0.0, 0.0, 10.5, 'S', '0'],\n [3.0, 'male', 16.0, 0.0, 0.0, 8.05, 'S', '1'],\n [2.0, 'male', 27.0, 0.0, 0.0, 13.0, 'S', '0'],\n [3.0, 'male', 51.0, 0.0, 0.0, 8.05, 'S', '0'],\n [3.0, 'male', 28.0, 0.0, 0.0, 7.8958, 'S', '0'],\n [1.0, 'male', 38.0, 1.0, 0.0, 90.0, 'S', '1'],\n [3.0, 'male', 22.0, 0.0, 0.0, 9.35, 'S', '0'],\n [2.0, 'male', 19.0, 0.0, 0.0, 10.5, 'S', '1'],\n [3.0, 'male', 20.5, 0.0, 0.0, 7.25, 'S', '0'],\n [2.0, 'male', 18.0, 0.0, 0.0, 13.0, 'S', '0'],\n [3.0, 'male', 29.0, 0.0, 0.0, 7.775, 'S', '0'],\n [2.0, 'male', 59.0, 0.0, 0.0, 13.5, 'S', '0'],\n [2.0, 'male', 24.0, 0.0, 0.0, 10.5, 'S', '0'],\n [2.0, 'male', 44.0, 1.0, 0.0, 26.0, 'S', '0'],\n [2.0, 'male', 19.0, 0.0, 0.0, 10.5, 'S', '0'],\n [2.0, 'male', 33.0, 0.0, 0.0, 12.275, 'S', '0'],\n [2.0, 'male', 29.0, 0.0, 0.0, 10.5, 'S', '0'],\n [3.0, 'male', 22.0, 0.0, 0.0, 7.125, 'S', '0'],\n [3.0, 'male', 30.0, 0.0, 0.0, 7.225, 'C', '0'],\n [1.0, 'male', 44.0, 2.0, 0.0, 90.0, 'Q', '0'],\n [1.0, 'male', 37.0, 1.0, 1.0, 52.5542, 'S', '1'],\n [2.0, 'male', 54.0, 1.0, 0.0, 26.0, 'S', '0'],\n [3.0, 'male', 28.0, 0.0, 0.0, 7.25, 'S', '0'],\n [1.0, 'male', 62.0, 0.0, 0.0, 26.55, 'S', '0'],\n [3.0, 'male', 30.0, 1.0, 0.0, 16.1, 'S', '0'],\n [3.0, 'male', 28.0, 0.0, 0.0, 7.75, 'Q', '0'],\n [3.0, 'male', 3.0, 4.0, 2.0, 31.3875, 'S', '1'],\n [1.0, 'male', 52.0, 1.0, 1.0, 79.65, 'S', '0'],\n [1.0, 'male', 40.0, 0.0, 0.0, 0.0, 'S', '0'],\n [2.0, 'male', 36.0, 0.0, 0.0, 10.5, 'S', '0'],\n [3.0, 'male', 16.0, 4.0, 1.0, 39.6875, 'S', '0'],\n [3.0, 'male', 25.0, 1.0, 0.0, 7.775, 'S', '1'],\n [1.0, 'male', 28.0, 0.0, 0.0, 31.0, 'S', '0'],\n [3.0, 'male', 25.0, 0.0, 0.0, 0.0, 'S', '1'],\n [1.0, 'male', 37.0, 0.0, 1.0, 29.7, 'C', '0'],\n [2.0, 'male', 28.0, 0.0, 0.0, 0.0, 'S', '0'],\n [3.0, 'male', 7.0, 4.0, 1.0, 29.125, 'Q', '0'],\n [3.0, 'male', 65.0, 0.0, 0.0, 7.75, 'Q', '0'],\n [3.0, 'male', 28.0, 0.0, 0.0, 7.8542, 'S', '0'],\n [3.0, 'male', 16.0, 0.0, 0.0, 9.5, 'S', '0'],\n [3.0, 'male', 19.0, 0.0, 0.0, 8.05, 'S', '1'],\n [1.0, 'male', 28.0, 0.0, 0.0, 26.0, 'S', '0'],\n [3.0, 'male', 33.0, 0.0, 0.0, 8.6625, 'C', '0'],\n [3.0, 'male', 30.0, 0.0, 0.0, 9.5, 'S', '1'],\n [3.0, 'male', 22.0, 0.0, 0.0, 7.8958, 'S', '0'],\n [2.0, 'male', 42.0, 0.0, 0.0, 13.0, 'S', '1'],\n [2.0, 'male', 36.0, 0.0, 0.0, 12.875, 'C', '0'],\n [3.0, 'male', 24.0, 0.0, 0.0, 7.8958, 'S', '0'],\n [1.0, 'male', 28.0, 0.0, 0.0, 27.7208, 'C', '0'],\n [3.0, 'male', 23.5, 0.0, 0.0, 7.2292, 'C', '0'],\n [1.0, 'male', 28.0, 0.0, 0.0, 30.5, 'S', '1'],\n [3.0, 'male', 28.0, 2.0, 0.0, 23.25, 'Q', '1'],\n [3.0, 'male', 19.0, 0.0, 0.0, 0.0, 'S', '0'],\n [3.0, 'male', 28.0, 0.0, 0.0, 8.05, 'S', '0'],\n [1.0, 'male', 0.92, 1.0, 2.0, 151.55, 'S', '1'],\n [2.0, 'male', 30.0, 1.0, 0.0, 24.0, 'C', '0'],\n [3.0, 'male', 28.0, 0.0, 0.0, 7.8958, 'S', '0'],\n [2.0, 'male', 43.0, 1.0, 1.0, 26.25, 'S', '0'],\n [2.0, 'male', 54.0, 0.0, 0.0, 14.0, 'S', '0'],\n [3.0, 'male', 22.0, 0.0, 0.0, 7.25, 'S', '0'],\n [3.0, 'male', 27.0, 0.0, 0.0, 7.8958, 'S', '0'],\n [3.0, 'male', 28.0, 8.0, 2.0, 69.55, 'S', '0'],\n [3.0, 'male', 61.0, 0.0, 0.0, 6.2375, 'S', '0'],\n [1.0, 'male', 45.5, 0.0, 0.0, 28.5, 'S', '0'],\n [1.0, 'male', 38.0, 0.0, 1.0, 153.4625, 'S', '0'],\n [3.0, 'male', 16.0, 2.0, 0.0, 18.0, 'S', '0'],\n [3.0, 'male', 28.0, 0.0, 0.0, 7.8958, 'S', '0'],\n [1.0, 'male', 29.0, 1.0, 0.0, 66.6, 'S', '0'],\n [3.0, 'male', 45.0, 0.0, 0.0, 8.05, 'S', '1'],\n [1.0, 'male', 45.0, 0.0, 0.0, 35.5, 'S', '0'],\n [2.0, 'male', 2.0, 1.0, 1.0, 26.0, 'S', '1'],\n [2.0, 'male', 28.0, 0.0, 0.0, 13.0, 'S', '0'],\n [2.0, 'male', 25.0, 0.0, 0.0, 13.0, 'S', '0'],\n [2.0, 'male', 36.0, 0.0, 0.0, 13.0, 'S', '0'],\n [3.0, 'male', 3.0, 1.0, 1.0, 15.9, 'S', '1'],\n [3.0, 'male', 42.0, 0.0, 0.0, 8.6625, 'S', '0'],\n [3.0, 'male', 23.0, 0.0, 0.0, 9.225, 'S', '0'],\n [1.0, 'male', 28.0, 0.0, 0.0, 35.0, 'S', '0'],\n [3.0, 'male', 15.0, 1.0, 1.0, 7.2292, 'C', '0'],\n [3.0, 'male', 25.0, 1.0, 0.0, 17.8, 'S', '0'],\n [3.0, 'male', 28.0, 0.0, 0.0, 7.225, 'C', '0'],\n [3.0, 'male', 28.0, 0.0, 0.0, 9.5, 'S', '0'],\n [3.0, 'male', 40.0, 1.0, 4.0, 27.9, 'S', '0'],\n [2.0, 'male', 29.0, 1.0, 0.0, 27.7208, 'C', '0'],\n [3.0, 'male', 35.0, 0.0, 0.0, 7.05, 'S', '0'],\n [3.0, 'male', 28.0, 1.0, 0.0, 15.5, 'Q', '0'],\n [3.0, 'male', 30.0, 0.0, 0.0, 7.25, 'S', '0'],\n [1.0, 'male', 25.0, 1.0, 0.0, 55.4417, 'C', '1'],\n [3.0, 'male', 18.0, 1.0, 0.0, 6.4958, 'S', '0'],\n [3.0, 'male', 19.0, 0.0, 0.0, 8.05, 'S', '0'],\n [1.0, 'male', 22.0, 0.0, 0.0, 135.6333, 'C', '0'],\n [1.0, 'male', 27.0, 0.0, 2.0, 211.5, 'C', '0'],\n [3.0, 'male', 20.0, 0.0, 0.0, 4.0125, 'C', '0'],\n [3.0, 'male', 19.0, 0.0, 0.0, 7.775, 'S', '0'],\n [3.0, 'male', 32.0, 0.0, 0.0, 7.925, 'S', '0'],\n [3.0, 'male', 28.0, 0.0, 0.0, 7.8958, 'S', '0'],\n [2.0, 'male', 18.0, 0.0, 0.0, 73.5, 'S', '0'],\n [3.0, 'male', 1.0, 5.0, 2.0, 46.9, 'S', '0'],\n [3.0, 'male', 28.0, 0.0, 0.0, 7.7292, 'Q', '0'],\n [1.0, 'male', 36.0, 1.0, 2.0, 120.0, 'S', '1'],\n [3.0, 'male', 21.0, 0.0, 0.0, 7.7958, 'S', '1'],\n [3.0, 'male', 28.0, 2.0, 0.0, 7.925, 'S', '0'],\n [3.0, 'male', 22.0, 0.0, 0.0, 7.7958, 'S', '0'],\n [2.0, 'male', 46.0, 0.0, 0.0, 26.0, 'S', '0'],\n [2.0, 'male', 23.0, 0.0, 0.0, 10.5, 'S', '0'],\n [3.0, 'male', 39.0, 0.0, 0.0, 7.925, 'S', '1'],\n [3.0, 'male', 26.0, 0.0, 0.0, 8.05, 'S', '0'],\n [3.0, 'male', 28.0, 1.0, 0.0, 15.85, 'S', '0'],\n [2.0, 'male', 34.0, 1.0, 0.0, 21.0, 'S', '0'],\n [3.0, 'male', 51.0, 0.0, 0.0, 7.75, 'S', '0'],\n [2.0, 'male', 3.0, 1.0, 1.0, 18.75, 'S', '1'],\n [3.0, 'male', 21.0, 0.0, 0.0, 7.775, 'S', '0'],\n [3.0, 'male', 28.0, 0.0, 0.0, 7.8958, 'S', '0'],\n [3.0, 'male', 28.0, 0.0, 0.0, 6.8583, 'Q', '0'],\n [2.0, 'male', 28.0, 0.0, 0.0, 0.0, 'S', '0'],\n [3.0, 'male', 44.0, 0.0, 0.0, 7.925, 'S', '1'],\n [2.0, 'male', 30.0, 0.0, 0.0, 13.0, 'S', '0'],\n [3.0, 'male', 28.0, 0.0, 0.0, 7.8958, 'C', '0'],\n [3.0, 'male', 21.0, 0.0, 0.0, 7.7333, 'Q', '0'],\n [3.0, 'male', 29.0, 0.0, 0.0, 7.875, 'S', '0'],\n [3.0, 'male', 18.0, 1.0, 1.0, 20.2125, 'S', '0'],\n [3.0, 'male', 28.0, 0.0, 0.0, 7.25, 'S', '0'],\n [3.0, 'male', 28.0, 0.0, 0.0, 7.75, 'Q', '0'],\n [3.0, 'male', 32.0, 0.0, 0.0, 8.05, 'S', '1'],\n [1.0, 'male', 28.0, 0.0, 0.0, 26.55, 'S', '1'],\n [3.0, 'male', 17.0, 0.0, 0.0, 7.125, 'S', '0'],\n [1.0, 'male', 50.0, 1.0, 0.0, 55.9, 'S', '0'],\n [1.0, 'male', 64.0, 1.0, 4.0, 263.0, 'S', '0'],\n [2.0, 'male', 31.0, 0.0, 0.0, 10.5, 'S', '0'],\n [3.0, 'male', 20.0, 0.0, 0.0, 9.5, 'S', '0'],\n [3.0, 'male', 25.0, 1.0, 0.0, 7.775, 'S', '0'],\n [3.0, 'male', 28.0, 0.0, 0.0, 8.1125, 'S', '1'],\n [1.0, 'male', 4.0, 0.0, 2.0, 81.8583, 'S', '1'],\n [1.0, 'male', 34.0, 0.0, 0.0, 26.55, 'S', '1'],\n [1.0, 'male', 52.0, 0.0, 0.0, 30.5, 'S', '1'],\n [2.0, 'male', 36.0, 1.0, 2.0, 27.75, 'S', '0'],\n [3.0, 'male', 28.0, 1.0, 0.0, 19.9667, 'S', '0'],\n [1.0, 'male', 30.0, 0.0, 0.0, 27.75, 'C', '0'],\n [1.0, 'male', 49.0, 1.0, 0.0, 89.1042, 'C', '1'],\n [3.0, 'male', 28.0, 0.0, 0.0, 8.05, 'S', '0'],\n [3.0, 'male', 29.0, 0.0, 0.0, 7.8958, 'C', '1'],\n [1.0, 'male', 65.0, 0.0, 0.0, 26.55, 'S', '0'],\n [3.0, 'male', 28.0, 0.0, 0.0, 7.75, 'Q', '0'],\n [1.0, 'male', 48.0, 0.0, 0.0, 26.55, 'S', '1'],\n [3.0, 'male', 34.0, 0.0, 0.0, 8.05, 'S', '0'],\n [1.0, 'male', 47.0, 0.0, 0.0, 38.5, 'S', '0'],\n [2.0, 'male', 48.0, 0.0, 0.0, 13.0, 'S', '0'],\n [3.0, 'male', 28.0, 0.0, 0.0, 8.05, 'S', '0'],\n [3.0, 'male', 38.0, 0.0, 0.0, 7.05, 'S', '0'],\n [2.0, 'male', 28.0, 0.0, 0.0, 0.0, 'S', '0'],\n [1.0, 'male', 56.0, 0.0, 0.0, 26.55, 'S', '0'],\n [3.0, 'male', 28.0, 0.0, 0.0, 7.725, 'Q', '0'],\n [3.0, 'male', 28.0, 0.0, 0.0, 7.25, 'S', '0'],\n [3.0, 'male', 38.0, 0.0, 0.0, 8.6625, 'S', '0'],\n [1.0, 'male', 28.0, 0.0, 0.0, 52.0, 'S', '0'],\n [2.0, 'male', 34.0, 1.0, 0.0, 21.0, 'S', '0'],\n [3.0, 'male', 29.0, 1.0, 0.0, 7.0458, 'S', '0'],\n [3.0, 'male', 22.0, 0.0, 0.0, 7.5208, 'S', '0'],\n [3.0, 'male', 9.0, 5.0, 2.0, 46.9, 'S', '0'],\n [2.0, 'male', 28.0, 0.0, 0.0, 0.0, 'S', '0'],\n [3.0, 'male', 50.0, 0.0, 0.0, 8.05, 'S', '0'],\n [1.0, 'male', 25.0, 1.0, 0.0, 91.0792, 'C', '1'],\n [1.0, 'male', 58.0, 0.0, 0.0, 29.7, 'C', '0'],\n [3.0, 'male', 30.0, 0.0, 0.0, 8.05, 'S', '0'],\n [3.0, 'male', 9.0, 1.0, 1.0, 15.9, 'S', '1'],\n [3.0, 'male', 28.0, 1.0, 0.0, 19.9667, 'S', '0'],\n [3.0, 'male', 21.0, 0.0, 0.0, 7.25, 'S', '0'],\n [1.0, 'male', 55.0, 0.0, 0.0, 30.5, 'S', '0'],\n [1.0, 'male', 71.0, 0.0, 0.0, 49.5042, 'C', '0'],\n [3.0, 'male', 21.0, 0.0, 0.0, 8.05, 'S', '0'],\n [3.0, 'male', 28.0, 0.0, 0.0, 14.4583, 'C', '0'],\n [3.0, 'male', 28.0, 0.0, 0.0, 15.1, 'S', '0'],\n [3.0, 'male', 24.0, 0.0, 0.0, 7.7958, 'S', '0'],\n [3.0, 'male', 17.0, 0.0, 0.0, 8.6625, 'S', '0'],\n [1.0, 'male', 18.0, 1.0, 0.0, 108.9, 'C', '0'],\n [1.0, 'male', 28.0, 0.0, 0.0, 26.55, 'S', '1'],\n [3.0, 'male', 28.0, 0.0, 0.0, 22.525, 'S', '0'],\n [3.0, 'male', 26.0, 0.0, 0.0, 56.4958, 'S', '1'],\n [3.0, 'male', 29.0, 0.0, 0.0, 7.75, 'Q', '1'],\n [3.0, 'male', 28.0, 0.0, 0.0, 8.05, 'S', '0'],\n [1.0, 'male', 36.0, 0.0, 0.0, 26.2875, 'S', '1'],\n [3.0, 'male', 24.0, 0.0, 0.0, 7.4958, 'S', '0'],\n [1.0, 'male', 47.0, 0.0, 0.0, 34.0208, 'S', '0'],\n [3.0, 'male', 28.0, 0.0, 0.0, 24.15, 'Q', '0'],\n [3.0, 'male', 32.0, 0.0, 0.0, 7.8958, 'S', '0'],\n [3.0, 'male', 22.0, 0.0, 0.0, 7.8958, 'S', '0'],\n [3.0, 'male', 28.0, 0.0, 0.0, 7.225, 'C', '0'],\n [3.0, 'male', 28.0, 0.0, 0.0, 7.2292, 'C', '0'],\n [3.0, 'male', 40.5, 0.0, 0.0, 7.75, 'Q', '0'],\n [1.0, 'male', 28.0, 0.0, 0.0, 221.7792, 'S', '0'],\n [3.0, 'male', 39.0, 0.0, 0.0, 7.925, 'S', '0'],\n [2.0, 'male', 23.0, 2.0, 1.0, 11.5, 'S', '0'],\n [3.0, 'male', 28.0, 0.0, 0.0, 7.2292, 'C', '0'],\n [3.0, 'male', 17.0, 1.0, 1.0, 7.2292, 'C', '0'],\n [1.0, 'male', 45.0, 0.0, 0.0, 26.55, 'S', '0'],\n [3.0, 'male', 28.0, 0.0, 0.0, 14.5, 'S', '0'],\n [2.0, 'male', 32.0, 1.0, 0.0, 26.0, 'S', '1'],\n [1.0, 'male', 50.0, 1.0, 0.0, 106.425, 'C', '0'],\n [1.0, 'male', 64.0, 0.0, 0.0, 26.0, 'S', '0'],\n [2.0, 'male', 28.0, 0.0, 0.0, 13.8625, 'C', '1'],\n [3.0, 'male', 33.0, 1.0, 1.0, 20.525, 'S', '0'],\n [2.0, 'male', 8.0, 1.0, 1.0, 36.75, 'S', '1'],\n [1.0, 'male', 17.0, 0.0, 2.0, 110.8833, 'C', '1'],\n [2.0, 'male', 27.0, 0.0, 0.0, 26.0, 'S', '0'],\n [3.0, 'male', 28.0, 0.0, 0.0, 7.8292, 'Q', '0'],\n [3.0, 'male', 22.0, 0.0, 0.0, 7.225, 'C', '1'],\n [1.0, 'male', 62.0, 0.0, 0.0, 26.55, 'S', '0'],\n [1.0, 'male', 28.0, 0.0, 0.0, 227.525, 'C', '0'],\n [3.0, 'male', 28.0, 0.0, 0.0, 7.75, 'Q', '0'],\n [3.0, 'male', 40.0, 0.0, 0.0, 7.8958, 'S', '0'],\n [2.0, 'male', 28.0, 0.0, 0.0, 13.5, 'S', '0'],\n [3.0, 'male', 28.0, 0.0, 0.0, 8.05, 'S', '0'],\n [3.0, 'male', 24.0, 2.0, 0.0, 24.15, 'S', '0'],\n [3.0, 'male', 19.0, 0.0, 0.0, 7.8958, 'S', '0'],\n [3.0, 'male', 28.0, 0.0, 0.0, 7.2292, 'C', '0'],\n [3.0, 'male', 32.0, 0.0, 0.0, 7.8542, 'S', '1'],\n [2.0, 'male', 62.0, 0.0, 0.0, 10.5, 'S', '1'],\n [1.0, 'male', 36.0, 0.0, 0.0, 26.3875, 'S', '1'],\n [3.0, 'male', 16.0, 0.0, 0.0, 8.05, 'S', '0'],\n [3.0, 'male', 19.0, 0.0, 0.0, 14.5, 'S', '0'],\n [3.0, 'male', 32.0, 0.0, 0.0, 7.925, 'S', '1'],\n [2.0, 'male', 54.0, 0.0, 0.0, 26.0, 'S', '0'],\n [1.0, 'male', 36.0, 0.0, 0.0, 40.125, 'C', '0'],\n [3.0, 'male', 28.0, 0.0, 0.0, 8.7125, 'C', '0'],\n [2.0, 'male', 47.0, 0.0, 0.0, 15.0, 'S', '0'],\n [1.0, 'male', 60.0, 1.0, 1.0, 79.2, 'C', '1'],\n [3.0, 'male', 22.0, 0.0, 0.0, 8.05, 'S', '0'],\n [3.0, 'male', 28.0, 0.0, 0.0, 8.05, 'S', '0'],\n [3.0, 'male', 35.0, 0.0, 0.0, 7.125, 'S', '0'],\n [3.0, 'male', 47.0, 0.0, 0.0, 7.25, 'S', '0'],\n [2.0, 'male', 37.0, 1.0, 0.0, 26.0, 'S', '0'],\n [3.0, 'male', 36.0, 1.0, 1.0, 24.15, 'S', '0'],\n [3.0, 'male', 49.0, 0.0, 0.0, 0.0, 'S', '0'],\n [3.0, 'male', 28.0, 0.0, 0.0, 7.225, 'C', '0'],\n [1.0, 'male', 49.0, 1.0, 0.0, 56.9292, 'C', '1'],\n [3.0, 'male', 28.0, 0.0, 0.0, 7.8958, 'S', '0'],\n [1.0, 'male', 28.0, 0.0, 0.0, 42.4, 'S', '0'],\n [3.0, 'male', 44.0, 0.0, 0.0, 8.05, 'S', '0'],\n [1.0, 'male', 35.0, 0.0, 0.0, 26.55, 'C', '1'],\n [3.0, 'male', 36.0, 1.0, 0.0, 15.55, 'S', '0'],\n [3.0, 'male', 30.0, 0.0, 0.0, 7.8958, 'S', '0'],\n [1.0, 'male', 27.0, 0.0, 0.0, 30.5, 'S', '1'],\n [3.0, 'male', 28.0, 0.0, 0.0, 7.05, 'S', '0'],\n [3.0, 'male', 28.0, 0.0, 0.0, 7.75, 'Q', '0'],\n [3.0, 'male', 35.0, 0.0, 0.0, 8.05, 'S', '0'],\n [3.0, 'male', 34.0, 1.0, 1.0, 14.4, 'S', '0'],\n [2.0, 'male', 26.0, 0.0, 0.0, 10.5, 'S', '0'],\n [3.0, 'male', 27.0, 1.0, 0.0, 14.4542, 'C', '0'],\n [1.0, 'male', 42.0, 1.0, 0.0, 52.5542, 'S', '1'],\n [3.0, 'male', 20.0, 1.0, 1.0, 15.7417, 'C', '1'],\n [3.0, 'male', 21.0, 0.0, 0.0, 7.8542, 'S', '0'],\n [3.0, 'male', 21.0, 0.0, 0.0, 16.1, 'S', '0'],\n [1.0, 'male', 61.0, 0.0, 0.0, 32.3208, 'S', '0'],\n [2.0, 'male', 57.0, 0.0, 0.0, 12.35, 'Q', '0'],\n [3.0, 'male', 26.0, 0.0, 0.0, 7.8958, 'S', '0'],\n [3.0, 'male', 28.0, 0.0, 0.0, 7.7333, 'Q', '0'],\n [1.0, 'male', 80.0, 0.0, 0.0, 30.0, 'S', '1'],\n [3.0, 'male', 51.0, 0.0, 0.0, 7.0542, 'S', '0'],\n [1.0, 'male', 32.0, 0.0, 0.0, 30.5, 'C', '1'],\n [1.0, 'male', 28.0, 0.0, 0.0, 0.0, 'S', '0'],\n [3.0, 'male', 32.0, 0.0, 0.0, 7.925, 'S', '0'],\n [2.0, 'male', 31.0, 1.0, 1.0, 26.25, 'S', '0'],\n [3.0, 'male', 28.0, 1.0, 0.0, 16.1, 'S', '0'],\n [3.0, 'male', 20.0, 0.0, 0.0, 7.8542, 'S', '0'],\n [3.0, 'male', 28.0, 0.0, 0.0, 56.4958, 'S', '1'],\n [1.0, 'male', 48.0, 1.0, 0.0, 76.7292, 'C', '1'],\n [3.0, 'male', 19.0, 0.0, 0.0, 7.8958, 'S', '0'],\n [1.0, 'male', 56.0, 0.0, 0.0, 35.5, 'C', '1'],\n [3.0, 'male', 28.0, 0.0, 0.0, 7.55, 'S', '0'],\n [3.0, 'male', 28.0, 0.0, 0.0, 7.8958, 'S', '0'],\n [3.0, 'male', 21.0, 0.0, 0.0, 8.4333, 'S', '0'],\n [2.0, 'male', 24.0, 2.0, 0.0, 73.5, 'S', '0'],\n [3.0, 'male', 28.0, 0.0, 0.0, 7.8958, 'S', '0'],\n [2.0, 'male', 23.0, 0.0, 0.0, 13.0, 'S', '0'],\n [1.0, 'male', 58.0, 0.0, 2.0, 113.275, 'C', '0'],\n [1.0, 'male', 50.0, 2.0, 0.0, 133.65, 'S', '1'],\n [3.0, 'male', 40.0, 0.0, 0.0, 7.225, 'C', '0'],\n [1.0, 'male', 47.0, 0.0, 0.0, 25.5875, 'S', '0'],\n [3.0, 'male', 36.0, 0.0, 0.0, 7.4958, 'S', '0'],\n [3.0, 'male', 20.0, 1.0, 0.0, 7.925, 'S', '1'],\n [2.0, 'male', 32.0, 2.0, 0.0, 73.5, 'S', '0'],\n [2.0, 'male', 25.0, 0.0, 0.0, 13.0, 'S', '0'],\n [3.0, 'male', 28.0, 0.0, 0.0, 7.775, 'S', '0'],\n [3.0, 'male', 43.0, 0.0, 0.0, 8.05, 'S', '0'],\n [1.0, 'male', 31.0, 1.0, 0.0, 52.0, 'S', '0'],\n [2.0, 'male', 70.0, 0.0, 0.0, 10.5, 'S', '0'],\n [2.0, 'male', 31.0, 0.0, 0.0, 13.0, 'S', '1'],\n [2.0, 'male', 28.0, 0.0, 0.0, 0.0, 'S', '0'],\n [3.0, 'male', 18.0, 0.0, 0.0, 7.775, 'S', '0'],\n [3.0, 'male', 24.5, 0.0, 0.0, 8.05, 'S', '0'],\n [1.0, 'male', 36.0, 0.0, 1.0, 512.3292, 'C', '1'],\n [1.0, 'male', 27.0, 0.0, 0.0, 76.7292, 'C', '1'],\n [3.0, 'male', 20.0, 0.0, 0.0, 9.225, 'S', '0'],\n [3.0, 'male', 14.0, 5.0, 2.0, 46.9, 'S', '0'],\n [2.0, 'male', 60.0, 1.0, 1.0, 39.0, 'S', '0'],\n [2.0, 'male', 25.0, 1.0, 2.0, 41.5792, 'C', '0'],\n [3.0, 'male', 14.0, 4.0, 1.0, 39.6875, 'S', '0'],\n [3.0, 'male', 19.0, 0.0, 0.0, 10.1708, 'S', '0'],\n [3.0, 'male', 18.0, 0.0, 0.0, 7.7958, 'S', '0'],\n [1.0, 'male', 31.0, 1.0, 0.0, 57.0, 'S', '1'],\n [3.0, 'male', 28.0, 0.0, 0.0, 56.4958, 'S', '1'],\n [3.0, 'male', 25.0, 0.0, 0.0, 7.225, 'C', '0'],\n [1.0, 'male', 60.0, 0.0, 0.0, 26.55, 'S', '0'],\n [2.0, 'male', 52.0, 0.0, 0.0, 13.5, 'S', '0'],\n [3.0, 'male', 44.0, 0.0, 0.0, 8.05, 'S', '0'],\n [1.0, 'male', 49.0, 1.0, 1.0, 110.8833, 'C', '0'],\n [3.0, 'male', 42.0, 0.0, 0.0, 7.65, 'S', '0'],\n [1.0, 'male', 35.0, 0.0, 0.0, 26.2875, 'S', '1'],\n [3.0, 'male', 25.0, 0.0, 0.0, 7.7417, 'Q', '0'],\n [3.0, 'male', 26.0, 1.0, 0.0, 7.8542, 'S', '0'],\n [2.0, 'male', 39.0, 0.0, 0.0, 26.0, 'S', '0'],\n [1.0, 'male', 42.0, 0.0, 0.0, 26.2875, 'S', '1'],\n [3.0, 'male', 28.0, 1.0, 1.0, 15.2458, 'C', '1'],\n [1.0, 'male', 28.0, 0.0, 0.0, 26.55, 'S', '0'],\n [1.0, 'male', 48.0, 1.0, 0.0, 52.0, 'S', '1'],\n [3.0, 'male', 29.0, 0.0, 0.0, 9.4833, 'S', '0'],\n [2.0, 'male', 52.0, 0.0, 0.0, 13.0, 'S', '0'],\n [3.0, 'male', 19.0, 0.0, 0.0, 7.65, 'S', '0'],\n [3.0, 'male', 28.0, 0.0, 0.0, 15.5, 'Q', '0'],\n [3.0, 'male', 33.0, 0.0, 0.0, 7.775, 'S', '0'],\n [3.0, 'male', 17.0, 1.0, 0.0, 7.0542, 'S', '0'],\n [2.0, 'male', 34.0, 0.0, 0.0, 13.0, 'S', '0'],\n [2.0, 'male', 50.0, 0.0, 0.0, 13.0, 'S', '0'],\n [1.0, 'male', 27.0, 1.0, 0.0, 53.1, 'S', '1'],\n [3.0, 'male', 20.0, 0.0, 0.0, 8.6625, 'S', '0'],\n [2.0, 'male', 25.0, 1.0, 0.0, 26.0, 'S', '0'],\n [3.0, 'male', 11.0, 0.0, 0.0, 18.7875, 'C', '0'],\n [2.0, 'male', 28.0, 0.0, 0.0, 0.0, 'S', '0'],\n [2.0, 'male', 23.0, 0.0, 0.0, 13.0, 'S', '0'],\n [2.0, 'male', 23.0, 0.0, 0.0, 13.0, 'S', '0'],\n [3.0, 'male', 28.5, 0.0, 0.0, 16.1, 'S', '0'],\n [1.0, 'male', 35.0, 0.0, 0.0, 512.3292, 'C', '1'],\n [3.0, 'male', 28.0, 0.0, 0.0, 7.8958, 'S', '0'],\n [3.0, 'male', 28.0, 0.0, 0.0, 7.8958, 'S', '0'],\n [1.0, 'male', 28.0, 0.0, 0.0, 30.0, 'S', '1'],\n [1.0, 'male', 36.0, 1.0, 0.0, 78.85, 'S', '0'],\n [3.0, 'male', 24.0, 1.0, 0.0, 16.1, 'S', '0'],\n [3.0, 'male', 31.0, 0.0, 0.0, 7.925, 'S', '1'],\n [1.0, 'male', 70.0, 1.0, 1.0, 71.0, 'S', '0'],\n [3.0, 'male', 16.0, 1.0, 1.0, 20.25, 'S', '0'],\n [1.0, 'male', 19.0, 1.0, 0.0, 53.1, 'S', '0'],\n [3.0, 'male', 31.0, 0.0, 0.0, 7.75, 'Q', '0'],\n [3.0, 'male', 6.0, 0.0, 1.0, 12.475, 'S', '1'],\n [3.0, 'male', 33.0, 0.0, 0.0, 9.5, 'S', '0'],\n [3.0, 'male', 23.0, 0.0, 0.0, 7.8958, 'S', '0'],\n [2.0, 'male', 0.67, 1.0, 1.0, 14.5, 'S', '1'],\n [3.0, 'male', 28.0, 0.0, 0.0, 7.7958, 'S', '0'],\n [2.0, 'male', 18.0, 0.0, 0.0, 11.5, 'S', '0'],\n [3.0, 'male', 34.0, 0.0, 0.0, 8.05, 'S', '0'],\n [3.0, 'male', 28.0, 0.0, 0.0, 14.5, 'S', '0'],\n [3.0, 'male', 41.0, 0.0, 0.0, 7.125, 'S', '0'],\n [3.0, 'male', 20.0, 0.0, 0.0, 7.2292, 'C', '1'],\n [3.0, 'male', 16.0, 0.0, 0.0, 7.775, 'S', '0'],\n [1.0, 'male', 28.0, 0.0, 0.0, 39.6, 'C', '0'],\n [3.0, 'male', 28.0, 1.0, 0.0, 24.15, 'Q', '0'],\n [3.0, 'male', 32.0, 0.0, 0.0, 8.3625, 'S', '0'],\n [3.0, 'male', 24.0, 0.0, 0.0, 9.5, 'S', '0'],\n [3.0, 'male', 48.0, 0.0, 0.0, 7.8542, 'S', '0'],\n [3.0, 'male', 28.0, 0.0, 0.0, 7.225, 'C', '0'],\n [3.0, 'male', 18.0, 0.0, 0.0, 7.75, 'S', '0'],\n [3.0, 'male', 28.0, 0.0, 0.0, 7.75, 'Q', '0'],\n [3.0, 'male', 28.0, 0.0, 0.0, 7.7375, 'Q', '0'],\n [1.0, 'male', 29.0, 0.0, 0.0, 30.0, 'S', '0'],\n [3.0, 'male', 28.0, 1.0, 2.0, 23.45, 'S', '0'],\n [3.0, 'male', 25.0, 0.0, 0.0, 7.05, 'S', '0'],\n [3.0, 'male', 25.0, 0.0, 0.0, 7.25, 'S', '0'],\n [3.0, 'male', 8.0, 4.0, 1.0, 29.125, 'Q', '0'],\n [3.0, 'male', 1.0, 1.0, 2.0, 20.575, 'S', '1'],\n [1.0, 'male', 46.0, 0.0, 0.0, 79.2, 'C', '0'],\n [3.0, 'male', 28.0, 0.0, 0.0, 7.75, 'Q', '0'],\n [2.0, 'male', 16.0, 0.0, 0.0, 26.0, 'S', '0'],\n [1.0, 'male', 28.0, 0.0, 0.0, 30.6958, 'C', '0'],\n [3.0, 'male', 25.0, 0.0, 0.0, 7.8958, 'S', '0'],\n [2.0, 'male', 39.0, 0.0, 0.0, 13.0, 'S', '0'],\n [3.0, 'male', 30.0, 0.0, 0.0, 7.2292, 'C', '0'],\n [2.0, 'male', 34.0, 0.0, 0.0, 13.0, 'S', '0'],\n [1.0, 'male', 11.0, 1.0, 2.0, 120.0, 'S', '1'],\n [3.0, 'male', 0.42, 0.0, 1.0, 8.5167, 'C', '1'],\n [3.0, 'male', 27.0, 0.0, 0.0, 6.975, 'S', '1'],\n [3.0, 'male', 31.0, 0.0, 0.0, 7.775, 'S', '0'],\n [1.0, 'male', 39.0, 0.0, 0.0, 0.0, 'S', '0'],\n [2.0, 'male', 39.0, 0.0, 0.0, 13.0, 'S', '0'],\n [3.0, 'male', 26.0, 0.0, 0.0, 7.8875, 'S', '0'],\n [3.0, 'male', 39.0, 0.0, 0.0, 24.15, 'S', '0'],\n [2.0, 'male', 35.0, 0.0, 0.0, 10.5, 'S', '0'],\n [3.0, 'male', 30.5, 0.0, 0.0, 8.05, 'S', '0'],\n [1.0, 'male', 28.0, 0.0, 0.0, 0.0, 'S', '0'],\n [2.0, 'male', 31.0, 1.0, 1.0, 37.0042, 'C', '0'],\n [3.0, 'male', 43.0, 0.0, 0.0, 6.45, 'S', '0'],\n [3.0, 'male', 10.0, 3.0, 2.0, 27.9, 'S', '0'],\n [3.0, 'male', 27.0, 0.0, 0.0, 8.6625, 'S', '1'],\n [1.0, 'male', 38.0, 0.0, 0.0, 0.0, 'S', '0'],\n [3.0, 'male', 2.0, 4.0, 1.0, 39.6875, 'S', '0'],\n [3.0, 'male', 28.0, 0.0, 0.0, 6.95, 'Q', '0'],\n [3.0, 'male', 28.0, 0.0, 0.0, 56.4958, 'S', '0'],\n [2.0, 'male', 1.0, 0.0, 2.0, 37.0042, 'C', '1'],\n [3.0, 'male', 28.0, 0.0, 0.0, 7.75, 'Q', '1'],\n [2.0, 'male', 0.83, 1.0, 1.0, 18.75, 'S', '1'],\n [3.0, 'male', 28.0, 0.0, 0.0, 7.2292, 'C', '0'],\n [3.0, 'male', 23.0, 0.0, 0.0, 7.8542, 'S', '0'],\n [3.0, 'male', 18.0, 0.0, 0.0, 8.3, 'S', '0'],\n [3.0, 'male', 21.0, 0.0, 0.0, 8.6625, 'S', '0'],\n [3.0, 'male', 28.0, 0.0, 0.0, 8.05, 'S', '0'],\n [3.0, 'male', 32.0, 0.0, 0.0, 56.4958, 'S', '1'],\n [1.0, 'male', 28.0, 0.0, 0.0, 29.7, 'C', '1'],\n [3.0, 'male', 20.0, 0.0, 0.0, 7.925, 'S', '0'],\n [2.0, 'male', 16.0, 0.0, 0.0, 10.5, 'S', '0'],\n [3.0, 'male', 34.5, 0.0, 0.0, 6.4375, 'C', '0'],\n [3.0, 'male', 17.0, 0.0, 0.0, 8.6625, 'S', '0'],\n [3.0, 'male', 42.0, 0.0, 0.0, 7.55, 'S', '0'],\n [3.0, 'male', 28.0, 8.0, 2.0, 69.55, 'S', '0'],\n [3.0, 'male', 35.0, 0.0, 0.0, 7.8958, 'C', '0'],\n [2.0, 'male', 28.0, 0.0, 1.0, 33.0, 'S', '0'],\n [3.0, 'male', 4.0, 4.0, 2.0, 31.275, 'S', '0'],\n [3.0, 'male', 74.0, 0.0, 0.0, 7.775, 'S', '0'],\n [1.0, 'male', 51.0, 0.0, 0.0, 26.55, 'S', '1'],\n [3.0, 'male', 28.0, 0.0, 0.0, 7.2292, 'C', '0'],\n [3.0, 'male', 41.0, 2.0, 0.0, 14.1083, 'S', '0'],\n [2.0, 'male', 21.0, 1.0, 0.0, 11.5, 'S', '0'],\n [2.0, 'male', 24.0, 0.0, 0.0, 13.0, 'S', '0'],\n [1.0, 'male', 31.0, 0.0, 0.0, 50.4958, 'S', '0'],\n [3.0, 'male', 28.0, 0.0, 0.0, 9.5, 'S', '0'],\n [3.0, 'male', 4.0, 1.0, 1.0, 11.1333, 'S', '1'],\n [3.0, 'male', 26.0, 0.0, 0.0, 7.8958, 'S', '0'],\n [1.0, 'male', 33.0, 0.0, 0.0, 5.0, 'S', '0'],\n [3.0, 'male', 47.0, 0.0, 0.0, 9.0, 'S', '0'],\n [3.0, 'male', 20.0, 0.0, 0.0, 9.8458, 'S', '0'],\n [3.0, 'male', 19.0, 0.0, 0.0, 7.8958, 'S', '0'],\n [3.0, 'male', 28.0, 0.0, 0.0, 7.8958, 'S', '0'],\n [3.0, 'male', 33.0, 0.0, 0.0, 7.8958, 'S', '0'],\n [2.0, 'male', 28.0, 0.0, 0.0, 10.5, 'S', '0'],\n [3.0, 'male', 25.0, 0.0, 0.0, 7.05, 'S', '0'],\n [2.0, 'male', 27.0, 0.0, 0.0, 13.0, 'S', '0'],\n [1.0, 'male', 26.0, 0.0, 0.0, 30.0, 'C', '1'],\n [3.0, 'male', 32.0, 0.0, 0.0, 7.75, 'Q', '0']]"
     },
     "execution_count": 36,
     "metadata": {},
     "output_type": "execute_result"
    }
   ],
   "source": [
    "left"
   ],
   "metadata": {
    "collapsed": false,
    "pycharm": {
     "name": "#%%\n"
    }
   }
  },
  {
   "cell_type": "code",
   "execution_count": 37,
   "outputs": [
    {
     "data": {
      "text/plain": "[[1.0, 'female', 38.0, 1.0, 0.0, 71.2833, 'C', '1'],\n [3.0, 'female', 26.0, 0.0, 0.0, 7.925, 'S', '1'],\n [1.0, 'female', 35.0, 1.0, 0.0, 53.1, 'S', '1'],\n [3.0, 'female', 27.0, 0.0, 2.0, 11.1333, 'S', '1'],\n [2.0, 'female', 14.0, 1.0, 0.0, 30.0708, 'C', '1'],\n [3.0, 'female', 4.0, 1.0, 1.0, 16.7, 'S', '1'],\n [1.0, 'female', 58.0, 0.0, 0.0, 26.55, 'S', '1'],\n [3.0, 'female', 14.0, 0.0, 0.0, 7.8542, 'S', '0'],\n [2.0, 'female', 55.0, 0.0, 0.0, 16.0, 'S', '1'],\n [3.0, 'female', 31.0, 1.0, 0.0, 18.0, 'S', '0'],\n [3.0, 'female', 28.0, 0.0, 0.0, 7.225, 'C', '1'],\n [3.0, 'female', 15.0, 0.0, 0.0, 8.0292, 'Q', '1'],\n [3.0, 'female', 8.0, 3.0, 1.0, 21.075, 'S', '0'],\n [3.0, 'female', 38.0, 1.0, 5.0, 31.3875, 'S', '1'],\n [3.0, 'female', 28.0, 0.0, 0.0, 7.8792, 'Q', '1'],\n [1.0, 'female', 28.0, 1.0, 0.0, 146.5208, 'C', '1'],\n [3.0, 'female', 28.0, 0.0, 0.0, 7.75, 'Q', '1'],\n [3.0, 'female', 18.0, 2.0, 0.0, 18.0, 'S', '0'],\n [3.0, 'female', 14.0, 1.0, 0.0, 11.2417, 'C', '1'],\n [3.0, 'female', 40.0, 1.0, 0.0, 9.475, 'S', '0'],\n [2.0, 'female', 27.0, 1.0, 0.0, 21.0, 'S', '0'],\n [2.0, 'female', 3.0, 1.0, 2.0, 41.5792, 'C', '1'],\n [3.0, 'female', 19.0, 0.0, 0.0, 7.8792, 'Q', '1'],\n [3.0, 'female', 28.0, 0.0, 0.0, 7.75, 'Q', '1'],\n [3.0, 'female', 18.0, 1.0, 0.0, 17.8, 'S', '0'],\n [1.0, 'female', 49.0, 1.0, 0.0, 76.7292, 'C', '1'],\n [2.0, 'female', 29.0, 1.0, 0.0, 26.0, 'S', '1'],\n [2.0, 'female', 21.0, 0.0, 0.0, 10.5, 'S', '1'],\n [2.0, 'female', 5.0, 1.0, 2.0, 27.75, 'S', '1'],\n [1.0, 'female', 38.0, 0.0, 0.0, 80.0, 'S', '1'],\n [2.0, 'female', 29.0, 0.0, 0.0, 10.5, 'S', '1'],\n [3.0, 'female', 17.0, 4.0, 2.0, 7.925, 'S', '1'],\n [3.0, 'female', 16.0, 5.0, 2.0, 46.9, 'S', '0'],\n [3.0, 'female', 30.0, 0.0, 0.0, 12.475, 'S', '1'],\n [3.0, 'female', 28.0, 0.0, 0.0, 7.7875, 'Q', '1'],\n [2.0, 'female', 17.0, 0.0, 0.0, 10.5, 'S', '1'],\n [3.0, 'female', 33.0, 3.0, 0.0, 15.85, 'S', '1'],\n [1.0, 'female', 23.0, 3.0, 2.0, 263.0, 'S', '1'],\n [2.0, 'female', 34.0, 0.0, 1.0, 23.0, 'S', '1'],\n [3.0, 'female', 28.0, 0.0, 0.0, 7.8958, 'S', '0'],\n [3.0, 'female', 21.0, 0.0, 0.0, 7.65, 'S', '1'],\n [3.0, 'female', 28.0, 1.0, 0.0, 24.15, 'Q', '1'],\n [3.0, 'female', 14.5, 1.0, 0.0, 14.4542, 'C', '0'],\n [3.0, 'female', 20.0, 1.0, 0.0, 9.825, 'S', '0'],\n [3.0, 'female', 17.0, 0.0, 0.0, 14.4583, 'C', '0'],\n [3.0, 'female', 2.0, 4.0, 2.0, 31.275, 'S', '0'],\n [2.0, 'female', 32.5, 0.0, 0.0, 13.0, 'S', '1'],\n [3.0, 'female', 28.0, 1.0, 1.0, 22.3583, 'C', '1'],\n [3.0, 'female', 47.0, 1.0, 0.0, 14.5, 'S', '0'],\n [2.0, 'female', 29.0, 1.0, 0.0, 26.0, 'S', '1'],\n [1.0, 'female', 19.0, 0.0, 2.0, 26.2833, 'S', '1'],\n [3.0, 'female', 28.0, 0.0, 2.0, 15.2458, 'C', '0'],\n [3.0, 'female', 22.0, 0.0, 0.0, 7.75, 'S', '1'],\n [3.0, 'female', 24.0, 1.0, 0.0, 15.85, 'S', '1'],\n [3.0, 'female', 9.0, 2.0, 2.0, 34.375, 'S', '0'],\n [1.0, 'female', 22.0, 1.0, 0.0, 66.6, 'S', '1'],\n [3.0, 'female', 16.0, 0.0, 0.0, 7.7333, 'Q', '1'],\n [2.0, 'female', 40.0, 0.0, 0.0, 15.75, 'S', '1'],\n [1.0, 'female', 28.0, 0.0, 1.0, 55.0, 'S', '1'],\n [3.0, 'female', 45.0, 1.0, 4.0, 27.9, 'S', '0'],\n [3.0, 'female', 1.0, 1.0, 1.0, 11.1333, 'S', '1'],\n [1.0, 'female', 50.0, 0.0, 0.0, 28.7125, 'C', '0'],\n [3.0, 'female', 28.0, 8.0, 2.0, 69.55, 'S', '0'],\n [3.0, 'female', 4.0, 0.0, 2.0, 22.025, 'S', '1'],\n [3.0, 'female', 28.0, 1.0, 0.0, 15.5, 'Q', '1'],\n [2.0, 'female', 32.0, 0.0, 0.0, 13.0, 'S', '1'],\n [3.0, 'female', 19.0, 1.0, 0.0, 7.8542, 'S', '1'],\n [1.0, 'female', 44.0, 0.0, 0.0, 27.7208, 'C', '1'],\n [1.0, 'female', 58.0, 0.0, 0.0, 146.5208, 'C', '1'],\n [3.0, 'female', 28.0, 0.0, 0.0, 7.75, 'Q', '1'],\n [2.0, 'female', 24.0, 0.0, 0.0, 13.0, 'S', '0'],\n [3.0, 'female', 2.0, 0.0, 1.0, 10.4625, 'S', '0'],\n [3.0, 'female', 16.0, 0.0, 0.0, 7.75, 'Q', '1'],\n [2.0, 'female', 35.0, 0.0, 0.0, 21.0, 'S', '1'],\n [1.0, 'female', 31.0, 1.0, 0.0, 113.275, 'C', '1'],\n [3.0, 'female', 27.0, 0.0, 0.0, 7.925, 'S', '1'],\n [1.0, 'female', 32.0, 0.0, 0.0, 76.2917, 'C', '1'],\n [3.0, 'female', 28.0, 3.0, 1.0, 25.4667, 'S', '0'],\n [1.0, 'female', 35.0, 1.0, 0.0, 83.475, 'S', '1'],\n [3.0, 'female', 5.0, 4.0, 2.0, 31.3875, 'S', '1'],\n [3.0, 'female', 28.0, 0.0, 0.0, 7.55, 'S', '0'],\n [2.0, 'female', 8.0, 0.0, 2.0, 26.25, 'S', '1'],\n [3.0, 'female', 28.0, 1.0, 0.0, 14.4542, 'C', '0'],\n [3.0, 'female', 28.0, 1.0, 0.0, 15.5, 'Q', '1'],\n [3.0, 'female', 25.0, 0.0, 0.0, 7.775, 'S', '0'],\n [2.0, 'female', 24.0, 0.0, 2.0, 14.5, 'S', '1'],\n [3.0, 'female', 29.0, 1.0, 1.0, 10.4625, 'S', '0'],\n [3.0, 'female', 41.0, 0.0, 2.0, 20.2125, 'S', '0'],\n [3.0, 'female', 29.0, 0.0, 2.0, 15.2458, 'C', '1'],\n [1.0, 'female', 28.0, 0.0, 0.0, 79.2, 'C', '1'],\n [1.0, 'female', 30.0, 0.0, 0.0, 86.5, 'S', '1'],\n [1.0, 'female', 35.0, 0.0, 0.0, 512.3292, 'C', '1'],\n [2.0, 'female', 50.0, 0.0, 1.0, 26.0, 'S', '1'],\n [3.0, 'female', 28.0, 0.0, 0.0, 7.75, 'Q', '0'],\n [1.0, 'female', 58.0, 0.0, 1.0, 153.4625, 'S', '1'],\n [1.0, 'female', 35.0, 0.0, 0.0, 135.6333, 'S', '1'],\n [2.0, 'female', 41.0, 0.0, 1.0, 19.5, 'S', '1'],\n [3.0, 'female', 28.0, 0.0, 0.0, 7.75, 'Q', '1'],\n [1.0, 'female', 63.0, 1.0, 0.0, 77.9583, 'S', '1'],\n [3.0, 'female', 45.0, 0.0, 0.0, 7.75, 'S', '0'],\n [3.0, 'female', 35.0, 1.0, 1.0, 20.25, 'S', '1'],\n [3.0, 'female', 22.0, 0.0, 0.0, 7.75, 'Q', '1'],\n [1.0, 'female', 26.0, 0.0, 0.0, 78.85, 'S', '1'],\n [1.0, 'female', 19.0, 1.0, 0.0, 91.0792, 'C', '1'],\n [3.0, 'female', 24.0, 0.0, 0.0, 8.85, 'S', '0'],\n [1.0, 'female', 2.0, 1.0, 2.0, 151.55, 'S', '0'],\n [1.0, 'female', 50.0, 0.0, 1.0, 247.5208, 'C', '1'],\n [3.0, 'female', 28.0, 0.0, 0.0, 7.75, 'Q', '1'],\n [2.0, 'female', 28.0, 0.0, 0.0, 12.35, 'Q', '1'],\n [1.0, 'female', 28.0, 0.0, 0.0, 110.8833, 'C', '1'],\n [1.0, 'female', 17.0, 1.0, 0.0, 108.9, 'C', '1'],\n [1.0, 'female', 30.0, 0.0, 0.0, 56.9292, 'C', '1'],\n [1.0, 'female', 24.0, 0.0, 0.0, 83.1583, 'C', '1'],\n [1.0, 'female', 18.0, 2.0, 2.0, 262.375, 'C', '1'],\n [2.0, 'female', 26.0, 1.0, 1.0, 26.0, 'S', '0'],\n [3.0, 'female', 26.0, 0.0, 0.0, 7.8542, 'S', '1'],\n [2.0, 'female', 24.0, 1.0, 0.0, 26.0, 'S', '1'],\n [1.0, 'female', 31.0, 0.0, 2.0, 164.8667, 'S', '1'],\n [1.0, 'female', 40.0, 1.0, 1.0, 134.5, 'C', '1'],\n [2.0, 'female', 30.0, 0.0, 0.0, 12.35, 'Q', '1'],\n [2.0, 'female', 22.0, 1.0, 1.0, 29.0, 'S', '1'],\n [1.0, 'female', 36.0, 0.0, 0.0, 135.6333, 'C', '1'],\n [2.0, 'female', 36.0, 0.0, 0.0, 13.0, 'S', '1'],\n [3.0, 'female', 31.0, 1.0, 1.0, 20.525, 'S', '1'],\n [1.0, 'female', 16.0, 0.0, 1.0, 57.9792, 'C', '1'],\n [3.0, 'female', 28.0, 2.0, 0.0, 23.25, 'Q', '1'],\n [1.0, 'female', 28.0, 1.0, 0.0, 133.65, 'S', '1'],\n [1.0, 'female', 41.0, 0.0, 0.0, 134.5, 'C', '1'],\n [1.0, 'female', 24.0, 3.0, 2.0, 263.0, 'S', '1'],\n [2.0, 'female', 24.0, 0.0, 0.0, 13.0, 'S', '1'],\n [2.0, 'female', 40.0, 0.0, 0.0, 13.0, 'S', '1'],\n [3.0, 'female', 28.0, 1.0, 0.0, 16.1, 'S', '1'],\n [1.0, 'female', 22.0, 0.0, 1.0, 55.0, 'S', '1'],\n [2.0, 'female', 38.0, 0.0, 0.0, 13.0, 'S', '0'],\n [3.0, 'female', 28.0, 0.0, 0.0, 7.8792, 'Q', '1'],\n [3.0, 'female', 28.0, 0.0, 0.0, 7.8792, 'Q', '1'],\n [3.0, 'female', 45.0, 0.0, 1.0, 14.4542, 'C', '0'],\n [1.0, 'female', 60.0, 1.0, 0.0, 75.25, 'C', '1'],\n [3.0, 'female', 28.0, 0.0, 0.0, 7.2292, 'C', '1'],\n [3.0, 'female', 28.0, 0.0, 0.0, 7.75, 'Q', '1'],\n [1.0, 'female', 24.0, 0.0, 0.0, 69.3, 'C', '1'],\n [3.0, 'female', 3.0, 3.0, 1.0, 21.075, 'S', '0'],\n [1.0, 'female', 28.0, 1.0, 0.0, 82.1708, 'C', '1'],\n [3.0, 'female', 22.0, 0.0, 0.0, 7.25, 'S', '1'],\n [1.0, 'female', 42.0, 0.0, 0.0, 227.525, 'C', '1'],\n [3.0, 'female', 1.0, 0.0, 2.0, 15.7417, 'C', '1'],\n [1.0, 'female', 35.0, 1.0, 0.0, 52.0, 'S', '1'],\n [2.0, 'female', 36.0, 0.0, 0.0, 13.0, 'S', '1'],\n [2.0, 'female', 17.0, 0.0, 0.0, 12.0, 'C', '1'],\n [1.0, 'female', 23.0, 1.0, 0.0, 113.275, 'C', '1'],\n [3.0, 'female', 24.0, 0.0, 2.0, 16.7, 'S', '1'],\n [3.0, 'female', 31.0, 0.0, 0.0, 7.8542, 'S', '0'],\n [2.0, 'female', 28.0, 0.0, 0.0, 12.65, 'S', '1'],\n [3.0, 'female', 21.0, 1.0, 0.0, 9.825, 'S', '0'],\n [3.0, 'female', 20.0, 0.0, 0.0, 8.6625, 'S', '0'],\n [3.0, 'female', 28.0, 3.0, 1.0, 25.4667, 'S', '0'],\n [1.0, 'female', 33.0, 1.0, 0.0, 90.0, 'Q', '1'],\n [3.0, 'female', 28.0, 0.0, 0.0, 8.05, 'S', '0'],\n [2.0, 'female', 34.0, 1.0, 1.0, 32.5, 'S', '1'],\n [2.0, 'female', 18.0, 0.0, 2.0, 13.0, 'S', '1'],\n [3.0, 'female', 10.0, 0.0, 2.0, 24.15, 'S', '0'],\n [3.0, 'female', 28.0, 1.0, 1.0, 14.4, 'S', '0'],\n [2.0, 'female', 28.0, 1.0, 0.0, 26.0, 'S', '1'],\n [2.0, 'female', 19.0, 0.0, 0.0, 26.0, 'S', '1'],\n [3.0, 'female', 28.0, 1.0, 0.0, 16.1, 'S', '1'],\n [2.0, 'female', 42.0, 1.0, 0.0, 26.0, 'S', '1'],\n [1.0, 'female', 14.0, 1.0, 2.0, 120.0, 'S', '1'],\n [3.0, 'female', 21.0, 2.0, 2.0, 34.375, 'S', '0'],\n [2.0, 'female', 24.0, 2.0, 3.0, 18.75, 'S', '1'],\n [2.0, 'female', 45.0, 1.0, 1.0, 26.25, 'S', '1'],\n [2.0, 'female', 28.0, 0.0, 0.0, 13.0, 'S', '1'],\n [2.0, 'female', 13.0, 0.0, 1.0, 19.5, 'S', '1'],\n [3.0, 'female', 5.0, 2.0, 1.0, 19.2583, 'C', '1'],\n [1.0, 'female', 28.0, 1.0, 0.0, 51.8625, 'S', '1'],\n [2.0, 'female', 50.0, 0.0, 0.0, 10.5, 'S', '1'],\n [3.0, 'female', 0.75, 2.0, 1.0, 19.2583, 'C', '1'],\n [2.0, 'female', 33.0, 1.0, 2.0, 27.75, 'S', '1'],\n [2.0, 'female', 23.0, 0.0, 0.0, 13.7917, 'C', '1'],\n [3.0, 'female', 22.0, 0.0, 0.0, 9.8375, 'S', '0'],\n [3.0, 'female', 2.0, 0.0, 1.0, 12.2875, 'S', '1'],\n [3.0, 'female', 63.0, 0.0, 0.0, 9.5875, 'S', '1'],\n [3.0, 'female', 28.0, 3.0, 1.0, 25.4667, 'S', '0'],\n [1.0, 'female', 35.0, 1.0, 0.0, 90.0, 'S', '1'],\n [1.0, 'female', 54.0, 1.0, 0.0, 78.2667, 'C', '1'],\n [1.0, 'female', 25.0, 1.0, 2.0, 151.55, 'S', '0'],\n [3.0, 'female', 21.0, 0.0, 0.0, 7.75, 'Q', '0'],\n [3.0, 'female', 28.0, 0.0, 0.0, 7.6292, 'Q', '0'],\n [3.0, 'female', 37.0, 0.0, 0.0, 9.5875, 'S', '0'],\n [1.0, 'female', 16.0, 0.0, 0.0, 86.5, 'S', '1'],\n [2.0, 'female', 33.0, 0.0, 2.0, 26.0, 'S', '1'],\n [1.0, 'female', 54.0, 1.0, 0.0, 59.4, 'C', '1'],\n [2.0, 'female', 34.0, 0.0, 0.0, 10.5, 'S', '1'],\n [2.0, 'female', 36.0, 1.0, 0.0, 26.0, 'S', '1'],\n [1.0, 'female', 30.0, 0.0, 0.0, 93.5, 'S', '1'],\n [1.0, 'female', 44.0, 0.0, 1.0, 57.9792, 'C', '1'],\n [2.0, 'female', 50.0, 0.0, 0.0, 10.5, 'S', '1'],\n [2.0, 'female', 2.0, 1.0, 1.0, 26.0, 'S', '1'],\n [3.0, 'female', 28.0, 0.0, 2.0, 22.3583, 'C', '1'],\n [3.0, 'female', 30.0, 0.0, 0.0, 8.6625, 'S', '0'],\n [2.0, 'female', 7.0, 0.0, 2.0, 26.25, 'S', '1'],\n [1.0, 'female', 30.0, 0.0, 0.0, 106.425, 'C', '1'],\n [1.0, 'female', 22.0, 0.0, 2.0, 49.5, 'C', '1'],\n [1.0, 'female', 36.0, 0.0, 2.0, 71.0, 'S', '1'],\n [3.0, 'female', 9.0, 4.0, 2.0, 31.275, 'S', '0'],\n [3.0, 'female', 11.0, 4.0, 2.0, 31.275, 'S', '0'],\n [2.0, 'female', 19.0, 1.0, 0.0, 26.0, 'S', '1'],\n [3.0, 'female', 22.0, 0.0, 0.0, 7.775, 'S', '1'],\n [1.0, 'female', 48.0, 1.0, 0.0, 39.6, 'C', '1'],\n [1.0, 'female', 39.0, 1.0, 1.0, 79.65, 'S', '1'],\n [3.0, 'female', 36.0, 1.0, 0.0, 17.4, 'S', '1'],\n [3.0, 'female', 28.0, 0.0, 0.0, 8.05, 'S', '0'],\n [3.0, 'female', 29.0, 0.0, 4.0, 21.075, 'S', '0'],\n [1.0, 'female', 53.0, 2.0, 0.0, 51.4792, 'S', '1'],\n [3.0, 'female', 28.0, 0.0, 0.0, 7.75, 'Q', '1'],\n [2.0, 'female', 34.0, 0.0, 0.0, 13.0, 'S', '1'],\n [1.0, 'female', 39.0, 1.0, 0.0, 55.9, 'S', '1'],\n [3.0, 'female', 28.0, 1.0, 0.0, 14.4583, 'C', '0'],\n [2.0, 'female', 25.0, 1.0, 1.0, 30.0, 'S', '1'],\n [1.0, 'female', 39.0, 1.0, 1.0, 110.8833, 'C', '1'],\n [1.0, 'female', 18.0, 0.0, 2.0, 79.65, 'S', '1'],\n [1.0, 'female', 52.0, 1.0, 0.0, 78.2667, 'C', '1'],\n [3.0, 'female', 28.0, 0.0, 2.0, 7.75, 'Q', '0'],\n [2.0, 'female', 28.0, 0.0, 0.0, 33.0, 'S', '1'],\n [2.0, 'female', 24.0, 2.0, 1.0, 27.0, 'S', '1'],\n [2.0, 'female', 22.0, 1.0, 2.0, 41.5792, 'C', '1'],\n [1.0, 'female', 40.0, 0.0, 0.0, 153.4625, 'S', '1'],\n [3.0, 'female', 39.0, 1.0, 5.0, 31.275, 'S', '0'],\n [3.0, 'female', 28.0, 1.0, 0.0, 15.5, 'Q', '1'],\n [2.0, 'female', 24.0, 1.0, 2.0, 65.0, 'S', '1'],\n [3.0, 'female', 26.0, 1.0, 0.0, 16.1, 'S', '0'],\n [2.0, 'female', 4.0, 2.0, 1.0, 39.0, 'S', '1'],\n [1.0, 'female', 21.0, 0.0, 0.0, 77.9583, 'S', '1'],\n [3.0, 'female', 9.0, 3.0, 2.0, 27.9, 'S', '0'],\n [2.0, 'female', 28.0, 0.0, 0.0, 13.0, 'S', '1'],\n [3.0, 'female', 41.0, 0.0, 5.0, 39.6875, 'S', '0'],\n [1.0, 'female', 24.0, 0.0, 0.0, 69.3, 'C', '1'],\n [3.0, 'female', 2.0, 3.0, 2.0, 27.9, 'S', '0'],\n [3.0, 'female', 0.75, 2.0, 1.0, 19.2583, 'C', '1'],\n [3.0, 'female', 23.0, 0.0, 0.0, 7.55, 'S', '1'],\n [2.0, 'female', 18.0, 0.0, 1.0, 23.0, 'S', '1'],\n [3.0, 'female', 28.0, 0.0, 0.0, 7.8292, 'Q', '1'],\n [3.0, 'female', 18.0, 0.0, 0.0, 6.75, 'Q', '0'],\n [3.0, 'female', 32.0, 1.0, 1.0, 15.5, 'Q', '0'],\n [1.0, 'female', 28.0, 1.0, 0.0, 52.0, 'S', '1'],\n [2.0, 'female', 40.0, 1.0, 1.0, 39.0, 'S', '1'],\n [3.0, 'female', 18.0, 0.0, 0.0, 9.8417, 'S', '1'],\n [3.0, 'female', 43.0, 1.0, 6.0, 46.9, 'S', '0'],\n [3.0, 'female', 28.0, 0.0, 0.0, 8.1375, 'Q', '0'],\n [1.0, 'female', 15.0, 0.0, 1.0, 211.3375, 'S', '1'],\n [3.0, 'female', 4.0, 0.0, 1.0, 13.4167, 'C', '1'],\n [3.0, 'female', 28.0, 0.0, 0.0, 7.7333, 'Q', '1'],\n [1.0, 'female', 18.0, 1.0, 0.0, 227.525, 'C', '1'],\n [3.0, 'female', 18.0, 0.0, 1.0, 14.4542, 'C', '0'],\n [2.0, 'female', 45.0, 0.0, 0.0, 13.5, 'S', '1'],\n [1.0, 'female', 22.0, 0.0, 0.0, 151.55, 'S', '1'],\n [1.0, 'female', 24.0, 0.0, 0.0, 49.5042, 'C', '1'],\n [1.0, 'female', 38.0, 0.0, 0.0, 227.525, 'C', '1'],\n [2.0, 'female', 27.0, 0.0, 0.0, 10.5, 'S', '1'],\n [2.0, 'female', 6.0, 0.0, 1.0, 33.0, 'S', '1'],\n [2.0, 'female', 30.0, 3.0, 0.0, 21.0, 'S', '1'],\n [3.0, 'female', 28.0, 0.0, 0.0, 7.7375, 'Q', '1'],\n [3.0, 'female', 25.0, 1.0, 0.0, 7.925, 'S', '0'],\n [1.0, 'female', 29.0, 0.0, 0.0, 211.3375, 'S', '1'],\n [3.0, 'female', 48.0, 1.0, 3.0, 34.375, 'S', '0'],\n [1.0, 'female', 21.0, 2.0, 2.0, 262.375, 'C', '1'],\n [2.0, 'female', 30.0, 0.0, 0.0, 13.0, 'S', '1'],\n [2.0, 'female', 4.0, 1.0, 1.0, 23.0, 'S', '1'],\n [2.0, 'female', 48.0, 1.0, 2.0, 65.0, 'S', '1'],\n [1.0, 'female', 33.0, 0.0, 0.0, 86.5, 'S', '1'],\n [1.0, 'female', 36.0, 1.0, 2.0, 120.0, 'S', '1'],\n [1.0, 'female', 51.0, 1.0, 0.0, 77.9583, 'S', '1'],\n [3.0, 'female', 30.5, 0.0, 0.0, 7.75, 'Q', '0'],\n [2.0, 'female', 57.0, 0.0, 0.0, 10.5, 'S', '0'],\n [2.0, 'female', 54.0, 1.0, 3.0, 23.0, 'S', '1'],\n [3.0, 'female', 5.0, 0.0, 0.0, 12.475, 'S', '1'],\n [1.0, 'female', 43.0, 0.0, 1.0, 211.3375, 'S', '1'],\n [3.0, 'female', 13.0, 0.0, 0.0, 7.2292, 'C', '1'],\n [1.0, 'female', 17.0, 1.0, 0.0, 57.0, 'S', '1'],\n [3.0, 'female', 18.0, 0.0, 0.0, 7.4958, 'S', '1'],\n [3.0, 'female', 28.0, 8.0, 2.0, 69.55, 'S', '0'],\n [1.0, 'female', 49.0, 0.0, 0.0, 25.9292, 'S', '1'],\n [3.0, 'female', 31.0, 0.0, 0.0, 8.6833, 'S', '1'],\n [3.0, 'female', 30.0, 1.0, 1.0, 24.15, 'S', '0'],\n [2.0, 'female', 31.0, 1.0, 1.0, 26.25, 'S', '1'],\n [3.0, 'female', 18.0, 0.0, 0.0, 7.775, 'S', '0'],\n [1.0, 'female', 33.0, 1.0, 0.0, 53.1, 'S', '1'],\n [3.0, 'female', 6.0, 4.0, 2.0, 31.275, 'S', '0'],\n [3.0, 'female', 23.0, 0.0, 0.0, 7.925, 'S', '0'],\n [1.0, 'female', 52.0, 1.0, 1.0, 93.5, 'S', '1'],\n [3.0, 'female', 27.0, 0.0, 1.0, 12.475, 'S', '1'],\n [1.0, 'female', 62.0, 0.0, 0.0, 80.0, 'S', '1'],\n [3.0, 'female', 15.0, 1.0, 0.0, 14.4542, 'C', '1'],\n [1.0, 'female', 39.0, 1.0, 1.0, 83.1583, 'C', '1'],\n [1.0, 'female', 30.0, 0.0, 0.0, 31.0, 'C', '1'],\n [1.0, 'female', 28.0, 1.0, 0.0, 89.1042, 'C', '1'],\n [3.0, 'female', 9.0, 1.0, 1.0, 15.2458, 'C', '0'],\n [1.0, 'female', 16.0, 0.0, 1.0, 39.4, 'S', '1'],\n [2.0, 'female', 44.0, 1.0, 0.0, 26.0, 'S', '0'],\n [3.0, 'female', 18.0, 0.0, 1.0, 9.35, 'S', '1'],\n [1.0, 'female', 45.0, 1.0, 1.0, 164.8667, 'S', '1'],\n [3.0, 'female', 24.0, 0.0, 3.0, 19.2583, 'C', '1'],\n [1.0, 'female', 48.0, 0.0, 0.0, 25.9292, 'S', '1'],\n [3.0, 'female', 28.0, 8.0, 2.0, 69.55, 'S', '0'],\n [2.0, 'female', 42.0, 0.0, 0.0, 13.0, 'S', '1'],\n [2.0, 'female', 27.0, 1.0, 0.0, 13.8583, 'C', '1'],\n [1.0, 'female', 47.0, 1.0, 1.0, 52.5542, 'S', '1'],\n [2.0, 'female', 28.0, 1.0, 0.0, 24.0, 'C', '1'],\n [3.0, 'female', 15.0, 0.0, 0.0, 7.225, 'C', '1'],\n [1.0, 'female', 56.0, 0.0, 1.0, 83.1583, 'C', '1'],\n [2.0, 'female', 25.0, 0.0, 1.0, 26.0, 'S', '1'],\n [3.0, 'female', 22.0, 0.0, 0.0, 10.5167, 'S', '0'],\n [3.0, 'female', 39.0, 0.0, 5.0, 29.125, 'Q', '0'],\n [1.0, 'female', 19.0, 0.0, 0.0, 30.0, 'S', '1'],\n [3.0, 'female', 28.0, 1.0, 2.0, 23.45, 'S', '0']]"
     },
     "execution_count": 37,
     "metadata": {},
     "output_type": "execute_result"
    }
   ],
   "source": [
    "right"
   ],
   "metadata": {
    "collapsed": false,
    "pycharm": {
     "name": "#%%\n"
    }
   }
  },
  {
   "cell_type": "code",
   "execution_count": 38,
   "outputs": [
    {
     "data": {
      "text/plain": "{0: {1.0, 2.0, 3.0},\n 1: {'female', 'male'},\n 2: {0.42,\n  0.67,\n  0.75,\n  0.83,\n  0.92,\n  1.0,\n  2.0,\n  3.0,\n  4.0,\n  5.0,\n  6.0,\n  7.0,\n  8.0,\n  9.0,\n  10.0,\n  11.0,\n  12.0,\n  13.0,\n  14.0,\n  14.5,\n  15.0,\n  16.0,\n  17.0,\n  18.0,\n  19.0,\n  20.0,\n  20.5,\n  21.0,\n  22.0,\n  23.0,\n  23.5,\n  24.0,\n  24.5,\n  25.0,\n  26.0,\n  27.0,\n  28.0,\n  28.5,\n  29.0,\n  30.0,\n  30.5,\n  31.0,\n  32.0,\n  32.5,\n  33.0,\n  34.0,\n  34.5,\n  35.0,\n  36.0,\n  36.5,\n  37.0,\n  38.0,\n  39.0,\n  40.0,\n  40.5,\n  41.0,\n  42.0,\n  43.0,\n  44.0,\n  45.0,\n  45.5,\n  46.0,\n  47.0,\n  48.0,\n  49.0,\n  50.0,\n  51.0,\n  52.0,\n  53.0,\n  54.0,\n  55.0,\n  55.5,\n  56.0,\n  57.0,\n  58.0,\n  59.0,\n  60.0,\n  61.0,\n  62.0,\n  63.0,\n  64.0,\n  65.0,\n  66.0,\n  70.0,\n  70.5,\n  71.0,\n  74.0},\n 3: {0.0, 1.0, 2.0, 3.0, 4.0, 5.0, 8.0},\n 4: {0.0, 1.0, 2.0, 3.0, 4.0, 5.0, 6.0},\n 5: {0.0,\n  4.0125,\n  5.0,\n  6.2375,\n  6.4375,\n  6.45,\n  6.4958,\n  6.75,\n  6.8583,\n  6.95,\n  6.975,\n  7.0458,\n  7.05,\n  7.0542,\n  7.125,\n  7.1417,\n  7.225,\n  7.2292,\n  7.25,\n  7.3125,\n  7.4958,\n  7.5208,\n  7.55,\n  7.6292,\n  7.65,\n  7.725,\n  7.7292,\n  7.7333,\n  7.7375,\n  7.7417,\n  7.75,\n  7.775,\n  7.7875,\n  7.7958,\n  7.8,\n  7.8292,\n  7.8542,\n  7.875,\n  7.8792,\n  7.8875,\n  7.8958,\n  7.925,\n  8.0292,\n  8.05,\n  8.1125,\n  8.1375,\n  8.1583,\n  8.3,\n  8.3625,\n  8.4042,\n  8.4333,\n  8.4583,\n  8.5167,\n  8.6542,\n  8.6625,\n  8.6833,\n  8.7125,\n  8.85,\n  9.0,\n  9.2167,\n  9.225,\n  9.35,\n  9.475,\n  9.4833,\n  9.5,\n  9.5875,\n  9.825,\n  9.8375,\n  9.8417,\n  9.8458,\n  10.1708,\n  10.4625,\n  10.5,\n  10.5167,\n  11.1333,\n  11.2417,\n  11.5,\n  12.0,\n  12.275,\n  12.2875,\n  12.35,\n  12.475,\n  12.525,\n  12.65,\n  12.875,\n  13.0,\n  13.4167,\n  13.5,\n  13.7917,\n  13.8583,\n  13.8625,\n  14.0,\n  14.1083,\n  14.4,\n  14.4542,\n  14.4583,\n  14.5,\n  15.0,\n  15.0458,\n  15.05,\n  15.1,\n  15.2458,\n  15.5,\n  15.55,\n  15.7417,\n  15.75,\n  15.85,\n  15.9,\n  16.0,\n  16.1,\n  16.7,\n  17.4,\n  17.8,\n  18.0,\n  18.75,\n  18.7875,\n  19.2583,\n  19.5,\n  19.9667,\n  20.2125,\n  20.25,\n  20.525,\n  20.575,\n  21.0,\n  21.075,\n  21.6792,\n  22.025,\n  22.3583,\n  22.525,\n  23.0,\n  23.25,\n  23.45,\n  24.0,\n  24.15,\n  25.4667,\n  25.5875,\n  25.925,\n  25.9292,\n  26.0,\n  26.25,\n  26.2833,\n  26.2875,\n  26.3875,\n  26.55,\n  27.0,\n  27.7208,\n  27.75,\n  27.9,\n  28.5,\n  28.7125,\n  29.0,\n  29.125,\n  29.7,\n  30.0,\n  30.0708,\n  30.5,\n  30.6958,\n  31.0,\n  31.275,\n  31.3875,\n  32.3208,\n  32.5,\n  33.0,\n  33.5,\n  34.0208,\n  34.375,\n  34.6542,\n  35.0,\n  35.5,\n  36.75,\n  37.0042,\n  38.5,\n  39.0,\n  39.4,\n  39.6,\n  39.6875,\n  40.125,\n  41.5792,\n  42.4,\n  46.9,\n  47.1,\n  49.5,\n  49.5042,\n  50.0,\n  50.4958,\n  51.4792,\n  51.8625,\n  52.0,\n  52.5542,\n  53.1,\n  55.0,\n  55.4417,\n  55.9,\n  56.4958,\n  56.9292,\n  57.0,\n  57.9792,\n  59.4,\n  61.175,\n  61.3792,\n  61.9792,\n  63.3583,\n  65.0,\n  66.6,\n  69.3,\n  69.55,\n  71.0,\n  71.2833,\n  73.5,\n  75.25,\n  76.2917,\n  76.7292,\n  77.2875,\n  77.9583,\n  78.2667,\n  78.85,\n  79.2,\n  79.65,\n  80.0,\n  81.8583,\n  82.1708,\n  83.1583,\n  83.475,\n  86.5,\n  89.1042,\n  90.0,\n  91.0792,\n  93.5,\n  106.425,\n  108.9,\n  110.8833,\n  113.275,\n  120.0,\n  133.65,\n  134.5,\n  135.6333,\n  146.5208,\n  151.55,\n  153.4625,\n  164.8667,\n  211.3375,\n  211.5,\n  221.7792,\n  227.525,\n  247.5208,\n  262.375,\n  263.0},\n 6: {'C', 'Q', 'S'}}"
     },
     "execution_count": 38,
     "metadata": {},
     "output_type": "execute_result"
    }
   ],
   "source": [
    "y = find_centres(titanic_dataset)\n",
    "y"
   ],
   "metadata": {
    "collapsed": false,
    "pycharm": {
     "name": "#%%\n"
    }
   }
  },
  {
   "cell_type": "code",
   "execution_count": 39,
   "outputs": [
    {
     "data": {
      "text/plain": "0.6661111111111111"
     },
     "execution_count": 39,
     "metadata": {},
     "output_type": "execute_result"
    }
   ],
   "source": [
    "ginir = gini(train)\n",
    "ginir"
   ],
   "metadata": {
    "collapsed": false,
    "pycharm": {
     "name": "#%%\n"
    }
   }
  },
  {
   "cell_type": "code",
   "execution_count": 40,
   "outputs": [
    {
     "data": {
      "text/plain": "0.6830400735540036"
     },
     "execution_count": 40,
     "metadata": {},
     "output_type": "execute_result"
    }
   ],
   "source": [
    "gini_min,centre,feature,left,right= find_best_split(train,'entropy')\n",
    "gini_min"
   ],
   "metadata": {
    "collapsed": false,
    "pycharm": {
     "name": "#%%\n"
    }
   }
  },
  {
   "cell_type": "code",
   "execution_count": 41,
   "outputs": [
    {
     "data": {
      "text/plain": "2"
     },
     "execution_count": 41,
     "metadata": {},
     "output_type": "execute_result"
    }
   ],
   "source": [
    "feature"
   ],
   "metadata": {
    "collapsed": false,
    "pycharm": {
     "name": "#%%\n"
    }
   }
  },
  {
   "cell_type": "code",
   "execution_count": 42,
   "outputs": [
    {
     "data": {
      "text/plain": "1.9"
     },
     "execution_count": 42,
     "metadata": {},
     "output_type": "execute_result"
    }
   ],
   "source": [
    "centre"
   ],
   "metadata": {
    "collapsed": false,
    "pycharm": {
     "name": "#%%\n"
    }
   }
  },
  {
   "cell_type": "code",
   "execution_count": 43,
   "outputs": [
    {
     "data": {
      "text/plain": "[[5.1, 3.5, 1.4, 0.2, 'Iris-setosa'],\n [4.7, 3.2, 1.3, 0.2, 'Iris-setosa'],\n [4.6, 3.1, 1.5, 0.2, 'Iris-setosa'],\n [5.0, 3.6, 1.4, 0.2, 'Iris-setosa'],\n [4.4, 2.9, 1.4, 0.2, 'Iris-setosa'],\n [4.9, 3.1, 1.5, 0.1, 'Iris-setosa'],\n [5.4, 3.7, 1.5, 0.2, 'Iris-setosa'],\n [4.8, 3.4, 1.6, 0.2, 'Iris-setosa'],\n [4.8, 3.0, 1.4, 0.1, 'Iris-setosa'],\n [4.3, 3.0, 1.1, 0.1, 'Iris-setosa'],\n [5.7, 4.4, 1.5, 0.4, 'Iris-setosa'],\n [5.4, 3.9, 1.3, 0.4, 'Iris-setosa'],\n [5.1, 3.5, 1.4, 0.3, 'Iris-setosa'],\n [5.1, 3.8, 1.5, 0.3, 'Iris-setosa'],\n [5.4, 3.4, 1.7, 0.2, 'Iris-setosa'],\n [5.1, 3.7, 1.5, 0.4, 'Iris-setosa'],\n [4.6, 3.6, 1.0, 0.2, 'Iris-setosa'],\n [5.0, 3.0, 1.6, 0.2, 'Iris-setosa'],\n [5.0, 3.4, 1.6, 0.4, 'Iris-setosa'],\n [5.2, 3.5, 1.5, 0.2, 'Iris-setosa'],\n [5.2, 3.4, 1.4, 0.2, 'Iris-setosa'],\n [4.8, 3.1, 1.6, 0.2, 'Iris-setosa'],\n [5.4, 3.4, 1.5, 0.4, 'Iris-setosa'],\n [5.2, 4.1, 1.5, 0.1, 'Iris-setosa'],\n [5.5, 4.2, 1.4, 0.2, 'Iris-setosa'],\n [4.9, 3.1, 1.5, 0.1, 'Iris-setosa'],\n [5.0, 3.2, 1.2, 0.2, 'Iris-setosa'],\n [5.5, 3.5, 1.3, 0.2, 'Iris-setosa'],\n [4.9, 3.1, 1.5, 0.1, 'Iris-setosa'],\n [4.4, 3.0, 1.3, 0.2, 'Iris-setosa'],\n [5.1, 3.4, 1.5, 0.2, 'Iris-setosa'],\n [5.0, 3.5, 1.3, 0.3, 'Iris-setosa'],\n [4.5, 2.3, 1.3, 0.3, 'Iris-setosa'],\n [5.0, 3.5, 1.6, 0.6, 'Iris-setosa'],\n [5.1, 3.8, 1.9, 0.4, 'Iris-setosa'],\n [4.8, 3.0, 1.4, 0.3, 'Iris-setosa'],\n [5.1, 3.8, 1.6, 0.2, 'Iris-setosa'],\n [5.3, 3.7, 1.5, 0.2, 'Iris-setosa']]"
     },
     "execution_count": 43,
     "metadata": {},
     "output_type": "execute_result"
    }
   ],
   "source": [
    "left"
   ],
   "metadata": {
    "collapsed": false,
    "pycharm": {
     "name": "#%%\n"
    }
   }
  },
  {
   "cell_type": "code",
   "execution_count": 44,
   "outputs": [
    {
     "data": {
      "text/plain": "[[6.4, 3.2, 4.5, 1.5, 'Iris-versicolor'],\n [6.9, 3.1, 4.9, 1.5, 'Iris-versicolor'],\n [5.5, 2.3, 4.0, 1.3, 'Iris-versicolor'],\n [6.5, 2.8, 4.6, 1.5, 'Iris-versicolor'],\n [4.9, 2.4, 3.3, 1.0, 'Iris-versicolor'],\n [6.6, 2.9, 4.6, 1.3, 'Iris-versicolor'],\n [5.2, 2.7, 3.9, 1.4, 'Iris-versicolor'],\n [5.0, 2.0, 3.5, 1.0, 'Iris-versicolor'],\n [5.9, 3.0, 4.2, 1.5, 'Iris-versicolor'],\n [6.0, 2.2, 4.0, 1.0, 'Iris-versicolor'],\n [6.1, 2.9, 4.7, 1.4, 'Iris-versicolor'],\n [6.7, 3.1, 4.4, 1.4, 'Iris-versicolor'],\n [5.6, 3.0, 4.5, 1.5, 'Iris-versicolor'],\n [5.8, 2.7, 4.1, 1.0, 'Iris-versicolor'],\n [6.2, 2.2, 4.5, 1.5, 'Iris-versicolor'],\n [5.6, 2.5, 3.9, 1.1, 'Iris-versicolor'],\n [5.9, 3.2, 4.8, 1.8, 'Iris-versicolor'],\n [6.1, 2.8, 4.0, 1.3, 'Iris-versicolor'],\n [6.3, 2.5, 4.9, 1.5, 'Iris-versicolor'],\n [6.1, 2.8, 4.7, 1.2, 'Iris-versicolor'],\n [6.6, 3.0, 4.4, 1.4, 'Iris-versicolor'],\n [6.8, 2.8, 4.8, 1.4, 'Iris-versicolor'],\n [6.7, 3.0, 5.0, 1.7, 'Iris-versicolor'],\n [6.0, 2.9, 4.5, 1.5, 'Iris-versicolor'],\n [5.7, 2.6, 3.5, 1.0, 'Iris-versicolor'],\n [5.5, 2.4, 3.7, 1.0, 'Iris-versicolor'],\n [6.0, 2.7, 5.1, 1.6, 'Iris-versicolor'],\n [5.4, 3.0, 4.5, 1.5, 'Iris-versicolor'],\n [6.0, 3.4, 4.5, 1.6, 'Iris-versicolor'],\n [6.7, 3.1, 4.7, 1.5, 'Iris-versicolor'],\n [6.3, 2.3, 4.4, 1.3, 'Iris-versicolor'],\n [5.6, 3.0, 4.1, 1.3, 'Iris-versicolor'],\n [5.5, 2.5, 4.0, 1.3, 'Iris-versicolor'],\n [5.5, 2.6, 4.4, 1.2, 'Iris-versicolor'],\n [6.1, 3.0, 4.6, 1.4, 'Iris-versicolor'],\n [5.8, 2.6, 4.0, 1.2, 'Iris-versicolor'],\n [5.0, 2.3, 3.3, 1.0, 'Iris-versicolor'],\n [5.6, 2.7, 4.2, 1.3, 'Iris-versicolor'],\n [5.7, 3.0, 4.2, 1.2, 'Iris-versicolor'],\n [5.7, 2.9, 4.2, 1.3, 'Iris-versicolor'],\n [6.2, 2.9, 4.3, 1.3, 'Iris-versicolor'],\n [5.1, 2.5, 3.0, 1.1, 'Iris-versicolor'],\n [6.3, 3.3, 6.0, 2.5, 'Iris-virginica'],\n [5.8, 2.7, 5.1, 1.9, 'Iris-virginica'],\n [7.1, 3.0, 5.9, 2.1, 'Iris-virginica'],\n [6.3, 2.9, 5.6, 1.8, 'Iris-virginica'],\n [7.6, 3.0, 6.6, 2.1, 'Iris-virginica'],\n [7.3, 2.9, 6.3, 1.8, 'Iris-virginica'],\n [6.7, 2.5, 5.8, 1.8, 'Iris-virginica'],\n [7.2, 3.6, 6.1, 2.5, 'Iris-virginica'],\n [6.5, 3.2, 5.1, 2.0, 'Iris-virginica'],\n [6.4, 2.7, 5.3, 1.9, 'Iris-virginica'],\n [6.8, 3.0, 5.5, 2.1, 'Iris-virginica'],\n [5.7, 2.5, 5.0, 2.0, 'Iris-virginica'],\n [5.8, 2.8, 5.1, 2.4, 'Iris-virginica'],\n [6.5, 3.0, 5.5, 1.8, 'Iris-virginica'],\n [7.7, 2.6, 6.9, 2.3, 'Iris-virginica'],\n [6.0, 2.2, 5.0, 1.5, 'Iris-virginica'],\n [6.9, 3.2, 5.7, 2.3, 'Iris-virginica'],\n [5.6, 2.8, 4.9, 2.0, 'Iris-virginica'],\n [7.7, 2.8, 6.7, 2.0, 'Iris-virginica'],\n [6.3, 2.7, 4.9, 1.8, 'Iris-virginica'],\n [7.2, 3.2, 6.0, 1.8, 'Iris-virginica'],\n [6.2, 2.8, 4.8, 1.8, 'Iris-virginica'],\n [6.1, 3.0, 4.9, 1.8, 'Iris-virginica'],\n [7.2, 3.0, 5.8, 1.6, 'Iris-virginica'],\n [7.4, 2.8, 6.1, 1.9, 'Iris-virginica'],\n [7.9, 3.8, 6.4, 2.0, 'Iris-virginica'],\n [6.4, 2.8, 5.6, 2.2, 'Iris-virginica'],\n [6.3, 2.8, 5.1, 1.5, 'Iris-virginica'],\n [6.1, 2.6, 5.6, 1.4, 'Iris-virginica'],\n [6.3, 3.4, 5.6, 2.4, 'Iris-virginica'],\n [6.4, 3.1, 5.5, 1.8, 'Iris-virginica'],\n [6.0, 3.0, 4.8, 1.8, 'Iris-virginica'],\n [6.9, 3.1, 5.4, 2.1, 'Iris-virginica'],\n [6.7, 3.1, 5.6, 2.4, 'Iris-virginica'],\n [6.9, 3.1, 5.1, 2.3, 'Iris-virginica'],\n [6.8, 3.2, 5.9, 2.3, 'Iris-virginica'],\n [6.3, 2.5, 5.0, 1.9, 'Iris-virginica'],\n [6.5, 3.0, 5.2, 2.0, 'Iris-virginica'],\n [6.2, 3.4, 5.4, 2.3, 'Iris-virginica'],\n [5.9, 3.0, 5.1, 1.8, 'Iris-virginica']]"
     },
     "execution_count": 44,
     "metadata": {},
     "output_type": "execute_result"
    }
   ],
   "source": [
    "right"
   ],
   "metadata": {
    "collapsed": false,
    "pycharm": {
     "name": "#%%\n"
    }
   }
  },
  {
   "cell_type": "code",
   "execution_count": 45,
   "outputs": [
    {
     "name": "stdout",
     "output_type": "stream",
     "text": [
      "38\n",
      "Iris-versicolor\n"
     ]
    }
   ],
   "source": [
    "counts = class_counts(train)\n",
    "print(counts['Iris-setosa'])\n",
    "print(max(counts,key = counts.get))"
   ],
   "metadata": {
    "collapsed": false,
    "pycharm": {
     "name": "#%%\n"
    }
   }
  },
  {
   "cell_type": "code",
   "execution_count": 46,
   "outputs": [],
   "source": [
    "trial = build_tree(train,iris_header,'gini')"
   ],
   "metadata": {
    "collapsed": false,
    "pycharm": {
     "name": "#%%\n"
    }
   }
  },
  {
   "cell_type": "code",
   "execution_count": 47,
   "outputs": [
    {
     "name": "stdout",
     "output_type": "stream",
     "text": [
      "is petal_length <= 1.9?\n",
      "--> Left:\n",
      "  Prediction:  Iris-setosa\n",
      "--> Right:\n",
      "  is petal_width <= 1.7?\n",
      "  --> Left:\n",
      "    is petal_length <= 4.9?\n",
      "    --> Left:\n",
      "      Prediction:  Iris-versicolor\n",
      "    --> Right:\n",
      "      is petal_width <= 1.5?\n",
      "      --> Left:\n",
      "        Prediction:  Iris-virginica\n",
      "      --> Right:\n",
      "        Prediction:  Iris-versicolor\n",
      "  --> Right:\n",
      "    Prediction:  Iris-virginica\n"
     ]
    }
   ],
   "source": [
    "print_tree(trial)"
   ],
   "metadata": {
    "collapsed": false,
    "pycharm": {
     "name": "#%%\n"
    }
   }
  },
  {
   "cell_type": "code",
   "execution_count": 48,
   "outputs": [
    {
     "data": {
      "text/plain": "True"
     },
     "execution_count": 48,
     "metadata": {},
     "output_type": "execute_result"
    }
   ],
   "source": [
    "type(trial.value) == list"
   ],
   "metadata": {
    "collapsed": false,
    "pycharm": {
     "name": "#%%\n"
    }
   }
  },
  {
   "cell_type": "code",
   "execution_count": 49,
   "outputs": [
    {
     "data": {
      "text/plain": "[[4.9, 3.0, 1.4, 0.2, 'Iris-setosa'],\n [5.4, 3.9, 1.7, 0.4, 'Iris-setosa'],\n [4.6, 3.4, 1.4, 0.3, 'Iris-setosa'],\n [5.0, 3.4, 1.5, 0.2, 'Iris-setosa'],\n [5.8, 4.0, 1.2, 0.2, 'Iris-setosa'],\n [5.7, 3.8, 1.7, 0.3, 'Iris-setosa'],\n [5.1, 3.3, 1.7, 0.5, 'Iris-setosa'],\n [4.8, 3.4, 1.9, 0.2, 'Iris-setosa'],\n [4.7, 3.2, 1.6, 0.2, 'Iris-setosa'],\n [4.4, 3.2, 1.3, 0.2, 'Iris-setosa'],\n [4.6, 3.2, 1.4, 0.2, 'Iris-setosa'],\n [5.0, 3.3, 1.4, 0.2, 'Iris-setosa'],\n [7.0, 3.2, 4.7, 1.4, 'Iris-versicolor'],\n [5.7, 2.8, 4.5, 1.3, 'Iris-versicolor'],\n [6.3, 3.3, 4.7, 1.6, 'Iris-versicolor'],\n [5.6, 2.9, 3.6, 1.3, 'Iris-versicolor'],\n [6.4, 2.9, 4.3, 1.3, 'Iris-versicolor'],\n [5.5, 2.4, 3.8, 1.1, 'Iris-versicolor'],\n [5.8, 2.7, 3.9, 1.2, 'Iris-versicolor'],\n [5.7, 2.8, 4.1, 1.3, 'Iris-versicolor'],\n [6.5, 3.0, 5.8, 2.2, 'Iris-virginica'],\n [4.9, 2.5, 4.5, 1.7, 'Iris-virginica'],\n [6.4, 3.2, 5.3, 2.3, 'Iris-virginica'],\n [7.7, 3.8, 6.7, 2.2, 'Iris-virginica'],\n [6.7, 3.3, 5.7, 2.1, 'Iris-virginica'],\n [6.4, 2.8, 5.6, 2.1, 'Iris-virginica'],\n [7.7, 3.0, 6.1, 2.3, 'Iris-virginica'],\n [5.8, 2.7, 5.1, 1.9, 'Iris-virginica'],\n [6.7, 3.3, 5.7, 2.5, 'Iris-virginica'],\n [6.7, 3.0, 5.2, 2.3, 'Iris-virginica']]"
     },
     "execution_count": 49,
     "metadata": {},
     "output_type": "execute_result"
    }
   ],
   "source": [
    "test"
   ],
   "metadata": {
    "collapsed": false,
    "pycharm": {
     "name": "#%%\n"
    }
   }
  },
  {
   "cell_type": "code",
   "execution_count": 50,
   "outputs": [
    {
     "data": {
      "text/plain": "[[4.9, 3.0, 1.4, 0.2, 'Iris-setosa'],\n [5.4, 3.9, 1.7, 0.4, 'Iris-setosa'],\n [4.6, 3.4, 1.4, 0.3, 'Iris-setosa'],\n [5.0, 3.4, 1.5, 0.2, 'Iris-setosa'],\n [5.8, 4.0, 1.2, 0.2, 'Iris-setosa'],\n [5.7, 3.8, 1.7, 0.3, 'Iris-setosa'],\n [5.1, 3.3, 1.7, 0.5, 'Iris-setosa'],\n [4.8, 3.4, 1.9, 0.2, 'Iris-setosa'],\n [4.7, 3.2, 1.6, 0.2, 'Iris-setosa'],\n [4.4, 3.2, 1.3, 0.2, 'Iris-setosa'],\n [4.6, 3.2, 1.4, 0.2, 'Iris-setosa'],\n [5.0, 3.3, 1.4, 0.2, 'Iris-setosa'],\n [7.0, 3.2, 4.7, 1.4, 'Iris-versicolor'],\n [5.7, 2.8, 4.5, 1.3, 'Iris-versicolor'],\n [6.3, 3.3, 4.7, 1.6, 'Iris-versicolor'],\n [5.6, 2.9, 3.6, 1.3, 'Iris-versicolor'],\n [6.4, 2.9, 4.3, 1.3, 'Iris-versicolor'],\n [5.5, 2.4, 3.8, 1.1, 'Iris-versicolor'],\n [5.8, 2.7, 3.9, 1.2, 'Iris-versicolor'],\n [5.7, 2.8, 4.1, 1.3, 'Iris-versicolor'],\n [6.5, 3.0, 5.8, 2.2, 'Iris-virginica'],\n [4.9, 2.5, 4.5, 1.7, 'Iris-virginica'],\n [6.4, 3.2, 5.3, 2.3, 'Iris-virginica'],\n [7.7, 3.8, 6.7, 2.2, 'Iris-virginica'],\n [6.7, 3.3, 5.7, 2.1, 'Iris-virginica'],\n [6.4, 2.8, 5.6, 2.1, 'Iris-virginica'],\n [7.7, 3.0, 6.1, 2.3, 'Iris-virginica'],\n [5.8, 2.7, 5.1, 1.9, 'Iris-virginica'],\n [6.7, 3.3, 5.7, 2.5, 'Iris-virginica'],\n [6.7, 3.0, 5.2, 2.3, 'Iris-virginica']]"
     },
     "execution_count": 50,
     "metadata": {},
     "output_type": "execute_result"
    }
   ],
   "source": [
    "test"
   ],
   "metadata": {
    "collapsed": false,
    "pycharm": {
     "name": "#%%\n"
    }
   }
  },
  {
   "cell_type": "code",
   "execution_count": 51,
   "outputs": [
    {
     "data": {
      "text/plain": "30"
     },
     "execution_count": 51,
     "metadata": {},
     "output_type": "execute_result"
    }
   ],
   "source": [
    "prediction = predict(trial,test)\n",
    "len(prediction)"
   ],
   "metadata": {
    "collapsed": false,
    "pycharm": {
     "name": "#%%\n"
    }
   }
  },
  {
   "cell_type": "code",
   "execution_count": 52,
   "outputs": [
    {
     "data": {
      "text/plain": "['Iris-setosa',\n 'Iris-setosa',\n 'Iris-setosa',\n 'Iris-setosa',\n 'Iris-setosa',\n 'Iris-setosa',\n 'Iris-setosa',\n 'Iris-setosa',\n 'Iris-setosa',\n 'Iris-setosa',\n 'Iris-setosa',\n 'Iris-setosa',\n 'Iris-versicolor',\n 'Iris-versicolor',\n 'Iris-versicolor',\n 'Iris-versicolor',\n 'Iris-versicolor',\n 'Iris-versicolor',\n 'Iris-versicolor',\n 'Iris-versicolor',\n 'Iris-virginica',\n 'Iris-virginica',\n 'Iris-virginica',\n 'Iris-virginica',\n 'Iris-virginica',\n 'Iris-virginica',\n 'Iris-virginica',\n 'Iris-virginica',\n 'Iris-virginica',\n 'Iris-virginica']"
     },
     "execution_count": 52,
     "metadata": {},
     "output_type": "execute_result"
    }
   ],
   "source": [
    "true_labels = list(point[-1] for point in test)\n",
    "true_labels"
   ],
   "metadata": {
    "collapsed": false,
    "pycharm": {
     "name": "#%%\n"
    }
   }
  },
  {
   "cell_type": "code",
   "execution_count": 53,
   "outputs": [
    {
     "name": "stdout",
     "output_type": "stream",
     "text": [
      "accuracy:  0.9666666666666667\n",
      "F1 Score:  0.9628482972136223\n",
      "precision:  0.9629629629629629\n",
      "recall:  0.9666666666666667\n"
     ]
    }
   ],
   "source": [
    "print('accuracy: ',metrics.accuracy_score(true_labels,prediction))\n",
    "print('F1 Score: ',metrics.f1_score(true_labels,prediction,average= 'macro'))\n",
    "print('precision: ',metrics.precision_score(true_labels,prediction,average= 'macro'))\n",
    "print('recall: ',metrics.recall_score(true_labels,prediction,average= 'macro'))"
   ],
   "metadata": {
    "collapsed": false,
    "pycharm": {
     "name": "#%%\n"
    }
   }
  },
  {
   "cell_type": "code",
   "execution_count": 54,
   "outputs": [
    {
     "name": "stdout",
     "output_type": "stream",
     "text": [
      "is Sex == female?\n",
      "--> Left:\n",
      "  is Pclass == 3.0?\n",
      "  --> Left:\n",
      "    is Fare <= 22.3583?\n",
      "    --> Left:\n",
      "      Prediction:  1\n",
      "    --> Right:\n",
      "      Prediction:  0\n",
      "  --> Right:\n",
      "    is Age <= 2.0?\n",
      "    --> Left:\n",
      "      Prediction:  0\n",
      "    --> Right:\n",
      "      Prediction:  1\n",
      "--> Right:\n",
      "  is Age <= 6.0?\n",
      "  --> Left:\n",
      "    is Pclass == 3.0?\n",
      "    --> Left:\n",
      "      Prediction:  0\n",
      "    --> Right:\n",
      "      Prediction:  1\n",
      "  --> Right:\n",
      "    Prediction:  0\n"
     ]
    }
   ],
   "source": [
    "titrain,titest = train_test_split(titanic_dataset)\n",
    "titree = build_tree(titrain,titanic_header,max_depth=3)\n",
    "print_tree(titree)"
   ],
   "metadata": {
    "collapsed": false,
    "pycharm": {
     "name": "#%%\n"
    }
   }
  },
  {
   "cell_type": "code",
   "execution_count": 55,
   "outputs": [
    {
     "name": "stdout",
     "output_type": "stream",
     "text": [
      "accuracy:  0.8314606741573034\n",
      "F1 Score:  0.8242727392391733\n",
      "precision:  0.8378488767869299\n",
      "recall:  0.8190819081908192\n"
     ]
    }
   ],
   "source": [
    "prediction = predict(titree,titest)\n",
    "true_labels = list(point[-1] for point in titest)\n",
    "print('accuracy: ',metrics.accuracy_score(true_labels,prediction))\n",
    "print('F1 Score: ',metrics.f1_score(true_labels,prediction,average= 'macro'))\n",
    "print('precision: ',metrics.precision_score(true_labels,prediction,average= 'macro'))\n",
    "print('recall: ',metrics.recall_score(true_labels,prediction,average= 'macro'))"
   ],
   "metadata": {
    "collapsed": false,
    "pycharm": {
     "name": "#%%\n"
    }
   }
  },
  {
   "cell_type": "code",
   "execution_count": 56,
   "outputs": [],
   "source": [
    "#train,test = train_test_split(iris_dataset)\n",
    "X = []\n",
    "y = []\n",
    "for point in train:\n",
    "  X.append(point[0:len(point)-1])\n",
    "  y.append(point[len(point)-1])"
   ],
   "metadata": {
    "collapsed": false,
    "pycharm": {
     "name": "#%%\n"
    }
   }
  },
  {
   "cell_type": "code",
   "execution_count": 57,
   "outputs": [
    {
     "data": {
      "text/plain": "[[5.1, 3.5, 1.4, 0.2],\n [4.7, 3.2, 1.3, 0.2],\n [4.6, 3.1, 1.5, 0.2],\n [5.0, 3.6, 1.4, 0.2],\n [4.4, 2.9, 1.4, 0.2],\n [4.9, 3.1, 1.5, 0.1],\n [5.4, 3.7, 1.5, 0.2],\n [4.8, 3.4, 1.6, 0.2],\n [4.8, 3.0, 1.4, 0.1],\n [4.3, 3.0, 1.1, 0.1],\n [5.7, 4.4, 1.5, 0.4],\n [5.4, 3.9, 1.3, 0.4],\n [5.1, 3.5, 1.4, 0.3],\n [5.1, 3.8, 1.5, 0.3],\n [5.4, 3.4, 1.7, 0.2],\n [5.1, 3.7, 1.5, 0.4],\n [4.6, 3.6, 1.0, 0.2],\n [5.0, 3.0, 1.6, 0.2],\n [5.0, 3.4, 1.6, 0.4],\n [5.2, 3.5, 1.5, 0.2],\n [5.2, 3.4, 1.4, 0.2],\n [4.8, 3.1, 1.6, 0.2],\n [5.4, 3.4, 1.5, 0.4],\n [5.2, 4.1, 1.5, 0.1],\n [5.5, 4.2, 1.4, 0.2],\n [4.9, 3.1, 1.5, 0.1],\n [5.0, 3.2, 1.2, 0.2],\n [5.5, 3.5, 1.3, 0.2],\n [4.9, 3.1, 1.5, 0.1],\n [4.4, 3.0, 1.3, 0.2],\n [5.1, 3.4, 1.5, 0.2],\n [5.0, 3.5, 1.3, 0.3],\n [4.5, 2.3, 1.3, 0.3],\n [5.0, 3.5, 1.6, 0.6],\n [5.1, 3.8, 1.9, 0.4],\n [4.8, 3.0, 1.4, 0.3],\n [5.1, 3.8, 1.6, 0.2],\n [5.3, 3.7, 1.5, 0.2],\n [6.4, 3.2, 4.5, 1.5],\n [6.9, 3.1, 4.9, 1.5],\n [5.5, 2.3, 4.0, 1.3],\n [6.5, 2.8, 4.6, 1.5],\n [4.9, 2.4, 3.3, 1.0],\n [6.6, 2.9, 4.6, 1.3],\n [5.2, 2.7, 3.9, 1.4],\n [5.0, 2.0, 3.5, 1.0],\n [5.9, 3.0, 4.2, 1.5],\n [6.0, 2.2, 4.0, 1.0],\n [6.1, 2.9, 4.7, 1.4],\n [6.7, 3.1, 4.4, 1.4],\n [5.6, 3.0, 4.5, 1.5],\n [5.8, 2.7, 4.1, 1.0],\n [6.2, 2.2, 4.5, 1.5],\n [5.6, 2.5, 3.9, 1.1],\n [5.9, 3.2, 4.8, 1.8],\n [6.1, 2.8, 4.0, 1.3],\n [6.3, 2.5, 4.9, 1.5],\n [6.1, 2.8, 4.7, 1.2],\n [6.6, 3.0, 4.4, 1.4],\n [6.8, 2.8, 4.8, 1.4],\n [6.7, 3.0, 5.0, 1.7],\n [6.0, 2.9, 4.5, 1.5],\n [5.7, 2.6, 3.5, 1.0],\n [5.5, 2.4, 3.7, 1.0],\n [6.0, 2.7, 5.1, 1.6],\n [5.4, 3.0, 4.5, 1.5],\n [6.0, 3.4, 4.5, 1.6],\n [6.7, 3.1, 4.7, 1.5],\n [6.3, 2.3, 4.4, 1.3],\n [5.6, 3.0, 4.1, 1.3],\n [5.5, 2.5, 4.0, 1.3],\n [5.5, 2.6, 4.4, 1.2],\n [6.1, 3.0, 4.6, 1.4],\n [5.8, 2.6, 4.0, 1.2],\n [5.0, 2.3, 3.3, 1.0],\n [5.6, 2.7, 4.2, 1.3],\n [5.7, 3.0, 4.2, 1.2],\n [5.7, 2.9, 4.2, 1.3],\n [6.2, 2.9, 4.3, 1.3],\n [5.1, 2.5, 3.0, 1.1],\n [6.3, 3.3, 6.0, 2.5],\n [5.8, 2.7, 5.1, 1.9],\n [7.1, 3.0, 5.9, 2.1],\n [6.3, 2.9, 5.6, 1.8],\n [7.6, 3.0, 6.6, 2.1],\n [7.3, 2.9, 6.3, 1.8],\n [6.7, 2.5, 5.8, 1.8],\n [7.2, 3.6, 6.1, 2.5],\n [6.5, 3.2, 5.1, 2.0],\n [6.4, 2.7, 5.3, 1.9],\n [6.8, 3.0, 5.5, 2.1],\n [5.7, 2.5, 5.0, 2.0],\n [5.8, 2.8, 5.1, 2.4],\n [6.5, 3.0, 5.5, 1.8],\n [7.7, 2.6, 6.9, 2.3],\n [6.0, 2.2, 5.0, 1.5],\n [6.9, 3.2, 5.7, 2.3],\n [5.6, 2.8, 4.9, 2.0],\n [7.7, 2.8, 6.7, 2.0],\n [6.3, 2.7, 4.9, 1.8],\n [7.2, 3.2, 6.0, 1.8],\n [6.2, 2.8, 4.8, 1.8],\n [6.1, 3.0, 4.9, 1.8],\n [7.2, 3.0, 5.8, 1.6],\n [7.4, 2.8, 6.1, 1.9],\n [7.9, 3.8, 6.4, 2.0],\n [6.4, 2.8, 5.6, 2.2],\n [6.3, 2.8, 5.1, 1.5],\n [6.1, 2.6, 5.6, 1.4],\n [6.3, 3.4, 5.6, 2.4],\n [6.4, 3.1, 5.5, 1.8],\n [6.0, 3.0, 4.8, 1.8],\n [6.9, 3.1, 5.4, 2.1],\n [6.7, 3.1, 5.6, 2.4],\n [6.9, 3.1, 5.1, 2.3],\n [6.8, 3.2, 5.9, 2.3],\n [6.3, 2.5, 5.0, 1.9],\n [6.5, 3.0, 5.2, 2.0],\n [6.2, 3.4, 5.4, 2.3],\n [5.9, 3.0, 5.1, 1.8]]"
     },
     "execution_count": 57,
     "metadata": {},
     "output_type": "execute_result"
    }
   ],
   "source": [
    "X"
   ],
   "metadata": {
    "collapsed": false,
    "pycharm": {
     "name": "#%%\n"
    }
   }
  },
  {
   "cell_type": "code",
   "execution_count": 58,
   "outputs": [
    {
     "data": {
      "text/plain": "['Iris-setosa',\n 'Iris-setosa',\n 'Iris-setosa',\n 'Iris-setosa',\n 'Iris-setosa',\n 'Iris-setosa',\n 'Iris-setosa',\n 'Iris-setosa',\n 'Iris-setosa',\n 'Iris-setosa',\n 'Iris-setosa',\n 'Iris-setosa',\n 'Iris-setosa',\n 'Iris-setosa',\n 'Iris-setosa',\n 'Iris-setosa',\n 'Iris-setosa',\n 'Iris-setosa',\n 'Iris-setosa',\n 'Iris-setosa',\n 'Iris-setosa',\n 'Iris-setosa',\n 'Iris-setosa',\n 'Iris-setosa',\n 'Iris-setosa',\n 'Iris-setosa',\n 'Iris-setosa',\n 'Iris-setosa',\n 'Iris-setosa',\n 'Iris-setosa',\n 'Iris-setosa',\n 'Iris-setosa',\n 'Iris-setosa',\n 'Iris-setosa',\n 'Iris-setosa',\n 'Iris-setosa',\n 'Iris-setosa',\n 'Iris-setosa',\n 'Iris-versicolor',\n 'Iris-versicolor',\n 'Iris-versicolor',\n 'Iris-versicolor',\n 'Iris-versicolor',\n 'Iris-versicolor',\n 'Iris-versicolor',\n 'Iris-versicolor',\n 'Iris-versicolor',\n 'Iris-versicolor',\n 'Iris-versicolor',\n 'Iris-versicolor',\n 'Iris-versicolor',\n 'Iris-versicolor',\n 'Iris-versicolor',\n 'Iris-versicolor',\n 'Iris-versicolor',\n 'Iris-versicolor',\n 'Iris-versicolor',\n 'Iris-versicolor',\n 'Iris-versicolor',\n 'Iris-versicolor',\n 'Iris-versicolor',\n 'Iris-versicolor',\n 'Iris-versicolor',\n 'Iris-versicolor',\n 'Iris-versicolor',\n 'Iris-versicolor',\n 'Iris-versicolor',\n 'Iris-versicolor',\n 'Iris-versicolor',\n 'Iris-versicolor',\n 'Iris-versicolor',\n 'Iris-versicolor',\n 'Iris-versicolor',\n 'Iris-versicolor',\n 'Iris-versicolor',\n 'Iris-versicolor',\n 'Iris-versicolor',\n 'Iris-versicolor',\n 'Iris-versicolor',\n 'Iris-versicolor',\n 'Iris-virginica',\n 'Iris-virginica',\n 'Iris-virginica',\n 'Iris-virginica',\n 'Iris-virginica',\n 'Iris-virginica',\n 'Iris-virginica',\n 'Iris-virginica',\n 'Iris-virginica',\n 'Iris-virginica',\n 'Iris-virginica',\n 'Iris-virginica',\n 'Iris-virginica',\n 'Iris-virginica',\n 'Iris-virginica',\n 'Iris-virginica',\n 'Iris-virginica',\n 'Iris-virginica',\n 'Iris-virginica',\n 'Iris-virginica',\n 'Iris-virginica',\n 'Iris-virginica',\n 'Iris-virginica',\n 'Iris-virginica',\n 'Iris-virginica',\n 'Iris-virginica',\n 'Iris-virginica',\n 'Iris-virginica',\n 'Iris-virginica',\n 'Iris-virginica',\n 'Iris-virginica',\n 'Iris-virginica',\n 'Iris-virginica',\n 'Iris-virginica',\n 'Iris-virginica',\n 'Iris-virginica',\n 'Iris-virginica',\n 'Iris-virginica',\n 'Iris-virginica',\n 'Iris-virginica']"
     },
     "execution_count": 58,
     "metadata": {},
     "output_type": "execute_result"
    }
   ],
   "source": [
    "y"
   ],
   "metadata": {
    "collapsed": false,
    "pycharm": {
     "name": "#%%\n"
    }
   }
  },
  {
   "cell_type": "code",
   "execution_count": 59,
   "outputs": [
    {
     "name": "stdout",
     "output_type": "stream",
     "text": [
      "|--- petal_width <= 0.80\n",
      "|   |--- class: Iris-setosa\n",
      "|--- petal_width >  0.80\n",
      "|   |--- petal_width <= 1.75\n",
      "|   |   |--- petal_length <= 4.95\n",
      "|   |   |   |--- class: Iris-versicolor\n",
      "|   |   |--- petal_length >  4.95\n",
      "|   |   |   |--- petal_width <= 1.55\n",
      "|   |   |   |   |--- class: Iris-virginica\n",
      "|   |   |   |--- petal_width >  1.55\n",
      "|   |   |   |   |--- sepal_length <= 6.95\n",
      "|   |   |   |   |   |--- class: Iris-versicolor\n",
      "|   |   |   |   |--- sepal_length >  6.95\n",
      "|   |   |   |   |   |--- class: Iris-virginica\n",
      "|   |--- petal_width >  1.75\n",
      "|   |   |--- petal_length <= 4.85\n",
      "|   |   |   |--- sepal_length <= 5.95\n",
      "|   |   |   |   |--- class: Iris-versicolor\n",
      "|   |   |   |--- sepal_length >  5.95\n",
      "|   |   |   |   |--- class: Iris-virginica\n",
      "|   |   |--- petal_length >  4.85\n",
      "|   |   |   |--- class: Iris-virginica\n",
      "\n"
     ]
    }
   ],
   "source": [
    "estimator = tree.DecisionTreeClassifier( random_state=0)\n",
    "estimator = estimator.fit(X,y)\n",
    "r = tree.export_text(estimator, feature_names=iris_header[:len(iris_header)-1])\n",
    "print(r)"
   ],
   "metadata": {
    "collapsed": false,
    "pycharm": {
     "name": "#%%\n"
    }
   }
  },
  {
   "cell_type": "code",
   "execution_count": 60,
   "outputs": [
    {
     "name": "stdout",
     "output_type": "stream",
     "text": [
      "accuracy:  0.9666666666666667\n",
      "F1 Score:  0.9628482972136223\n",
      "precision:  0.9629629629629629\n",
      "recall:  0.9666666666666667\n"
     ]
    }
   ],
   "source": [
    "TX,Ty = [],[]\n",
    "for point in test:\n",
    "    TX.append(point[0:len(point)-1])\n",
    "    Ty.append(point[len(point)-1])\n",
    "prediction= estimator.predict(TX)\n",
    "metrics.accuracy_score(Ty,prediction)\n",
    "print('accuracy: ',metrics.accuracy_score(Ty,prediction))\n",
    "print('F1 Score: ',metrics.f1_score(Ty,prediction,average= 'macro'))\n",
    "print('precision: ',metrics.precision_score(Ty,prediction,average= 'macro'))\n",
    "print('recall: ',metrics.recall_score(Ty,prediction,average= 'macro'))"
   ],
   "metadata": {
    "collapsed": false,
    "pycharm": {
     "name": "#%%\n"
    }
   }
  },
  {
   "cell_type": "code",
   "execution_count": 61,
   "outputs": [],
   "source": [
    "train,test = train_test_split(titanic_dataset)\n",
    "X = []\n",
    "y = []\n",
    "for point in train:\n",
    "    X.append(point[0:len(point)-1])\n",
    "    y.append(point[len(point)-1])"
   ],
   "metadata": {
    "collapsed": false,
    "pycharm": {
     "name": "#%%\n"
    }
   }
  },
  {
   "cell_type": "markdown",
   "source": [
    "Scikit Lear decision Trees cannot directly handle categorical Data"
   ],
   "metadata": {
    "collapsed": false
   }
  },
  {
   "cell_type": "code",
   "execution_count": 62,
   "outputs": [
    {
     "ename": "ValueError",
     "evalue": "could not convert string to float: 'male'",
     "output_type": "error",
     "traceback": [
      "\u001B[1;31m---------------------------------------------------------------------------\u001B[0m",
      "\u001B[1;31mValueError\u001B[0m                                Traceback (most recent call last)",
      "\u001B[1;32m~\\AppData\\Local\\Temp/ipykernel_3136/2286958449.py\u001B[0m in \u001B[0;36m<module>\u001B[1;34m\u001B[0m\n\u001B[0;32m      1\u001B[0m \u001B[0mestimator\u001B[0m \u001B[1;33m=\u001B[0m \u001B[0mtree\u001B[0m\u001B[1;33m.\u001B[0m\u001B[0mDecisionTreeClassifier\u001B[0m\u001B[1;33m(\u001B[0m\u001B[0mmax_depth\u001B[0m\u001B[1;33m=\u001B[0m\u001B[1;36m3\u001B[0m\u001B[1;33m,\u001B[0m \u001B[0mrandom_state\u001B[0m\u001B[1;33m=\u001B[0m\u001B[1;36m0\u001B[0m\u001B[1;33m)\u001B[0m\u001B[1;33m\u001B[0m\u001B[1;33m\u001B[0m\u001B[0m\n\u001B[1;32m----> 2\u001B[1;33m \u001B[0mestimator\u001B[0m \u001B[1;33m=\u001B[0m \u001B[0mestimator\u001B[0m\u001B[1;33m.\u001B[0m\u001B[0mfit\u001B[0m\u001B[1;33m(\u001B[0m\u001B[0mX\u001B[0m\u001B[1;33m,\u001B[0m\u001B[0my\u001B[0m\u001B[1;33m)\u001B[0m\u001B[1;33m\u001B[0m\u001B[1;33m\u001B[0m\u001B[0m\n\u001B[0m\u001B[0;32m      3\u001B[0m \u001B[0mr\u001B[0m \u001B[1;33m=\u001B[0m \u001B[0mtree\u001B[0m\u001B[1;33m.\u001B[0m\u001B[0mexport_text\u001B[0m\u001B[1;33m(\u001B[0m\u001B[0mestimator\u001B[0m\u001B[1;33m,\u001B[0m \u001B[0mfeature_names\u001B[0m\u001B[1;33m=\u001B[0m\u001B[0mtitanic_header\u001B[0m\u001B[1;33m[\u001B[0m\u001B[1;33m:\u001B[0m\u001B[0mlen\u001B[0m\u001B[1;33m(\u001B[0m\u001B[0mtitanic_header\u001B[0m\u001B[1;33m)\u001B[0m\u001B[1;33m-\u001B[0m\u001B[1;36m1\u001B[0m\u001B[1;33m]\u001B[0m\u001B[1;33m)\u001B[0m\u001B[1;33m\u001B[0m\u001B[1;33m\u001B[0m\u001B[0m\n\u001B[0;32m      4\u001B[0m \u001B[0mprint\u001B[0m\u001B[1;33m(\u001B[0m\u001B[0mr\u001B[0m\u001B[1;33m)\u001B[0m\u001B[1;33m\u001B[0m\u001B[1;33m\u001B[0m\u001B[0m\n",
      "\u001B[1;32mC:\\ProgramData\\Anaconda3\\lib\\site-packages\\sklearn\\tree\\_classes.py\u001B[0m in \u001B[0;36mfit\u001B[1;34m(self, X, y, sample_weight, check_input, X_idx_sorted)\u001B[0m\n\u001B[0;32m    901\u001B[0m         \"\"\"\n\u001B[0;32m    902\u001B[0m \u001B[1;33m\u001B[0m\u001B[0m\n\u001B[1;32m--> 903\u001B[1;33m         super().fit(\n\u001B[0m\u001B[0;32m    904\u001B[0m             \u001B[0mX\u001B[0m\u001B[1;33m,\u001B[0m \u001B[0my\u001B[0m\u001B[1;33m,\u001B[0m\u001B[1;33m\u001B[0m\u001B[1;33m\u001B[0m\u001B[0m\n\u001B[0;32m    905\u001B[0m             \u001B[0msample_weight\u001B[0m\u001B[1;33m=\u001B[0m\u001B[0msample_weight\u001B[0m\u001B[1;33m,\u001B[0m\u001B[1;33m\u001B[0m\u001B[1;33m\u001B[0m\u001B[0m\n",
      "\u001B[1;32mC:\\ProgramData\\Anaconda3\\lib\\site-packages\\sklearn\\tree\\_classes.py\u001B[0m in \u001B[0;36mfit\u001B[1;34m(self, X, y, sample_weight, check_input, X_idx_sorted)\u001B[0m\n\u001B[0;32m    155\u001B[0m             \u001B[0mcheck_X_params\u001B[0m \u001B[1;33m=\u001B[0m \u001B[0mdict\u001B[0m\u001B[1;33m(\u001B[0m\u001B[0mdtype\u001B[0m\u001B[1;33m=\u001B[0m\u001B[0mDTYPE\u001B[0m\u001B[1;33m,\u001B[0m \u001B[0maccept_sparse\u001B[0m\u001B[1;33m=\u001B[0m\u001B[1;34m\"csc\"\u001B[0m\u001B[1;33m)\u001B[0m\u001B[1;33m\u001B[0m\u001B[1;33m\u001B[0m\u001B[0m\n\u001B[0;32m    156\u001B[0m             \u001B[0mcheck_y_params\u001B[0m \u001B[1;33m=\u001B[0m \u001B[0mdict\u001B[0m\u001B[1;33m(\u001B[0m\u001B[0mensure_2d\u001B[0m\u001B[1;33m=\u001B[0m\u001B[1;32mFalse\u001B[0m\u001B[1;33m,\u001B[0m \u001B[0mdtype\u001B[0m\u001B[1;33m=\u001B[0m\u001B[1;32mNone\u001B[0m\u001B[1;33m)\u001B[0m\u001B[1;33m\u001B[0m\u001B[1;33m\u001B[0m\u001B[0m\n\u001B[1;32m--> 157\u001B[1;33m             X, y = self._validate_data(X, y,\n\u001B[0m\u001B[0;32m    158\u001B[0m                                        validate_separately=(check_X_params,\n\u001B[0;32m    159\u001B[0m                                                             check_y_params))\n",
      "\u001B[1;32mC:\\ProgramData\\Anaconda3\\lib\\site-packages\\sklearn\\base.py\u001B[0m in \u001B[0;36m_validate_data\u001B[1;34m(self, X, y, reset, validate_separately, **check_params)\u001B[0m\n\u001B[0;32m    428\u001B[0m                 \u001B[1;31m# :(\u001B[0m\u001B[1;33m\u001B[0m\u001B[1;33m\u001B[0m\u001B[0m\n\u001B[0;32m    429\u001B[0m                 \u001B[0mcheck_X_params\u001B[0m\u001B[1;33m,\u001B[0m \u001B[0mcheck_y_params\u001B[0m \u001B[1;33m=\u001B[0m \u001B[0mvalidate_separately\u001B[0m\u001B[1;33m\u001B[0m\u001B[1;33m\u001B[0m\u001B[0m\n\u001B[1;32m--> 430\u001B[1;33m                 \u001B[0mX\u001B[0m \u001B[1;33m=\u001B[0m \u001B[0mcheck_array\u001B[0m\u001B[1;33m(\u001B[0m\u001B[0mX\u001B[0m\u001B[1;33m,\u001B[0m \u001B[1;33m**\u001B[0m\u001B[0mcheck_X_params\u001B[0m\u001B[1;33m)\u001B[0m\u001B[1;33m\u001B[0m\u001B[1;33m\u001B[0m\u001B[0m\n\u001B[0m\u001B[0;32m    431\u001B[0m                 \u001B[0my\u001B[0m \u001B[1;33m=\u001B[0m \u001B[0mcheck_array\u001B[0m\u001B[1;33m(\u001B[0m\u001B[0my\u001B[0m\u001B[1;33m,\u001B[0m \u001B[1;33m**\u001B[0m\u001B[0mcheck_y_params\u001B[0m\u001B[1;33m)\u001B[0m\u001B[1;33m\u001B[0m\u001B[1;33m\u001B[0m\u001B[0m\n\u001B[0;32m    432\u001B[0m             \u001B[1;32melse\u001B[0m\u001B[1;33m:\u001B[0m\u001B[1;33m\u001B[0m\u001B[1;33m\u001B[0m\u001B[0m\n",
      "\u001B[1;32mC:\\ProgramData\\Anaconda3\\lib\\site-packages\\sklearn\\utils\\validation.py\u001B[0m in \u001B[0;36minner_f\u001B[1;34m(*args, **kwargs)\u001B[0m\n\u001B[0;32m     61\u001B[0m             \u001B[0mextra_args\u001B[0m \u001B[1;33m=\u001B[0m \u001B[0mlen\u001B[0m\u001B[1;33m(\u001B[0m\u001B[0margs\u001B[0m\u001B[1;33m)\u001B[0m \u001B[1;33m-\u001B[0m \u001B[0mlen\u001B[0m\u001B[1;33m(\u001B[0m\u001B[0mall_args\u001B[0m\u001B[1;33m)\u001B[0m\u001B[1;33m\u001B[0m\u001B[1;33m\u001B[0m\u001B[0m\n\u001B[0;32m     62\u001B[0m             \u001B[1;32mif\u001B[0m \u001B[0mextra_args\u001B[0m \u001B[1;33m<=\u001B[0m \u001B[1;36m0\u001B[0m\u001B[1;33m:\u001B[0m\u001B[1;33m\u001B[0m\u001B[1;33m\u001B[0m\u001B[0m\n\u001B[1;32m---> 63\u001B[1;33m                 \u001B[1;32mreturn\u001B[0m \u001B[0mf\u001B[0m\u001B[1;33m(\u001B[0m\u001B[1;33m*\u001B[0m\u001B[0margs\u001B[0m\u001B[1;33m,\u001B[0m \u001B[1;33m**\u001B[0m\u001B[0mkwargs\u001B[0m\u001B[1;33m)\u001B[0m\u001B[1;33m\u001B[0m\u001B[1;33m\u001B[0m\u001B[0m\n\u001B[0m\u001B[0;32m     64\u001B[0m \u001B[1;33m\u001B[0m\u001B[0m\n\u001B[0;32m     65\u001B[0m             \u001B[1;31m# extra_args > 0\u001B[0m\u001B[1;33m\u001B[0m\u001B[1;33m\u001B[0m\u001B[0m\n",
      "\u001B[1;32mC:\\ProgramData\\Anaconda3\\lib\\site-packages\\sklearn\\utils\\validation.py\u001B[0m in \u001B[0;36mcheck_array\u001B[1;34m(array, accept_sparse, accept_large_sparse, dtype, order, copy, force_all_finite, ensure_2d, allow_nd, ensure_min_samples, ensure_min_features, estimator)\u001B[0m\n\u001B[0;32m    671\u001B[0m                     \u001B[0marray\u001B[0m \u001B[1;33m=\u001B[0m \u001B[0marray\u001B[0m\u001B[1;33m.\u001B[0m\u001B[0mastype\u001B[0m\u001B[1;33m(\u001B[0m\u001B[0mdtype\u001B[0m\u001B[1;33m,\u001B[0m \u001B[0mcasting\u001B[0m\u001B[1;33m=\u001B[0m\u001B[1;34m\"unsafe\"\u001B[0m\u001B[1;33m,\u001B[0m \u001B[0mcopy\u001B[0m\u001B[1;33m=\u001B[0m\u001B[1;32mFalse\u001B[0m\u001B[1;33m)\u001B[0m\u001B[1;33m\u001B[0m\u001B[1;33m\u001B[0m\u001B[0m\n\u001B[0;32m    672\u001B[0m                 \u001B[1;32melse\u001B[0m\u001B[1;33m:\u001B[0m\u001B[1;33m\u001B[0m\u001B[1;33m\u001B[0m\u001B[0m\n\u001B[1;32m--> 673\u001B[1;33m                     \u001B[0marray\u001B[0m \u001B[1;33m=\u001B[0m \u001B[0mnp\u001B[0m\u001B[1;33m.\u001B[0m\u001B[0masarray\u001B[0m\u001B[1;33m(\u001B[0m\u001B[0marray\u001B[0m\u001B[1;33m,\u001B[0m \u001B[0morder\u001B[0m\u001B[1;33m=\u001B[0m\u001B[0morder\u001B[0m\u001B[1;33m,\u001B[0m \u001B[0mdtype\u001B[0m\u001B[1;33m=\u001B[0m\u001B[0mdtype\u001B[0m\u001B[1;33m)\u001B[0m\u001B[1;33m\u001B[0m\u001B[1;33m\u001B[0m\u001B[0m\n\u001B[0m\u001B[0;32m    674\u001B[0m             \u001B[1;32mexcept\u001B[0m \u001B[0mComplexWarning\u001B[0m \u001B[1;32mas\u001B[0m \u001B[0mcomplex_warning\u001B[0m\u001B[1;33m:\u001B[0m\u001B[1;33m\u001B[0m\u001B[1;33m\u001B[0m\u001B[0m\n\u001B[0;32m    675\u001B[0m                 raise ValueError(\"Complex data not supported\\n\"\n",
      "\u001B[1;32mC:\\ProgramData\\Anaconda3\\lib\\site-packages\\numpy\\core\\_asarray.py\u001B[0m in \u001B[0;36masarray\u001B[1;34m(a, dtype, order, like)\u001B[0m\n\u001B[0;32m    100\u001B[0m         \u001B[1;32mreturn\u001B[0m \u001B[0m_asarray_with_like\u001B[0m\u001B[1;33m(\u001B[0m\u001B[0ma\u001B[0m\u001B[1;33m,\u001B[0m \u001B[0mdtype\u001B[0m\u001B[1;33m=\u001B[0m\u001B[0mdtype\u001B[0m\u001B[1;33m,\u001B[0m \u001B[0morder\u001B[0m\u001B[1;33m=\u001B[0m\u001B[0morder\u001B[0m\u001B[1;33m,\u001B[0m \u001B[0mlike\u001B[0m\u001B[1;33m=\u001B[0m\u001B[0mlike\u001B[0m\u001B[1;33m)\u001B[0m\u001B[1;33m\u001B[0m\u001B[1;33m\u001B[0m\u001B[0m\n\u001B[0;32m    101\u001B[0m \u001B[1;33m\u001B[0m\u001B[0m\n\u001B[1;32m--> 102\u001B[1;33m     \u001B[1;32mreturn\u001B[0m \u001B[0marray\u001B[0m\u001B[1;33m(\u001B[0m\u001B[0ma\u001B[0m\u001B[1;33m,\u001B[0m \u001B[0mdtype\u001B[0m\u001B[1;33m,\u001B[0m \u001B[0mcopy\u001B[0m\u001B[1;33m=\u001B[0m\u001B[1;32mFalse\u001B[0m\u001B[1;33m,\u001B[0m \u001B[0morder\u001B[0m\u001B[1;33m=\u001B[0m\u001B[0morder\u001B[0m\u001B[1;33m)\u001B[0m\u001B[1;33m\u001B[0m\u001B[1;33m\u001B[0m\u001B[0m\n\u001B[0m\u001B[0;32m    103\u001B[0m \u001B[1;33m\u001B[0m\u001B[0m\n\u001B[0;32m    104\u001B[0m \u001B[1;33m\u001B[0m\u001B[0m\n",
      "\u001B[1;31mValueError\u001B[0m: could not convert string to float: 'male'"
     ]
    }
   ],
   "source": [
    "estimator = tree.DecisionTreeClassifier(max_depth=3, random_state=0)\n",
    "estimator = estimator.fit(X,y)\n",
    "r = tree.export_text(estimator, feature_names=titanic_header[:len(titanic_header)-1])\n",
    "print(r)"
   ],
   "metadata": {
    "collapsed": false,
    "pycharm": {
     "name": "#%%\n"
    }
   }
  },
  {
   "cell_type": "code",
   "execution_count": null,
   "outputs": [],
   "source": [
    "x = [1,2,3,1,1,2,1,0,4]\n",
    "y = set(x)\n",
    "y"
   ],
   "metadata": {
    "collapsed": false,
    "pycharm": {
     "name": "#%%\n"
    }
   }
  }
 ],
 "metadata": {
  "kernelspec": {
   "display_name": "Python 3",
   "language": "python",
   "name": "python3"
  },
  "language_info": {
   "codemirror_mode": {
    "name": "ipython",
    "version": 2
   },
   "file_extension": ".py",
   "mimetype": "text/x-python",
   "name": "python",
   "nbconvert_exporter": "python",
   "pygments_lexer": "ipython2",
   "version": "2.7.6"
  }
 },
 "nbformat": 4,
 "nbformat_minor": 0
}