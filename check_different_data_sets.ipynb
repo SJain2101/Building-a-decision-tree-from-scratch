{
 "cells": [
  {
   "cell_type": "code",
   "execution_count": 1,
   "metadata": {
    "collapsed": true
   },
   "outputs": [],
   "source": [
    "import sklearn as sk\n",
    "from sklearn import tree #for comparison\n",
    "from sklearn import metrics #performance metrics\n",
    "from decision_tree import *\n",
    "import time\n",
    "import memory_profiler\n",
    "from memory_profiler import memory_usage\n",
    "import pandas as pd"
   ]
  },
  {
   "cell_type": "code",
   "execution_count": 2,
   "outputs": [
    {
     "name": "stdout",
     "output_type": "stream",
     "text": [
      "version for scikit-learn 0.24.2\n",
      "version for memory_profiler 0.58.0\n",
      "version for pandas 1.3.4\n"
     ]
    }
   ],
   "source": [
    "print('version for scikit-learn',sk.__version__)\n",
    "print('version for memory_profiler',memory_profiler.__version__)\n",
    "print('version for pandas',pd.__version__)"
   ],
   "metadata": {
    "collapsed": false,
    "pycharm": {
     "name": "#%%\n"
    }
   }
  },
  {
   "cell_type": "code",
   "execution_count": 4,
   "outputs": [],
   "source": [
    "data_set = pd.Series(['iris','car','winequality','red','wine','cancer'])\n",
    "length = []\n",
    "num_attributes = []\n",
    "\n",
    "my_time = []\n",
    "my_memory = []\n",
    "my_accuracy = []\n",
    "my_precision = []\n",
    "my_recall = []\n",
    "my_F1 = []\n",
    "\n",
    "my_time_ent = []\n",
    "my_memory_ent = []\n",
    "my_accuracy_ent = []\n",
    "my_precision_ent = []\n",
    "my_recall_ent = []\n",
    "my_F1_ent = []\n",
    "\n",
    "sk_time = []\n",
    "sk_memory = []\n",
    "sk_accuracy = []\n",
    "sk_precision = []\n",
    "sk_recall = []\n",
    "sk_F1 = []\n",
    "\n",
    "sk_time_ent = []\n",
    "sk_memory_ent = []\n",
    "sk_accuracy_ent = []\n",
    "sk_precision_ent = []\n",
    "sk_recall_ent = []\n",
    "sk_F1_ent = []"
   ],
   "metadata": {
    "collapsed": false,
    "pycharm": {
     "name": "#%%\n"
    }
   }
  },
  {
   "cell_type": "code",
   "execution_count": 136,
   "outputs": [
    {
     "data": {
      "text/plain": "[]"
     },
     "execution_count": 136,
     "metadata": {},
     "output_type": "execute_result"
    }
   ],
   "source": [
    "sk_accuracy"
   ],
   "metadata": {
    "collapsed": false,
    "pycharm": {
     "name": "#%%\n"
    }
   }
  },
  {
   "cell_type": "markdown",
   "source": [
    "# Data Set 1"
   ],
   "metadata": {
    "collapsed": false
   }
  },
  {
   "cell_type": "code",
   "execution_count": 137,
   "outputs": [],
   "source": [
    "file = open('iris.data','r') #reading the iris data set. We are already aware that it is clean data set. No missing values.\n",
    "line = file.readline()\n",
    "iris_dataset = []\n",
    "\n",
    "datapoint = line.split(',')\n",
    "\n",
    "while len(line)> 1:\n",
    "    line = line[:len(line)-1] #remove the newline character from the end of the string\n",
    "    datapoint = line.split(',')\n",
    "    iris_dataset.append(datapoint)\n",
    "    line = file.readline()\n",
    "file.close()\n",
    "length.append(len(iris_dataset))\n",
    "num_attributes.append(len(iris_dataset[0])-1)"
   ],
   "metadata": {
    "collapsed": false,
    "pycharm": {
     "name": "#%%\n"
    }
   }
  },
  {
   "cell_type": "code",
   "execution_count": 138,
   "outputs": [],
   "source": [
    "for datapoint in iris_dataset: # data type conversion\n",
    "    for j in range(len(datapoint)-1):\n",
    "        datapoint[j] = float(datapoint[j])\n",
    "\n",
    "iris_header= ['sepal_length','sepal_width','petal_length','petal_width','labels']"
   ],
   "metadata": {
    "collapsed": false,
    "pycharm": {
     "name": "#%%\n"
    }
   }
  },
  {
   "cell_type": "code",
   "execution_count": 139,
   "outputs": [],
   "source": [
    "train,test = train_test_split(iris_dataset)"
   ],
   "metadata": {
    "collapsed": false,
    "pycharm": {
     "name": "#%%\n"
    }
   }
  },
  {
   "cell_type": "code",
   "execution_count": 140,
   "outputs": [],
   "source": [
    "X_train = list(point[0:len(point)-1] for point in train)\n",
    "y_train = list(point[-1] for point in train)\n",
    "X_test = list(point[0:len(point)-1] for point in test)\n",
    "y_test = list(point[-1] for point in test)"
   ],
   "metadata": {
    "collapsed": false,
    "pycharm": {
     "name": "#%%\n"
    }
   }
  },
  {
   "cell_type": "code",
   "execution_count": 141,
   "outputs": [
    {
     "name": "stdout",
     "output_type": "stream",
     "text": [
      "time:  0.2615717000007862\n",
      "is petal_length <= 2.5999999999999996?\n",
      "--> Left:\n",
      "  Prediction:  Iris-setosa\n",
      "--> Right:\n",
      "  is petal_length <= 4.75?\n",
      "  --> Left:\n",
      "    Prediction:  Iris-versicolor\n",
      "  --> Right:\n",
      "    is petal_width <= 1.75?\n",
      "    --> Left:\n",
      "      is petal_length <= 5.05?\n",
      "      --> Left:\n",
      "        Prediction:  Iris-versicolor\n",
      "      --> Right:\n",
      "        Prediction:  Iris-virginica\n",
      "    --> Right:\n",
      "      Prediction:  Iris-virginica\n"
     ]
    }
   ],
   "source": [
    "start1 = time.perf_counter()\n",
    "my_tree = build_tree(train,iris_header,'gini')\n",
    "my_tree_total = time.perf_counter() -start1\n",
    "print('time: ', my_tree_total)\n",
    "my_time.append(my_tree_total)\n",
    "print_tree(my_tree)"
   ],
   "metadata": {
    "collapsed": false,
    "pycharm": {
     "name": "#%%\n"
    }
   }
  },
  {
   "cell_type": "code",
   "execution_count": 142,
   "outputs": [
    {
     "name": "stdout",
     "output_type": "stream",
     "text": [
      "Memory usage:  92.80078125\n"
     ]
    }
   ],
   "source": [
    "mem_usage1 = memory_usage ((build_tree,(train,),{'header': iris_header, 'split_type':'gini'}))\n",
    "print('Memory usage: ',max(mem_usage1))\n",
    "my_memory.append(max(mem_usage1))"
   ],
   "metadata": {
    "collapsed": false,
    "pycharm": {
     "name": "#%%\n"
    }
   }
  },
  {
   "cell_type": "code",
   "execution_count": null,
   "outputs": [
    {
     "name": "stdout",
     "output_type": "stream",
     "text": [
      "accuracy:  0.9\n",
      "F1 Score:  0.9\n",
      "precision:  0.9\n",
      "recall:  0.9\n"
     ]
    }
   ],
   "source": [
    "my_test_prediction = predict(my_tree,test)\n",
    "print('accuracy: ',metrics.accuracy_score(y_test,my_test_prediction))\n",
    "my_accuracy.append(metrics.accuracy_score(y_test,my_test_prediction))\n",
    "\n",
    "print('F1 Score: ',metrics.f1_score(y_test,my_test_prediction,average= 'micro'))\n",
    "my_F1.append(metrics.f1_score(y_test,my_test_prediction,average= 'micro'))\n",
    "\n",
    "print('precision: ',metrics.precision_score(y_test,my_test_prediction,average= 'micro'))\n",
    "my_precision.append(metrics.precision_score(y_test,my_test_prediction,average= 'micro'))\n",
    "\n",
    "print('recall: ',metrics.recall_score(y_test,my_test_prediction,average= 'micro'))\n",
    "my_recall.append(metrics.recall_score(y_test,my_test_prediction,average= 'micro'))"
   ],
   "metadata": {
    "collapsed": false,
    "pycharm": {
     "name": "#%%\n",
     "is_executing": true
    }
   }
  },
  {
   "cell_type": "code",
   "execution_count": 144,
   "outputs": [
    {
     "name": "stdout",
     "output_type": "stream",
     "text": [
      "time:  0.013723700001719408\n",
      "is petal_length <= 2.5999999999999996?\n",
      "--> Left:\n",
      "  Prediction:  Iris-setosa\n",
      "--> Right:\n",
      "  is petal_length <= 4.75?\n",
      "  --> Left:\n",
      "    Prediction:  Iris-versicolor\n",
      "  --> Right:\n",
      "    is petal_width <= 1.75?\n",
      "    --> Left:\n",
      "      is petal_length <= 5.05?\n",
      "      --> Left:\n",
      "        Prediction:  Iris-versicolor\n",
      "      --> Right:\n",
      "        Prediction:  Iris-virginica\n",
      "    --> Right:\n",
      "      Prediction:  Iris-virginica\n"
     ]
    }
   ],
   "source": [
    "start1 = time.perf_counter()\n",
    "my_tree = build_tree(train,iris_header,'entropy')\n",
    "my_tree_total = time.perf_counter() -start1\n",
    "print('time: ', my_tree_total)\n",
    "my_time_ent.append(my_tree_total)\n",
    "print_tree(my_tree)"
   ],
   "metadata": {
    "collapsed": false,
    "pycharm": {
     "name": "#%%\n"
    }
   }
  },
  {
   "cell_type": "code",
   "execution_count": 144,
   "outputs": [
    {
     "ename": "KeyboardInterrupt",
     "evalue": "",
     "output_type": "error",
     "traceback": [
      "\u001B[1;31m---------------------------------------------------------------------------\u001B[0m",
      "\u001B[1;31mKeyboardInterrupt\u001B[0m                         Traceback (most recent call last)",
      "\u001B[1;32mC:\\ProgramData\\Anaconda3\\lib\\site-packages\\IPython\\core\\async_helpers.py\u001B[0m in \u001B[0;36m_pseudo_sync_runner\u001B[1;34m(coro)\u001B[0m\n\u001B[0;32m     66\u001B[0m     \"\"\"\n\u001B[0;32m     67\u001B[0m     \u001B[1;32mtry\u001B[0m\u001B[1;33m:\u001B[0m\u001B[1;33m\u001B[0m\u001B[1;33m\u001B[0m\u001B[0m\n\u001B[1;32m---> 68\u001B[1;33m         \u001B[0mcoro\u001B[0m\u001B[1;33m.\u001B[0m\u001B[0msend\u001B[0m\u001B[1;33m(\u001B[0m\u001B[1;32mNone\u001B[0m\u001B[1;33m)\u001B[0m\u001B[1;33m\u001B[0m\u001B[1;33m\u001B[0m\u001B[0m\n\u001B[0m\u001B[0;32m     69\u001B[0m     \u001B[1;32mexcept\u001B[0m \u001B[0mStopIteration\u001B[0m \u001B[1;32mas\u001B[0m \u001B[0mexc\u001B[0m\u001B[1;33m:\u001B[0m\u001B[1;33m\u001B[0m\u001B[1;33m\u001B[0m\u001B[0m\n\u001B[0;32m     70\u001B[0m         \u001B[1;32mreturn\u001B[0m \u001B[0mexc\u001B[0m\u001B[1;33m.\u001B[0m\u001B[0mvalue\u001B[0m\u001B[1;33m\u001B[0m\u001B[1;33m\u001B[0m\u001B[0m\n",
      "\u001B[1;32mC:\\ProgramData\\Anaconda3\\lib\\site-packages\\IPython\\core\\interactiveshell.py\u001B[0m in \u001B[0;36mrun_cell_async\u001B[1;34m(self, raw_cell, store_history, silent, shell_futures, transformed_cell, preprocessing_exc_tuple)\u001B[0m\n\u001B[0;32m   3093\u001B[0m         \u001B[1;31m# Store raw and processed history\u001B[0m\u001B[1;33m\u001B[0m\u001B[1;33m\u001B[0m\u001B[0m\n\u001B[0;32m   3094\u001B[0m         \u001B[1;32mif\u001B[0m \u001B[0mstore_history\u001B[0m\u001B[1;33m:\u001B[0m\u001B[1;33m\u001B[0m\u001B[1;33m\u001B[0m\u001B[0m\n\u001B[1;32m-> 3095\u001B[1;33m             self.history_manager.store_inputs(self.execution_count,\n\u001B[0m\u001B[0;32m   3096\u001B[0m                                               cell, raw_cell)\n\u001B[0;32m   3097\u001B[0m         \u001B[1;32mif\u001B[0m \u001B[1;32mnot\u001B[0m \u001B[0msilent\u001B[0m\u001B[1;33m:\u001B[0m\u001B[1;33m\u001B[0m\u001B[1;33m\u001B[0m\u001B[0m\n",
      "\u001B[1;32mC:\\ProgramData\\Anaconda3\\lib\\site-packages\\IPython\\core\\history.py\u001B[0m in \u001B[0;36mstore_inputs\u001B[1;34m(self, line_num, source, source_raw)\u001B[0m\n\u001B[0;32m    717\u001B[0m         \u001B[0mself\u001B[0m\u001B[1;33m.\u001B[0m\u001B[0minput_hist_raw\u001B[0m\u001B[1;33m.\u001B[0m\u001B[0mappend\u001B[0m\u001B[1;33m(\u001B[0m\u001B[0msource_raw\u001B[0m\u001B[1;33m)\u001B[0m\u001B[1;33m\u001B[0m\u001B[1;33m\u001B[0m\u001B[0m\n\u001B[0;32m    718\u001B[0m \u001B[1;33m\u001B[0m\u001B[0m\n\u001B[1;32m--> 719\u001B[1;33m         \u001B[1;32mwith\u001B[0m \u001B[0mself\u001B[0m\u001B[1;33m.\u001B[0m\u001B[0mdb_input_cache_lock\u001B[0m\u001B[1;33m:\u001B[0m\u001B[1;33m\u001B[0m\u001B[1;33m\u001B[0m\u001B[0m\n\u001B[0m\u001B[0;32m    720\u001B[0m             \u001B[0mself\u001B[0m\u001B[1;33m.\u001B[0m\u001B[0mdb_input_cache\u001B[0m\u001B[1;33m.\u001B[0m\u001B[0mappend\u001B[0m\u001B[1;33m(\u001B[0m\u001B[1;33m(\u001B[0m\u001B[0mline_num\u001B[0m\u001B[1;33m,\u001B[0m \u001B[0msource\u001B[0m\u001B[1;33m,\u001B[0m \u001B[0msource_raw\u001B[0m\u001B[1;33m)\u001B[0m\u001B[1;33m)\u001B[0m\u001B[1;33m\u001B[0m\u001B[1;33m\u001B[0m\u001B[0m\n\u001B[0;32m    721\u001B[0m             \u001B[1;31m# Trigger to flush cache and write to DB.\u001B[0m\u001B[1;33m\u001B[0m\u001B[1;33m\u001B[0m\u001B[0m\n",
      "\u001B[1;31mKeyboardInterrupt\u001B[0m: "
     ]
    }
   ],
   "source": [
    "mem_usage1 = memory_usage ((build_tree,(train,),{'header': iris_header, 'split_type':'entropy'}))\n",
    "print('Memory usage: ',max(mem_usage1))\n",
    "my_memory_ent.append(max(mem_usage1))"
   ],
   "metadata": {
    "collapsed": false,
    "pycharm": {
     "name": "#%%\n"
    }
   }
  },
  {
   "cell_type": "code",
   "execution_count": null,
   "outputs": [],
   "source": [
    "my_test_prediction = predict(my_tree,test)\n",
    "print('accuracy: ',metrics.accuracy_score(y_test,my_test_prediction))\n",
    "my_accuracy_ent.append(metrics.accuracy_score(y_test,my_test_prediction))\n",
    "\n",
    "print('F1 Score: ',metrics.f1_score(y_test,my_test_prediction,average= 'micro'))\n",
    "my_F1_ent.append(metrics.f1_score(y_test,my_test_prediction,average= 'micro'))\n",
    "\n",
    "print('precision: ',metrics.precision_score(y_test,my_test_prediction,average= 'micro'))\n",
    "my_precision_ent.append(metrics.precision_score(y_test,my_test_prediction,average= 'micro'))\n",
    "\n",
    "print('recall: ',metrics.recall_score(y_test,my_test_prediction,average= 'micro'))\n",
    "my_recall_ent.append(metrics.recall_score(y_test,my_test_prediction,average= 'micro'))"
   ],
   "metadata": {
    "collapsed": false,
    "pycharm": {
     "name": "#%%\n"
    }
   }
  },
  {
   "cell_type": "code",
   "execution_count": null,
   "outputs": [],
   "source": [
    "start2 = time.perf_counter()\n",
    "sklearn_tree = tree.DecisionTreeClassifier( random_state=0)\n",
    "sklearn_tree = sklearn_tree.fit(X_train,y_train)\n",
    "sklearn_total = time.perf_counter() - start2\n",
    "print('time: ',sklearn_total)\n",
    "sk_time.append(sklearn_total)\n",
    "r = tree.export_text(sklearn_tree, feature_names=iris_header[:len(iris_header)-1])\n",
    "print(r)"
   ],
   "metadata": {
    "collapsed": false,
    "pycharm": {
     "name": "#%%\n"
    }
   }
  },
  {
   "cell_type": "code",
   "execution_count": null,
   "outputs": [],
   "source": [
    "mem_usage2 = memory_usage ((sklearn_tree.fit,(X_train,y_train),{}))\n",
    "print('memory: ',max(mem_usage2))\n",
    "sk_memory.append(max(mem_usage2))"
   ],
   "metadata": {
    "collapsed": false,
    "pycharm": {
     "name": "#%%\n"
    }
   }
  },
  {
   "cell_type": "code",
   "execution_count": null,
   "outputs": [],
   "source": [
    "sklearn_test_prediction = sklearn_tree.predict(X_test)\n",
    "print('accuracy: ',metrics.accuracy_score(y_test,sklearn_test_prediction))\n",
    "sk_accuracy.append(metrics.accuracy_score(y_test,sklearn_test_prediction))\n",
    "\n",
    "print('F1 Score: ',metrics.f1_score(y_test,sklearn_test_prediction,average= 'micro'))\n",
    "sk_F1.append(metrics.f1_score(y_test,sklearn_test_prediction,average= 'micro'))\n",
    "\n",
    "print('precision: ',metrics.precision_score(y_test,sklearn_test_prediction,average= 'micro'))\n",
    "sk_precision.append(metrics.precision_score(y_test,sklearn_test_prediction,average= 'micro'))\n",
    "\n",
    "print('recall: ',metrics.recall_score(y_test,sklearn_test_prediction,average= 'micro'))\n",
    "sk_recall.append(metrics.recall_score(y_test,sklearn_test_prediction,average= 'micro'))\n",
    "sklearn_tree.score(X_test,y_test)"
   ],
   "metadata": {
    "collapsed": false,
    "pycharm": {
     "name": "#%%\n"
    }
   }
  },
  {
   "cell_type": "code",
   "execution_count": null,
   "outputs": [],
   "source": [
    "start2 = time.perf_counter()\n",
    "sklearn_tree = tree.DecisionTreeClassifier( random_state=0, criterion= 'entropy')\n",
    "sklearn_tree = sklearn_tree.fit(X_train,y_train)\n",
    "sklearn_total = time.perf_counter() - start2\n",
    "print('time: ',sklearn_total)\n",
    "sk_time_ent.append(sklearn_total)\n",
    "r = tree.export_text(sklearn_tree, feature_names=iris_header[:len(iris_header)-1])\n",
    "print(r)"
   ],
   "metadata": {
    "collapsed": false,
    "pycharm": {
     "name": "#%%\n"
    }
   }
  },
  {
   "cell_type": "code",
   "execution_count": null,
   "outputs": [],
   "source": [
    "mem_usage2 = memory_usage ((sklearn_tree.fit,(X_train,y_train),{}))\n",
    "print('memory: ',max(mem_usage2))\n",
    "sk_memory_ent.append(max(mem_usage2))"
   ],
   "metadata": {
    "collapsed": false,
    "pycharm": {
     "name": "#%%\n"
    }
   }
  },
  {
   "cell_type": "code",
   "execution_count": null,
   "outputs": [],
   "source": [
    "sklearn_test_prediction = sklearn_tree.predict(X_test)\n",
    "print('accuracy: ',metrics.accuracy_score(y_test,sklearn_test_prediction))\n",
    "sk_accuracy_ent.append(metrics.accuracy_score(y_test,sklearn_test_prediction))\n",
    "\n",
    "print('F1 Score: ',metrics.f1_score(y_test,sklearn_test_prediction,average= 'micro'))\n",
    "sk_F1_ent.append(metrics.f1_score(y_test,sklearn_test_prediction,average= 'micro'))\n",
    "\n",
    "print('precision: ',metrics.precision_score(y_test,sklearn_test_prediction,average= 'micro'))\n",
    "sk_precision_ent.append(metrics.precision_score(y_test,sklearn_test_prediction,average= 'micro'))\n",
    "\n",
    "print('recall: ',metrics.recall_score(y_test,sklearn_test_prediction,average= 'micro'))\n",
    "sk_recall_ent.append(metrics.recall_score(y_test,sklearn_test_prediction,average= 'micro'))\n",
    "sklearn_tree.score(X_test,y_test)"
   ],
   "metadata": {
    "collapsed": false,
    "pycharm": {
     "name": "#%%\n"
    }
   }
  },
  {
   "cell_type": "markdown",
   "source": [
    "# Dataset 2"
   ],
   "metadata": {
    "collapsed": false
   }
  },
  {
   "cell_type": "code",
   "execution_count": null,
   "outputs": [],
   "source": [
    "file = open('car.data','r') #reading the car data set. We are already aware that it is clean data set. No missing values.\n",
    "line = file.readline()\n",
    "car_dataset = []\n",
    "\n",
    "datapoint = line.split(',')\n",
    "\n",
    "while len(line)> 1:\n",
    "    line = line[:len(line)-1] #remove the newline character from the end of the string\n",
    "    datapoint = line.split(',')\n",
    "    car_dataset.append(datapoint)\n",
    "    line = file.readline()\n",
    "file.close()\n",
    "length.append(len(car_dataset))\n",
    "num_attributes.append(len(car_dataset[0])-1)"
   ],
   "metadata": {
    "collapsed": false,
    "pycharm": {
     "name": "#%%\n"
    }
   }
  },
  {
   "cell_type": "code",
   "execution_count": null,
   "outputs": [],
   "source": [
    "car_dataset   #no dataset conversion needed as all features are categorical"
   ],
   "metadata": {
    "collapsed": false,
    "pycharm": {
     "name": "#%%\n"
    }
   }
  },
  {
   "cell_type": "code",
   "execution_count": null,
   "outputs": [],
   "source": [
    "car_header = ['buying','maint','doors','persons','lug_boot','safety','labels']"
   ],
   "metadata": {
    "collapsed": false,
    "pycharm": {
     "name": "#%%\n"
    }
   }
  },
  {
   "cell_type": "markdown",
   "source": [],
   "metadata": {
    "collapsed": false
   }
  },
  {
   "cell_type": "code",
   "execution_count": null,
   "outputs": [],
   "source": [
    "train,test = train_test_split(car_dataset)"
   ],
   "metadata": {
    "collapsed": false,
    "pycharm": {
     "name": "#%%\n"
    }
   }
  },
  {
   "cell_type": "code",
   "execution_count": null,
   "outputs": [],
   "source": [
    "X_train = list(point[0:len(point)-1] for point in train)\n",
    "y_train = list(point[-1] for point in train)\n",
    "X_test = list(point[0:len(point)-1] for point in test)\n",
    "y_test = list(point[-1] for point in test)"
   ],
   "metadata": {
    "collapsed": false,
    "pycharm": {
     "name": "#%%\n"
    }
   }
  },
  {
   "cell_type": "code",
   "execution_count": null,
   "outputs": [],
   "source": [
    "start1 = time.perf_counter()\n",
    "my_tree = build_tree(train,car_header,'gini')\n",
    "my_tree_total = time.perf_counter() -start1\n",
    "print('time: ', my_tree_total)\n",
    "my_time.append(my_tree_total)\n",
    "print_tree(my_tree)"
   ],
   "metadata": {
    "collapsed": false,
    "pycharm": {
     "name": "#%%\n"
    }
   }
  },
  {
   "cell_type": "code",
   "execution_count": null,
   "outputs": [],
   "source": [
    "mem_usage3 = memory_usage ((build_tree,(train,),{'header': car_header, 'split_type':'gini'}))\n",
    "print('Memory usage: ',max(mem_usage3))\n",
    "my_memory.append(max(mem_usage3))"
   ],
   "metadata": {
    "collapsed": false,
    "pycharm": {
     "name": "#%%\n"
    }
   }
  },
  {
   "cell_type": "code",
   "execution_count": null,
   "outputs": [],
   "source": [
    "my_test_prediction = predict(my_tree,test)"
   ],
   "metadata": {
    "collapsed": false,
    "pycharm": {
     "name": "#%%\n"
    }
   }
  },
  {
   "cell_type": "code",
   "execution_count": null,
   "outputs": [],
   "source": [
    "print('accuracy: ',metrics.accuracy_score(y_test,my_test_prediction))\n",
    "my_accuracy.append(metrics.accuracy_score(y_test,my_test_prediction))\n",
    "\n",
    "print('F1 Score: ',metrics.f1_score(y_test,my_test_prediction,average= 'micro'))\n",
    "my_F1.append(metrics.f1_score(y_test,my_test_prediction,average= 'micro'))\n",
    "\n",
    "print('precision: ',metrics.precision_score(y_test,my_test_prediction,average= 'micro'))\n",
    "my_precision.append(metrics.precision_score(y_test,my_test_prediction,average= 'micro'))\n",
    "\n",
    "print('recall: ',metrics.recall_score(y_test,my_test_prediction,average= 'micro'))\n",
    "my_recall.append(metrics.recall_score(y_test,my_test_prediction,average= 'micro'))"
   ],
   "metadata": {
    "collapsed": false,
    "pycharm": {
     "name": "#%%\n"
    }
   }
  },
  {
   "cell_type": "code",
   "execution_count": null,
   "outputs": [],
   "source": [
    "start1 = time.perf_counter()\n",
    "my_tree = build_tree(train,car_header,'entropy')\n",
    "my_tree_total = time.perf_counter() -start1\n",
    "print('time: ', my_tree_total)\n",
    "my_time_ent.append(my_tree_total)\n",
    "print_tree(my_tree)"
   ],
   "metadata": {
    "collapsed": false,
    "pycharm": {
     "name": "#%%\n"
    }
   }
  },
  {
   "cell_type": "code",
   "execution_count": null,
   "outputs": [],
   "source": [
    "mem_usage1 = memory_usage ((build_tree,(train,),{'header': car_header, 'split_type':'entropy'}))\n",
    "print('Memory usage: ',max(mem_usage1))\n",
    "my_memory_ent.append(max(mem_usage1))"
   ],
   "metadata": {
    "collapsed": false,
    "pycharm": {
     "name": "#%%\n"
    }
   }
  },
  {
   "cell_type": "code",
   "execution_count": null,
   "outputs": [],
   "source": [
    "my_test_prediction = predict(my_tree,test)\n",
    "print('accuracy: ',metrics.accuracy_score(y_test,my_test_prediction))\n",
    "my_accuracy_ent.append(metrics.accuracy_score(y_test,my_test_prediction))\n",
    "\n",
    "print('F1 Score: ',metrics.f1_score(y_test,my_test_prediction,average= 'micro'))\n",
    "my_F1_ent.append(metrics.f1_score(y_test,my_test_prediction,average= 'micro'))\n",
    "\n",
    "print('precision: ',metrics.precision_score(y_test,my_test_prediction,average= 'micro'))\n",
    "my_precision_ent.append(metrics.precision_score(y_test,my_test_prediction,average= 'micro'))\n",
    "\n",
    "print('recall: ',metrics.recall_score(y_test,my_test_prediction,average= 'micro'))\n",
    "my_recall_ent.append(metrics.recall_score(y_test,my_test_prediction,average= 'micro'))"
   ],
   "metadata": {
    "collapsed": false,
    "pycharm": {
     "name": "#%%\n"
    }
   }
  },
  {
   "cell_type": "code",
   "execution_count": null,
   "outputs": [],
   "source": [
    "sk_time.append('NA')\n",
    "sk_memory.append('NA')\n",
    "sk_accuracy.append('NA')\n",
    "sk_precision.append('NA')\n",
    "sk_recall.append('NA')\n",
    "sk_F1.append('NA')"
   ],
   "metadata": {
    "collapsed": false,
    "pycharm": {
     "name": "#%%\n"
    }
   }
  },
  {
   "cell_type": "code",
   "execution_count": null,
   "outputs": [],
   "source": [
    "sk_time_ent.append('NA')\n",
    "sk_memory_ent.append('NA')\n",
    "sk_accuracy_ent.append('NA')\n",
    "sk_precision_ent.append('NA')\n",
    "sk_recall_ent.append('NA')\n",
    "sk_F1_ent.append('NA')"
   ],
   "metadata": {
    "collapsed": false,
    "pycharm": {
     "name": "#%%\n"
    }
   }
  },
  {
   "cell_type": "markdown",
   "source": [
    "# Data set 3"
   ],
   "metadata": {
    "collapsed": false
   }
  },
  {
   "cell_type": "code",
   "execution_count": null,
   "outputs": [],
   "source": [
    "file = open('adult.data','r') #reading the car data set. This data might contain missing values\n",
    "# Missing values are present as '?'. Also , is followed by a space. The code is written to take care of the space and to remove the records with missing values.\n",
    "line = file.readline()\n",
    "adult_dataset = []\n",
    "datapoint = line.split(', ')\n",
    "while len(line)> 1:\n",
    "    line = line[:len(line)-1] #remove the newline character from the end of the string\n",
    "    if '?' not in line:\n",
    "        datapoint = line.split(', ')\n",
    "        adult_dataset.append(datapoint)\n",
    "    line = file.readline()\n",
    "file.close()\n",
    "adult_header = ['age','workclass','fnlwgt', 'education','education-num', 'marital-status', 'occupation','relationship','race', 'sex', 'capital-gain','capital-loss', 'hours-per-week', 'native-country', 'labels' ]\n",
    "length.append(len(adult_dataset))\n",
    "num_attributes.append(len(adult_dataset[0])-1)"
   ],
   "metadata": {
    "collapsed": false,
    "pycharm": {
     "name": "#%%\n"
    }
   }
  },
  {
   "cell_type": "code",
   "execution_count": null,
   "outputs": [],
   "source": [
    "adult_dataset  #mix of continuous and categorical data so data_type conversion is needed."
   ],
   "metadata": {
    "collapsed": false,
    "pycharm": {
     "name": "#%%\n"
    }
   }
  },
  {
   "cell_type": "code",
   "execution_count": null,
   "outputs": [],
   "source": [
    "for datapoint in adult_dataset:\n",
    "    datapoint[adult_header.index('age')] = float(datapoint[adult_header.index('age')])\n",
    "    datapoint[adult_header.index('fnlwgt')] = float(datapoint[adult_header.index('fnlwgt')])\n",
    "    datapoint[adult_header.index('education-num')] =float(datapoint[adult_header.index('education-num')])\n",
    "    datapoint[adult_header.index('capital-gain')] = float(datapoint[adult_header.index('capital-gain')])\n",
    "    datapoint[adult_header.index('capital-loss')] = float(datapoint[adult_header.index('capital-loss')])\n",
    "    datapoint[adult_header.index('hours-per-week')] = float(datapoint[adult_header.index('hours-per-week')])"
   ],
   "metadata": {
    "collapsed": false,
    "pycharm": {
     "name": "#%%\n"
    }
   }
  },
  {
   "cell_type": "code",
   "execution_count": null,
   "outputs": [],
   "source": [
    "adult_dataset"
   ],
   "metadata": {
    "collapsed": false,
    "pycharm": {
     "name": "#%%\n"
    }
   }
  },
  {
   "cell_type": "code",
   "execution_count": null,
   "outputs": [],
   "source": [
    "feature_type = get_feature_type(adult_dataset) # Checking the feature type before running the algorithm\n",
    "feature_type\n"
   ],
   "metadata": {
    "collapsed": false,
    "pycharm": {
     "name": "#%%\n"
    }
   }
  },
  {
   "cell_type": "code",
   "execution_count": null,
   "outputs": [],
   "source": [
    "train,test = train_test_split(adult_dataset,test_size= 0.2)"
   ],
   "metadata": {
    "collapsed": false,
    "pycharm": {
     "name": "#%%\n"
    }
   }
  },
  {
   "cell_type": "code",
   "execution_count": null,
   "outputs": [],
   "source": [
    "X_train = list(point[0:len(point)-1] for point in train)\n",
    "y_train = list(point[-1] for point in train)\n",
    "X_test = list(point[0:len(point)-1] for point in test)\n",
    "y_test = list(point[-1] for point in test)"
   ],
   "metadata": {
    "collapsed": false,
    "pycharm": {
     "name": "#%%\n"
    }
   }
  },
  {
   "cell_type": "code",
   "execution_count": null,
   "outputs": [],
   "source": [
    "start1 = time.perf_counter()\n",
    "my_tree = build_tree(train,adult_header,'gini')\n",
    "my_tree_total = time.perf_counter() -start1\n",
    "print('time: ', my_tree_total)\n",
    "my_time.append(my_tree_total)\n",
    "print_tree(my_tree)"
   ],
   "metadata": {
    "collapsed": false,
    "pycharm": {
     "name": "#%%\n"
    }
   }
  },
  {
   "cell_type": "code",
   "execution_count": null,
   "outputs": [],
   "source": [
    "mem_usage4 = memory_usage ((build_tree,(train,),{'header': adult_header, 'split_type':'gini'}))\n",
    "print('Memory usage: ',max(mem_usage4))\n",
    "my_memory.append(max(mem_usage4))"
   ],
   "metadata": {
    "collapsed": false,
    "pycharm": {
     "name": "#%%\n"
    }
   }
  },
  {
   "cell_type": "code",
   "execution_count": null,
   "outputs": [],
   "source": [
    "my_test_prediction = predict(my_tree,test)"
   ],
   "metadata": {
    "collapsed": false,
    "pycharm": {
     "name": "#%%\n"
    }
   }
  },
  {
   "cell_type": "code",
   "execution_count": null,
   "outputs": [],
   "source": [
    "print('accuracy: ',metrics.accuracy_score(y_test,my_test_prediction))\n",
    "my_accuracy.append(metrics.accuracy_score(y_test,my_test_prediction))\n",
    "\n",
    "print('F1 Score: ',metrics.f1_score(y_test,my_test_prediction,average= 'micro'))\n",
    "my_F1.append(metrics.f1_score(y_test,my_test_prediction,average= 'micro'))\n",
    "\n",
    "print('precision: ',metrics.precision_score(y_test,my_test_prediction,average= 'micro'))\n",
    "my_precision.append(metrics.precision_score(y_test,my_test_prediction,average= 'micro'))\n",
    "\n",
    "print('recall: ',metrics.recall_score(y_test,my_test_prediction,average= 'micro'))\n",
    "my_recall.append(metrics.recall_score(y_test,my_test_prediction,average= 'micro'))"
   ],
   "metadata": {
    "collapsed": false,
    "pycharm": {
     "name": "#%%\n"
    }
   }
  },
  {
   "cell_type": "code",
   "execution_count": null,
   "outputs": [],
   "source": [
    "start1 = time.perf_counter()\n",
    "my_tree = build_tree(train,adult_header,'entropy')\n",
    "my_tree_total = time.perf_counter() -start1\n",
    "print('time: ', my_tree_total)\n",
    "my_time_ent.append(my_tree_total)\n",
    "print_tree(my_tree)"
   ],
   "metadata": {
    "collapsed": false,
    "pycharm": {
     "name": "#%%\n"
    }
   }
  },
  {
   "cell_type": "code",
   "execution_count": null,
   "outputs": [],
   "source": [
    "mem_usage1 = memory_usage ((build_tree,(train,),{'header': adult_header, 'split_type':'entropy'}))\n",
    "print('Memory usage: ',max(mem_usage1))\n",
    "my_memory_ent.append(max(mem_usage1))"
   ],
   "metadata": {
    "collapsed": false,
    "pycharm": {
     "name": "#%%\n"
    }
   }
  },
  {
   "cell_type": "code",
   "execution_count": null,
   "outputs": [],
   "source": [
    "my_test_prediction = predict(my_tree,test)\n",
    "print('accuracy: ',metrics.accuracy_score(y_test,my_test_prediction))\n",
    "my_accuracy_ent.append(metrics.accuracy_score(y_test,my_test_prediction))\n",
    "\n",
    "print('F1 Score: ',metrics.f1_score(y_test,my_test_prediction,average= 'micro'))\n",
    "my_F1_ent.append(metrics.f1_score(y_test,my_test_prediction,average= 'micro'))\n",
    "\n",
    "print('precision: ',metrics.precision_score(y_test,my_test_prediction,average= 'micro'))\n",
    "my_precision_ent.append(metrics.precision_score(y_test,my_test_prediction,average= 'micro'))\n",
    "\n",
    "print('recall: ',metrics.recall_score(y_test,my_test_prediction,average= 'micro'))\n",
    "my_recall_ent.append(metrics.recall_score(y_test,my_test_prediction,average= 'micro'))"
   ],
   "metadata": {
    "collapsed": false,
    "pycharm": {
     "name": "#%%\n"
    }
   }
  },
  {
   "cell_type": "code",
   "execution_count": null,
   "outputs": [],
   "source": [
    "sk_time.append('NA')\n",
    "sk_memory.append('NA')\n",
    "sk_accuracy.append('NA')\n",
    "sk_precision.append('NA')\n",
    "sk_recall.append('NA')\n",
    "sk_F1.append('NA')"
   ],
   "metadata": {
    "collapsed": false,
    "pycharm": {
     "name": "#%%\n"
    }
   }
  },
  {
   "cell_type": "code",
   "execution_count": null,
   "outputs": [],
   "source": [
    "sk_time_ent.append('NA')\n",
    "sk_memory_ent.append('NA')\n",
    "sk_accuracy_ent.append('NA')\n",
    "sk_precision_ent.append('NA')\n",
    "sk_recall_ent.append('NA')\n",
    "sk_F1_ent.append('NA')"
   ],
   "metadata": {
    "collapsed": false,
    "pycharm": {
     "name": "#%%\n"
    }
   }
  },
  {
   "cell_type": "markdown",
   "source": [
    "# Data set 4"
   ],
   "metadata": {
    "collapsed": false
   }
  },
  {
   "cell_type": "code",
   "execution_count": null,
   "outputs": [],
   "source": [
    "file = open('winequality-white.csv','r') #reading the car data set. This data might contain missing values\n",
    "# Missing values are present as '?'. Also , is followed by a space. The code is written to take care of the space and to remove the records with missing values.\n",
    "line = file.readline()\n",
    "#print(line)\n",
    "winequality_dataset = []\n",
    "datapoint = line.split(',')\n",
    "#print(datapoint)\n",
    "winequality_header = datapoint\n",
    "winequality_header[-1] = 'labels'\n",
    "line = file.readline()\n",
    "while len(line)> 1:\n",
    "    line = line[:len(line)-1] #remove the newline character from the end of the string\n",
    "    datapoint = line.split(',')\n",
    "    winequality_dataset.append(datapoint)\n",
    "    line = file.readline()\n",
    "file.close()\n",
    "length.append(len(winequality_dataset))\n",
    "num_attributes.append(len(winequality_dataset[0])-1)"
   ],
   "metadata": {
    "collapsed": false,
    "pycharm": {
     "name": "#%%\n"
    }
   }
  },
  {
   "cell_type": "code",
   "execution_count": null,
   "outputs": [],
   "source": [
    "winequality_header"
   ],
   "metadata": {
    "collapsed": false,
    "pycharm": {
     "name": "#%%\n"
    }
   }
  },
  {
   "cell_type": "code",
   "execution_count": null,
   "outputs": [],
   "source": [
    "len(winequality_dataset)"
   ],
   "metadata": {
    "collapsed": false,
    "pycharm": {
     "name": "#%%\n"
    }
   }
  },
  {
   "cell_type": "code",
   "execution_count": null,
   "outputs": [],
   "source": [
    "for datapoint in winequality_dataset: # data type conversion\n",
    "    for j in range(len(datapoint)-1):\n",
    "        datapoint[j] = float(datapoint[j])"
   ],
   "metadata": {
    "collapsed": false,
    "pycharm": {
     "name": "#%%\n"
    }
   }
  },
  {
   "cell_type": "code",
   "execution_count": null,
   "outputs": [],
   "source": [
    "winequality_dataset"
   ],
   "metadata": {
    "collapsed": false,
    "pycharm": {
     "name": "#%%\n"
    }
   }
  },
  {
   "cell_type": "code",
   "execution_count": null,
   "outputs": [],
   "source": [
    "train,test = train_test_split(winequality_dataset)"
   ],
   "metadata": {
    "collapsed": false,
    "pycharm": {
     "name": "#%%\n"
    }
   }
  },
  {
   "cell_type": "code",
   "execution_count": null,
   "outputs": [],
   "source": [
    "X_train = list(point[0:len(point)-1] for point in train)\n",
    "y_train = list(point[-1] for point in train)\n",
    "X_test = list(point[0:len(point)-1] for point in test)\n",
    "y_test = list(point[-1] for point in test)"
   ],
   "metadata": {
    "collapsed": false,
    "pycharm": {
     "name": "#%%\n"
    }
   }
  },
  {
   "cell_type": "code",
   "execution_count": null,
   "outputs": [],
   "source": [
    "start1 = time.perf_counter()\n",
    "my_tree = build_tree(train,winequality_header,'gini')\n",
    "my_tree_total = time.perf_counter() -start1\n",
    "print('time: ', my_tree_total)\n",
    "my_time.append(my_tree_total)\n",
    "print_tree(my_tree)"
   ],
   "metadata": {
    "collapsed": false,
    "pycharm": {
     "name": "#%%\n"
    }
   }
  },
  {
   "cell_type": "code",
   "execution_count": null,
   "outputs": [],
   "source": [
    "mem_usage5 = memory_usage ((build_tree,(train,),{'header': winequality_header, 'split_type':'gini'}))\n",
    "print('Memory usage: ',max(mem_usage5))\n",
    "my_memory.append(max(mem_usage5))"
   ],
   "metadata": {
    "collapsed": false,
    "pycharm": {
     "name": "#%%\n"
    }
   }
  },
  {
   "cell_type": "code",
   "execution_count": null,
   "outputs": [],
   "source": [
    "my_test_prediction = predict(my_tree,test)"
   ],
   "metadata": {
    "collapsed": false,
    "pycharm": {
     "name": "#%%\n"
    }
   }
  },
  {
   "cell_type": "code",
   "execution_count": null,
   "outputs": [],
   "source": [
    "my_test_prediction"
   ],
   "metadata": {
    "collapsed": false,
    "pycharm": {
     "name": "#%%\n"
    }
   }
  },
  {
   "cell_type": "code",
   "execution_count": null,
   "outputs": [],
   "source": [
    "print('accuracy: ',metrics.accuracy_score(y_test,my_test_prediction))\n",
    "my_accuracy.append(metrics.accuracy_score(y_test,my_test_prediction))\n",
    "\n",
    "print('F1 Score: ',metrics.f1_score(y_test,my_test_prediction,average= 'micro'))\n",
    "my_F1.append(metrics.f1_score(y_test,my_test_prediction,average= 'micro'))\n",
    "\n",
    "print('precision: ',metrics.precision_score(y_test,my_test_prediction,average= 'micro'))\n",
    "my_precision.append(metrics.precision_score(y_test,my_test_prediction,average= 'micro'))\n",
    "\n",
    "print('recall: ',metrics.recall_score(y_test,my_test_prediction,average= 'micro'))\n",
    "my_recall.append(metrics.recall_score(y_test,my_test_prediction,average= 'micro'))"
   ],
   "metadata": {
    "collapsed": false,
    "pycharm": {
     "name": "#%%\n"
    }
   }
  },
  {
   "cell_type": "code",
   "execution_count": null,
   "outputs": [],
   "source": [
    "start1 = time.perf_counter()\n",
    "my_tree = build_tree(train,winequality_header,'entropy')\n",
    "my_tree_total = time.perf_counter() -start1\n",
    "print('time: ', my_tree_total)\n",
    "my_time_ent.append(my_tree_total)\n",
    "print_tree(my_tree)"
   ],
   "metadata": {
    "collapsed": false,
    "pycharm": {
     "name": "#%%\n"
    }
   }
  },
  {
   "cell_type": "code",
   "execution_count": null,
   "outputs": [],
   "source": [
    "mem_usage1 = memory_usage ((build_tree,(train,),{'header': winequality_header, 'split_type':'entropy'}))\n",
    "print('Memory usage: ',max(mem_usage1))\n",
    "my_memory_ent.append(max(mem_usage1))"
   ],
   "metadata": {
    "collapsed": false,
    "pycharm": {
     "name": "#%%\n"
    }
   }
  },
  {
   "cell_type": "code",
   "execution_count": null,
   "outputs": [],
   "source": [
    "my_test_prediction = predict(my_tree,test)\n",
    "print('accuracy: ',metrics.accuracy_score(y_test,my_test_prediction))\n",
    "my_accuracy_ent.append(metrics.accuracy_score(y_test,my_test_prediction))\n",
    "\n",
    "print('F1 Score: ',metrics.f1_score(y_test,my_test_prediction,average= 'micro'))\n",
    "my_F1_ent.append(metrics.f1_score(y_test,my_test_prediction,average= 'micro'))\n",
    "\n",
    "print('precision: ',metrics.precision_score(y_test,my_test_prediction,average= 'micro'))\n",
    "my_precision_ent.append(metrics.precision_score(y_test,my_test_prediction,average= 'micro'))\n",
    "\n",
    "print('recall: ',metrics.recall_score(y_test,my_test_prediction,average= 'micro'))\n",
    "my_recall_ent.append(metrics.recall_score(y_test,my_test_prediction,average= 'micro'))"
   ],
   "metadata": {
    "collapsed": false,
    "pycharm": {
     "name": "#%%\n"
    }
   }
  },
  {
   "cell_type": "code",
   "execution_count": null,
   "outputs": [],
   "source": [
    "start2 = time.perf_counter()\n",
    "sklearn_tree = tree.DecisionTreeClassifier( random_state=0)\n",
    "sklearn_tree = sklearn_tree.fit(X_train,y_train)\n",
    "sklearn_total = time.perf_counter() - start2\n",
    "print('time: ',sklearn_total)\n",
    "sk_time.append(sklearn_total)\n",
    "r = tree.export_text(sklearn_tree, feature_names=winequality_header[:len(winequality_header)-1])\n",
    "print(r)"
   ],
   "metadata": {
    "collapsed": false,
    "pycharm": {
     "name": "#%%\n"
    }
   }
  },
  {
   "cell_type": "code",
   "execution_count": null,
   "outputs": [],
   "source": [
    "mem_usage6 = memory_usage ((sklearn_tree.fit,(X_train,y_train),{}))\n",
    "print('memory: ',max(mem_usage6))\n",
    "sk_memory.append(max(mem_usage6))"
   ],
   "metadata": {
    "collapsed": false,
    "pycharm": {
     "name": "#%%\n"
    }
   }
  },
  {
   "cell_type": "code",
   "execution_count": null,
   "outputs": [],
   "source": [
    "sklearn_test_prediction = sklearn_tree.predict(X_test)\n",
    "print('accuracy: ',metrics.accuracy_score(y_test,sklearn_test_prediction))\n",
    "sk_accuracy.append(metrics.accuracy_score(y_test,sklearn_test_prediction))\n",
    "\n",
    "print('F1 Score: ',metrics.f1_score(y_test,sklearn_test_prediction,average= 'micro'))\n",
    "sk_F1.append(metrics.f1_score(y_test,sklearn_test_prediction,average= 'micro'))\n",
    "\n",
    "print('precision: ',metrics.precision_score(y_test,sklearn_test_prediction,average= 'micro'))\n",
    "sk_precision.append(metrics.precision_score(y_test,sklearn_test_prediction,average= 'micro'))\n",
    "\n",
    "print('recall: ',metrics.recall_score(y_test,sklearn_test_prediction,average= 'micro'))\n",
    "sk_recall.append(metrics.recall_score(y_test,sklearn_test_prediction,average= 'micro'))"
   ],
   "metadata": {
    "collapsed": false,
    "pycharm": {
     "name": "#%%\n"
    }
   }
  },
  {
   "cell_type": "code",
   "execution_count": null,
   "outputs": [],
   "source": [
    "start2 = time.perf_counter()\n",
    "sklearn_tree = tree.DecisionTreeClassifier( random_state=0, criterion= 'entropy')\n",
    "sklearn_tree = sklearn_tree.fit(X_train,y_train)\n",
    "sklearn_total = time.perf_counter() - start2\n",
    "print('time: ',sklearn_total)\n",
    "sk_time_ent.append(sklearn_total)\n",
    "r = tree.export_text(sklearn_tree, feature_names=winequality_header[:len(winequality_header)-1])\n",
    "print(r)"
   ],
   "metadata": {
    "collapsed": false,
    "pycharm": {
     "name": "#%%\n"
    }
   }
  },
  {
   "cell_type": "code",
   "execution_count": null,
   "outputs": [],
   "source": [
    "mem_usage2 = memory_usage ((sklearn_tree.fit,(X_train,y_train),{}))\n",
    "print('memory: ',max(mem_usage2))\n",
    "sk_memory_ent.append(max(mem_usage2))"
   ],
   "metadata": {
    "collapsed": false,
    "pycharm": {
     "name": "#%%\n"
    }
   }
  },
  {
   "cell_type": "code",
   "execution_count": null,
   "outputs": [],
   "source": [
    "sklearn_test_prediction = sklearn_tree.predict(X_test)\n",
    "print('accuracy: ',metrics.accuracy_score(y_test,sklearn_test_prediction))\n",
    "sk_accuracy_ent.append(metrics.accuracy_score(y_test,sklearn_test_prediction))\n",
    "\n",
    "print('F1 Score: ',metrics.f1_score(y_test,sklearn_test_prediction,average= 'micro'))\n",
    "sk_F1_ent.append(metrics.f1_score(y_test,sklearn_test_prediction,average= 'micro'))\n",
    "\n",
    "print('precision: ',metrics.precision_score(y_test,sklearn_test_prediction,average= 'micro'))\n",
    "sk_precision_ent.append(metrics.precision_score(y_test,sklearn_test_prediction,average= 'micro'))\n",
    "\n",
    "print('recall: ',metrics.recall_score(y_test,sklearn_test_prediction,average= 'micro'))\n",
    "sk_recall_ent.append(metrics.recall_score(y_test,sklearn_test_prediction,average= 'micro'))\n",
    "sklearn_tree.score(X_test,y_test)"
   ],
   "metadata": {
    "collapsed": false,
    "pycharm": {
     "name": "#%%\n"
    }
   }
  },
  {
   "cell_type": "markdown",
   "source": [
    "# Data set 5"
   ],
   "metadata": {
    "collapsed": false
   }
  },
  {
   "cell_type": "code",
   "execution_count": null,
   "outputs": [],
   "source": [
    "file = open('winequality-red.csv','r') #reading the car data set. This data might contain missing values\n",
    "# Missing values are present as '?'. Also , is followed by a space. The code is written to take care of the space and to remove the records with missing values.\n",
    "line = file.readline()\n",
    "#print(line)\n",
    "red_dataset = []\n",
    "datapoint = line.split(',')\n",
    "#print(datapoint)\n",
    "red_header = datapoint\n",
    "red_header[-1] = 'labels'\n",
    "line = file.readline()\n",
    "while len(line)> 1:\n",
    "    line = line[:len(line)-1] #remove the newline character from the end of the string\n",
    "    datapoint = line.split(',')\n",
    "    red_dataset.append(datapoint)\n",
    "    line = file.readline()\n",
    "file.close()\n",
    "length.append(len(red_dataset))\n",
    "num_attributes.append(len(red_dataset[0])-1)"
   ],
   "metadata": {
    "collapsed": false,
    "pycharm": {
     "name": "#%%\n"
    }
   }
  },
  {
   "cell_type": "code",
   "execution_count": null,
   "outputs": [],
   "source": [
    "red_header"
   ],
   "metadata": {
    "collapsed": false,
    "pycharm": {
     "name": "#%%\n"
    }
   }
  },
  {
   "cell_type": "code",
   "execution_count": null,
   "outputs": [],
   "source": [
    "len(red_dataset)"
   ],
   "metadata": {
    "collapsed": false,
    "pycharm": {
     "name": "#%%\n"
    }
   }
  },
  {
   "cell_type": "code",
   "execution_count": null,
   "outputs": [],
   "source": [
    "for datapoint in red_dataset: # data type conversion\n",
    "    for j in range(len(datapoint)-1):\n",
    "        datapoint[j] = float(datapoint[j])"
   ],
   "metadata": {
    "collapsed": false,
    "pycharm": {
     "name": "#%%\n"
    }
   }
  },
  {
   "cell_type": "code",
   "execution_count": null,
   "outputs": [],
   "source": [
    "red_dataset"
   ],
   "metadata": {
    "collapsed": false,
    "pycharm": {
     "name": "#%%\n"
    }
   }
  },
  {
   "cell_type": "code",
   "execution_count": null,
   "outputs": [],
   "source": [
    "train,test = train_test_split(red_dataset)"
   ],
   "metadata": {
    "collapsed": false,
    "pycharm": {
     "name": "#%%\n"
    }
   }
  },
  {
   "cell_type": "code",
   "execution_count": null,
   "outputs": [],
   "source": [
    "X_train = list(point[0:len(point)-1] for point in train)\n",
    "y_train = list(point[-1] for point in train)\n",
    "X_test = list(point[0:len(point)-1] for point in test)\n",
    "y_test = list(point[-1] for point in test)"
   ],
   "metadata": {
    "collapsed": false,
    "pycharm": {
     "name": "#%%\n"
    }
   }
  },
  {
   "cell_type": "code",
   "execution_count": null,
   "outputs": [],
   "source": [
    "start1 = time.perf_counter()\n",
    "my_tree = build_tree(train,red_header,'gini')\n",
    "my_tree_total = time.perf_counter() -start1\n",
    "print('time: ', my_tree_total)\n",
    "my_time.append(my_tree_total)\n",
    "print_tree(my_tree)"
   ],
   "metadata": {
    "collapsed": false,
    "pycharm": {
     "name": "#%%\n"
    }
   }
  },
  {
   "cell_type": "code",
   "execution_count": null,
   "outputs": [],
   "source": [
    "mem_usage5 = memory_usage ((build_tree,(train,),{'header': red_header, 'split_type':'gini'}))\n",
    "print('Memory usage: ',max(mem_usage5))\n",
    "my_memory.append(max(mem_usage5))"
   ],
   "metadata": {
    "collapsed": false,
    "pycharm": {
     "name": "#%%\n"
    }
   }
  },
  {
   "cell_type": "code",
   "execution_count": null,
   "outputs": [],
   "source": [
    "my_test_prediction = predict(my_tree,test)"
   ],
   "metadata": {
    "collapsed": false,
    "pycharm": {
     "name": "#%%\n"
    }
   }
  },
  {
   "cell_type": "code",
   "execution_count": null,
   "outputs": [],
   "source": [
    "print('accuracy: ',metrics.accuracy_score(y_test,my_test_prediction))\n",
    "my_accuracy.append(metrics.accuracy_score(y_test,my_test_prediction))\n",
    "\n",
    "print('F1 Score: ',metrics.f1_score(y_test,my_test_prediction,average= 'micro'))\n",
    "my_F1.append(metrics.f1_score(y_test,my_test_prediction,average= 'micro'))\n",
    "\n",
    "print('precision: ',metrics.precision_score(y_test,my_test_prediction,average= 'micro'))\n",
    "my_precision.append(metrics.precision_score(y_test,my_test_prediction,average= 'micro'))\n",
    "\n",
    "print('recall: ',metrics.recall_score(y_test,my_test_prediction,average= 'micro'))\n",
    "my_recall.append(metrics.recall_score(y_test,my_test_prediction,average= 'micro'))"
   ],
   "metadata": {
    "collapsed": false,
    "pycharm": {
     "name": "#%%\n"
    }
   }
  },
  {
   "cell_type": "code",
   "execution_count": null,
   "outputs": [],
   "source": [
    "start1 = time.perf_counter()\n",
    "my_tree = build_tree(train,red_header,'entropy')\n",
    "my_tree_total = time.perf_counter() -start1\n",
    "print('time: ', my_tree_total)\n",
    "my_time_ent.append(my_tree_total)\n",
    "print_tree(my_tree)"
   ],
   "metadata": {
    "collapsed": false,
    "pycharm": {
     "name": "#%%\n"
    }
   }
  },
  {
   "cell_type": "code",
   "execution_count": null,
   "outputs": [],
   "source": [
    "mem_usage1 = memory_usage ((build_tree,(train,),{'header': red_header, 'split_type':'entropy'}))\n",
    "print('Memory usage: ',max(mem_usage1))\n",
    "my_memory_ent.append(max(mem_usage1))"
   ],
   "metadata": {
    "collapsed": false,
    "pycharm": {
     "name": "#%%\n"
    }
   }
  },
  {
   "cell_type": "code",
   "execution_count": null,
   "outputs": [],
   "source": [
    "my_test_prediction = predict(my_tree,test)\n",
    "print('accuracy: ',metrics.accuracy_score(y_test,my_test_prediction))\n",
    "my_accuracy_ent.append(metrics.accuracy_score(y_test,my_test_prediction))\n",
    "\n",
    "print('F1 Score: ',metrics.f1_score(y_test,my_test_prediction,average= 'micro'))\n",
    "my_F1_ent.append(metrics.f1_score(y_test,my_test_prediction,average= 'micro'))\n",
    "\n",
    "print('precision: ',metrics.precision_score(y_test,my_test_prediction,average= 'micro'))\n",
    "my_precision_ent.append(metrics.precision_score(y_test,my_test_prediction,average= 'micro'))\n",
    "\n",
    "print('recall: ',metrics.recall_score(y_test,my_test_prediction,average= 'micro'))\n",
    "my_recall_ent.append(metrics.recall_score(y_test,my_test_prediction,average= 'micro'))"
   ],
   "metadata": {
    "collapsed": false,
    "pycharm": {
     "name": "#%%\n"
    }
   }
  },
  {
   "cell_type": "code",
   "execution_count": null,
   "outputs": [],
   "source": [
    "start2 = time.perf_counter()\n",
    "sklearn_tree = tree.DecisionTreeClassifier( random_state=0)\n",
    "sklearn_tree = sklearn_tree.fit(X_train,y_train)\n",
    "sklearn_total = time.perf_counter() - start2\n",
    "print('time: ',sklearn_total)\n",
    "sk_time.append(sklearn_total)\n",
    "r = tree.export_text(sklearn_tree, feature_names=red_header[:len(red_header)-1])\n",
    "print(r)"
   ],
   "metadata": {
    "collapsed": false,
    "pycharm": {
     "name": "#%%\n"
    }
   }
  },
  {
   "cell_type": "code",
   "execution_count": null,
   "outputs": [],
   "source": [
    "mem_usage6 = memory_usage ((sklearn_tree.fit,(X_train,y_train),{}))\n",
    "print('memory: ',max(mem_usage6))\n",
    "sk_memory.append(max(mem_usage6))"
   ],
   "metadata": {
    "collapsed": false,
    "pycharm": {
     "name": "#%%\n"
    }
   }
  },
  {
   "cell_type": "code",
   "execution_count": null,
   "outputs": [],
   "source": [
    "sklearn_test_prediction = sklearn_tree.predict(X_test)\n",
    "print('accuracy: ',metrics.accuracy_score(y_test,sklearn_test_prediction))\n",
    "sk_accuracy.append(metrics.accuracy_score(y_test,sklearn_test_prediction))\n",
    "\n",
    "print('F1 Score: ',metrics.f1_score(y_test,sklearn_test_prediction,average= 'micro'))\n",
    "sk_F1.append(metrics.f1_score(y_test,sklearn_test_prediction,average= 'micro'))\n",
    "\n",
    "print('precision: ',metrics.precision_score(y_test,sklearn_test_prediction,average= 'micro'))\n",
    "sk_precision.append(metrics.precision_score(y_test,sklearn_test_prediction,average= 'micro'))\n",
    "\n",
    "print('recall: ',metrics.recall_score(y_test,sklearn_test_prediction,average= 'micro'))\n",
    "sk_recall.append(metrics.recall_score(y_test,sklearn_test_prediction,average= 'micro'))"
   ],
   "metadata": {
    "collapsed": false,
    "pycharm": {
     "name": "#%%\n"
    }
   }
  },
  {
   "cell_type": "code",
   "execution_count": null,
   "outputs": [],
   "source": [
    "start2 = time.perf_counter()\n",
    "sklearn_tree = tree.DecisionTreeClassifier( random_state=0, criterion= 'entropy')\n",
    "sklearn_tree = sklearn_tree.fit(X_train,y_train)\n",
    "sklearn_total = time.perf_counter() - start2\n",
    "print('time: ',sklearn_total)\n",
    "sk_time_ent.append(sklearn_total)\n",
    "r = tree.export_text(sklearn_tree, feature_names=red_header[:len(red_header)-1])\n",
    "print(r)"
   ],
   "metadata": {
    "collapsed": false,
    "pycharm": {
     "name": "#%%\n"
    }
   }
  },
  {
   "cell_type": "code",
   "execution_count": null,
   "outputs": [],
   "source": [
    "mem_usage2 = memory_usage ((sklearn_tree.fit,(X_train,y_train),{}))\n",
    "print('memory: ',max(mem_usage2))\n",
    "sk_memory_ent.append(max(mem_usage2))"
   ],
   "metadata": {
    "collapsed": false,
    "pycharm": {
     "name": "#%%\n"
    }
   }
  },
  {
   "cell_type": "code",
   "execution_count": null,
   "outputs": [],
   "source": [
    "sklearn_test_prediction = sklearn_tree.predict(X_test)\n",
    "print('accuracy: ',metrics.accuracy_score(y_test,sklearn_test_prediction))\n",
    "sk_accuracy_ent.append(metrics.accuracy_score(y_test,sklearn_test_prediction))\n",
    "\n",
    "print('F1 Score: ',metrics.f1_score(y_test,sklearn_test_prediction,average= 'micro'))\n",
    "sk_F1_ent.append(metrics.f1_score(y_test,sklearn_test_prediction,average= 'micro'))\n",
    "\n",
    "print('precision: ',metrics.precision_score(y_test,sklearn_test_prediction,average= 'micro'))\n",
    "sk_precision_ent.append(metrics.precision_score(y_test,sklearn_test_prediction,average= 'micro'))\n",
    "\n",
    "print('recall: ',metrics.recall_score(y_test,sklearn_test_prediction,average= 'micro'))\n",
    "sk_recall_ent.append(metrics.recall_score(y_test,sklearn_test_prediction,average= 'micro'))\n",
    "sklearn_tree.score(X_test,y_test)"
   ],
   "metadata": {
    "collapsed": false,
    "pycharm": {
     "name": "#%%\n"
    }
   }
  },
  {
   "cell_type": "markdown",
   "source": [
    "# Dataset 6"
   ],
   "metadata": {
    "collapsed": false
   }
  },
  {
   "cell_type": "code",
   "execution_count": null,
   "outputs": [],
   "source": [
    "file = open('wine.data','r') #reading the wine data set. This has no missing values but label is the first column. We need to move it to last\n",
    "line = file.readline()\n",
    "#print(line)\n",
    "wine_dataset = []\n",
    "datapoint = line.split(',')\n",
    "#print(datapoint)\n",
    "while len(line)> 1:\n",
    "    line = line[:len(line)-1] #remove the newline character from the end of the string\n",
    "    datapoint = line.split(',')\n",
    "    label = datapoint.pop(0)\n",
    "    datapoint.append(label)\n",
    "    wine_dataset.append(datapoint)\n",
    "    line = file.readline()\n",
    "file.close()\n",
    "length.append(len(wine_dataset))\n",
    "num_attributes.append(len(wine_dataset[0])-1)"
   ],
   "metadata": {
    "collapsed": false,
    "pycharm": {
     "name": "#%%\n"
    }
   }
  },
  {
   "cell_type": "code",
   "execution_count": null,
   "outputs": [],
   "source": [
    "wine_dataset"
   ],
   "metadata": {
    "collapsed": false,
    "pycharm": {
     "name": "#%%\n"
    }
   }
  },
  {
   "cell_type": "code",
   "execution_count": null,
   "outputs": [],
   "source": [
    "for datapoint in wine_dataset: # data type conversion\n",
    "    for j in range(len(datapoint)-1):\n",
    "        datapoint[j] = float(datapoint[j])"
   ],
   "metadata": {
    "collapsed": false,
    "pycharm": {
     "name": "#%%\n"
    }
   }
  },
  {
   "cell_type": "code",
   "execution_count": null,
   "outputs": [],
   "source": [
    "wine_dataset"
   ],
   "metadata": {
    "collapsed": false,
    "pycharm": {
     "name": "#%%\n"
    }
   }
  },
  {
   "cell_type": "code",
   "execution_count": null,
   "outputs": [],
   "source": [
    "wine_header = ['Alcohol','Malic acid','Ash','Alcalinity of ash','Magnesium','Total phenols','Flavanoids','Nonflavanoid phenols','Proanthocyanins','Color intensity','Hue','OD280/OD315 of diluted wines','Proline','labels']\n",
    "len(wine_header)"
   ],
   "metadata": {
    "collapsed": false,
    "pycharm": {
     "name": "#%%\n"
    }
   }
  },
  {
   "cell_type": "code",
   "execution_count": null,
   "outputs": [],
   "source": [
    "train,test = train_test_split(wine_dataset)\n",
    "X_train = list(point[0:len(point)-1] for point in train)\n",
    "y_train = list(point[-1] for point in train)\n",
    "X_test = list(point[0:len(point)-1] for point in test)\n",
    "y_test = list(point[-1] for point in test)"
   ],
   "metadata": {
    "collapsed": false,
    "pycharm": {
     "name": "#%%\n"
    }
   }
  },
  {
   "cell_type": "code",
   "execution_count": null,
   "outputs": [],
   "source": [
    "start1 = time.perf_counter()\n",
    "my_tree = build_tree(train,wine_header,'gini')\n",
    "my_tree_total = time.perf_counter() -start1\n",
    "print('time: ', my_tree_total)\n",
    "my_time.append(my_tree_total)\n",
    "print_tree(my_tree)"
   ],
   "metadata": {
    "collapsed": false,
    "pycharm": {
     "name": "#%%\n"
    }
   }
  },
  {
   "cell_type": "code",
   "execution_count": null,
   "outputs": [],
   "source": [
    "mem_usage7 = memory_usage ((build_tree,(train,),{'header': wine_header, 'split_type':'gini'}))\n",
    "print('Memory usage: ',max(mem_usage7))\n",
    "my_memory.append(max(mem_usage7))"
   ],
   "metadata": {
    "collapsed": false,
    "pycharm": {
     "name": "#%%\n"
    }
   }
  },
  {
   "cell_type": "code",
   "execution_count": null,
   "outputs": [],
   "source": [
    "my_test_prediction = predict(my_tree,test)"
   ],
   "metadata": {
    "collapsed": false,
    "pycharm": {
     "name": "#%%\n"
    }
   }
  },
  {
   "cell_type": "code",
   "execution_count": null,
   "outputs": [],
   "source": [
    "print('accuracy: ',metrics.accuracy_score(y_test,my_test_prediction))\n",
    "my_accuracy.append(metrics.accuracy_score(y_test,my_test_prediction))\n",
    "\n",
    "print('F1 Score: ',metrics.f1_score(y_test,my_test_prediction,average= 'micro'))\n",
    "my_F1.append(metrics.f1_score(y_test,my_test_prediction,average= 'micro'))\n",
    "\n",
    "print('precision: ',metrics.precision_score(y_test,my_test_prediction,average= 'micro'))\n",
    "my_precision.append(metrics.precision_score(y_test,my_test_prediction,average= 'micro'))\n",
    "\n",
    "print('recall: ',metrics.recall_score(y_test,my_test_prediction,average= 'micro'))\n",
    "my_recall.append(metrics.recall_score(y_test,my_test_prediction,average= 'micro'))"
   ],
   "metadata": {
    "collapsed": false,
    "pycharm": {
     "name": "#%%\n"
    }
   }
  },
  {
   "cell_type": "code",
   "execution_count": null,
   "outputs": [],
   "source": [
    "start1 = time.perf_counter()\n",
    "my_tree = build_tree(train,wine_header,'entropy')\n",
    "my_tree_total = time.perf_counter() -start1\n",
    "print('time: ', my_tree_total)\n",
    "my_time_ent.append(my_tree_total)\n",
    "print_tree(my_tree)"
   ],
   "metadata": {
    "collapsed": false,
    "pycharm": {
     "name": "#%%\n"
    }
   }
  },
  {
   "cell_type": "code",
   "execution_count": null,
   "outputs": [],
   "source": [
    "mem_usage1 = memory_usage ((build_tree,(train,),{'header': wine_header, 'split_type':'entropy'}))\n",
    "print('Memory usage: ',max(mem_usage1))\n",
    "my_memory_ent.append(max(mem_usage1))"
   ],
   "metadata": {
    "collapsed": false,
    "pycharm": {
     "name": "#%%\n"
    }
   }
  },
  {
   "cell_type": "code",
   "execution_count": null,
   "outputs": [],
   "source": [
    "my_test_prediction = predict(my_tree,test)\n",
    "print('accuracy: ',metrics.accuracy_score(y_test,my_test_prediction))\n",
    "my_accuracy_ent.append(metrics.accuracy_score(y_test,my_test_prediction))\n",
    "\n",
    "print('F1 Score: ',metrics.f1_score(y_test,my_test_prediction,average= 'micro'))\n",
    "my_F1_ent.append(metrics.f1_score(y_test,my_test_prediction,average= 'micro'))\n",
    "\n",
    "print('precision: ',metrics.precision_score(y_test,my_test_prediction,average= 'micro'))\n",
    "my_precision_ent.append(metrics.precision_score(y_test,my_test_prediction,average= 'micro'))\n",
    "\n",
    "print('recall: ',metrics.recall_score(y_test,my_test_prediction,average= 'micro'))\n",
    "my_recall_ent.append(metrics.recall_score(y_test,my_test_prediction,average= 'micro'))"
   ],
   "metadata": {
    "collapsed": false,
    "pycharm": {
     "name": "#%%\n"
    }
   }
  },
  {
   "cell_type": "code",
   "execution_count": null,
   "outputs": [],
   "source": [
    "start2 = time.perf_counter()\n",
    "sklearn_tree = tree.DecisionTreeClassifier( random_state=0)\n",
    "sklearn_tree = sklearn_tree.fit(X_train,y_train)\n",
    "sklearn_total = time.perf_counter() - start2\n",
    "print('time: ',sklearn_total)\n",
    "sk_time.append(sklearn_total)\n",
    "r = tree.export_text(sklearn_tree, feature_names=wine_header[:len(wine_header)-1])\n",
    "print(r)"
   ],
   "metadata": {
    "collapsed": false,
    "pycharm": {
     "name": "#%%\n"
    }
   }
  },
  {
   "cell_type": "code",
   "execution_count": null,
   "outputs": [],
   "source": [
    "mem_usage8 = memory_usage ((sklearn_tree.fit,(X_train,y_train),{}))\n",
    "print('memory: ',max(mem_usage8))\n",
    "sk_memory.append(max(mem_usage8))"
   ],
   "metadata": {
    "collapsed": false,
    "pycharm": {
     "name": "#%%\n"
    }
   }
  },
  {
   "cell_type": "code",
   "execution_count": null,
   "outputs": [],
   "source": [
    "sklearn_test_prediction = sklearn_tree.predict(X_test)\n",
    "print('accuracy: ',metrics.accuracy_score(y_test,sklearn_test_prediction))\n",
    "sk_accuracy.append(metrics.accuracy_score(y_test,sklearn_test_prediction))\n",
    "\n",
    "print('F1 Score: ',metrics.f1_score(y_test,sklearn_test_prediction,average= 'micro'))\n",
    "sk_F1.append(metrics.f1_score(y_test,sklearn_test_prediction,average= 'micro'))\n",
    "\n",
    "print('precision: ',metrics.precision_score(y_test,sklearn_test_prediction,average= 'micro'))\n",
    "sk_precision.append(metrics.precision_score(y_test,sklearn_test_prediction,average= 'micro'))\n",
    "\n",
    "print('recall: ',metrics.recall_score(y_test,sklearn_test_prediction,average= 'micro'))\n",
    "sk_recall.append(metrics.recall_score(y_test,sklearn_test_prediction,average= 'micro'))"
   ],
   "metadata": {
    "collapsed": false,
    "pycharm": {
     "name": "#%%\n"
    }
   }
  },
  {
   "cell_type": "code",
   "execution_count": null,
   "outputs": [],
   "source": [
    "start2 = time.perf_counter()\n",
    "sklearn_tree = tree.DecisionTreeClassifier( random_state=0, criterion= 'entropy')\n",
    "sklearn_tree = sklearn_tree.fit(X_train,y_train)\n",
    "sklearn_total = time.perf_counter() - start2\n",
    "print('time: ',sklearn_total)\n",
    "sk_time_ent.append(sklearn_total)\n",
    "r = tree.export_text(sklearn_tree, feature_names=wine_header[:len(wine_header)-1])\n",
    "print(r)"
   ],
   "metadata": {
    "collapsed": false,
    "pycharm": {
     "name": "#%%\n"
    }
   }
  },
  {
   "cell_type": "code",
   "execution_count": null,
   "outputs": [],
   "source": [
    "mem_usage2 = memory_usage ((sklearn_tree.fit,(X_train,y_train),{}))\n",
    "print('memory: ',max(mem_usage2))\n",
    "sk_memory_ent.append(max(mem_usage2))"
   ],
   "metadata": {
    "collapsed": false,
    "pycharm": {
     "name": "#%%\n"
    }
   }
  },
  {
   "cell_type": "code",
   "execution_count": null,
   "outputs": [],
   "source": [
    "sklearn_test_prediction = sklearn_tree.predict(X_test)\n",
    "print('accuracy: ',metrics.accuracy_score(y_test,sklearn_test_prediction))\n",
    "sk_accuracy_ent.append(metrics.accuracy_score(y_test,sklearn_test_prediction))\n",
    "\n",
    "print('F1 Score: ',metrics.f1_score(y_test,sklearn_test_prediction,average= 'micro'))\n",
    "sk_F1_ent.append(metrics.f1_score(y_test,sklearn_test_prediction,average= 'micro'))\n",
    "\n",
    "print('precision: ',metrics.precision_score(y_test,sklearn_test_prediction,average= 'micro'))\n",
    "sk_precision_ent.append(metrics.precision_score(y_test,sklearn_test_prediction,average= 'micro'))\n",
    "\n",
    "print('recall: ',metrics.recall_score(y_test,sklearn_test_prediction,average= 'micro'))\n",
    "sk_recall_ent.append(metrics.recall_score(y_test,sklearn_test_prediction,average= 'micro'))\n",
    "sklearn_tree.score(X_test,y_test)"
   ],
   "metadata": {
    "collapsed": false,
    "pycharm": {
     "name": "#%%\n"
    }
   }
  },
  {
   "cell_type": "markdown",
   "source": [
    "# Data set 7"
   ],
   "metadata": {
    "collapsed": false
   }
  },
  {
   "cell_type": "code",
   "execution_count": 5,
   "outputs": [],
   "source": [
    "file = open('breast-cancer-wisconsin.data','r') #reading the cancer set. This has no missing values but label is the first column. We need to move it to last\n",
    "line = file.readline()\n",
    "#print(line)\n",
    "cancer_dataset = []\n",
    "datapoint = line.split(',')\n",
    "#print(datapoint)\n",
    "while len(line)> 1:\n",
    "    line = line[:len(line)-1] #remove the newline character from the end of the string\n",
    "    if '?' not in line:\n",
    "        datapoint = line.split(',')\n",
    "        datapoint.pop(0) #id not needed\n",
    "        cancer_dataset.append(datapoint)\n",
    "    line = file.readline()\n",
    "file.close()\n",
    "length.append(len(cancer_dataset))\n",
    "num_attributes.append(len(cancer_dataset[0])-1)"
   ],
   "metadata": {
    "collapsed": false,
    "pycharm": {
     "name": "#%%\n"
    }
   }
  },
  {
   "cell_type": "code",
   "execution_count": 6,
   "outputs": [
    {
     "data": {
      "text/plain": "[['5', '1', '1', '1', '2', '1', '3', '1', '1', '2'],\n ['5', '4', '4', '5', '7', '10', '3', '2', '1', '2'],\n ['3', '1', '1', '1', '2', '2', '3', '1', '1', '2'],\n ['6', '8', '8', '1', '3', '4', '3', '7', '1', '2'],\n ['4', '1', '1', '3', '2', '1', '3', '1', '1', '2'],\n ['8', '10', '10', '8', '7', '10', '9', '7', '1', '4'],\n ['1', '1', '1', '1', '2', '10', '3', '1', '1', '2'],\n ['2', '1', '2', '1', '2', '1', '3', '1', '1', '2'],\n ['2', '1', '1', '1', '2', '1', '1', '1', '5', '2'],\n ['4', '2', '1', '1', '2', '1', '2', '1', '1', '2'],\n ['1', '1', '1', '1', '1', '1', '3', '1', '1', '2'],\n ['2', '1', '1', '1', '2', '1', '2', '1', '1', '2'],\n ['5', '3', '3', '3', '2', '3', '4', '4', '1', '4'],\n ['1', '1', '1', '1', '2', '3', '3', '1', '1', '2'],\n ['8', '7', '5', '10', '7', '9', '5', '5', '4', '4'],\n ['7', '4', '6', '4', '6', '1', '4', '3', '1', '4'],\n ['4', '1', '1', '1', '2', '1', '2', '1', '1', '2'],\n ['4', '1', '1', '1', '2', '1', '3', '1', '1', '2'],\n ['10', '7', '7', '6', '4', '10', '4', '1', '2', '4'],\n ['6', '1', '1', '1', '2', '1', '3', '1', '1', '2'],\n ['7', '3', '2', '10', '5', '10', '5', '4', '4', '4'],\n ['10', '5', '5', '3', '6', '7', '7', '10', '1', '4'],\n ['3', '1', '1', '1', '2', '1', '2', '1', '1', '2'],\n ['1', '1', '1', '1', '2', '1', '3', '1', '1', '2'],\n ['5', '2', '3', '4', '2', '7', '3', '6', '1', '4'],\n ['3', '2', '1', '1', '1', '1', '2', '1', '1', '2'],\n ['5', '1', '1', '1', '2', '1', '2', '1', '1', '2'],\n ['2', '1', '1', '1', '2', '1', '2', '1', '1', '2'],\n ['1', '1', '3', '1', '2', '1', '1', '1', '1', '2'],\n ['3', '1', '1', '1', '1', '1', '2', '1', '1', '2'],\n ['2', '1', '1', '1', '2', '1', '3', '1', '1', '2'],\n ['10', '7', '7', '3', '8', '5', '7', '4', '3', '4'],\n ['2', '1', '1', '2', '2', '1', '3', '1', '1', '2'],\n ['3', '1', '2', '1', '2', '1', '2', '1', '1', '2'],\n ['2', '1', '1', '1', '2', '1', '2', '1', '1', '2'],\n ['10', '10', '10', '8', '6', '1', '8', '9', '1', '4'],\n ['6', '2', '1', '1', '1', '1', '7', '1', '1', '2'],\n ['5', '4', '4', '9', '2', '10', '5', '6', '1', '4'],\n ['2', '5', '3', '3', '6', '7', '7', '5', '1', '4'],\n ['10', '4', '3', '1', '3', '3', '6', '5', '2', '4'],\n ['6', '10', '10', '2', '8', '10', '7', '3', '3', '4'],\n ['5', '6', '5', '6', '10', '1', '3', '1', '1', '4'],\n ['10', '10', '10', '4', '8', '1', '8', '10', '1', '4'],\n ['1', '1', '1', '1', '2', '1', '2', '1', '2', '2'],\n ['3', '7', '7', '4', '4', '9', '4', '8', '1', '4'],\n ['1', '1', '1', '1', '2', '1', '2', '1', '1', '2'],\n ['4', '1', '1', '3', '2', '1', '3', '1', '1', '2'],\n ['7', '8', '7', '2', '4', '8', '3', '8', '2', '4'],\n ['9', '5', '8', '1', '2', '3', '2', '1', '5', '4'],\n ['5', '3', '3', '4', '2', '4', '3', '4', '1', '4'],\n ['10', '3', '6', '2', '3', '5', '4', '10', '2', '4'],\n ['5', '5', '5', '8', '10', '8', '7', '3', '7', '4'],\n ['10', '5', '5', '6', '8', '8', '7', '1', '1', '4'],\n ['10', '6', '6', '3', '4', '5', '3', '6', '1', '4'],\n ['8', '10', '10', '1', '3', '6', '3', '9', '1', '4'],\n ['8', '2', '4', '1', '5', '1', '5', '4', '4', '4'],\n ['5', '2', '3', '1', '6', '10', '5', '1', '1', '4'],\n ['9', '5', '5', '2', '2', '2', '5', '1', '1', '4'],\n ['5', '3', '5', '5', '3', '3', '4', '10', '1', '4'],\n ['1', '1', '1', '1', '2', '2', '2', '1', '1', '2'],\n ['9', '10', '10', '1', '10', '8', '3', '3', '1', '4'],\n ['6', '3', '4', '1', '5', '2', '3', '9', '1', '4'],\n ['1', '1', '1', '1', '2', '1', '2', '1', '1', '2'],\n ['10', '4', '2', '1', '3', '2', '4', '3', '10', '4'],\n ['4', '1', '1', '1', '2', '1', '3', '1', '1', '2'],\n ['5', '3', '4', '1', '8', '10', '4', '9', '1', '4'],\n ['8', '3', '8', '3', '4', '9', '8', '9', '8', '4'],\n ['1', '1', '1', '1', '2', '1', '3', '2', '1', '2'],\n ['5', '1', '3', '1', '2', '1', '2', '1', '1', '2'],\n ['6', '10', '2', '8', '10', '2', '7', '8', '10', '4'],\n ['1', '3', '3', '2', '2', '1', '7', '2', '1', '2'],\n ['9', '4', '5', '10', '6', '10', '4', '8', '1', '4'],\n ['10', '6', '4', '1', '3', '4', '3', '2', '3', '4'],\n ['1', '1', '2', '1', '2', '2', '4', '2', '1', '2'],\n ['1', '1', '4', '1', '2', '1', '2', '1', '1', '2'],\n ['5', '3', '1', '2', '2', '1', '2', '1', '1', '2'],\n ['3', '1', '1', '1', '2', '3', '3', '1', '1', '2'],\n ['2', '1', '1', '1', '3', '1', '2', '1', '1', '2'],\n ['2', '2', '2', '1', '1', '1', '7', '1', '1', '2'],\n ['4', '1', '1', '2', '2', '1', '2', '1', '1', '2'],\n ['5', '2', '1', '1', '2', '1', '3', '1', '1', '2'],\n ['3', '1', '1', '1', '2', '2', '7', '1', '1', '2'],\n ['3', '5', '7', '8', '8', '9', '7', '10', '7', '4'],\n ['5', '10', '6', '1', '10', '4', '4', '10', '10', '4'],\n ['3', '3', '6', '4', '5', '8', '4', '4', '1', '4'],\n ['3', '6', '6', '6', '5', '10', '6', '8', '3', '4'],\n ['4', '1', '1', '1', '2', '1', '3', '1', '1', '2'],\n ['2', '1', '1', '2', '3', '1', '2', '1', '1', '2'],\n ['1', '1', '1', '1', '2', '1', '3', '1', '1', '2'],\n ['3', '1', '1', '2', '2', '1', '1', '1', '1', '2'],\n ['4', '1', '1', '1', '2', '1', '3', '1', '1', '2'],\n ['1', '1', '1', '1', '2', '1', '2', '1', '1', '2'],\n ['2', '1', '1', '1', '2', '1', '3', '1', '1', '2'],\n ['1', '1', '1', '1', '2', '1', '3', '1', '1', '2'],\n ['2', '1', '1', '2', '2', '1', '1', '1', '1', '2'],\n ['5', '1', '1', '1', '2', '1', '3', '1', '1', '2'],\n ['9', '6', '9', '2', '10', '6', '2', '9', '10', '4'],\n ['7', '5', '6', '10', '5', '10', '7', '9', '4', '4'],\n ['10', '3', '5', '1', '10', '5', '3', '10', '2', '4'],\n ['2', '3', '4', '4', '2', '5', '2', '5', '1', '4'],\n ['4', '1', '2', '1', '2', '1', '3', '1', '1', '2'],\n ['8', '2', '3', '1', '6', '3', '7', '1', '1', '4'],\n ['10', '10', '10', '10', '10', '1', '8', '8', '8', '4'],\n ['7', '3', '4', '4', '3', '3', '3', '2', '7', '4'],\n ['10', '10', '10', '8', '2', '10', '4', '1', '1', '4'],\n ['1', '6', '8', '10', '8', '10', '5', '7', '1', '4'],\n ['1', '1', '1', '1', '2', '1', '2', '3', '1', '2'],\n ['6', '5', '4', '4', '3', '9', '7', '8', '3', '4'],\n ['1', '3', '1', '2', '2', '2', '5', '3', '2', '2'],\n ['8', '6', '4', '3', '5', '9', '3', '1', '1', '4'],\n ['10', '3', '3', '10', '2', '10', '7', '3', '3', '4'],\n ['10', '10', '10', '3', '10', '8', '8', '1', '1', '4'],\n ['3', '3', '2', '1', '2', '3', '3', '1', '1', '2'],\n ['1', '1', '1', '1', '2', '5', '1', '1', '1', '2'],\n ['8', '3', '3', '1', '2', '2', '3', '2', '1', '2'],\n ['4', '5', '5', '10', '4', '10', '7', '5', '8', '4'],\n ['1', '1', '1', '1', '4', '3', '1', '1', '1', '2'],\n ['3', '2', '1', '1', '2', '2', '3', '1', '1', '2'],\n ['1', '1', '2', '2', '2', '1', '3', '1', '1', '2'],\n ['4', '2', '1', '1', '2', '2', '3', '1', '1', '2'],\n ['10', '10', '10', '2', '10', '10', '5', '3', '3', '4'],\n ['5', '3', '5', '1', '8', '10', '5', '3', '1', '4'],\n ['5', '4', '6', '7', '9', '7', '8', '10', '1', '4'],\n ['1', '1', '1', '1', '2', '1', '2', '1', '1', '2'],\n ['7', '5', '3', '7', '4', '10', '7', '5', '5', '4'],\n ['3', '1', '1', '1', '2', '1', '3', '1', '1', '2'],\n ['8', '3', '5', '4', '5', '10', '1', '6', '2', '4'],\n ['1', '1', '1', '1', '10', '1', '1', '1', '1', '2'],\n ['5', '1', '3', '1', '2', '1', '2', '1', '1', '2'],\n ['2', '1', '1', '1', '2', '1', '3', '1', '1', '2'],\n ['5', '10', '8', '10', '8', '10', '3', '6', '3', '4'],\n ['3', '1', '1', '1', '2', '1', '2', '2', '1', '2'],\n ['3', '1', '1', '1', '3', '1', '2', '1', '1', '2'],\n ['5', '1', '1', '1', '2', '2', '3', '3', '1', '2'],\n ['4', '1', '1', '1', '2', '1', '2', '1', '1', '2'],\n ['3', '1', '1', '1', '2', '1', '1', '1', '1', '2'],\n ['4', '1', '2', '1', '2', '1', '2', '1', '1', '2'],\n ['3', '1', '1', '1', '2', '1', '1', '1', '1', '2'],\n ['2', '1', '1', '1', '2', '1', '1', '1', '1', '2'],\n ['9', '5', '5', '4', '4', '5', '4', '3', '3', '4'],\n ['1', '1', '1', '1', '2', '5', '1', '1', '1', '2'],\n ['2', '1', '1', '1', '2', '1', '2', '1', '1', '2'],\n ['3', '4', '5', '2', '6', '8', '4', '1', '1', '4'],\n ['1', '1', '1', '1', '3', '2', '2', '1', '1', '2'],\n ['3', '1', '1', '3', '8', '1', '5', '8', '1', '2'],\n ['8', '8', '7', '4', '10', '10', '7', '8', '7', '4'],\n ['1', '1', '1', '1', '1', '1', '3', '1', '1', '2'],\n ['7', '2', '4', '1', '6', '10', '5', '4', '3', '4'],\n ['10', '10', '8', '6', '4', '5', '8', '10', '1', '4'],\n ['4', '1', '1', '1', '2', '3', '1', '1', '1', '2'],\n ['1', '1', '1', '1', '2', '1', '1', '1', '1', '2'],\n ['5', '5', '5', '6', '3', '10', '3', '1', '1', '4'],\n ['1', '2', '2', '1', '2', '1', '2', '1', '1', '2'],\n ['2', '1', '1', '1', '2', '1', '3', '1', '1', '2'],\n ['9', '9', '10', '3', '6', '10', '7', '10', '6', '4'],\n ['10', '7', '7', '4', '5', '10', '5', '7', '2', '4'],\n ['4', '1', '1', '1', '2', '1', '3', '2', '1', '2'],\n ['3', '1', '1', '1', '2', '1', '3', '1', '1', '2'],\n ['1', '1', '1', '2', '1', '3', '1', '1', '7', '2'],\n ['4', '1', '1', '1', '2', '2', '3', '2', '1', '2'],\n ['5', '6', '7', '8', '8', '10', '3', '10', '3', '4'],\n ['10', '8', '10', '10', '6', '1', '3', '1', '10', '4'],\n ['3', '1', '1', '1', '2', '1', '3', '1', '1', '2'],\n ['1', '1', '1', '2', '1', '1', '1', '1', '1', '2'],\n ['3', '1', '1', '1', '2', '1', '1', '1', '1', '2'],\n ['1', '1', '1', '1', '2', '1', '3', '1', '1', '2'],\n ['1', '1', '1', '1', '2', '1', '2', '1', '1', '2'],\n ['6', '10', '10', '10', '8', '10', '10', '10', '7', '4'],\n ['8', '6', '5', '4', '3', '10', '6', '1', '1', '4'],\n ['5', '8', '7', '7', '10', '10', '5', '7', '1', '4'],\n ['2', '1', '1', '1', '2', '1', '3', '1', '1', '2'],\n ['5', '10', '10', '3', '8', '1', '5', '10', '3', '4'],\n ['4', '1', '1', '1', '2', '1', '3', '1', '1', '2'],\n ['5', '3', '3', '3', '6', '10', '3', '1', '1', '4'],\n ['1', '1', '1', '1', '1', '1', '3', '1', '1', '2'],\n ['1', '1', '1', '1', '2', '1', '1', '1', '1', '2'],\n ['6', '1', '1', '1', '2', '1', '3', '1', '1', '2'],\n ['5', '8', '8', '8', '5', '10', '7', '8', '1', '4'],\n ['8', '7', '6', '4', '4', '10', '5', '1', '1', '4'],\n ['2', '1', '1', '1', '1', '1', '3', '1', '1', '2'],\n ['1', '5', '8', '6', '5', '8', '7', '10', '1', '4'],\n ['10', '5', '6', '10', '6', '10', '7', '7', '10', '4'],\n ['5', '8', '4', '10', '5', '8', '9', '10', '1', '4'],\n ['1', '2', '3', '1', '2', '1', '3', '1', '1', '2'],\n ['10', '10', '10', '8', '6', '8', '7', '10', '1', '4'],\n ['7', '5', '10', '10', '10', '10', '4', '10', '3', '4'],\n ['5', '1', '1', '1', '2', '1', '2', '1', '1', '2'],\n ['1', '1', '1', '1', '2', '1', '3', '1', '1', '2'],\n ['3', '1', '1', '1', '2', '1', '3', '1', '1', '2'],\n ['4', '1', '1', '1', '2', '1', '3', '1', '1', '2'],\n ['8', '4', '4', '5', '4', '7', '7', '8', '2', '2'],\n ['5', '1', '1', '4', '2', '1', '3', '1', '1', '2'],\n ['1', '1', '1', '1', '2', '1', '1', '1', '1', '2'],\n ['3', '1', '1', '1', '2', '1', '2', '1', '1', '2'],\n ['9', '7', '7', '5', '5', '10', '7', '8', '3', '4'],\n ['10', '8', '8', '4', '10', '10', '8', '1', '1', '4'],\n ['1', '1', '1', '1', '2', '1', '3', '1', '1', '2'],\n ['5', '1', '1', '1', '2', '1', '3', '1', '1', '2'],\n ['1', '1', '1', '1', '2', '1', '3', '1', '1', '2'],\n ['5', '10', '10', '9', '6', '10', '7', '10', '5', '4'],\n ['10', '10', '9', '3', '7', '5', '3', '5', '1', '4'],\n ['1', '1', '1', '1', '1', '1', '3', '1', '1', '2'],\n ['1', '1', '1', '1', '1', '1', '3', '1', '1', '2'],\n ['5', '1', '1', '1', '1', '1', '3', '1', '1', '2'],\n ['8', '10', '10', '10', '5', '10', '8', '10', '6', '4'],\n ['8', '10', '8', '8', '4', '8', '7', '7', '1', '4'],\n ['1', '1', '1', '1', '2', '1', '3', '1', '1', '2'],\n ['10', '10', '10', '10', '7', '10', '7', '10', '4', '4'],\n ['10', '10', '10', '10', '3', '10', '10', '6', '1', '4'],\n ['8', '7', '8', '7', '5', '5', '5', '10', '2', '4'],\n ['1', '1', '1', '1', '2', '1', '2', '1', '1', '2'],\n ['1', '1', '1', '1', '2', '1', '3', '1', '1', '2'],\n ['6', '10', '7', '7', '6', '4', '8', '10', '2', '4'],\n ['6', '1', '3', '1', '2', '1', '3', '1', '1', '2'],\n ['1', '1', '1', '2', '2', '1', '3', '1', '1', '2'],\n ['10', '6', '4', '3', '10', '10', '9', '10', '1', '4'],\n ['4', '1', '1', '3', '1', '5', '2', '1', '1', '4'],\n ['7', '5', '6', '3', '3', '8', '7', '4', '1', '4'],\n ['10', '5', '5', '6', '3', '10', '7', '9', '2', '4'],\n ['1', '1', '1', '1', '2', '1', '2', '1', '1', '2'],\n ['10', '5', '7', '4', '4', '10', '8', '9', '1', '4'],\n ['8', '9', '9', '5', '3', '5', '7', '7', '1', '4'],\n ['1', '1', '1', '1', '1', '1', '3', '1', '1', '2'],\n ['10', '10', '10', '3', '10', '10', '9', '10', '1', '4'],\n ['7', '4', '7', '4', '3', '7', '7', '6', '1', '4'],\n ['6', '8', '7', '5', '6', '8', '8', '9', '2', '4'],\n ['8', '4', '6', '3', '3', '1', '4', '3', '1', '2'],\n ['10', '4', '5', '5', '5', '10', '4', '1', '1', '4'],\n ['3', '3', '2', '1', '3', '1', '3', '6', '1', '2'],\n ['10', '8', '8', '2', '8', '10', '4', '8', '10', '4'],\n ['9', '8', '8', '5', '6', '2', '4', '10', '4', '4'],\n ['8', '10', '10', '8', '6', '9', '3', '10', '10', '4'],\n ['10', '4', '3', '2', '3', '10', '5', '3', '2', '4'],\n ['5', '1', '3', '3', '2', '2', '2', '3', '1', '2'],\n ['3', '1', '1', '3', '1', '1', '3', '1', '1', '2'],\n ['2', '1', '1', '1', '2', '1', '3', '1', '1', '2'],\n ['1', '1', '1', '1', '2', '5', '5', '1', '1', '2'],\n ['1', '1', '1', '1', '2', '1', '3', '1', '1', '2'],\n ['5', '1', '1', '2', '2', '2', '3', '1', '1', '2'],\n ['8', '10', '10', '8', '5', '10', '7', '8', '1', '4'],\n ['8', '4', '4', '1', '2', '9', '3', '3', '1', '4'],\n ['4', '1', '1', '1', '2', '1', '3', '6', '1', '2'],\n ['1', '2', '2', '1', '2', '1', '1', '1', '1', '2'],\n ['10', '4', '4', '10', '2', '10', '5', '3', '3', '4'],\n ['6', '3', '3', '5', '3', '10', '3', '5', '3', '2'],\n ['6', '10', '10', '2', '8', '10', '7', '3', '3', '4'],\n ['9', '10', '10', '1', '10', '8', '3', '3', '1', '4'],\n ['5', '6', '6', '2', '4', '10', '3', '6', '1', '4'],\n ['3', '1', '1', '1', '2', '1', '1', '1', '1', '2'],\n ['3', '1', '1', '1', '2', '1', '2', '1', '1', '2'],\n ['3', '1', '1', '1', '2', '1', '3', '1', '1', '2'],\n ['5', '7', '7', '1', '5', '8', '3', '4', '1', '2'],\n ['10', '5', '8', '10', '3', '10', '5', '1', '3', '4'],\n ['5', '10', '10', '6', '10', '10', '10', '6', '5', '4'],\n ['8', '8', '9', '4', '5', '10', '7', '8', '1', '4'],\n ['10', '4', '4', '10', '6', '10', '5', '5', '1', '4'],\n ['7', '9', '4', '10', '10', '3', '5', '3', '3', '4'],\n ['5', '1', '4', '1', '2', '1', '3', '2', '1', '2'],\n ['10', '10', '6', '3', '3', '10', '4', '3', '2', '4'],\n ['3', '3', '5', '2', '3', '10', '7', '1', '1', '4'],\n ['10', '8', '8', '2', '3', '4', '8', '7', '8', '4'],\n ['1', '1', '1', '1', '2', '1', '3', '1', '1', '2'],\n ['8', '4', '7', '1', '3', '10', '3', '9', '2', '4'],\n ['5', '1', '1', '1', '2', '1', '3', '1', '1', '2'],\n ['3', '3', '5', '2', '3', '10', '7', '1', '1', '4'],\n ['7', '2', '4', '1', '3', '4', '3', '3', '1', '4'],\n ['3', '1', '1', '1', '2', '1', '3', '2', '1', '2'],\n ['3', '1', '1', '1', '2', '1', '2', '1', '1', '2'],\n ['1', '1', '1', '1', '2', '1', '2', '1', '1', '2'],\n ['1', '1', '1', '1', '2', '1', '3', '1', '1', '2'],\n ['10', '5', '7', '3', '3', '7', '3', '3', '8', '4'],\n ['3', '1', '1', '1', '2', '1', '3', '1', '1', '2'],\n ['2', '1', '1', '2', '2', '1', '3', '1', '1', '2'],\n ['1', '4', '3', '10', '4', '10', '5', '6', '1', '4'],\n ['10', '4', '6', '1', '2', '10', '5', '3', '1', '4'],\n ['7', '4', '5', '10', '2', '10', '3', '8', '2', '4'],\n ['8', '10', '10', '10', '8', '10', '10', '7', '3', '4'],\n ['10', '10', '10', '10', '10', '10', '4', '10', '10', '4'],\n ['3', '1', '1', '1', '3', '1', '2', '1', '1', '2'],\n ['6', '1', '3', '1', '4', '5', '5', '10', '1', '4'],\n ['5', '6', '6', '8', '6', '10', '4', '10', '4', '4'],\n ['1', '1', '1', '1', '2', '1', '1', '1', '1', '2'],\n ['1', '1', '1', '1', '2', '1', '3', '1', '1', '2'],\n ['10', '4', '4', '6', '2', '10', '2', '3', '1', '4'],\n ['5', '5', '7', '8', '6', '10', '7', '4', '1', '4'],\n ['5', '3', '4', '3', '4', '5', '4', '7', '1', '2'],\n ['8', '2', '1', '1', '5', '1', '1', '1', '1', '2'],\n ['9', '1', '2', '6', '4', '10', '7', '7', '2', '4'],\n ['8', '4', '10', '5', '4', '4', '7', '10', '1', '4'],\n ['1', '1', '1', '1', '2', '1', '3', '1', '1', '2'],\n ['10', '10', '10', '7', '9', '10', '7', '10', '10', '4'],\n ['1', '1', '1', '1', '2', '1', '3', '1', '1', '2'],\n ['8', '3', '4', '9', '3', '10', '3', '3', '1', '4'],\n ['10', '8', '4', '4', '4', '10', '3', '10', '4', '4'],\n ['1', '1', '1', '1', '2', '1', '3', '1', '1', '2'],\n ['1', '1', '1', '1', '2', '1', '3', '1', '1', '2'],\n ['7', '8', '7', '6', '4', '3', '8', '8', '4', '4'],\n ['3', '1', '1', '1', '2', '5', '5', '1', '1', '2'],\n ['2', '1', '1', '1', '3', '1', '2', '1', '1', '2'],\n ['1', '1', '1', '1', '2', '1', '1', '1', '1', '2'],\n ['8', '6', '4', '10', '10', '1', '3', '5', '1', '4'],\n ['1', '1', '1', '1', '2', '1', '1', '1', '1', '2'],\n ['1', '1', '1', '1', '1', '1', '2', '1', '1', '2'],\n ['5', '5', '5', '2', '5', '10', '4', '3', '1', '4'],\n ['6', '8', '7', '8', '6', '8', '8', '9', '1', '4'],\n ['1', '1', '1', '1', '5', '1', '3', '1', '1', '2'],\n ['4', '4', '4', '4', '6', '5', '7', '3', '1', '2'],\n ['7', '6', '3', '2', '5', '10', '7', '4', '6', '4'],\n ['3', '1', '1', '1', '2', '1', '3', '1', '1', '2'],\n ['5', '4', '6', '10', '2', '10', '4', '1', '1', '4'],\n ['1', '1', '1', '1', '2', '1', '3', '1', '1', '2'],\n ['3', '2', '2', '1', '2', '1', '2', '3', '1', '2'],\n ['10', '1', '1', '1', '2', '10', '5', '4', '1', '4'],\n ['1', '1', '1', '1', '2', '1', '2', '1', '1', '2'],\n ['8', '10', '3', '2', '6', '4', '3', '10', '1', '4'],\n ['10', '4', '6', '4', '5', '10', '7', '1', '1', '4'],\n ['10', '4', '7', '2', '2', '8', '6', '1', '1', '4'],\n ['5', '1', '1', '1', '2', '1', '3', '1', '2', '2'],\n ['5', '2', '2', '2', '2', '1', '2', '2', '1', '2'],\n ['5', '4', '6', '6', '4', '10', '4', '3', '1', '4'],\n ['8', '6', '7', '3', '3', '10', '3', '4', '2', '4'],\n ['1', '1', '1', '1', '2', '1', '1', '1', '1', '2'],\n ['6', '5', '5', '8', '4', '10', '3', '4', '1', '4'],\n ['1', '1', '1', '1', '2', '1', '3', '1', '1', '2'],\n ['1', '1', '1', '1', '1', '1', '2', '1', '1', '2'],\n ['8', '5', '5', '5', '2', '10', '4', '3', '1', '4'],\n ['10', '3', '3', '1', '2', '10', '7', '6', '1', '4'],\n ['1', '1', '1', '1', '2', '1', '3', '1', '1', '2'],\n ['2', '1', '1', '1', '2', '1', '1', '1', '1', '2'],\n ['1', '1', '1', '1', '2', '1', '1', '1', '1', '2'],\n ['7', '6', '4', '8', '10', '10', '9', '5', '3', '4'],\n ['1', '1', '1', '1', '2', '1', '1', '1', '1', '2'],\n ['5', '2', '2', '2', '3', '1', '1', '3', '1', '2'],\n ['1', '1', '1', '1', '1', '1', '1', '3', '1', '2'],\n ['3', '4', '4', '10', '5', '1', '3', '3', '1', '4'],\n ['4', '2', '3', '5', '3', '8', '7', '6', '1', '4'],\n ['5', '1', '1', '3', '2', '1', '1', '1', '1', '2'],\n ['2', '1', '1', '1', '2', '1', '3', '1', '1', '2'],\n ['3', '4', '5', '3', '7', '3', '4', '6', '1', '2'],\n ['2', '7', '10', '10', '7', '10', '4', '9', '4', '4'],\n ['1', '1', '1', '1', '2', '1', '2', '1', '1', '2'],\n ['4', '1', '1', '1', '3', '1', '2', '2', '1', '2'],\n ['5', '3', '3', '1', '3', '3', '3', '3', '3', '4'],\n ['8', '10', '10', '7', '10', '10', '7', '3', '8', '4'],\n ['8', '10', '5', '3', '8', '4', '4', '10', '3', '4'],\n ['10', '3', '5', '4', '3', '7', '3', '5', '3', '4'],\n ['6', '10', '10', '10', '10', '10', '8', '10', '10', '4'],\n ['3', '10', '3', '10', '6', '10', '5', '1', '4', '4'],\n ['3', '2', '2', '1', '4', '3', '2', '1', '1', '2'],\n ['4', '4', '4', '2', '2', '3', '2', '1', '1', '2'],\n ['2', '1', '1', '1', '2', '1', '3', '1', '1', '2'],\n ['2', '1', '1', '1', '2', '1', '2', '1', '1', '2'],\n ['6', '10', '10', '10', '8', '10', '7', '10', '7', '4'],\n ['5', '8', '8', '10', '5', '10', '8', '10', '3', '4'],\n ['1', '1', '3', '1', '2', '1', '1', '1', '1', '2'],\n ['1', '1', '3', '1', '1', '1', '2', '1', '1', '2'],\n ['4', '3', '2', '1', '3', '1', '2', '1', '1', '2'],\n ['1', '1', '3', '1', '2', '1', '1', '1', '1', '2'],\n ['4', '1', '2', '1', '2', '1', '2', '1', '1', '2'],\n ['5', '1', '1', '2', '2', '1', '2', '1', '1', '2'],\n ['3', '1', '2', '1', '2', '1', '2', '1', '1', '2'],\n ['1', '1', '1', '1', '2', '1', '1', '1', '1', '2'],\n ['1', '1', '1', '1', '2', '1', '2', '1', '1', '2'],\n ['1', '1', '1', '1', '1', '1', '2', '1', '1', '2'],\n ['3', '1', '1', '4', '3', '1', '2', '2', '1', '2'],\n ['5', '3', '4', '1', '4', '1', '3', '1', '1', '2'],\n ['1', '1', '1', '1', '2', '1', '1', '1', '1', '2'],\n ['10', '6', '3', '6', '4', '10', '7', '8', '4', '4'],\n ['3', '2', '2', '2', '2', '1', '3', '2', '1', '2'],\n ['2', '1', '1', '1', '2', '1', '1', '1', '1', '2'],\n ['2', '1', '1', '1', '2', '1', '1', '1', '1', '2'],\n ['3', '3', '2', '2', '3', '1', '1', '2', '3', '2'],\n ['7', '6', '6', '3', '2', '10', '7', '1', '1', '4'],\n ['5', '3', '3', '2', '3', '1', '3', '1', '1', '2'],\n ['2', '1', '1', '1', '2', '1', '2', '2', '1', '2'],\n ['5', '1', '1', '1', '3', '2', '2', '2', '1', '2'],\n ['1', '1', '1', '2', '2', '1', '2', '1', '1', '2'],\n ['10', '8', '7', '4', '3', '10', '7', '9', '1', '4'],\n ['3', '1', '1', '1', '2', '1', '2', '1', '1', '2'],\n ['1', '1', '1', '1', '1', '1', '1', '1', '1', '2'],\n ['1', '2', '3', '1', '2', '1', '2', '1', '1', '2'],\n ['3', '1', '1', '1', '2', '1', '2', '1', '1', '2'],\n ['3', '1', '1', '1', '2', '1', '3', '1', '1', '2'],\n ['4', '1', '1', '1', '2', '1', '1', '1', '1', '2'],\n ['3', '2', '1', '1', '2', '1', '2', '2', '1', '2'],\n ['1', '2', '3', '1', '2', '1', '1', '1', '1', '2'],\n ['3', '10', '8', '7', '6', '9', '9', '3', '8', '4'],\n ['3', '1', '1', '1', '2', '1', '1', '1', '1', '2'],\n ['5', '3', '3', '1', '2', '1', '2', '1', '1', '2'],\n ['3', '1', '1', '1', '2', '4', '1', '1', '1', '2'],\n ['1', '2', '1', '3', '2', '1', '1', '2', '1', '2'],\n ['1', '1', '1', '1', '2', '1', '2', '1', '1', '2'],\n ['4', '2', '2', '1', '2', '1', '2', '1', '1', '2'],\n ['1', '1', '1', '1', '2', '1', '2', '1', '1', '2'],\n ['2', '3', '2', '2', '2', '2', '3', '1', '1', '2'],\n ['3', '1', '2', '1', '2', '1', '2', '1', '1', '2'],\n ['1', '1', '1', '1', '2', '1', '2', '1', '1', '2'],\n ['10', '10', '10', '6', '8', '4', '8', '5', '1', '4'],\n ['5', '1', '2', '1', '2', '1', '3', '1', '1', '2'],\n ['8', '5', '6', '2', '3', '10', '6', '6', '1', '4'],\n ['3', '3', '2', '6', '3', '3', '3', '5', '1', '2'],\n ['8', '7', '8', '5', '10', '10', '7', '2', '1', '4'],\n ['1', '1', '1', '1', '2', '1', '2', '1', '1', '2'],\n ['5', '2', '2', '2', '2', '2', '3', '2', '2', '2'],\n ['2', '3', '1', '1', '5', '1', '1', '1', '1', '2'],\n ['3', '2', '2', '3', '2', '3', '3', '1', '1', '2'],\n ['10', '10', '10', '7', '10', '10', '8', '2', '1', '4'],\n ['4', '3', '3', '1', '2', '1', '3', '3', '1', '2'],\n ['5', '1', '3', '1', '2', '1', '2', '1', '1', '2'],\n ['3', '1', '1', '1', '2', '1', '1', '1', '1', '2'],\n ['9', '10', '10', '10', '10', '10', '10', '10', '1', '4'],\n ['5', '3', '6', '1', '2', '1', '1', '1', '1', '2'],\n ['8', '7', '8', '2', '4', '2', '5', '10', '1', '4'],\n ['1', '1', '1', '1', '2', '1', '2', '1', '1', '2'],\n ['2', '1', '1', '1', '2', '1', '2', '1', '1', '2'],\n ['1', '3', '1', '1', '2', '1', '2', '2', '1', '2'],\n ['5', '1', '1', '3', '4', '1', '3', '2', '1', '2'],\n ['5', '1', '1', '1', '2', '1', '2', '2', '1', '2'],\n ['3', '2', '2', '3', '2', '1', '1', '1', '1', '2'],\n ['6', '9', '7', '5', '5', '8', '4', '2', '1', '2'],\n ['10', '8', '10', '1', '3', '10', '5', '1', '1', '4'],\n ['10', '10', '10', '1', '6', '1', '2', '8', '1', '4'],\n ['4', '1', '1', '1', '2', '1', '1', '1', '1', '2'],\n ['4', '1', '3', '3', '2', '1', '1', '1', '1', '2'],\n ['5', '1', '1', '1', '2', '1', '1', '1', '1', '2'],\n ['10', '4', '3', '10', '4', '10', '10', '1', '1', '4'],\n ['5', '2', '2', '4', '2', '4', '1', '1', '1', '2'],\n ['1', '1', '1', '3', '2', '3', '1', '1', '1', '2'],\n ['1', '1', '1', '1', '2', '2', '1', '1', '1', '2'],\n ['5', '1', '1', '6', '3', '1', '2', '1', '1', '2'],\n ['2', '1', '1', '1', '2', '1', '1', '1', '1', '2'],\n ['1', '1', '1', '1', '2', '1', '1', '1', '1', '2'],\n ['5', '1', '1', '1', '2', '1', '1', '1', '1', '2'],\n ['1', '1', '1', '1', '1', '1', '1', '1', '1', '2'],\n ['5', '7', '9', '8', '6', '10', '8', '10', '1', '4'],\n ['4', '1', '1', '3', '1', '1', '2', '1', '1', '2'],\n ['5', '1', '1', '1', '2', '1', '1', '1', '1', '2'],\n ['3', '1', '1', '3', '2', '1', '1', '1', '1', '2'],\n ['4', '5', '5', '8', '6', '10', '10', '7', '1', '4'],\n ['2', '3', '1', '1', '3', '1', '1', '1', '1', '2'],\n ['10', '2', '2', '1', '2', '6', '1', '1', '2', '4'],\n ['10', '6', '5', '8', '5', '10', '8', '6', '1', '4'],\n ['8', '8', '9', '6', '6', '3', '10', '10', '1', '4'],\n ['5', '1', '2', '1', '2', '1', '1', '1', '1', '2'],\n ['5', '1', '3', '1', '2', '1', '1', '1', '1', '2'],\n ['5', '1', '1', '3', '2', '1', '1', '1', '1', '2'],\n ['3', '1', '1', '1', '2', '5', '1', '1', '1', '2'],\n ['6', '1', '1', '3', '2', '1', '1', '1', '1', '2'],\n ['4', '1', '1', '1', '2', '1', '1', '2', '1', '2'],\n ['4', '1', '1', '1', '2', '1', '1', '1', '1', '2'],\n ['10', '9', '8', '7', '6', '4', '7', '10', '3', '4'],\n ['10', '6', '6', '2', '4', '10', '9', '7', '1', '4'],\n ['6', '6', '6', '5', '4', '10', '7', '6', '2', '4'],\n ['4', '1', '1', '1', '2', '1', '1', '1', '1', '2'],\n ['1', '1', '2', '1', '2', '1', '2', '1', '1', '2'],\n ['3', '1', '1', '1', '1', '1', '2', '1', '1', '2'],\n ['6', '1', '1', '3', '2', '1', '1', '1', '1', '2'],\n ['6', '1', '1', '1', '1', '1', '1', '1', '1', '2'],\n ['4', '1', '1', '1', '2', '1', '1', '1', '1', '2'],\n ['5', '1', '1', '1', '2', '1', '1', '1', '1', '2'],\n ['3', '1', '1', '1', '2', '1', '1', '1', '1', '2'],\n ['4', '1', '2', '1', '2', '1', '1', '1', '1', '2'],\n ['4', '1', '1', '1', '2', '1', '1', '1', '1', '2'],\n ['5', '2', '1', '1', '2', '1', '1', '1', '1', '2'],\n ['4', '8', '7', '10', '4', '10', '7', '5', '1', '4'],\n ['5', '1', '1', '1', '1', '1', '1', '1', '1', '2'],\n ['5', '3', '2', '4', '2', '1', '1', '1', '1', '2'],\n ['9', '10', '10', '10', '10', '5', '10', '10', '10', '4'],\n ['8', '7', '8', '5', '5', '10', '9', '10', '1', '4'],\n ['5', '1', '2', '1', '2', '1', '1', '1', '1', '2'],\n ['1', '1', '1', '3', '1', '3', '1', '1', '1', '2'],\n ['3', '1', '1', '1', '1', '1', '2', '1', '1', '2'],\n ['10', '10', '10', '10', '6', '10', '8', '1', '5', '4'],\n ['3', '6', '4', '10', '3', '3', '3', '4', '1', '4'],\n ['6', '3', '2', '1', '3', '4', '4', '1', '1', '4'],\n ['1', '1', '1', '1', '2', '1', '1', '1', '1', '2'],\n ['5', '8', '9', '4', '3', '10', '7', '1', '1', '4'],\n ['4', '1', '1', '1', '1', '1', '2', '1', '1', '2'],\n ['5', '10', '10', '10', '6', '10', '6', '5', '2', '4'],\n ['5', '1', '2', '10', '4', '5', '2', '1', '1', '2'],\n ['3', '1', '1', '1', '1', '1', '2', '1', '1', '2'],\n ['1', '1', '1', '1', '1', '1', '1', '1', '1', '2'],\n ['4', '2', '1', '1', '2', '1', '1', '1', '1', '2'],\n ['4', '1', '1', '1', '2', '1', '2', '1', '1', '2'],\n ['4', '1', '1', '1', '2', '1', '2', '1', '1', '2'],\n ['6', '1', '1', '1', '2', '1', '3', '1', '1', '2'],\n ['4', '1', '1', '1', '2', '1', '2', '1', '1', '2'],\n ['4', '1', '1', '2', '2', '1', '2', '1', '1', '2'],\n ['4', '1', '1', '1', '2', '1', '3', '1', '1', '2'],\n ['1', '1', '1', '1', '2', '1', '1', '1', '1', '2'],\n ['3', '3', '1', '1', '2', '1', '1', '1', '1', '2'],\n ['8', '10', '10', '10', '7', '5', '4', '8', '7', '4'],\n ['1', '1', '1', '1', '2', '4', '1', '1', '1', '2'],\n ['5', '1', '1', '1', '2', '1', '1', '1', '1', '2'],\n ['2', '1', '1', '1', '2', '1', '1', '1', '1', '2'],\n ['1', '1', '1', '1', '2', '1', '1', '1', '1', '2'],\n ['5', '1', '1', '1', '2', '1', '2', '1', '1', '2'],\n ['5', '1', '1', '1', '2', '1', '1', '1', '1', '2'],\n ['3', '1', '1', '1', '1', '1', '2', '1', '1', '2'],\n ['6', '6', '7', '10', '3', '10', '8', '10', '2', '4'],\n ['4', '10', '4', '7', '3', '10', '9', '10', '1', '4'],\n ['1', '1', '1', '1', '1', '1', '1', '1', '1', '2'],\n ['1', '1', '1', '1', '1', '1', '2', '1', '1', '2'],\n ['3', '1', '2', '2', '2', '1', '1', '1', '1', '2'],\n ['4', '7', '8', '3', '4', '10', '9', '1', '1', '4'],\n ['1', '1', '1', '1', '3', '1', '1', '1', '1', '2'],\n ['4', '1', '1', '1', '3', '1', '1', '1', '1', '2'],\n ['10', '4', '5', '4', '3', '5', '7', '3', '1', '4'],\n ['7', '5', '6', '10', '4', '10', '5', '3', '1', '4'],\n ['3', '1', '1', '1', '2', '1', '2', '1', '1', '2'],\n ['3', '1', '1', '2', '2', '1', '1', '1', '1', '2'],\n ['4', '1', '1', '1', '2', '1', '1', '1', '1', '2'],\n ['4', '1', '1', '1', '2', '1', '3', '1', '1', '2'],\n ['6', '1', '3', '2', '2', '1', '1', '1', '1', '2'],\n ['4', '1', '1', '1', '1', '1', '2', '1', '1', '2'],\n ['7', '4', '4', '3', '4', '10', '6', '9', '1', '4'],\n ['4', '2', '2', '1', '2', '1', '2', '1', '1', '2'],\n ['1', '1', '1', '1', '1', '1', '3', '1', '1', '2'],\n ['3', '1', '1', '1', '2', '1', '2', '1', '1', '2'],\n ['2', '1', '1', '1', '2', '1', '2', '1', '1', '2'],\n ['1', '1', '3', '2', '2', '1', '3', '1', '1', '2'],\n ['5', '1', '1', '1', '2', '1', '3', '1', '1', '2'],\n ['5', '1', '2', '1', '2', '1', '3', '1', '1', '2'],\n ['4', '1', '1', '1', '2', '1', '2', '1', '1', '2'],\n ['6', '1', '1', '1', '2', '1', '2', '1', '1', '2'],\n ['5', '1', '1', '1', '2', '2', '2', '1', '1', '2'],\n ['3', '1', '1', '1', '2', '1', '1', '1', '1', '2'],\n ['5', '3', '1', '1', '2', '1', '1', '1', '1', '2'],\n ['4', '1', '1', '1', '2', '1', '2', '1', '1', '2'],\n ['2', '1', '3', '2', '2', '1', '2', '1', '1', '2'],\n ['5', '1', '1', '1', '2', '1', '2', '1', '1', '2'],\n ['6', '10', '10', '10', '4', '10', '7', '10', '1', '4'],\n ['2', '1', '1', '1', '1', '1', '1', '1', '1', '2'],\n ['3', '1', '1', '1', '1', '1', '1', '1', '1', '2'],\n ['7', '8', '3', '7', '4', '5', '7', '8', '2', '4'],\n ['3', '1', '1', '1', '2', '1', '2', '1', '1', '2'],\n ['1', '1', '1', '1', '2', '1', '3', '1', '1', '2'],\n ['3', '2', '2', '2', '2', '1', '4', '2', '1', '2'],\n ['4', '4', '2', '1', '2', '5', '2', '1', '2', '2'],\n ['3', '1', '1', '1', '2', '1', '1', '1', '1', '2'],\n ['4', '3', '1', '1', '2', '1', '4', '8', '1', '2'],\n ['5', '2', '2', '2', '1', '1', '2', '1', '1', '2'],\n ['5', '1', '1', '3', '2', '1', '1', '1', '1', '2'],\n ['2', '1', '1', '1', '2', '1', '2', '1', '1', '2'],\n ['5', '1', '1', '1', '2', '1', '2', '1', '1', '2'],\n ['5', '1', '1', '1', '2', '1', '3', '1', '1', '2'],\n ['5', '1', '1', '1', '2', '1', '3', '1', '1', '2'],\n ['1', '1', '1', '1', '2', '1', '3', '1', '1', '2'],\n ['3', '1', '1', '1', '2', '1', '2', '1', '1', '2'],\n ['4', '1', '1', '1', '2', '1', '3', '2', '1', '2'],\n ['5', '7', '10', '10', '5', '10', '10', '10', '1', '4'],\n ['3', '1', '2', '1', '2', '1', '3', '1', '1', '2'],\n ['4', '1', '1', '1', '2', '3', '2', '1', '1', '2'],\n ['8', '4', '4', '1', '6', '10', '2', '5', '2', '4'],\n ['10', '10', '8', '10', '6', '5', '10', '3', '1', '4'],\n ['8', '10', '4', '4', '8', '10', '8', '2', '1', '4'],\n ['7', '6', '10', '5', '3', '10', '9', '10', '2', '4'],\n ['3', '1', '1', '1', '2', '1', '2', '1', '1', '2'],\n ['1', '1', '1', '1', '2', '1', '2', '1', '1', '2'],\n ['10', '9', '7', '3', '4', '2', '7', '7', '1', '4'],\n ['5', '1', '2', '1', '2', '1', '3', '1', '1', '2'],\n ['5', '1', '1', '1', '2', '1', '2', '1', '1', '2'],\n ['1', '1', '1', '1', '2', '1', '2', '1', '1', '2'],\n ['1', '1', '1', '1', '2', '1', '2', '1', '1', '2'],\n ['1', '1', '1', '1', '2', '1', '3', '1', '1', '2'],\n ['5', '1', '2', '1', '2', '1', '2', '1', '1', '2'],\n ['5', '7', '10', '6', '5', '10', '7', '5', '1', '4'],\n ['6', '10', '5', '5', '4', '10', '6', '10', '1', '4'],\n ['3', '1', '1', '1', '2', '1', '1', '1', '1', '2'],\n ['5', '1', '1', '6', '3', '1', '1', '1', '1', '2'],\n ['1', '1', '1', '1', '2', '1', '1', '1', '1', '2'],\n ['8', '10', '10', '10', '6', '10', '10', '10', '1', '4'],\n ['5', '1', '1', '1', '2', '1', '2', '2', '1', '2'],\n ['9', '8', '8', '9', '6', '3', '4', '1', '1', '4'],\n ['5', '1', '1', '1', '2', '1', '1', '1', '1', '2'],\n ['4', '10', '8', '5', '4', '1', '10', '1', '1', '4'],\n ['2', '5', '7', '6', '4', '10', '7', '6', '1', '4'],\n ['10', '3', '4', '5', '3', '10', '4', '1', '1', '4'],\n ['5', '1', '2', '1', '2', '1', '1', '1', '1', '2'],\n ['4', '8', '6', '3', '4', '10', '7', '1', '1', '4'],\n ['5', '1', '1', '1', '2', '1', '2', '1', '1', '2'],\n ['4', '1', '2', '1', '2', '1', '2', '1', '1', '2'],\n ['5', '1', '3', '1', '2', '1', '3', '1', '1', '2'],\n ['3', '1', '1', '1', '2', '1', '2', '1', '1', '2'],\n ['5', '2', '4', '1', '1', '1', '1', '1', '1', '2'],\n ['3', '1', '1', '1', '2', '1', '2', '1', '1', '2'],\n ['1', '1', '1', '1', '1', '1', '2', '1', '1', '2'],\n ['4', '1', '1', '1', '2', '1', '2', '1', '1', '2'],\n ['5', '4', '6', '8', '4', '1', '8', '10', '1', '4'],\n ['5', '3', '2', '8', '5', '10', '8', '1', '2', '4'],\n ['10', '5', '10', '3', '5', '8', '7', '8', '3', '4'],\n ['4', '1', '1', '2', '2', '1', '1', '1', '1', '2'],\n ['1', '1', '1', '1', '2', '1', '1', '1', '1', '2'],\n ['5', '10', '10', '10', '10', '10', '10', '1', '1', '4'],\n ['5', '1', '1', '1', '2', '1', '1', '1', '1', '2'],\n ['10', '4', '3', '10', '3', '10', '7', '1', '2', '4'],\n ['5', '10', '10', '10', '5', '2', '8', '5', '1', '4'],\n ['8', '10', '10', '10', '6', '10', '10', '10', '10', '4'],\n ['2', '3', '1', '1', '2', '1', '2', '1', '1', '2'],\n ['2', '1', '1', '1', '1', '1', '2', '1', '1', '2'],\n ['4', '1', '3', '1', '2', '1', '2', '1', '1', '2'],\n ['3', '1', '1', '1', '2', '1', '2', '1', '1', '2'],\n ['4', '1', '1', '1', '2', '1', '2', '1', '1', '2'],\n ['5', '1', '1', '1', '2', '1', '2', '1', '1', '2'],\n ['3', '1', '1', '1', '2', '1', '2', '1', '1', '2'],\n ['6', '3', '3', '3', '3', '2', '6', '1', '1', '2'],\n ['7', '1', '2', '3', '2', '1', '2', '1', '1', '2'],\n ['1', '1', '1', '1', '2', '1', '1', '1', '1', '2'],\n ['5', '1', '1', '2', '1', '1', '2', '1', '1', '2'],\n ['3', '1', '3', '1', '3', '4', '1', '1', '1', '2'],\n ['4', '6', '6', '5', '7', '6', '7', '7', '3', '4'],\n ['2', '1', '1', '1', '2', '5', '1', '1', '1', '2'],\n ['2', '1', '1', '1', '2', '1', '1', '1', '1', '2'],\n ['4', '1', '1', '1', '2', '1', '1', '1', '1', '2'],\n ['6', '2', '3', '1', '2', '1', '1', '1', '1', '2'],\n ['5', '1', '1', '1', '2', '1', '2', '1', '1', '2'],\n ['1', '1', '1', '1', '2', '1', '1', '1', '1', '2'],\n ['8', '7', '4', '4', '5', '3', '5', '10', '1', '4'],\n ['3', '1', '1', '1', '2', '1', '1', '1', '1', '2'],\n ['3', '1', '4', '1', '2', '1', '1', '1', '1', '2'],\n ['10', '10', '7', '8', '7', '1', '10', '10', '3', '4'],\n ['4', '2', '4', '3', '2', '2', '2', '1', '1', '2'],\n ['4', '1', '1', '1', '2', '1', '1', '1', '1', '2'],\n ['5', '1', '1', '3', '2', '1', '1', '1', '1', '2'],\n ['4', '1', '1', '3', '2', '1', '1', '1', '1', '2'],\n ['3', '1', '1', '1', '2', '1', '2', '1', '1', '2'],\n ['3', '1', '1', '1', '2', '1', '2', '1', '1', '2'],\n ['1', '1', '1', '1', '2', '1', '1', '1', '1', '2'],\n ['2', '1', '1', '1', '2', '1', '1', '1', '1', '2'],\n ['3', '1', '1', '1', '2', '1', '2', '1', '1', '2'],\n ['1', '2', '2', '1', '2', '1', '1', '1', '1', '2'],\n ['1', '1', '1', '3', '2', '1', '1', '1', '1', '2'],\n ['5', '10', '10', '10', '10', '2', '10', '10', '10', '4'],\n ['3', '1', '1', '1', '2', '1', '2', '1', '1', '2'],\n ['3', '1', '1', '2', '3', '4', '1', '1', '1', '2'],\n ['1', '2', '1', '3', '2', '1', '2', '1', '1', '2'],\n ['5', '1', '1', '1', '2', '1', '2', '2', '1', '2'],\n ['4', '1', '1', '1', '2', '1', '2', '1', '1', '2'],\n ['3', '1', '1', '1', '2', '1', '3', '1', '1', '2'],\n ['3', '1', '1', '1', '2', '1', '2', '1', '1', '2'],\n ['5', '1', '1', '1', '2', '1', '2', '1', '1', '2'],\n ['5', '4', '5', '1', '8', '1', '3', '6', '1', '2'],\n ['7', '8', '8', '7', '3', '10', '7', '2', '3', '4'],\n ['1', '1', '1', '1', '2', '1', '1', '1', '1', '2'],\n ['1', '1', '1', '1', '2', '1', '2', '1', '1', '2'],\n ['4', '1', '1', '1', '2', '1', '3', '1', '1', '2'],\n ['1', '1', '3', '1', '2', '1', '2', '1', '1', '2'],\n ['1', '1', '3', '1', '2', '1', '2', '1', '1', '2'],\n ['3', '1', '1', '3', '2', '1', '2', '1', '1', '2'],\n ['1', '1', '1', '1', '2', '1', '1', '1', '1', '2'],\n ['5', '2', '2', '2', '2', '1', '1', '1', '2', '2'],\n ['3', '1', '1', '1', '2', '1', '3', '1', '1', '2'],\n ['5', '7', '4', '1', '6', '1', '7', '10', '3', '4'],\n ['5', '10', '10', '8', '5', '5', '7', '10', '1', '4'],\n ['3', '10', '7', '8', '5', '8', '7', '4', '1', '4'],\n ['3', '2', '1', '2', '2', '1', '3', '1', '1', '2'],\n ['2', '1', '1', '1', '2', '1', '3', '1', '1', '2'],\n ['5', '3', '2', '1', '3', '1', '1', '1', '1', '2'],\n ['1', '1', '1', '1', '2', '1', '2', '1', '1', '2'],\n ['4', '1', '4', '1', '2', '1', '1', '1', '1', '2'],\n ['1', '1', '2', '1', '2', '1', '2', '1', '1', '2'],\n ['5', '1', '1', '1', '2', '1', '1', '1', '1', '2'],\n ['1', '1', '1', '1', '2', '1', '1', '1', '1', '2'],\n ['2', '1', '1', '1', '2', '1', '1', '1', '1', '2'],\n ['10', '10', '10', '10', '5', '10', '10', '10', '7', '4'],\n ['5', '10', '10', '10', '4', '10', '5', '6', '3', '4'],\n ['5', '1', '1', '1', '2', '1', '3', '2', '1', '2'],\n ['1', '1', '1', '1', '2', '1', '1', '1', '1', '2'],\n ['1', '1', '1', '1', '2', '1', '1', '1', '1', '2'],\n ['1', '1', '1', '1', '2', '1', '1', '1', '1', '2'],\n ['1', '1', '1', '1', '2', '1', '1', '1', '1', '2'],\n ['3', '1', '1', '1', '2', '1', '2', '3', '1', '2'],\n ['4', '1', '1', '1', '2', '1', '1', '1', '1', '2'],\n ['1', '1', '1', '1', '2', '1', '1', '1', '8', '2'],\n ['1', '1', '1', '3', '2', '1', '1', '1', '1', '2'],\n ['5', '10', '10', '5', '4', '5', '4', '4', '1', '4'],\n ['3', '1', '1', '1', '2', '1', '1', '1', '1', '2'],\n ['3', '1', '1', '1', '2', '1', '2', '1', '2', '2'],\n ['3', '1', '1', '1', '3', '2', '1', '1', '1', '2'],\n ['2', '1', '1', '1', '2', '1', '1', '1', '1', '2'],\n ['5', '10', '10', '3', '7', '3', '8', '10', '2', '4'],\n ['4', '8', '6', '4', '3', '4', '10', '6', '1', '4'],\n ['4', '8', '8', '5', '4', '5', '10', '4', '1', '4']]"
     },
     "execution_count": 6,
     "metadata": {},
     "output_type": "execute_result"
    }
   ],
   "source": [
    "cancer_dataset"
   ],
   "metadata": {
    "collapsed": false,
    "pycharm": {
     "name": "#%%\n"
    }
   }
  },
  {
   "cell_type": "code",
   "execution_count": 7,
   "outputs": [
    {
     "data": {
      "text/plain": "[[5.0, 1.0, 1.0, 1.0, 2.0, 1.0, 3.0, 1.0, 1.0, '2'],\n [5.0, 4.0, 4.0, 5.0, 7.0, 10.0, 3.0, 2.0, 1.0, '2'],\n [3.0, 1.0, 1.0, 1.0, 2.0, 2.0, 3.0, 1.0, 1.0, '2'],\n [6.0, 8.0, 8.0, 1.0, 3.0, 4.0, 3.0, 7.0, 1.0, '2'],\n [4.0, 1.0, 1.0, 3.0, 2.0, 1.0, 3.0, 1.0, 1.0, '2'],\n [8.0, 10.0, 10.0, 8.0, 7.0, 10.0, 9.0, 7.0, 1.0, '4'],\n [1.0, 1.0, 1.0, 1.0, 2.0, 10.0, 3.0, 1.0, 1.0, '2'],\n [2.0, 1.0, 2.0, 1.0, 2.0, 1.0, 3.0, 1.0, 1.0, '2'],\n [2.0, 1.0, 1.0, 1.0, 2.0, 1.0, 1.0, 1.0, 5.0, '2'],\n [4.0, 2.0, 1.0, 1.0, 2.0, 1.0, 2.0, 1.0, 1.0, '2'],\n [1.0, 1.0, 1.0, 1.0, 1.0, 1.0, 3.0, 1.0, 1.0, '2'],\n [2.0, 1.0, 1.0, 1.0, 2.0, 1.0, 2.0, 1.0, 1.0, '2'],\n [5.0, 3.0, 3.0, 3.0, 2.0, 3.0, 4.0, 4.0, 1.0, '4'],\n [1.0, 1.0, 1.0, 1.0, 2.0, 3.0, 3.0, 1.0, 1.0, '2'],\n [8.0, 7.0, 5.0, 10.0, 7.0, 9.0, 5.0, 5.0, 4.0, '4'],\n [7.0, 4.0, 6.0, 4.0, 6.0, 1.0, 4.0, 3.0, 1.0, '4'],\n [4.0, 1.0, 1.0, 1.0, 2.0, 1.0, 2.0, 1.0, 1.0, '2'],\n [4.0, 1.0, 1.0, 1.0, 2.0, 1.0, 3.0, 1.0, 1.0, '2'],\n [10.0, 7.0, 7.0, 6.0, 4.0, 10.0, 4.0, 1.0, 2.0, '4'],\n [6.0, 1.0, 1.0, 1.0, 2.0, 1.0, 3.0, 1.0, 1.0, '2'],\n [7.0, 3.0, 2.0, 10.0, 5.0, 10.0, 5.0, 4.0, 4.0, '4'],\n [10.0, 5.0, 5.0, 3.0, 6.0, 7.0, 7.0, 10.0, 1.0, '4'],\n [3.0, 1.0, 1.0, 1.0, 2.0, 1.0, 2.0, 1.0, 1.0, '2'],\n [1.0, 1.0, 1.0, 1.0, 2.0, 1.0, 3.0, 1.0, 1.0, '2'],\n [5.0, 2.0, 3.0, 4.0, 2.0, 7.0, 3.0, 6.0, 1.0, '4'],\n [3.0, 2.0, 1.0, 1.0, 1.0, 1.0, 2.0, 1.0, 1.0, '2'],\n [5.0, 1.0, 1.0, 1.0, 2.0, 1.0, 2.0, 1.0, 1.0, '2'],\n [2.0, 1.0, 1.0, 1.0, 2.0, 1.0, 2.0, 1.0, 1.0, '2'],\n [1.0, 1.0, 3.0, 1.0, 2.0, 1.0, 1.0, 1.0, 1.0, '2'],\n [3.0, 1.0, 1.0, 1.0, 1.0, 1.0, 2.0, 1.0, 1.0, '2'],\n [2.0, 1.0, 1.0, 1.0, 2.0, 1.0, 3.0, 1.0, 1.0, '2'],\n [10.0, 7.0, 7.0, 3.0, 8.0, 5.0, 7.0, 4.0, 3.0, '4'],\n [2.0, 1.0, 1.0, 2.0, 2.0, 1.0, 3.0, 1.0, 1.0, '2'],\n [3.0, 1.0, 2.0, 1.0, 2.0, 1.0, 2.0, 1.0, 1.0, '2'],\n [2.0, 1.0, 1.0, 1.0, 2.0, 1.0, 2.0, 1.0, 1.0, '2'],\n [10.0, 10.0, 10.0, 8.0, 6.0, 1.0, 8.0, 9.0, 1.0, '4'],\n [6.0, 2.0, 1.0, 1.0, 1.0, 1.0, 7.0, 1.0, 1.0, '2'],\n [5.0, 4.0, 4.0, 9.0, 2.0, 10.0, 5.0, 6.0, 1.0, '4'],\n [2.0, 5.0, 3.0, 3.0, 6.0, 7.0, 7.0, 5.0, 1.0, '4'],\n [10.0, 4.0, 3.0, 1.0, 3.0, 3.0, 6.0, 5.0, 2.0, '4'],\n [6.0, 10.0, 10.0, 2.0, 8.0, 10.0, 7.0, 3.0, 3.0, '4'],\n [5.0, 6.0, 5.0, 6.0, 10.0, 1.0, 3.0, 1.0, 1.0, '4'],\n [10.0, 10.0, 10.0, 4.0, 8.0, 1.0, 8.0, 10.0, 1.0, '4'],\n [1.0, 1.0, 1.0, 1.0, 2.0, 1.0, 2.0, 1.0, 2.0, '2'],\n [3.0, 7.0, 7.0, 4.0, 4.0, 9.0, 4.0, 8.0, 1.0, '4'],\n [1.0, 1.0, 1.0, 1.0, 2.0, 1.0, 2.0, 1.0, 1.0, '2'],\n [4.0, 1.0, 1.0, 3.0, 2.0, 1.0, 3.0, 1.0, 1.0, '2'],\n [7.0, 8.0, 7.0, 2.0, 4.0, 8.0, 3.0, 8.0, 2.0, '4'],\n [9.0, 5.0, 8.0, 1.0, 2.0, 3.0, 2.0, 1.0, 5.0, '4'],\n [5.0, 3.0, 3.0, 4.0, 2.0, 4.0, 3.0, 4.0, 1.0, '4'],\n [10.0, 3.0, 6.0, 2.0, 3.0, 5.0, 4.0, 10.0, 2.0, '4'],\n [5.0, 5.0, 5.0, 8.0, 10.0, 8.0, 7.0, 3.0, 7.0, '4'],\n [10.0, 5.0, 5.0, 6.0, 8.0, 8.0, 7.0, 1.0, 1.0, '4'],\n [10.0, 6.0, 6.0, 3.0, 4.0, 5.0, 3.0, 6.0, 1.0, '4'],\n [8.0, 10.0, 10.0, 1.0, 3.0, 6.0, 3.0, 9.0, 1.0, '4'],\n [8.0, 2.0, 4.0, 1.0, 5.0, 1.0, 5.0, 4.0, 4.0, '4'],\n [5.0, 2.0, 3.0, 1.0, 6.0, 10.0, 5.0, 1.0, 1.0, '4'],\n [9.0, 5.0, 5.0, 2.0, 2.0, 2.0, 5.0, 1.0, 1.0, '4'],\n [5.0, 3.0, 5.0, 5.0, 3.0, 3.0, 4.0, 10.0, 1.0, '4'],\n [1.0, 1.0, 1.0, 1.0, 2.0, 2.0, 2.0, 1.0, 1.0, '2'],\n [9.0, 10.0, 10.0, 1.0, 10.0, 8.0, 3.0, 3.0, 1.0, '4'],\n [6.0, 3.0, 4.0, 1.0, 5.0, 2.0, 3.0, 9.0, 1.0, '4'],\n [1.0, 1.0, 1.0, 1.0, 2.0, 1.0, 2.0, 1.0, 1.0, '2'],\n [10.0, 4.0, 2.0, 1.0, 3.0, 2.0, 4.0, 3.0, 10.0, '4'],\n [4.0, 1.0, 1.0, 1.0, 2.0, 1.0, 3.0, 1.0, 1.0, '2'],\n [5.0, 3.0, 4.0, 1.0, 8.0, 10.0, 4.0, 9.0, 1.0, '4'],\n [8.0, 3.0, 8.0, 3.0, 4.0, 9.0, 8.0, 9.0, 8.0, '4'],\n [1.0, 1.0, 1.0, 1.0, 2.0, 1.0, 3.0, 2.0, 1.0, '2'],\n [5.0, 1.0, 3.0, 1.0, 2.0, 1.0, 2.0, 1.0, 1.0, '2'],\n [6.0, 10.0, 2.0, 8.0, 10.0, 2.0, 7.0, 8.0, 10.0, '4'],\n [1.0, 3.0, 3.0, 2.0, 2.0, 1.0, 7.0, 2.0, 1.0, '2'],\n [9.0, 4.0, 5.0, 10.0, 6.0, 10.0, 4.0, 8.0, 1.0, '4'],\n [10.0, 6.0, 4.0, 1.0, 3.0, 4.0, 3.0, 2.0, 3.0, '4'],\n [1.0, 1.0, 2.0, 1.0, 2.0, 2.0, 4.0, 2.0, 1.0, '2'],\n [1.0, 1.0, 4.0, 1.0, 2.0, 1.0, 2.0, 1.0, 1.0, '2'],\n [5.0, 3.0, 1.0, 2.0, 2.0, 1.0, 2.0, 1.0, 1.0, '2'],\n [3.0, 1.0, 1.0, 1.0, 2.0, 3.0, 3.0, 1.0, 1.0, '2'],\n [2.0, 1.0, 1.0, 1.0, 3.0, 1.0, 2.0, 1.0, 1.0, '2'],\n [2.0, 2.0, 2.0, 1.0, 1.0, 1.0, 7.0, 1.0, 1.0, '2'],\n [4.0, 1.0, 1.0, 2.0, 2.0, 1.0, 2.0, 1.0, 1.0, '2'],\n [5.0, 2.0, 1.0, 1.0, 2.0, 1.0, 3.0, 1.0, 1.0, '2'],\n [3.0, 1.0, 1.0, 1.0, 2.0, 2.0, 7.0, 1.0, 1.0, '2'],\n [3.0, 5.0, 7.0, 8.0, 8.0, 9.0, 7.0, 10.0, 7.0, '4'],\n [5.0, 10.0, 6.0, 1.0, 10.0, 4.0, 4.0, 10.0, 10.0, '4'],\n [3.0, 3.0, 6.0, 4.0, 5.0, 8.0, 4.0, 4.0, 1.0, '4'],\n [3.0, 6.0, 6.0, 6.0, 5.0, 10.0, 6.0, 8.0, 3.0, '4'],\n [4.0, 1.0, 1.0, 1.0, 2.0, 1.0, 3.0, 1.0, 1.0, '2'],\n [2.0, 1.0, 1.0, 2.0, 3.0, 1.0, 2.0, 1.0, 1.0, '2'],\n [1.0, 1.0, 1.0, 1.0, 2.0, 1.0, 3.0, 1.0, 1.0, '2'],\n [3.0, 1.0, 1.0, 2.0, 2.0, 1.0, 1.0, 1.0, 1.0, '2'],\n [4.0, 1.0, 1.0, 1.0, 2.0, 1.0, 3.0, 1.0, 1.0, '2'],\n [1.0, 1.0, 1.0, 1.0, 2.0, 1.0, 2.0, 1.0, 1.0, '2'],\n [2.0, 1.0, 1.0, 1.0, 2.0, 1.0, 3.0, 1.0, 1.0, '2'],\n [1.0, 1.0, 1.0, 1.0, 2.0, 1.0, 3.0, 1.0, 1.0, '2'],\n [2.0, 1.0, 1.0, 2.0, 2.0, 1.0, 1.0, 1.0, 1.0, '2'],\n [5.0, 1.0, 1.0, 1.0, 2.0, 1.0, 3.0, 1.0, 1.0, '2'],\n [9.0, 6.0, 9.0, 2.0, 10.0, 6.0, 2.0, 9.0, 10.0, '4'],\n [7.0, 5.0, 6.0, 10.0, 5.0, 10.0, 7.0, 9.0, 4.0, '4'],\n [10.0, 3.0, 5.0, 1.0, 10.0, 5.0, 3.0, 10.0, 2.0, '4'],\n [2.0, 3.0, 4.0, 4.0, 2.0, 5.0, 2.0, 5.0, 1.0, '4'],\n [4.0, 1.0, 2.0, 1.0, 2.0, 1.0, 3.0, 1.0, 1.0, '2'],\n [8.0, 2.0, 3.0, 1.0, 6.0, 3.0, 7.0, 1.0, 1.0, '4'],\n [10.0, 10.0, 10.0, 10.0, 10.0, 1.0, 8.0, 8.0, 8.0, '4'],\n [7.0, 3.0, 4.0, 4.0, 3.0, 3.0, 3.0, 2.0, 7.0, '4'],\n [10.0, 10.0, 10.0, 8.0, 2.0, 10.0, 4.0, 1.0, 1.0, '4'],\n [1.0, 6.0, 8.0, 10.0, 8.0, 10.0, 5.0, 7.0, 1.0, '4'],\n [1.0, 1.0, 1.0, 1.0, 2.0, 1.0, 2.0, 3.0, 1.0, '2'],\n [6.0, 5.0, 4.0, 4.0, 3.0, 9.0, 7.0, 8.0, 3.0, '4'],\n [1.0, 3.0, 1.0, 2.0, 2.0, 2.0, 5.0, 3.0, 2.0, '2'],\n [8.0, 6.0, 4.0, 3.0, 5.0, 9.0, 3.0, 1.0, 1.0, '4'],\n [10.0, 3.0, 3.0, 10.0, 2.0, 10.0, 7.0, 3.0, 3.0, '4'],\n [10.0, 10.0, 10.0, 3.0, 10.0, 8.0, 8.0, 1.0, 1.0, '4'],\n [3.0, 3.0, 2.0, 1.0, 2.0, 3.0, 3.0, 1.0, 1.0, '2'],\n [1.0, 1.0, 1.0, 1.0, 2.0, 5.0, 1.0, 1.0, 1.0, '2'],\n [8.0, 3.0, 3.0, 1.0, 2.0, 2.0, 3.0, 2.0, 1.0, '2'],\n [4.0, 5.0, 5.0, 10.0, 4.0, 10.0, 7.0, 5.0, 8.0, '4'],\n [1.0, 1.0, 1.0, 1.0, 4.0, 3.0, 1.0, 1.0, 1.0, '2'],\n [3.0, 2.0, 1.0, 1.0, 2.0, 2.0, 3.0, 1.0, 1.0, '2'],\n [1.0, 1.0, 2.0, 2.0, 2.0, 1.0, 3.0, 1.0, 1.0, '2'],\n [4.0, 2.0, 1.0, 1.0, 2.0, 2.0, 3.0, 1.0, 1.0, '2'],\n [10.0, 10.0, 10.0, 2.0, 10.0, 10.0, 5.0, 3.0, 3.0, '4'],\n [5.0, 3.0, 5.0, 1.0, 8.0, 10.0, 5.0, 3.0, 1.0, '4'],\n [5.0, 4.0, 6.0, 7.0, 9.0, 7.0, 8.0, 10.0, 1.0, '4'],\n [1.0, 1.0, 1.0, 1.0, 2.0, 1.0, 2.0, 1.0, 1.0, '2'],\n [7.0, 5.0, 3.0, 7.0, 4.0, 10.0, 7.0, 5.0, 5.0, '4'],\n [3.0, 1.0, 1.0, 1.0, 2.0, 1.0, 3.0, 1.0, 1.0, '2'],\n [8.0, 3.0, 5.0, 4.0, 5.0, 10.0, 1.0, 6.0, 2.0, '4'],\n [1.0, 1.0, 1.0, 1.0, 10.0, 1.0, 1.0, 1.0, 1.0, '2'],\n [5.0, 1.0, 3.0, 1.0, 2.0, 1.0, 2.0, 1.0, 1.0, '2'],\n [2.0, 1.0, 1.0, 1.0, 2.0, 1.0, 3.0, 1.0, 1.0, '2'],\n [5.0, 10.0, 8.0, 10.0, 8.0, 10.0, 3.0, 6.0, 3.0, '4'],\n [3.0, 1.0, 1.0, 1.0, 2.0, 1.0, 2.0, 2.0, 1.0, '2'],\n [3.0, 1.0, 1.0, 1.0, 3.0, 1.0, 2.0, 1.0, 1.0, '2'],\n [5.0, 1.0, 1.0, 1.0, 2.0, 2.0, 3.0, 3.0, 1.0, '2'],\n [4.0, 1.0, 1.0, 1.0, 2.0, 1.0, 2.0, 1.0, 1.0, '2'],\n [3.0, 1.0, 1.0, 1.0, 2.0, 1.0, 1.0, 1.0, 1.0, '2'],\n [4.0, 1.0, 2.0, 1.0, 2.0, 1.0, 2.0, 1.0, 1.0, '2'],\n [3.0, 1.0, 1.0, 1.0, 2.0, 1.0, 1.0, 1.0, 1.0, '2'],\n [2.0, 1.0, 1.0, 1.0, 2.0, 1.0, 1.0, 1.0, 1.0, '2'],\n [9.0, 5.0, 5.0, 4.0, 4.0, 5.0, 4.0, 3.0, 3.0, '4'],\n [1.0, 1.0, 1.0, 1.0, 2.0, 5.0, 1.0, 1.0, 1.0, '2'],\n [2.0, 1.0, 1.0, 1.0, 2.0, 1.0, 2.0, 1.0, 1.0, '2'],\n [3.0, 4.0, 5.0, 2.0, 6.0, 8.0, 4.0, 1.0, 1.0, '4'],\n [1.0, 1.0, 1.0, 1.0, 3.0, 2.0, 2.0, 1.0, 1.0, '2'],\n [3.0, 1.0, 1.0, 3.0, 8.0, 1.0, 5.0, 8.0, 1.0, '2'],\n [8.0, 8.0, 7.0, 4.0, 10.0, 10.0, 7.0, 8.0, 7.0, '4'],\n [1.0, 1.0, 1.0, 1.0, 1.0, 1.0, 3.0, 1.0, 1.0, '2'],\n [7.0, 2.0, 4.0, 1.0, 6.0, 10.0, 5.0, 4.0, 3.0, '4'],\n [10.0, 10.0, 8.0, 6.0, 4.0, 5.0, 8.0, 10.0, 1.0, '4'],\n [4.0, 1.0, 1.0, 1.0, 2.0, 3.0, 1.0, 1.0, 1.0, '2'],\n [1.0, 1.0, 1.0, 1.0, 2.0, 1.0, 1.0, 1.0, 1.0, '2'],\n [5.0, 5.0, 5.0, 6.0, 3.0, 10.0, 3.0, 1.0, 1.0, '4'],\n [1.0, 2.0, 2.0, 1.0, 2.0, 1.0, 2.0, 1.0, 1.0, '2'],\n [2.0, 1.0, 1.0, 1.0, 2.0, 1.0, 3.0, 1.0, 1.0, '2'],\n [9.0, 9.0, 10.0, 3.0, 6.0, 10.0, 7.0, 10.0, 6.0, '4'],\n [10.0, 7.0, 7.0, 4.0, 5.0, 10.0, 5.0, 7.0, 2.0, '4'],\n [4.0, 1.0, 1.0, 1.0, 2.0, 1.0, 3.0, 2.0, 1.0, '2'],\n [3.0, 1.0, 1.0, 1.0, 2.0, 1.0, 3.0, 1.0, 1.0, '2'],\n [1.0, 1.0, 1.0, 2.0, 1.0, 3.0, 1.0, 1.0, 7.0, '2'],\n [4.0, 1.0, 1.0, 1.0, 2.0, 2.0, 3.0, 2.0, 1.0, '2'],\n [5.0, 6.0, 7.0, 8.0, 8.0, 10.0, 3.0, 10.0, 3.0, '4'],\n [10.0, 8.0, 10.0, 10.0, 6.0, 1.0, 3.0, 1.0, 10.0, '4'],\n [3.0, 1.0, 1.0, 1.0, 2.0, 1.0, 3.0, 1.0, 1.0, '2'],\n [1.0, 1.0, 1.0, 2.0, 1.0, 1.0, 1.0, 1.0, 1.0, '2'],\n [3.0, 1.0, 1.0, 1.0, 2.0, 1.0, 1.0, 1.0, 1.0, '2'],\n [1.0, 1.0, 1.0, 1.0, 2.0, 1.0, 3.0, 1.0, 1.0, '2'],\n [1.0, 1.0, 1.0, 1.0, 2.0, 1.0, 2.0, 1.0, 1.0, '2'],\n [6.0, 10.0, 10.0, 10.0, 8.0, 10.0, 10.0, 10.0, 7.0, '4'],\n [8.0, 6.0, 5.0, 4.0, 3.0, 10.0, 6.0, 1.0, 1.0, '4'],\n [5.0, 8.0, 7.0, 7.0, 10.0, 10.0, 5.0, 7.0, 1.0, '4'],\n [2.0, 1.0, 1.0, 1.0, 2.0, 1.0, 3.0, 1.0, 1.0, '2'],\n [5.0, 10.0, 10.0, 3.0, 8.0, 1.0, 5.0, 10.0, 3.0, '4'],\n [4.0, 1.0, 1.0, 1.0, 2.0, 1.0, 3.0, 1.0, 1.0, '2'],\n [5.0, 3.0, 3.0, 3.0, 6.0, 10.0, 3.0, 1.0, 1.0, '4'],\n [1.0, 1.0, 1.0, 1.0, 1.0, 1.0, 3.0, 1.0, 1.0, '2'],\n [1.0, 1.0, 1.0, 1.0, 2.0, 1.0, 1.0, 1.0, 1.0, '2'],\n [6.0, 1.0, 1.0, 1.0, 2.0, 1.0, 3.0, 1.0, 1.0, '2'],\n [5.0, 8.0, 8.0, 8.0, 5.0, 10.0, 7.0, 8.0, 1.0, '4'],\n [8.0, 7.0, 6.0, 4.0, 4.0, 10.0, 5.0, 1.0, 1.0, '4'],\n [2.0, 1.0, 1.0, 1.0, 1.0, 1.0, 3.0, 1.0, 1.0, '2'],\n [1.0, 5.0, 8.0, 6.0, 5.0, 8.0, 7.0, 10.0, 1.0, '4'],\n [10.0, 5.0, 6.0, 10.0, 6.0, 10.0, 7.0, 7.0, 10.0, '4'],\n [5.0, 8.0, 4.0, 10.0, 5.0, 8.0, 9.0, 10.0, 1.0, '4'],\n [1.0, 2.0, 3.0, 1.0, 2.0, 1.0, 3.0, 1.0, 1.0, '2'],\n [10.0, 10.0, 10.0, 8.0, 6.0, 8.0, 7.0, 10.0, 1.0, '4'],\n [7.0, 5.0, 10.0, 10.0, 10.0, 10.0, 4.0, 10.0, 3.0, '4'],\n [5.0, 1.0, 1.0, 1.0, 2.0, 1.0, 2.0, 1.0, 1.0, '2'],\n [1.0, 1.0, 1.0, 1.0, 2.0, 1.0, 3.0, 1.0, 1.0, '2'],\n [3.0, 1.0, 1.0, 1.0, 2.0, 1.0, 3.0, 1.0, 1.0, '2'],\n [4.0, 1.0, 1.0, 1.0, 2.0, 1.0, 3.0, 1.0, 1.0, '2'],\n [8.0, 4.0, 4.0, 5.0, 4.0, 7.0, 7.0, 8.0, 2.0, '2'],\n [5.0, 1.0, 1.0, 4.0, 2.0, 1.0, 3.0, 1.0, 1.0, '2'],\n [1.0, 1.0, 1.0, 1.0, 2.0, 1.0, 1.0, 1.0, 1.0, '2'],\n [3.0, 1.0, 1.0, 1.0, 2.0, 1.0, 2.0, 1.0, 1.0, '2'],\n [9.0, 7.0, 7.0, 5.0, 5.0, 10.0, 7.0, 8.0, 3.0, '4'],\n [10.0, 8.0, 8.0, 4.0, 10.0, 10.0, 8.0, 1.0, 1.0, '4'],\n [1.0, 1.0, 1.0, 1.0, 2.0, 1.0, 3.0, 1.0, 1.0, '2'],\n [5.0, 1.0, 1.0, 1.0, 2.0, 1.0, 3.0, 1.0, 1.0, '2'],\n [1.0, 1.0, 1.0, 1.0, 2.0, 1.0, 3.0, 1.0, 1.0, '2'],\n [5.0, 10.0, 10.0, 9.0, 6.0, 10.0, 7.0, 10.0, 5.0, '4'],\n [10.0, 10.0, 9.0, 3.0, 7.0, 5.0, 3.0, 5.0, 1.0, '4'],\n [1.0, 1.0, 1.0, 1.0, 1.0, 1.0, 3.0, 1.0, 1.0, '2'],\n [1.0, 1.0, 1.0, 1.0, 1.0, 1.0, 3.0, 1.0, 1.0, '2'],\n [5.0, 1.0, 1.0, 1.0, 1.0, 1.0, 3.0, 1.0, 1.0, '2'],\n [8.0, 10.0, 10.0, 10.0, 5.0, 10.0, 8.0, 10.0, 6.0, '4'],\n [8.0, 10.0, 8.0, 8.0, 4.0, 8.0, 7.0, 7.0, 1.0, '4'],\n [1.0, 1.0, 1.0, 1.0, 2.0, 1.0, 3.0, 1.0, 1.0, '2'],\n [10.0, 10.0, 10.0, 10.0, 7.0, 10.0, 7.0, 10.0, 4.0, '4'],\n [10.0, 10.0, 10.0, 10.0, 3.0, 10.0, 10.0, 6.0, 1.0, '4'],\n [8.0, 7.0, 8.0, 7.0, 5.0, 5.0, 5.0, 10.0, 2.0, '4'],\n [1.0, 1.0, 1.0, 1.0, 2.0, 1.0, 2.0, 1.0, 1.0, '2'],\n [1.0, 1.0, 1.0, 1.0, 2.0, 1.0, 3.0, 1.0, 1.0, '2'],\n [6.0, 10.0, 7.0, 7.0, 6.0, 4.0, 8.0, 10.0, 2.0, '4'],\n [6.0, 1.0, 3.0, 1.0, 2.0, 1.0, 3.0, 1.0, 1.0, '2'],\n [1.0, 1.0, 1.0, 2.0, 2.0, 1.0, 3.0, 1.0, 1.0, '2'],\n [10.0, 6.0, 4.0, 3.0, 10.0, 10.0, 9.0, 10.0, 1.0, '4'],\n [4.0, 1.0, 1.0, 3.0, 1.0, 5.0, 2.0, 1.0, 1.0, '4'],\n [7.0, 5.0, 6.0, 3.0, 3.0, 8.0, 7.0, 4.0, 1.0, '4'],\n [10.0, 5.0, 5.0, 6.0, 3.0, 10.0, 7.0, 9.0, 2.0, '4'],\n [1.0, 1.0, 1.0, 1.0, 2.0, 1.0, 2.0, 1.0, 1.0, '2'],\n [10.0, 5.0, 7.0, 4.0, 4.0, 10.0, 8.0, 9.0, 1.0, '4'],\n [8.0, 9.0, 9.0, 5.0, 3.0, 5.0, 7.0, 7.0, 1.0, '4'],\n [1.0, 1.0, 1.0, 1.0, 1.0, 1.0, 3.0, 1.0, 1.0, '2'],\n [10.0, 10.0, 10.0, 3.0, 10.0, 10.0, 9.0, 10.0, 1.0, '4'],\n [7.0, 4.0, 7.0, 4.0, 3.0, 7.0, 7.0, 6.0, 1.0, '4'],\n [6.0, 8.0, 7.0, 5.0, 6.0, 8.0, 8.0, 9.0, 2.0, '4'],\n [8.0, 4.0, 6.0, 3.0, 3.0, 1.0, 4.0, 3.0, 1.0, '2'],\n [10.0, 4.0, 5.0, 5.0, 5.0, 10.0, 4.0, 1.0, 1.0, '4'],\n [3.0, 3.0, 2.0, 1.0, 3.0, 1.0, 3.0, 6.0, 1.0, '2'],\n [10.0, 8.0, 8.0, 2.0, 8.0, 10.0, 4.0, 8.0, 10.0, '4'],\n [9.0, 8.0, 8.0, 5.0, 6.0, 2.0, 4.0, 10.0, 4.0, '4'],\n [8.0, 10.0, 10.0, 8.0, 6.0, 9.0, 3.0, 10.0, 10.0, '4'],\n [10.0, 4.0, 3.0, 2.0, 3.0, 10.0, 5.0, 3.0, 2.0, '4'],\n [5.0, 1.0, 3.0, 3.0, 2.0, 2.0, 2.0, 3.0, 1.0, '2'],\n [3.0, 1.0, 1.0, 3.0, 1.0, 1.0, 3.0, 1.0, 1.0, '2'],\n [2.0, 1.0, 1.0, 1.0, 2.0, 1.0, 3.0, 1.0, 1.0, '2'],\n [1.0, 1.0, 1.0, 1.0, 2.0, 5.0, 5.0, 1.0, 1.0, '2'],\n [1.0, 1.0, 1.0, 1.0, 2.0, 1.0, 3.0, 1.0, 1.0, '2'],\n [5.0, 1.0, 1.0, 2.0, 2.0, 2.0, 3.0, 1.0, 1.0, '2'],\n [8.0, 10.0, 10.0, 8.0, 5.0, 10.0, 7.0, 8.0, 1.0, '4'],\n [8.0, 4.0, 4.0, 1.0, 2.0, 9.0, 3.0, 3.0, 1.0, '4'],\n [4.0, 1.0, 1.0, 1.0, 2.0, 1.0, 3.0, 6.0, 1.0, '2'],\n [1.0, 2.0, 2.0, 1.0, 2.0, 1.0, 1.0, 1.0, 1.0, '2'],\n [10.0, 4.0, 4.0, 10.0, 2.0, 10.0, 5.0, 3.0, 3.0, '4'],\n [6.0, 3.0, 3.0, 5.0, 3.0, 10.0, 3.0, 5.0, 3.0, '2'],\n [6.0, 10.0, 10.0, 2.0, 8.0, 10.0, 7.0, 3.0, 3.0, '4'],\n [9.0, 10.0, 10.0, 1.0, 10.0, 8.0, 3.0, 3.0, 1.0, '4'],\n [5.0, 6.0, 6.0, 2.0, 4.0, 10.0, 3.0, 6.0, 1.0, '4'],\n [3.0, 1.0, 1.0, 1.0, 2.0, 1.0, 1.0, 1.0, 1.0, '2'],\n [3.0, 1.0, 1.0, 1.0, 2.0, 1.0, 2.0, 1.0, 1.0, '2'],\n [3.0, 1.0, 1.0, 1.0, 2.0, 1.0, 3.0, 1.0, 1.0, '2'],\n [5.0, 7.0, 7.0, 1.0, 5.0, 8.0, 3.0, 4.0, 1.0, '2'],\n [10.0, 5.0, 8.0, 10.0, 3.0, 10.0, 5.0, 1.0, 3.0, '4'],\n [5.0, 10.0, 10.0, 6.0, 10.0, 10.0, 10.0, 6.0, 5.0, '4'],\n [8.0, 8.0, 9.0, 4.0, 5.0, 10.0, 7.0, 8.0, 1.0, '4'],\n [10.0, 4.0, 4.0, 10.0, 6.0, 10.0, 5.0, 5.0, 1.0, '4'],\n [7.0, 9.0, 4.0, 10.0, 10.0, 3.0, 5.0, 3.0, 3.0, '4'],\n [5.0, 1.0, 4.0, 1.0, 2.0, 1.0, 3.0, 2.0, 1.0, '2'],\n [10.0, 10.0, 6.0, 3.0, 3.0, 10.0, 4.0, 3.0, 2.0, '4'],\n [3.0, 3.0, 5.0, 2.0, 3.0, 10.0, 7.0, 1.0, 1.0, '4'],\n [10.0, 8.0, 8.0, 2.0, 3.0, 4.0, 8.0, 7.0, 8.0, '4'],\n [1.0, 1.0, 1.0, 1.0, 2.0, 1.0, 3.0, 1.0, 1.0, '2'],\n [8.0, 4.0, 7.0, 1.0, 3.0, 10.0, 3.0, 9.0, 2.0, '4'],\n [5.0, 1.0, 1.0, 1.0, 2.0, 1.0, 3.0, 1.0, 1.0, '2'],\n [3.0, 3.0, 5.0, 2.0, 3.0, 10.0, 7.0, 1.0, 1.0, '4'],\n [7.0, 2.0, 4.0, 1.0, 3.0, 4.0, 3.0, 3.0, 1.0, '4'],\n [3.0, 1.0, 1.0, 1.0, 2.0, 1.0, 3.0, 2.0, 1.0, '2'],\n [3.0, 1.0, 1.0, 1.0, 2.0, 1.0, 2.0, 1.0, 1.0, '2'],\n [1.0, 1.0, 1.0, 1.0, 2.0, 1.0, 2.0, 1.0, 1.0, '2'],\n [1.0, 1.0, 1.0, 1.0, 2.0, 1.0, 3.0, 1.0, 1.0, '2'],\n [10.0, 5.0, 7.0, 3.0, 3.0, 7.0, 3.0, 3.0, 8.0, '4'],\n [3.0, 1.0, 1.0, 1.0, 2.0, 1.0, 3.0, 1.0, 1.0, '2'],\n [2.0, 1.0, 1.0, 2.0, 2.0, 1.0, 3.0, 1.0, 1.0, '2'],\n [1.0, 4.0, 3.0, 10.0, 4.0, 10.0, 5.0, 6.0, 1.0, '4'],\n [10.0, 4.0, 6.0, 1.0, 2.0, 10.0, 5.0, 3.0, 1.0, '4'],\n [7.0, 4.0, 5.0, 10.0, 2.0, 10.0, 3.0, 8.0, 2.0, '4'],\n [8.0, 10.0, 10.0, 10.0, 8.0, 10.0, 10.0, 7.0, 3.0, '4'],\n [10.0, 10.0, 10.0, 10.0, 10.0, 10.0, 4.0, 10.0, 10.0, '4'],\n [3.0, 1.0, 1.0, 1.0, 3.0, 1.0, 2.0, 1.0, 1.0, '2'],\n [6.0, 1.0, 3.0, 1.0, 4.0, 5.0, 5.0, 10.0, 1.0, '4'],\n [5.0, 6.0, 6.0, 8.0, 6.0, 10.0, 4.0, 10.0, 4.0, '4'],\n [1.0, 1.0, 1.0, 1.0, 2.0, 1.0, 1.0, 1.0, 1.0, '2'],\n [1.0, 1.0, 1.0, 1.0, 2.0, 1.0, 3.0, 1.0, 1.0, '2'],\n [10.0, 4.0, 4.0, 6.0, 2.0, 10.0, 2.0, 3.0, 1.0, '4'],\n [5.0, 5.0, 7.0, 8.0, 6.0, 10.0, 7.0, 4.0, 1.0, '4'],\n [5.0, 3.0, 4.0, 3.0, 4.0, 5.0, 4.0, 7.0, 1.0, '2'],\n [8.0, 2.0, 1.0, 1.0, 5.0, 1.0, 1.0, 1.0, 1.0, '2'],\n [9.0, 1.0, 2.0, 6.0, 4.0, 10.0, 7.0, 7.0, 2.0, '4'],\n [8.0, 4.0, 10.0, 5.0, 4.0, 4.0, 7.0, 10.0, 1.0, '4'],\n [1.0, 1.0, 1.0, 1.0, 2.0, 1.0, 3.0, 1.0, 1.0, '2'],\n [10.0, 10.0, 10.0, 7.0, 9.0, 10.0, 7.0, 10.0, 10.0, '4'],\n [1.0, 1.0, 1.0, 1.0, 2.0, 1.0, 3.0, 1.0, 1.0, '2'],\n [8.0, 3.0, 4.0, 9.0, 3.0, 10.0, 3.0, 3.0, 1.0, '4'],\n [10.0, 8.0, 4.0, 4.0, 4.0, 10.0, 3.0, 10.0, 4.0, '4'],\n [1.0, 1.0, 1.0, 1.0, 2.0, 1.0, 3.0, 1.0, 1.0, '2'],\n [1.0, 1.0, 1.0, 1.0, 2.0, 1.0, 3.0, 1.0, 1.0, '2'],\n [7.0, 8.0, 7.0, 6.0, 4.0, 3.0, 8.0, 8.0, 4.0, '4'],\n [3.0, 1.0, 1.0, 1.0, 2.0, 5.0, 5.0, 1.0, 1.0, '2'],\n [2.0, 1.0, 1.0, 1.0, 3.0, 1.0, 2.0, 1.0, 1.0, '2'],\n [1.0, 1.0, 1.0, 1.0, 2.0, 1.0, 1.0, 1.0, 1.0, '2'],\n [8.0, 6.0, 4.0, 10.0, 10.0, 1.0, 3.0, 5.0, 1.0, '4'],\n [1.0, 1.0, 1.0, 1.0, 2.0, 1.0, 1.0, 1.0, 1.0, '2'],\n [1.0, 1.0, 1.0, 1.0, 1.0, 1.0, 2.0, 1.0, 1.0, '2'],\n [5.0, 5.0, 5.0, 2.0, 5.0, 10.0, 4.0, 3.0, 1.0, '4'],\n [6.0, 8.0, 7.0, 8.0, 6.0, 8.0, 8.0, 9.0, 1.0, '4'],\n [1.0, 1.0, 1.0, 1.0, 5.0, 1.0, 3.0, 1.0, 1.0, '2'],\n [4.0, 4.0, 4.0, 4.0, 6.0, 5.0, 7.0, 3.0, 1.0, '2'],\n [7.0, 6.0, 3.0, 2.0, 5.0, 10.0, 7.0, 4.0, 6.0, '4'],\n [3.0, 1.0, 1.0, 1.0, 2.0, 1.0, 3.0, 1.0, 1.0, '2'],\n [5.0, 4.0, 6.0, 10.0, 2.0, 10.0, 4.0, 1.0, 1.0, '4'],\n [1.0, 1.0, 1.0, 1.0, 2.0, 1.0, 3.0, 1.0, 1.0, '2'],\n [3.0, 2.0, 2.0, 1.0, 2.0, 1.0, 2.0, 3.0, 1.0, '2'],\n [10.0, 1.0, 1.0, 1.0, 2.0, 10.0, 5.0, 4.0, 1.0, '4'],\n [1.0, 1.0, 1.0, 1.0, 2.0, 1.0, 2.0, 1.0, 1.0, '2'],\n [8.0, 10.0, 3.0, 2.0, 6.0, 4.0, 3.0, 10.0, 1.0, '4'],\n [10.0, 4.0, 6.0, 4.0, 5.0, 10.0, 7.0, 1.0, 1.0, '4'],\n [10.0, 4.0, 7.0, 2.0, 2.0, 8.0, 6.0, 1.0, 1.0, '4'],\n [5.0, 1.0, 1.0, 1.0, 2.0, 1.0, 3.0, 1.0, 2.0, '2'],\n [5.0, 2.0, 2.0, 2.0, 2.0, 1.0, 2.0, 2.0, 1.0, '2'],\n [5.0, 4.0, 6.0, 6.0, 4.0, 10.0, 4.0, 3.0, 1.0, '4'],\n [8.0, 6.0, 7.0, 3.0, 3.0, 10.0, 3.0, 4.0, 2.0, '4'],\n [1.0, 1.0, 1.0, 1.0, 2.0, 1.0, 1.0, 1.0, 1.0, '2'],\n [6.0, 5.0, 5.0, 8.0, 4.0, 10.0, 3.0, 4.0, 1.0, '4'],\n [1.0, 1.0, 1.0, 1.0, 2.0, 1.0, 3.0, 1.0, 1.0, '2'],\n [1.0, 1.0, 1.0, 1.0, 1.0, 1.0, 2.0, 1.0, 1.0, '2'],\n [8.0, 5.0, 5.0, 5.0, 2.0, 10.0, 4.0, 3.0, 1.0, '4'],\n [10.0, 3.0, 3.0, 1.0, 2.0, 10.0, 7.0, 6.0, 1.0, '4'],\n [1.0, 1.0, 1.0, 1.0, 2.0, 1.0, 3.0, 1.0, 1.0, '2'],\n [2.0, 1.0, 1.0, 1.0, 2.0, 1.0, 1.0, 1.0, 1.0, '2'],\n [1.0, 1.0, 1.0, 1.0, 2.0, 1.0, 1.0, 1.0, 1.0, '2'],\n [7.0, 6.0, 4.0, 8.0, 10.0, 10.0, 9.0, 5.0, 3.0, '4'],\n [1.0, 1.0, 1.0, 1.0, 2.0, 1.0, 1.0, 1.0, 1.0, '2'],\n [5.0, 2.0, 2.0, 2.0, 3.0, 1.0, 1.0, 3.0, 1.0, '2'],\n [1.0, 1.0, 1.0, 1.0, 1.0, 1.0, 1.0, 3.0, 1.0, '2'],\n [3.0, 4.0, 4.0, 10.0, 5.0, 1.0, 3.0, 3.0, 1.0, '4'],\n [4.0, 2.0, 3.0, 5.0, 3.0, 8.0, 7.0, 6.0, 1.0, '4'],\n [5.0, 1.0, 1.0, 3.0, 2.0, 1.0, 1.0, 1.0, 1.0, '2'],\n [2.0, 1.0, 1.0, 1.0, 2.0, 1.0, 3.0, 1.0, 1.0, '2'],\n [3.0, 4.0, 5.0, 3.0, 7.0, 3.0, 4.0, 6.0, 1.0, '2'],\n [2.0, 7.0, 10.0, 10.0, 7.0, 10.0, 4.0, 9.0, 4.0, '4'],\n [1.0, 1.0, 1.0, 1.0, 2.0, 1.0, 2.0, 1.0, 1.0, '2'],\n [4.0, 1.0, 1.0, 1.0, 3.0, 1.0, 2.0, 2.0, 1.0, '2'],\n [5.0, 3.0, 3.0, 1.0, 3.0, 3.0, 3.0, 3.0, 3.0, '4'],\n [8.0, 10.0, 10.0, 7.0, 10.0, 10.0, 7.0, 3.0, 8.0, '4'],\n [8.0, 10.0, 5.0, 3.0, 8.0, 4.0, 4.0, 10.0, 3.0, '4'],\n [10.0, 3.0, 5.0, 4.0, 3.0, 7.0, 3.0, 5.0, 3.0, '4'],\n [6.0, 10.0, 10.0, 10.0, 10.0, 10.0, 8.0, 10.0, 10.0, '4'],\n [3.0, 10.0, 3.0, 10.0, 6.0, 10.0, 5.0, 1.0, 4.0, '4'],\n [3.0, 2.0, 2.0, 1.0, 4.0, 3.0, 2.0, 1.0, 1.0, '2'],\n [4.0, 4.0, 4.0, 2.0, 2.0, 3.0, 2.0, 1.0, 1.0, '2'],\n [2.0, 1.0, 1.0, 1.0, 2.0, 1.0, 3.0, 1.0, 1.0, '2'],\n [2.0, 1.0, 1.0, 1.0, 2.0, 1.0, 2.0, 1.0, 1.0, '2'],\n [6.0, 10.0, 10.0, 10.0, 8.0, 10.0, 7.0, 10.0, 7.0, '4'],\n [5.0, 8.0, 8.0, 10.0, 5.0, 10.0, 8.0, 10.0, 3.0, '4'],\n [1.0, 1.0, 3.0, 1.0, 2.0, 1.0, 1.0, 1.0, 1.0, '2'],\n [1.0, 1.0, 3.0, 1.0, 1.0, 1.0, 2.0, 1.0, 1.0, '2'],\n [4.0, 3.0, 2.0, 1.0, 3.0, 1.0, 2.0, 1.0, 1.0, '2'],\n [1.0, 1.0, 3.0, 1.0, 2.0, 1.0, 1.0, 1.0, 1.0, '2'],\n [4.0, 1.0, 2.0, 1.0, 2.0, 1.0, 2.0, 1.0, 1.0, '2'],\n [5.0, 1.0, 1.0, 2.0, 2.0, 1.0, 2.0, 1.0, 1.0, '2'],\n [3.0, 1.0, 2.0, 1.0, 2.0, 1.0, 2.0, 1.0, 1.0, '2'],\n [1.0, 1.0, 1.0, 1.0, 2.0, 1.0, 1.0, 1.0, 1.0, '2'],\n [1.0, 1.0, 1.0, 1.0, 2.0, 1.0, 2.0, 1.0, 1.0, '2'],\n [1.0, 1.0, 1.0, 1.0, 1.0, 1.0, 2.0, 1.0, 1.0, '2'],\n [3.0, 1.0, 1.0, 4.0, 3.0, 1.0, 2.0, 2.0, 1.0, '2'],\n [5.0, 3.0, 4.0, 1.0, 4.0, 1.0, 3.0, 1.0, 1.0, '2'],\n [1.0, 1.0, 1.0, 1.0, 2.0, 1.0, 1.0, 1.0, 1.0, '2'],\n [10.0, 6.0, 3.0, 6.0, 4.0, 10.0, 7.0, 8.0, 4.0, '4'],\n [3.0, 2.0, 2.0, 2.0, 2.0, 1.0, 3.0, 2.0, 1.0, '2'],\n [2.0, 1.0, 1.0, 1.0, 2.0, 1.0, 1.0, 1.0, 1.0, '2'],\n [2.0, 1.0, 1.0, 1.0, 2.0, 1.0, 1.0, 1.0, 1.0, '2'],\n [3.0, 3.0, 2.0, 2.0, 3.0, 1.0, 1.0, 2.0, 3.0, '2'],\n [7.0, 6.0, 6.0, 3.0, 2.0, 10.0, 7.0, 1.0, 1.0, '4'],\n [5.0, 3.0, 3.0, 2.0, 3.0, 1.0, 3.0, 1.0, 1.0, '2'],\n [2.0, 1.0, 1.0, 1.0, 2.0, 1.0, 2.0, 2.0, 1.0, '2'],\n [5.0, 1.0, 1.0, 1.0, 3.0, 2.0, 2.0, 2.0, 1.0, '2'],\n [1.0, 1.0, 1.0, 2.0, 2.0, 1.0, 2.0, 1.0, 1.0, '2'],\n [10.0, 8.0, 7.0, 4.0, 3.0, 10.0, 7.0, 9.0, 1.0, '4'],\n [3.0, 1.0, 1.0, 1.0, 2.0, 1.0, 2.0, 1.0, 1.0, '2'],\n [1.0, 1.0, 1.0, 1.0, 1.0, 1.0, 1.0, 1.0, 1.0, '2'],\n [1.0, 2.0, 3.0, 1.0, 2.0, 1.0, 2.0, 1.0, 1.0, '2'],\n [3.0, 1.0, 1.0, 1.0, 2.0, 1.0, 2.0, 1.0, 1.0, '2'],\n [3.0, 1.0, 1.0, 1.0, 2.0, 1.0, 3.0, 1.0, 1.0, '2'],\n [4.0, 1.0, 1.0, 1.0, 2.0, 1.0, 1.0, 1.0, 1.0, '2'],\n [3.0, 2.0, 1.0, 1.0, 2.0, 1.0, 2.0, 2.0, 1.0, '2'],\n [1.0, 2.0, 3.0, 1.0, 2.0, 1.0, 1.0, 1.0, 1.0, '2'],\n [3.0, 10.0, 8.0, 7.0, 6.0, 9.0, 9.0, 3.0, 8.0, '4'],\n [3.0, 1.0, 1.0, 1.0, 2.0, 1.0, 1.0, 1.0, 1.0, '2'],\n [5.0, 3.0, 3.0, 1.0, 2.0, 1.0, 2.0, 1.0, 1.0, '2'],\n [3.0, 1.0, 1.0, 1.0, 2.0, 4.0, 1.0, 1.0, 1.0, '2'],\n [1.0, 2.0, 1.0, 3.0, 2.0, 1.0, 1.0, 2.0, 1.0, '2'],\n [1.0, 1.0, 1.0, 1.0, 2.0, 1.0, 2.0, 1.0, 1.0, '2'],\n [4.0, 2.0, 2.0, 1.0, 2.0, 1.0, 2.0, 1.0, 1.0, '2'],\n [1.0, 1.0, 1.0, 1.0, 2.0, 1.0, 2.0, 1.0, 1.0, '2'],\n [2.0, 3.0, 2.0, 2.0, 2.0, 2.0, 3.0, 1.0, 1.0, '2'],\n [3.0, 1.0, 2.0, 1.0, 2.0, 1.0, 2.0, 1.0, 1.0, '2'],\n [1.0, 1.0, 1.0, 1.0, 2.0, 1.0, 2.0, 1.0, 1.0, '2'],\n [10.0, 10.0, 10.0, 6.0, 8.0, 4.0, 8.0, 5.0, 1.0, '4'],\n [5.0, 1.0, 2.0, 1.0, 2.0, 1.0, 3.0, 1.0, 1.0, '2'],\n [8.0, 5.0, 6.0, 2.0, 3.0, 10.0, 6.0, 6.0, 1.0, '4'],\n [3.0, 3.0, 2.0, 6.0, 3.0, 3.0, 3.0, 5.0, 1.0, '2'],\n [8.0, 7.0, 8.0, 5.0, 10.0, 10.0, 7.0, 2.0, 1.0, '4'],\n [1.0, 1.0, 1.0, 1.0, 2.0, 1.0, 2.0, 1.0, 1.0, '2'],\n [5.0, 2.0, 2.0, 2.0, 2.0, 2.0, 3.0, 2.0, 2.0, '2'],\n [2.0, 3.0, 1.0, 1.0, 5.0, 1.0, 1.0, 1.0, 1.0, '2'],\n [3.0, 2.0, 2.0, 3.0, 2.0, 3.0, 3.0, 1.0, 1.0, '2'],\n [10.0, 10.0, 10.0, 7.0, 10.0, 10.0, 8.0, 2.0, 1.0, '4'],\n [4.0, 3.0, 3.0, 1.0, 2.0, 1.0, 3.0, 3.0, 1.0, '2'],\n [5.0, 1.0, 3.0, 1.0, 2.0, 1.0, 2.0, 1.0, 1.0, '2'],\n [3.0, 1.0, 1.0, 1.0, 2.0, 1.0, 1.0, 1.0, 1.0, '2'],\n [9.0, 10.0, 10.0, 10.0, 10.0, 10.0, 10.0, 10.0, 1.0, '4'],\n [5.0, 3.0, 6.0, 1.0, 2.0, 1.0, 1.0, 1.0, 1.0, '2'],\n [8.0, 7.0, 8.0, 2.0, 4.0, 2.0, 5.0, 10.0, 1.0, '4'],\n [1.0, 1.0, 1.0, 1.0, 2.0, 1.0, 2.0, 1.0, 1.0, '2'],\n [2.0, 1.0, 1.0, 1.0, 2.0, 1.0, 2.0, 1.0, 1.0, '2'],\n [1.0, 3.0, 1.0, 1.0, 2.0, 1.0, 2.0, 2.0, 1.0, '2'],\n [5.0, 1.0, 1.0, 3.0, 4.0, 1.0, 3.0, 2.0, 1.0, '2'],\n [5.0, 1.0, 1.0, 1.0, 2.0, 1.0, 2.0, 2.0, 1.0, '2'],\n [3.0, 2.0, 2.0, 3.0, 2.0, 1.0, 1.0, 1.0, 1.0, '2'],\n [6.0, 9.0, 7.0, 5.0, 5.0, 8.0, 4.0, 2.0, 1.0, '2'],\n [10.0, 8.0, 10.0, 1.0, 3.0, 10.0, 5.0, 1.0, 1.0, '4'],\n [10.0, 10.0, 10.0, 1.0, 6.0, 1.0, 2.0, 8.0, 1.0, '4'],\n [4.0, 1.0, 1.0, 1.0, 2.0, 1.0, 1.0, 1.0, 1.0, '2'],\n [4.0, 1.0, 3.0, 3.0, 2.0, 1.0, 1.0, 1.0, 1.0, '2'],\n [5.0, 1.0, 1.0, 1.0, 2.0, 1.0, 1.0, 1.0, 1.0, '2'],\n [10.0, 4.0, 3.0, 10.0, 4.0, 10.0, 10.0, 1.0, 1.0, '4'],\n [5.0, 2.0, 2.0, 4.0, 2.0, 4.0, 1.0, 1.0, 1.0, '2'],\n [1.0, 1.0, 1.0, 3.0, 2.0, 3.0, 1.0, 1.0, 1.0, '2'],\n [1.0, 1.0, 1.0, 1.0, 2.0, 2.0, 1.0, 1.0, 1.0, '2'],\n [5.0, 1.0, 1.0, 6.0, 3.0, 1.0, 2.0, 1.0, 1.0, '2'],\n [2.0, 1.0, 1.0, 1.0, 2.0, 1.0, 1.0, 1.0, 1.0, '2'],\n [1.0, 1.0, 1.0, 1.0, 2.0, 1.0, 1.0, 1.0, 1.0, '2'],\n [5.0, 1.0, 1.0, 1.0, 2.0, 1.0, 1.0, 1.0, 1.0, '2'],\n [1.0, 1.0, 1.0, 1.0, 1.0, 1.0, 1.0, 1.0, 1.0, '2'],\n [5.0, 7.0, 9.0, 8.0, 6.0, 10.0, 8.0, 10.0, 1.0, '4'],\n [4.0, 1.0, 1.0, 3.0, 1.0, 1.0, 2.0, 1.0, 1.0, '2'],\n [5.0, 1.0, 1.0, 1.0, 2.0, 1.0, 1.0, 1.0, 1.0, '2'],\n [3.0, 1.0, 1.0, 3.0, 2.0, 1.0, 1.0, 1.0, 1.0, '2'],\n [4.0, 5.0, 5.0, 8.0, 6.0, 10.0, 10.0, 7.0, 1.0, '4'],\n [2.0, 3.0, 1.0, 1.0, 3.0, 1.0, 1.0, 1.0, 1.0, '2'],\n [10.0, 2.0, 2.0, 1.0, 2.0, 6.0, 1.0, 1.0, 2.0, '4'],\n [10.0, 6.0, 5.0, 8.0, 5.0, 10.0, 8.0, 6.0, 1.0, '4'],\n [8.0, 8.0, 9.0, 6.0, 6.0, 3.0, 10.0, 10.0, 1.0, '4'],\n [5.0, 1.0, 2.0, 1.0, 2.0, 1.0, 1.0, 1.0, 1.0, '2'],\n [5.0, 1.0, 3.0, 1.0, 2.0, 1.0, 1.0, 1.0, 1.0, '2'],\n [5.0, 1.0, 1.0, 3.0, 2.0, 1.0, 1.0, 1.0, 1.0, '2'],\n [3.0, 1.0, 1.0, 1.0, 2.0, 5.0, 1.0, 1.0, 1.0, '2'],\n [6.0, 1.0, 1.0, 3.0, 2.0, 1.0, 1.0, 1.0, 1.0, '2'],\n [4.0, 1.0, 1.0, 1.0, 2.0, 1.0, 1.0, 2.0, 1.0, '2'],\n [4.0, 1.0, 1.0, 1.0, 2.0, 1.0, 1.0, 1.0, 1.0, '2'],\n [10.0, 9.0, 8.0, 7.0, 6.0, 4.0, 7.0, 10.0, 3.0, '4'],\n [10.0, 6.0, 6.0, 2.0, 4.0, 10.0, 9.0, 7.0, 1.0, '4'],\n [6.0, 6.0, 6.0, 5.0, 4.0, 10.0, 7.0, 6.0, 2.0, '4'],\n [4.0, 1.0, 1.0, 1.0, 2.0, 1.0, 1.0, 1.0, 1.0, '2'],\n [1.0, 1.0, 2.0, 1.0, 2.0, 1.0, 2.0, 1.0, 1.0, '2'],\n [3.0, 1.0, 1.0, 1.0, 1.0, 1.0, 2.0, 1.0, 1.0, '2'],\n [6.0, 1.0, 1.0, 3.0, 2.0, 1.0, 1.0, 1.0, 1.0, '2'],\n [6.0, 1.0, 1.0, 1.0, 1.0, 1.0, 1.0, 1.0, 1.0, '2'],\n [4.0, 1.0, 1.0, 1.0, 2.0, 1.0, 1.0, 1.0, 1.0, '2'],\n [5.0, 1.0, 1.0, 1.0, 2.0, 1.0, 1.0, 1.0, 1.0, '2'],\n [3.0, 1.0, 1.0, 1.0, 2.0, 1.0, 1.0, 1.0, 1.0, '2'],\n [4.0, 1.0, 2.0, 1.0, 2.0, 1.0, 1.0, 1.0, 1.0, '2'],\n [4.0, 1.0, 1.0, 1.0, 2.0, 1.0, 1.0, 1.0, 1.0, '2'],\n [5.0, 2.0, 1.0, 1.0, 2.0, 1.0, 1.0, 1.0, 1.0, '2'],\n [4.0, 8.0, 7.0, 10.0, 4.0, 10.0, 7.0, 5.0, 1.0, '4'],\n [5.0, 1.0, 1.0, 1.0, 1.0, 1.0, 1.0, 1.0, 1.0, '2'],\n [5.0, 3.0, 2.0, 4.0, 2.0, 1.0, 1.0, 1.0, 1.0, '2'],\n [9.0, 10.0, 10.0, 10.0, 10.0, 5.0, 10.0, 10.0, 10.0, '4'],\n [8.0, 7.0, 8.0, 5.0, 5.0, 10.0, 9.0, 10.0, 1.0, '4'],\n [5.0, 1.0, 2.0, 1.0, 2.0, 1.0, 1.0, 1.0, 1.0, '2'],\n [1.0, 1.0, 1.0, 3.0, 1.0, 3.0, 1.0, 1.0, 1.0, '2'],\n [3.0, 1.0, 1.0, 1.0, 1.0, 1.0, 2.0, 1.0, 1.0, '2'],\n [10.0, 10.0, 10.0, 10.0, 6.0, 10.0, 8.0, 1.0, 5.0, '4'],\n [3.0, 6.0, 4.0, 10.0, 3.0, 3.0, 3.0, 4.0, 1.0, '4'],\n [6.0, 3.0, 2.0, 1.0, 3.0, 4.0, 4.0, 1.0, 1.0, '4'],\n [1.0, 1.0, 1.0, 1.0, 2.0, 1.0, 1.0, 1.0, 1.0, '2'],\n [5.0, 8.0, 9.0, 4.0, 3.0, 10.0, 7.0, 1.0, 1.0, '4'],\n [4.0, 1.0, 1.0, 1.0, 1.0, 1.0, 2.0, 1.0, 1.0, '2'],\n [5.0, 10.0, 10.0, 10.0, 6.0, 10.0, 6.0, 5.0, 2.0, '4'],\n [5.0, 1.0, 2.0, 10.0, 4.0, 5.0, 2.0, 1.0, 1.0, '2'],\n [3.0, 1.0, 1.0, 1.0, 1.0, 1.0, 2.0, 1.0, 1.0, '2'],\n [1.0, 1.0, 1.0, 1.0, 1.0, 1.0, 1.0, 1.0, 1.0, '2'],\n [4.0, 2.0, 1.0, 1.0, 2.0, 1.0, 1.0, 1.0, 1.0, '2'],\n [4.0, 1.0, 1.0, 1.0, 2.0, 1.0, 2.0, 1.0, 1.0, '2'],\n [4.0, 1.0, 1.0, 1.0, 2.0, 1.0, 2.0, 1.0, 1.0, '2'],\n [6.0, 1.0, 1.0, 1.0, 2.0, 1.0, 3.0, 1.0, 1.0, '2'],\n [4.0, 1.0, 1.0, 1.0, 2.0, 1.0, 2.0, 1.0, 1.0, '2'],\n [4.0, 1.0, 1.0, 2.0, 2.0, 1.0, 2.0, 1.0, 1.0, '2'],\n [4.0, 1.0, 1.0, 1.0, 2.0, 1.0, 3.0, 1.0, 1.0, '2'],\n [1.0, 1.0, 1.0, 1.0, 2.0, 1.0, 1.0, 1.0, 1.0, '2'],\n [3.0, 3.0, 1.0, 1.0, 2.0, 1.0, 1.0, 1.0, 1.0, '2'],\n [8.0, 10.0, 10.0, 10.0, 7.0, 5.0, 4.0, 8.0, 7.0, '4'],\n [1.0, 1.0, 1.0, 1.0, 2.0, 4.0, 1.0, 1.0, 1.0, '2'],\n [5.0, 1.0, 1.0, 1.0, 2.0, 1.0, 1.0, 1.0, 1.0, '2'],\n [2.0, 1.0, 1.0, 1.0, 2.0, 1.0, 1.0, 1.0, 1.0, '2'],\n [1.0, 1.0, 1.0, 1.0, 2.0, 1.0, 1.0, 1.0, 1.0, '2'],\n [5.0, 1.0, 1.0, 1.0, 2.0, 1.0, 2.0, 1.0, 1.0, '2'],\n [5.0, 1.0, 1.0, 1.0, 2.0, 1.0, 1.0, 1.0, 1.0, '2'],\n [3.0, 1.0, 1.0, 1.0, 1.0, 1.0, 2.0, 1.0, 1.0, '2'],\n [6.0, 6.0, 7.0, 10.0, 3.0, 10.0, 8.0, 10.0, 2.0, '4'],\n [4.0, 10.0, 4.0, 7.0, 3.0, 10.0, 9.0, 10.0, 1.0, '4'],\n [1.0, 1.0, 1.0, 1.0, 1.0, 1.0, 1.0, 1.0, 1.0, '2'],\n [1.0, 1.0, 1.0, 1.0, 1.0, 1.0, 2.0, 1.0, 1.0, '2'],\n [3.0, 1.0, 2.0, 2.0, 2.0, 1.0, 1.0, 1.0, 1.0, '2'],\n [4.0, 7.0, 8.0, 3.0, 4.0, 10.0, 9.0, 1.0, 1.0, '4'],\n [1.0, 1.0, 1.0, 1.0, 3.0, 1.0, 1.0, 1.0, 1.0, '2'],\n [4.0, 1.0, 1.0, 1.0, 3.0, 1.0, 1.0, 1.0, 1.0, '2'],\n [10.0, 4.0, 5.0, 4.0, 3.0, 5.0, 7.0, 3.0, 1.0, '4'],\n [7.0, 5.0, 6.0, 10.0, 4.0, 10.0, 5.0, 3.0, 1.0, '4'],\n [3.0, 1.0, 1.0, 1.0, 2.0, 1.0, 2.0, 1.0, 1.0, '2'],\n [3.0, 1.0, 1.0, 2.0, 2.0, 1.0, 1.0, 1.0, 1.0, '2'],\n [4.0, 1.0, 1.0, 1.0, 2.0, 1.0, 1.0, 1.0, 1.0, '2'],\n [4.0, 1.0, 1.0, 1.0, 2.0, 1.0, 3.0, 1.0, 1.0, '2'],\n [6.0, 1.0, 3.0, 2.0, 2.0, 1.0, 1.0, 1.0, 1.0, '2'],\n [4.0, 1.0, 1.0, 1.0, 1.0, 1.0, 2.0, 1.0, 1.0, '2'],\n [7.0, 4.0, 4.0, 3.0, 4.0, 10.0, 6.0, 9.0, 1.0, '4'],\n [4.0, 2.0, 2.0, 1.0, 2.0, 1.0, 2.0, 1.0, 1.0, '2'],\n [1.0, 1.0, 1.0, 1.0, 1.0, 1.0, 3.0, 1.0, 1.0, '2'],\n [3.0, 1.0, 1.0, 1.0, 2.0, 1.0, 2.0, 1.0, 1.0, '2'],\n [2.0, 1.0, 1.0, 1.0, 2.0, 1.0, 2.0, 1.0, 1.0, '2'],\n [1.0, 1.0, 3.0, 2.0, 2.0, 1.0, 3.0, 1.0, 1.0, '2'],\n [5.0, 1.0, 1.0, 1.0, 2.0, 1.0, 3.0, 1.0, 1.0, '2'],\n [5.0, 1.0, 2.0, 1.0, 2.0, 1.0, 3.0, 1.0, 1.0, '2'],\n [4.0, 1.0, 1.0, 1.0, 2.0, 1.0, 2.0, 1.0, 1.0, '2'],\n [6.0, 1.0, 1.0, 1.0, 2.0, 1.0, 2.0, 1.0, 1.0, '2'],\n [5.0, 1.0, 1.0, 1.0, 2.0, 2.0, 2.0, 1.0, 1.0, '2'],\n [3.0, 1.0, 1.0, 1.0, 2.0, 1.0, 1.0, 1.0, 1.0, '2'],\n [5.0, 3.0, 1.0, 1.0, 2.0, 1.0, 1.0, 1.0, 1.0, '2'],\n [4.0, 1.0, 1.0, 1.0, 2.0, 1.0, 2.0, 1.0, 1.0, '2'],\n [2.0, 1.0, 3.0, 2.0, 2.0, 1.0, 2.0, 1.0, 1.0, '2'],\n [5.0, 1.0, 1.0, 1.0, 2.0, 1.0, 2.0, 1.0, 1.0, '2'],\n [6.0, 10.0, 10.0, 10.0, 4.0, 10.0, 7.0, 10.0, 1.0, '4'],\n [2.0, 1.0, 1.0, 1.0, 1.0, 1.0, 1.0, 1.0, 1.0, '2'],\n [3.0, 1.0, 1.0, 1.0, 1.0, 1.0, 1.0, 1.0, 1.0, '2'],\n [7.0, 8.0, 3.0, 7.0, 4.0, 5.0, 7.0, 8.0, 2.0, '4'],\n [3.0, 1.0, 1.0, 1.0, 2.0, 1.0, 2.0, 1.0, 1.0, '2'],\n [1.0, 1.0, 1.0, 1.0, 2.0, 1.0, 3.0, 1.0, 1.0, '2'],\n [3.0, 2.0, 2.0, 2.0, 2.0, 1.0, 4.0, 2.0, 1.0, '2'],\n [4.0, 4.0, 2.0, 1.0, 2.0, 5.0, 2.0, 1.0, 2.0, '2'],\n [3.0, 1.0, 1.0, 1.0, 2.0, 1.0, 1.0, 1.0, 1.0, '2'],\n [4.0, 3.0, 1.0, 1.0, 2.0, 1.0, 4.0, 8.0, 1.0, '2'],\n [5.0, 2.0, 2.0, 2.0, 1.0, 1.0, 2.0, 1.0, 1.0, '2'],\n [5.0, 1.0, 1.0, 3.0, 2.0, 1.0, 1.0, 1.0, 1.0, '2'],\n [2.0, 1.0, 1.0, 1.0, 2.0, 1.0, 2.0, 1.0, 1.0, '2'],\n [5.0, 1.0, 1.0, 1.0, 2.0, 1.0, 2.0, 1.0, 1.0, '2'],\n [5.0, 1.0, 1.0, 1.0, 2.0, 1.0, 3.0, 1.0, 1.0, '2'],\n [5.0, 1.0, 1.0, 1.0, 2.0, 1.0, 3.0, 1.0, 1.0, '2'],\n [1.0, 1.0, 1.0, 1.0, 2.0, 1.0, 3.0, 1.0, 1.0, '2'],\n [3.0, 1.0, 1.0, 1.0, 2.0, 1.0, 2.0, 1.0, 1.0, '2'],\n [4.0, 1.0, 1.0, 1.0, 2.0, 1.0, 3.0, 2.0, 1.0, '2'],\n [5.0, 7.0, 10.0, 10.0, 5.0, 10.0, 10.0, 10.0, 1.0, '4'],\n [3.0, 1.0, 2.0, 1.0, 2.0, 1.0, 3.0, 1.0, 1.0, '2'],\n [4.0, 1.0, 1.0, 1.0, 2.0, 3.0, 2.0, 1.0, 1.0, '2'],\n [8.0, 4.0, 4.0, 1.0, 6.0, 10.0, 2.0, 5.0, 2.0, '4'],\n [10.0, 10.0, 8.0, 10.0, 6.0, 5.0, 10.0, 3.0, 1.0, '4'],\n [8.0, 10.0, 4.0, 4.0, 8.0, 10.0, 8.0, 2.0, 1.0, '4'],\n [7.0, 6.0, 10.0, 5.0, 3.0, 10.0, 9.0, 10.0, 2.0, '4'],\n [3.0, 1.0, 1.0, 1.0, 2.0, 1.0, 2.0, 1.0, 1.0, '2'],\n [1.0, 1.0, 1.0, 1.0, 2.0, 1.0, 2.0, 1.0, 1.0, '2'],\n [10.0, 9.0, 7.0, 3.0, 4.0, 2.0, 7.0, 7.0, 1.0, '4'],\n [5.0, 1.0, 2.0, 1.0, 2.0, 1.0, 3.0, 1.0, 1.0, '2'],\n [5.0, 1.0, 1.0, 1.0, 2.0, 1.0, 2.0, 1.0, 1.0, '2'],\n [1.0, 1.0, 1.0, 1.0, 2.0, 1.0, 2.0, 1.0, 1.0, '2'],\n [1.0, 1.0, 1.0, 1.0, 2.0, 1.0, 2.0, 1.0, 1.0, '2'],\n [1.0, 1.0, 1.0, 1.0, 2.0, 1.0, 3.0, 1.0, 1.0, '2'],\n [5.0, 1.0, 2.0, 1.0, 2.0, 1.0, 2.0, 1.0, 1.0, '2'],\n [5.0, 7.0, 10.0, 6.0, 5.0, 10.0, 7.0, 5.0, 1.0, '4'],\n [6.0, 10.0, 5.0, 5.0, 4.0, 10.0, 6.0, 10.0, 1.0, '4'],\n [3.0, 1.0, 1.0, 1.0, 2.0, 1.0, 1.0, 1.0, 1.0, '2'],\n [5.0, 1.0, 1.0, 6.0, 3.0, 1.0, 1.0, 1.0, 1.0, '2'],\n [1.0, 1.0, 1.0, 1.0, 2.0, 1.0, 1.0, 1.0, 1.0, '2'],\n [8.0, 10.0, 10.0, 10.0, 6.0, 10.0, 10.0, 10.0, 1.0, '4'],\n [5.0, 1.0, 1.0, 1.0, 2.0, 1.0, 2.0, 2.0, 1.0, '2'],\n [9.0, 8.0, 8.0, 9.0, 6.0, 3.0, 4.0, 1.0, 1.0, '4'],\n [5.0, 1.0, 1.0, 1.0, 2.0, 1.0, 1.0, 1.0, 1.0, '2'],\n [4.0, 10.0, 8.0, 5.0, 4.0, 1.0, 10.0, 1.0, 1.0, '4'],\n [2.0, 5.0, 7.0, 6.0, 4.0, 10.0, 7.0, 6.0, 1.0, '4'],\n [10.0, 3.0, 4.0, 5.0, 3.0, 10.0, 4.0, 1.0, 1.0, '4'],\n [5.0, 1.0, 2.0, 1.0, 2.0, 1.0, 1.0, 1.0, 1.0, '2'],\n [4.0, 8.0, 6.0, 3.0, 4.0, 10.0, 7.0, 1.0, 1.0, '4'],\n [5.0, 1.0, 1.0, 1.0, 2.0, 1.0, 2.0, 1.0, 1.0, '2'],\n [4.0, 1.0, 2.0, 1.0, 2.0, 1.0, 2.0, 1.0, 1.0, '2'],\n [5.0, 1.0, 3.0, 1.0, 2.0, 1.0, 3.0, 1.0, 1.0, '2'],\n [3.0, 1.0, 1.0, 1.0, 2.0, 1.0, 2.0, 1.0, 1.0, '2'],\n [5.0, 2.0, 4.0, 1.0, 1.0, 1.0, 1.0, 1.0, 1.0, '2'],\n [3.0, 1.0, 1.0, 1.0, 2.0, 1.0, 2.0, 1.0, 1.0, '2'],\n [1.0, 1.0, 1.0, 1.0, 1.0, 1.0, 2.0, 1.0, 1.0, '2'],\n [4.0, 1.0, 1.0, 1.0, 2.0, 1.0, 2.0, 1.0, 1.0, '2'],\n [5.0, 4.0, 6.0, 8.0, 4.0, 1.0, 8.0, 10.0, 1.0, '4'],\n [5.0, 3.0, 2.0, 8.0, 5.0, 10.0, 8.0, 1.0, 2.0, '4'],\n [10.0, 5.0, 10.0, 3.0, 5.0, 8.0, 7.0, 8.0, 3.0, '4'],\n [4.0, 1.0, 1.0, 2.0, 2.0, 1.0, 1.0, 1.0, 1.0, '2'],\n [1.0, 1.0, 1.0, 1.0, 2.0, 1.0, 1.0, 1.0, 1.0, '2'],\n [5.0, 10.0, 10.0, 10.0, 10.0, 10.0, 10.0, 1.0, 1.0, '4'],\n [5.0, 1.0, 1.0, 1.0, 2.0, 1.0, 1.0, 1.0, 1.0, '2'],\n [10.0, 4.0, 3.0, 10.0, 3.0, 10.0, 7.0, 1.0, 2.0, '4'],\n [5.0, 10.0, 10.0, 10.0, 5.0, 2.0, 8.0, 5.0, 1.0, '4'],\n [8.0, 10.0, 10.0, 10.0, 6.0, 10.0, 10.0, 10.0, 10.0, '4'],\n [2.0, 3.0, 1.0, 1.0, 2.0, 1.0, 2.0, 1.0, 1.0, '2'],\n [2.0, 1.0, 1.0, 1.0, 1.0, 1.0, 2.0, 1.0, 1.0, '2'],\n [4.0, 1.0, 3.0, 1.0, 2.0, 1.0, 2.0, 1.0, 1.0, '2'],\n [3.0, 1.0, 1.0, 1.0, 2.0, 1.0, 2.0, 1.0, 1.0, '2'],\n [4.0, 1.0, 1.0, 1.0, 2.0, 1.0, 2.0, 1.0, 1.0, '2'],\n [5.0, 1.0, 1.0, 1.0, 2.0, 1.0, 2.0, 1.0, 1.0, '2'],\n [3.0, 1.0, 1.0, 1.0, 2.0, 1.0, 2.0, 1.0, 1.0, '2'],\n [6.0, 3.0, 3.0, 3.0, 3.0, 2.0, 6.0, 1.0, 1.0, '2'],\n [7.0, 1.0, 2.0, 3.0, 2.0, 1.0, 2.0, 1.0, 1.0, '2'],\n [1.0, 1.0, 1.0, 1.0, 2.0, 1.0, 1.0, 1.0, 1.0, '2'],\n [5.0, 1.0, 1.0, 2.0, 1.0, 1.0, 2.0, 1.0, 1.0, '2'],\n [3.0, 1.0, 3.0, 1.0, 3.0, 4.0, 1.0, 1.0, 1.0, '2'],\n [4.0, 6.0, 6.0, 5.0, 7.0, 6.0, 7.0, 7.0, 3.0, '4'],\n [2.0, 1.0, 1.0, 1.0, 2.0, 5.0, 1.0, 1.0, 1.0, '2'],\n [2.0, 1.0, 1.0, 1.0, 2.0, 1.0, 1.0, 1.0, 1.0, '2'],\n [4.0, 1.0, 1.0, 1.0, 2.0, 1.0, 1.0, 1.0, 1.0, '2'],\n [6.0, 2.0, 3.0, 1.0, 2.0, 1.0, 1.0, 1.0, 1.0, '2'],\n [5.0, 1.0, 1.0, 1.0, 2.0, 1.0, 2.0, 1.0, 1.0, '2'],\n [1.0, 1.0, 1.0, 1.0, 2.0, 1.0, 1.0, 1.0, 1.0, '2'],\n [8.0, 7.0, 4.0, 4.0, 5.0, 3.0, 5.0, 10.0, 1.0, '4'],\n [3.0, 1.0, 1.0, 1.0, 2.0, 1.0, 1.0, 1.0, 1.0, '2'],\n [3.0, 1.0, 4.0, 1.0, 2.0, 1.0, 1.0, 1.0, 1.0, '2'],\n [10.0, 10.0, 7.0, 8.0, 7.0, 1.0, 10.0, 10.0, 3.0, '4'],\n [4.0, 2.0, 4.0, 3.0, 2.0, 2.0, 2.0, 1.0, 1.0, '2'],\n [4.0, 1.0, 1.0, 1.0, 2.0, 1.0, 1.0, 1.0, 1.0, '2'],\n [5.0, 1.0, 1.0, 3.0, 2.0, 1.0, 1.0, 1.0, 1.0, '2'],\n [4.0, 1.0, 1.0, 3.0, 2.0, 1.0, 1.0, 1.0, 1.0, '2'],\n [3.0, 1.0, 1.0, 1.0, 2.0, 1.0, 2.0, 1.0, 1.0, '2'],\n [3.0, 1.0, 1.0, 1.0, 2.0, 1.0, 2.0, 1.0, 1.0, '2'],\n [1.0, 1.0, 1.0, 1.0, 2.0, 1.0, 1.0, 1.0, 1.0, '2'],\n [2.0, 1.0, 1.0, 1.0, 2.0, 1.0, 1.0, 1.0, 1.0, '2'],\n [3.0, 1.0, 1.0, 1.0, 2.0, 1.0, 2.0, 1.0, 1.0, '2'],\n [1.0, 2.0, 2.0, 1.0, 2.0, 1.0, 1.0, 1.0, 1.0, '2'],\n [1.0, 1.0, 1.0, 3.0, 2.0, 1.0, 1.0, 1.0, 1.0, '2'],\n [5.0, 10.0, 10.0, 10.0, 10.0, 2.0, 10.0, 10.0, 10.0, '4'],\n [3.0, 1.0, 1.0, 1.0, 2.0, 1.0, 2.0, 1.0, 1.0, '2'],\n [3.0, 1.0, 1.0, 2.0, 3.0, 4.0, 1.0, 1.0, 1.0, '2'],\n [1.0, 2.0, 1.0, 3.0, 2.0, 1.0, 2.0, 1.0, 1.0, '2'],\n [5.0, 1.0, 1.0, 1.0, 2.0, 1.0, 2.0, 2.0, 1.0, '2'],\n [4.0, 1.0, 1.0, 1.0, 2.0, 1.0, 2.0, 1.0, 1.0, '2'],\n [3.0, 1.0, 1.0, 1.0, 2.0, 1.0, 3.0, 1.0, 1.0, '2'],\n [3.0, 1.0, 1.0, 1.0, 2.0, 1.0, 2.0, 1.0, 1.0, '2'],\n [5.0, 1.0, 1.0, 1.0, 2.0, 1.0, 2.0, 1.0, 1.0, '2'],\n [5.0, 4.0, 5.0, 1.0, 8.0, 1.0, 3.0, 6.0, 1.0, '2'],\n [7.0, 8.0, 8.0, 7.0, 3.0, 10.0, 7.0, 2.0, 3.0, '4'],\n [1.0, 1.0, 1.0, 1.0, 2.0, 1.0, 1.0, 1.0, 1.0, '2'],\n [1.0, 1.0, 1.0, 1.0, 2.0, 1.0, 2.0, 1.0, 1.0, '2'],\n [4.0, 1.0, 1.0, 1.0, 2.0, 1.0, 3.0, 1.0, 1.0, '2'],\n [1.0, 1.0, 3.0, 1.0, 2.0, 1.0, 2.0, 1.0, 1.0, '2'],\n [1.0, 1.0, 3.0, 1.0, 2.0, 1.0, 2.0, 1.0, 1.0, '2'],\n [3.0, 1.0, 1.0, 3.0, 2.0, 1.0, 2.0, 1.0, 1.0, '2'],\n [1.0, 1.0, 1.0, 1.0, 2.0, 1.0, 1.0, 1.0, 1.0, '2'],\n [5.0, 2.0, 2.0, 2.0, 2.0, 1.0, 1.0, 1.0, 2.0, '2'],\n [3.0, 1.0, 1.0, 1.0, 2.0, 1.0, 3.0, 1.0, 1.0, '2'],\n [5.0, 7.0, 4.0, 1.0, 6.0, 1.0, 7.0, 10.0, 3.0, '4'],\n [5.0, 10.0, 10.0, 8.0, 5.0, 5.0, 7.0, 10.0, 1.0, '4'],\n [3.0, 10.0, 7.0, 8.0, 5.0, 8.0, 7.0, 4.0, 1.0, '4'],\n [3.0, 2.0, 1.0, 2.0, 2.0, 1.0, 3.0, 1.0, 1.0, '2'],\n [2.0, 1.0, 1.0, 1.0, 2.0, 1.0, 3.0, 1.0, 1.0, '2'],\n [5.0, 3.0, 2.0, 1.0, 3.0, 1.0, 1.0, 1.0, 1.0, '2'],\n [1.0, 1.0, 1.0, 1.0, 2.0, 1.0, 2.0, 1.0, 1.0, '2'],\n [4.0, 1.0, 4.0, 1.0, 2.0, 1.0, 1.0, 1.0, 1.0, '2'],\n [1.0, 1.0, 2.0, 1.0, 2.0, 1.0, 2.0, 1.0, 1.0, '2'],\n [5.0, 1.0, 1.0, 1.0, 2.0, 1.0, 1.0, 1.0, 1.0, '2'],\n [1.0, 1.0, 1.0, 1.0, 2.0, 1.0, 1.0, 1.0, 1.0, '2'],\n [2.0, 1.0, 1.0, 1.0, 2.0, 1.0, 1.0, 1.0, 1.0, '2'],\n [10.0, 10.0, 10.0, 10.0, 5.0, 10.0, 10.0, 10.0, 7.0, '4'],\n [5.0, 10.0, 10.0, 10.0, 4.0, 10.0, 5.0, 6.0, 3.0, '4'],\n [5.0, 1.0, 1.0, 1.0, 2.0, 1.0, 3.0, 2.0, 1.0, '2'],\n [1.0, 1.0, 1.0, 1.0, 2.0, 1.0, 1.0, 1.0, 1.0, '2'],\n [1.0, 1.0, 1.0, 1.0, 2.0, 1.0, 1.0, 1.0, 1.0, '2'],\n [1.0, 1.0, 1.0, 1.0, 2.0, 1.0, 1.0, 1.0, 1.0, '2'],\n [1.0, 1.0, 1.0, 1.0, 2.0, 1.0, 1.0, 1.0, 1.0, '2'],\n [3.0, 1.0, 1.0, 1.0, 2.0, 1.0, 2.0, 3.0, 1.0, '2'],\n [4.0, 1.0, 1.0, 1.0, 2.0, 1.0, 1.0, 1.0, 1.0, '2'],\n [1.0, 1.0, 1.0, 1.0, 2.0, 1.0, 1.0, 1.0, 8.0, '2'],\n [1.0, 1.0, 1.0, 3.0, 2.0, 1.0, 1.0, 1.0, 1.0, '2'],\n [5.0, 10.0, 10.0, 5.0, 4.0, 5.0, 4.0, 4.0, 1.0, '4'],\n [3.0, 1.0, 1.0, 1.0, 2.0, 1.0, 1.0, 1.0, 1.0, '2'],\n [3.0, 1.0, 1.0, 1.0, 2.0, 1.0, 2.0, 1.0, 2.0, '2'],\n [3.0, 1.0, 1.0, 1.0, 3.0, 2.0, 1.0, 1.0, 1.0, '2'],\n [2.0, 1.0, 1.0, 1.0, 2.0, 1.0, 1.0, 1.0, 1.0, '2'],\n [5.0, 10.0, 10.0, 3.0, 7.0, 3.0, 8.0, 10.0, 2.0, '4'],\n [4.0, 8.0, 6.0, 4.0, 3.0, 4.0, 10.0, 6.0, 1.0, '4'],\n [4.0, 8.0, 8.0, 5.0, 4.0, 5.0, 10.0, 4.0, 1.0, '4']]"
     },
     "execution_count": 7,
     "metadata": {},
     "output_type": "execute_result"
    }
   ],
   "source": [
    "for datapoint in cancer_dataset: # data type conversion\n",
    "    for j in range(len(datapoint)-1):\n",
    "        datapoint[j] = float(datapoint[j])\n",
    "cancer_dataset"
   ],
   "metadata": {
    "collapsed": false,
    "pycharm": {
     "name": "#%%\n"
    }
   }
  },
  {
   "cell_type": "code",
   "execution_count": 8,
   "outputs": [
    {
     "data": {
      "text/plain": "683"
     },
     "execution_count": 8,
     "metadata": {},
     "output_type": "execute_result"
    }
   ],
   "source": [
    "len(cancer_dataset)"
   ],
   "metadata": {
    "collapsed": false,
    "pycharm": {
     "name": "#%%\n"
    }
   }
  },
  {
   "cell_type": "code",
   "execution_count": 9,
   "outputs": [
    {
     "data": {
      "text/plain": "10"
     },
     "execution_count": 9,
     "metadata": {},
     "output_type": "execute_result"
    }
   ],
   "source": [
    "cancer_header = ['Clump Thickness','Uniformity of Cell Size','Uniformity of Cell Shape','Marginal Adhesion','Single Epithelial Cell Size','Bare Nuclei','Bland Chromatin','Normal Nucleoli','Mitoses','labels']\n",
    "len(cancer_header)"
   ],
   "metadata": {
    "collapsed": false,
    "pycharm": {
     "name": "#%%\n"
    }
   }
  },
  {
   "cell_type": "code",
   "execution_count": null,
   "outputs": [],
   "source": [
    "train,test = train_test_split(cancer_dataset)\n",
    "X_train = list(point[0:len(point)-1] for point in train)\n",
    "y_train = list(point[-1] for point in train)\n",
    "X_test = list(point[0:len(point)-1] for point in test)\n",
    "y_test = list(point[-1] for point in test)"
   ],
   "metadata": {
    "collapsed": false,
    "pycharm": {
     "name": "#%%\n"
    }
   }
  },
  {
   "cell_type": "code",
   "execution_count": null,
   "outputs": [],
   "source": [
    "start1 = time.perf_counter()\n",
    "my_tree = build_tree(train,cancer_header,'gini')\n",
    "my_tree_total = time.perf_counter() -start1\n",
    "print('time: ', my_tree_total)\n",
    "my_time.append(my_tree_total)\n",
    "print_tree(my_tree)"
   ],
   "metadata": {
    "collapsed": false,
    "pycharm": {
     "name": "#%%\n"
    }
   }
  },
  {
   "cell_type": "code",
   "execution_count": null,
   "outputs": [],
   "source": [
    "mem_usage7 = memory_usage ((build_tree,(train,),{'header': cancer_header, 'split_type':'gini'}))\n",
    "print('Memory usage: ',max(mem_usage7))\n",
    "my_memory.append(max(mem_usage7))"
   ],
   "metadata": {
    "collapsed": false,
    "pycharm": {
     "name": "#%%\n"
    }
   }
  },
  {
   "cell_type": "code",
   "execution_count": null,
   "outputs": [],
   "source": [
    "my_test_prediction = predict(my_tree,test)"
   ],
   "metadata": {
    "collapsed": false,
    "pycharm": {
     "name": "#%%\n"
    }
   }
  },
  {
   "cell_type": "code",
   "execution_count": null,
   "outputs": [],
   "source": [
    "print('accuracy: ',metrics.accuracy_score(y_test,my_test_prediction))\n",
    "my_accuracy.append(metrics.accuracy_score(y_test,my_test_prediction))\n",
    "\n",
    "print('F1 Score: ',metrics.f1_score(y_test,my_test_prediction,average= 'micro'))\n",
    "my_F1.append(metrics.f1_score(y_test,my_test_prediction,average= 'micro'))\n",
    "\n",
    "print('precision: ',metrics.precision_score(y_test,my_test_prediction,average= 'micro'))\n",
    "my_precision.append(metrics.precision_score(y_test,my_test_prediction,average= 'micro'))\n",
    "\n",
    "print('recall: ',metrics.recall_score(y_test,my_test_prediction,average= 'micro'))\n",
    "my_recall.append(metrics.recall_score(y_test,my_test_prediction,average= 'micro'))"
   ],
   "metadata": {
    "collapsed": false,
    "pycharm": {
     "name": "#%%\n"
    }
   }
  },
  {
   "cell_type": "code",
   "execution_count": null,
   "outputs": [],
   "source": [
    "start1 = time.perf_counter()\n",
    "my_tree = build_tree(train,cancer_header,'entropy')\n",
    "my_tree_total = time.perf_counter() -start1\n",
    "print('time: ', my_tree_total)\n",
    "my_time_ent.append(my_tree_total)\n",
    "print_tree(my_tree)"
   ],
   "metadata": {
    "collapsed": false,
    "pycharm": {
     "name": "#%%\n"
    }
   }
  },
  {
   "cell_type": "code",
   "execution_count": null,
   "outputs": [],
   "source": [
    "mem_usage1 = memory_usage ((build_tree,(train,),{'header': cancer_header, 'split_type':'entropy'}))\n",
    "print('Memory usage: ',max(mem_usage1))\n",
    "my_memory_ent.append(max(mem_usage1))"
   ],
   "metadata": {
    "collapsed": false,
    "pycharm": {
     "name": "#%%\n"
    }
   }
  },
  {
   "cell_type": "code",
   "execution_count": null,
   "outputs": [],
   "source": [
    "my_test_prediction = predict(my_tree,test)\n",
    "print('accuracy: ',metrics.accuracy_score(y_test,my_test_prediction))\n",
    "my_accuracy_ent.append(metrics.accuracy_score(y_test,my_test_prediction))\n",
    "\n",
    "print('F1 Score: ',metrics.f1_score(y_test,my_test_prediction,average= 'micro'))\n",
    "my_F1_ent.append(metrics.f1_score(y_test,my_test_prediction,average= 'micro'))\n",
    "\n",
    "print('precision: ',metrics.precision_score(y_test,my_test_prediction,average= 'micro'))\n",
    "my_precision_ent.append(metrics.precision_score(y_test,my_test_prediction,average= 'micro'))\n",
    "\n",
    "print('recall: ',metrics.recall_score(y_test,my_test_prediction,average= 'micro'))\n",
    "my_recall_ent.append(metrics.recall_score(y_test,my_test_prediction,average= 'micro'))"
   ],
   "metadata": {
    "collapsed": false,
    "pycharm": {
     "name": "#%%\n"
    }
   }
  },
  {
   "cell_type": "code",
   "execution_count": null,
   "outputs": [],
   "source": [
    "start2 = time.perf_counter()\n",
    "sklearn_tree = tree.DecisionTreeClassifier( random_state=0)\n",
    "sklearn_tree = sklearn_tree.fit(X_train,y_train)\n",
    "sklearn_total = time.perf_counter() - start2\n",
    "print('time: ',sklearn_total)\n",
    "sk_time.append(sklearn_total)\n",
    "r = tree.export_text(sklearn_tree, feature_names=cancer_header[:len(cancer_header)-1])\n",
    "print(r)"
   ],
   "metadata": {
    "collapsed": false,
    "pycharm": {
     "name": "#%%\n"
    }
   }
  },
  {
   "cell_type": "code",
   "execution_count": null,
   "outputs": [],
   "source": [
    "mem_usage8 = memory_usage ((sklearn_tree.fit,(X_train,y_train),{}))\n",
    "print('memory: ',max(mem_usage8))\n",
    "sk_memory.append(max(mem_usage8))"
   ],
   "metadata": {
    "collapsed": false,
    "pycharm": {
     "name": "#%%\n"
    }
   }
  },
  {
   "cell_type": "code",
   "execution_count": null,
   "outputs": [],
   "source": [
    "sklearn_test_prediction = sklearn_tree.predict(X_test)\n",
    "print('accuracy: ',metrics.accuracy_score(y_test,sklearn_test_prediction))\n",
    "sk_accuracy.append(metrics.accuracy_score(y_test,sklearn_test_prediction))\n",
    "\n",
    "print('F1 Score: ',metrics.f1_score(y_test,sklearn_test_prediction,average= 'micro'))\n",
    "sk_F1.append(metrics.f1_score(y_test,sklearn_test_prediction,average= 'micro'))\n",
    "\n",
    "print('precision: ',metrics.precision_score(y_test,sklearn_test_prediction,average= 'micro'))\n",
    "sk_precision.append(metrics.precision_score(y_test,sklearn_test_prediction,average= 'micro'))\n",
    "\n",
    "print('recall: ',metrics.recall_score(y_test,sklearn_test_prediction,average= 'micro'))\n",
    "sk_recall.append(metrics.recall_score(y_test,sklearn_test_prediction,average= 'micro'))"
   ],
   "metadata": {
    "collapsed": false,
    "pycharm": {
     "name": "#%%\n"
    }
   }
  },
  {
   "cell_type": "code",
   "execution_count": null,
   "outputs": [],
   "source": [
    "start2 = time.perf_counter()\n",
    "sklearn_tree = tree.DecisionTreeClassifier( random_state=0, criterion= 'entropy')\n",
    "sklearn_tree = sklearn_tree.fit(X_train,y_train)\n",
    "sklearn_total = time.perf_counter() - start2\n",
    "print('time: ',sklearn_total)\n",
    "sk_time_ent.append(sklearn_total)\n",
    "r = tree.export_text(sklearn_tree, feature_names=cancer_header[:len(cancer_header)-1])\n",
    "print(r)"
   ],
   "metadata": {
    "collapsed": false,
    "pycharm": {
     "name": "#%%\n"
    }
   }
  },
  {
   "cell_type": "code",
   "execution_count": null,
   "outputs": [],
   "source": [
    "mem_usage2 = memory_usage ((sklearn_tree.fit,(X_train,y_train),{}))\n",
    "print('memory: ',max(mem_usage2))\n",
    "sk_memory_ent.append(max(mem_usage2))"
   ],
   "metadata": {
    "collapsed": false,
    "pycharm": {
     "name": "#%%\n"
    }
   }
  },
  {
   "cell_type": "code",
   "execution_count": null,
   "outputs": [],
   "source": [
    "sklearn_test_prediction = sklearn_tree.predict(X_test)\n",
    "print('accuracy: ',metrics.accuracy_score(y_test,sklearn_test_prediction))\n",
    "sk_accuracy_ent.append(metrics.accuracy_score(y_test,sklearn_test_prediction))\n",
    "\n",
    "print('F1 Score: ',metrics.f1_score(y_test,sklearn_test_prediction,average= 'micro'))\n",
    "sk_F1_ent.append(metrics.f1_score(y_test,sklearn_test_prediction,average= 'micro'))\n",
    "\n",
    "print('precision: ',metrics.precision_score(y_test,sklearn_test_prediction,average= 'micro'))\n",
    "sk_precision_ent.append(metrics.precision_score(y_test,sklearn_test_prediction,average= 'micro'))\n",
    "\n",
    "print('recall: ',metrics.recall_score(y_test,sklearn_test_prediction,average= 'micro'))\n",
    "sk_recall_ent.append(metrics.recall_score(y_test,sklearn_test_prediction,average= 'micro'))\n",
    "sklearn_tree.score(X_test,y_test)"
   ],
   "metadata": {
    "collapsed": false,
    "pycharm": {
     "name": "#%%\n"
    }
   }
  },
  {
   "cell_type": "markdown",
   "source": [
    "# Writing to CSV files"
   ],
   "metadata": {
    "collapsed": false
   }
  },
  {
   "cell_type": "code",
   "execution_count": null,
   "outputs": [],
   "source": [
    "dataframe = pd.DataFrame({'Dataset': data_set, 'length': length, 'my_time': my_time, 'my_time_ent': my_time_ent, 'sk_time': sk_time,\n",
    "                          'sk_time_ent': sk_time_ent,'my_memory':my_memory,'my_memory_ent':my_memory_ent,'sk_memory':sk_memory,'sk_memory_ent':sk_memory_ent,'my_accuracy':my_accuracy,'my_accuracy_ent':my_accuracy_ent,\n",
    "                          'sk_accuracy':sk_accuracy,'sk_accuracy_ent':sk_accuracy_ent,'my_precision':my_precision,'my_precision_ent':my_precision_ent,'sk_precision':sk_precision,'sk_precision_ent':sk_precision_ent,'my_recall':my_recall, 'my_recall_ent':my_recall_ent,\n",
    "                          'sk_recall': sk_recall,'sk_recall_ent': sk_recall_ent,'my_F1':my_F1,'my_F1_ent':my_F1_ent,'sk_F1':sk_F1, 'sk_F1_ent':sk_F1_ent})\n",
    "\n",
    "dataframe"
   ],
   "metadata": {
    "collapsed": false,
    "pycharm": {
     "name": "#%%\n"
    }
   }
  },
  {
   "cell_type": "code",
   "execution_count": null,
   "outputs": [],
   "source": [
    "dataframe.to_csv('all_datasets.csv', index= False)"
   ],
   "metadata": {
    "collapsed": false,
    "pycharm": {
     "name": "#%%\n"
    }
   }
  },
  {
   "cell_type": "markdown",
   "source": [
    "# Checking the affect of pruning/stopping criteria on performance of the Decision Tree"
   ],
   "metadata": {
    "collapsed": false
   }
  },
  {
   "cell_type": "markdown",
   "source": [
    "## Max Depth"
   ],
   "metadata": {
    "collapsed": false
   }
  },
  {
   "cell_type": "code",
   "execution_count": 159,
   "outputs": [
    {
     "name": "stdout",
     "output_type": "stream",
     "text": [
      "At max depth  None :\n",
      "accuracy:  0.9044117647058824\n",
      "F1 Score:  0.9044117647058824\n",
      "precision:  0.9044117647058824\n",
      "recall:  0.9044117647058824\n",
      "*****************************************************************************************\n",
      "At max depth  20 :\n",
      "accuracy:  0.9044117647058824\n",
      "F1 Score:  0.9044117647058824\n",
      "precision:  0.9044117647058824\n",
      "recall:  0.9044117647058824\n",
      "*****************************************************************************************\n",
      "At max depth  10 :\n",
      "accuracy:  0.9044117647058824\n",
      "F1 Score:  0.9044117647058824\n",
      "precision:  0.9044117647058824\n",
      "recall:  0.9044117647058824\n",
      "*****************************************************************************************\n",
      "At max depth  8 :\n",
      "accuracy:  0.9044117647058824\n",
      "F1 Score:  0.9044117647058824\n",
      "precision:  0.9044117647058824\n",
      "recall:  0.9044117647058824\n",
      "*****************************************************************************************\n",
      "At max depth  5 :\n",
      "accuracy:  0.9117647058823529\n",
      "F1 Score:  0.9117647058823528\n",
      "precision:  0.9117647058823529\n",
      "recall:  0.9117647058823529\n",
      "*****************************************************************************************\n",
      "At max depth  4 :\n",
      "accuracy:  0.9191176470588235\n",
      "F1 Score:  0.9191176470588235\n",
      "precision:  0.9191176470588235\n",
      "recall:  0.9191176470588235\n",
      "*****************************************************************************************\n",
      "At max depth  3 :\n",
      "accuracy:  0.9117647058823529\n",
      "F1 Score:  0.9117647058823528\n",
      "precision:  0.9117647058823529\n",
      "recall:  0.9117647058823529\n",
      "*****************************************************************************************\n",
      "At max depth  2 :\n",
      "accuracy:  0.9338235294117647\n",
      "F1 Score:  0.9338235294117647\n",
      "precision:  0.9338235294117647\n",
      "recall:  0.9338235294117647\n",
      "*****************************************************************************************\n"
     ]
    }
   ],
   "source": [
    "train,test = train_test_split(cancer_dataset)\n",
    "X_train = list(point[0:len(point)-1] for point in train)\n",
    "y_train = list(point[-1] for point in train)\n",
    "X_test = list(point[0:len(point)-1] for point in test)\n",
    "y_test = list(point[-1] for point in test)\n",
    "depths = [None,20,10,8,5,4,3,2]\n",
    "accuracy = []\n",
    "precision = []\n",
    "recall = []\n",
    "F1 = []\n",
    "for depth in depths:\n",
    "    my_tree = build_tree(train,cancer_header,'entropy',max_depth=depth)\n",
    "    #print_tree(my_tree)\n",
    "    print('At max depth ', depth,':')\n",
    "    my_test_prediction = predict(my_tree,test)\n",
    "    print('accuracy: ',metrics.accuracy_score(y_test,my_test_prediction))\n",
    "    accuracy.append(metrics.accuracy_score(y_test,my_test_prediction))\n",
    "    print('F1 Score: ',metrics.f1_score(y_test,my_test_prediction,average= 'micro'))\n",
    "    F1.append(metrics.f1_score(y_test,my_test_prediction,average= 'micro'))\n",
    "    print('precision: ',metrics.precision_score(y_test,my_test_prediction,average= 'micro'))\n",
    "    precision.append(metrics.precision_score(y_test,my_test_prediction,average= 'micro'))\n",
    "    print('recall: ',metrics.recall_score(y_test,my_test_prediction,average= 'micro'))\n",
    "    recall.append(metrics.recall_score(y_test,my_test_prediction,average= 'micro'))\n",
    "    print('*****************************************************************************************')\n"
   ],
   "metadata": {
    "collapsed": false,
    "pycharm": {
     "name": "#%%\n"
    }
   }
  },
  {
   "cell_type": "code",
   "execution_count": 151,
   "outputs": [
    {
     "name": "stdout",
     "output_type": "stream",
     "text": [
      "is alcohol <= 10.850000000000001?\n",
      "--> Left:\n",
      "  is volatile acidity <= 0.2675?\n",
      "  --> Left:\n",
      "    Prediction:  6\n",
      "  --> Right:\n",
      "    Prediction:  5\n",
      "--> Right:\n",
      "  Prediction:  6\n"
     ]
    }
   ],
   "source": [
    "my_tree = build_tree(train,winequality_header,'entropy',max_depth=2)\n",
    "print_tree(my_tree)"
   ],
   "metadata": {
    "collapsed": false,
    "pycharm": {
     "name": "#%%\n"
    }
   }
  },
  {
   "cell_type": "code",
   "execution_count": 179,
   "outputs": [
    {
     "data": {
      "text/plain": "['NA', 20, 10, 8, 5, 4, 3, 2]"
     },
     "execution_count": 179,
     "metadata": {},
     "output_type": "execute_result"
    }
   ],
   "source": [
    "for i in range(len(depths)):\n",
    "    if depths[i] == None:\n",
    "        depths[i] = 'NA'\n",
    "    else:\n",
    "        depths[i] = int(depths[i])\n",
    "depths"
   ],
   "metadata": {
    "collapsed": false,
    "pycharm": {
     "name": "#%%\n"
    }
   }
  },
  {
   "cell_type": "code",
   "execution_count": 180,
   "outputs": [
    {
     "data": {
      "text/plain": "  depth  accuracy  precision    recall        F1\n0    NA  0.904412   0.904412  0.904412  0.904412\n1    20  0.904412   0.904412  0.904412  0.904412\n2    10  0.904412   0.904412  0.904412  0.904412\n3     8  0.904412   0.904412  0.904412  0.904412\n4     5  0.911765   0.911765  0.911765  0.911765\n5     4  0.919118   0.919118  0.919118  0.919118\n6     3  0.911765   0.911765  0.911765  0.911765\n7     2  0.933824   0.933824  0.933824  0.933824",
      "text/html": "<div>\n<style scoped>\n    .dataframe tbody tr th:only-of-type {\n        vertical-align: middle;\n    }\n\n    .dataframe tbody tr th {\n        vertical-align: top;\n    }\n\n    .dataframe thead th {\n        text-align: right;\n    }\n</style>\n<table border=\"1\" class=\"dataframe\">\n  <thead>\n    <tr style=\"text-align: right;\">\n      <th></th>\n      <th>depth</th>\n      <th>accuracy</th>\n      <th>precision</th>\n      <th>recall</th>\n      <th>F1</th>\n    </tr>\n  </thead>\n  <tbody>\n    <tr>\n      <th>0</th>\n      <td>NA</td>\n      <td>0.904412</td>\n      <td>0.904412</td>\n      <td>0.904412</td>\n      <td>0.904412</td>\n    </tr>\n    <tr>\n      <th>1</th>\n      <td>20</td>\n      <td>0.904412</td>\n      <td>0.904412</td>\n      <td>0.904412</td>\n      <td>0.904412</td>\n    </tr>\n    <tr>\n      <th>2</th>\n      <td>10</td>\n      <td>0.904412</td>\n      <td>0.904412</td>\n      <td>0.904412</td>\n      <td>0.904412</td>\n    </tr>\n    <tr>\n      <th>3</th>\n      <td>8</td>\n      <td>0.904412</td>\n      <td>0.904412</td>\n      <td>0.904412</td>\n      <td>0.904412</td>\n    </tr>\n    <tr>\n      <th>4</th>\n      <td>5</td>\n      <td>0.911765</td>\n      <td>0.911765</td>\n      <td>0.911765</td>\n      <td>0.911765</td>\n    </tr>\n    <tr>\n      <th>5</th>\n      <td>4</td>\n      <td>0.919118</td>\n      <td>0.919118</td>\n      <td>0.919118</td>\n      <td>0.919118</td>\n    </tr>\n    <tr>\n      <th>6</th>\n      <td>3</td>\n      <td>0.911765</td>\n      <td>0.911765</td>\n      <td>0.911765</td>\n      <td>0.911765</td>\n    </tr>\n    <tr>\n      <th>7</th>\n      <td>2</td>\n      <td>0.933824</td>\n      <td>0.933824</td>\n      <td>0.933824</td>\n      <td>0.933824</td>\n    </tr>\n  </tbody>\n</table>\n</div>"
     },
     "execution_count": 180,
     "metadata": {},
     "output_type": "execute_result"
    }
   ],
   "source": [
    "df = pd.DataFrame({'depth': depths, 'accuracy':accuracy, 'precision':precision, 'recall':recall, 'F1':F1})\n",
    "df"
   ],
   "metadata": {
    "collapsed": false,
    "pycharm": {
     "name": "#%%\n"
    }
   }
  },
  {
   "cell_type": "code",
   "execution_count": 182,
   "outputs": [],
   "source": [
    "df.to_csv('pruning_max_depth.csv',index= False)"
   ],
   "metadata": {
    "collapsed": false,
    "pycharm": {
     "name": "#%%\n"
    }
   }
  },
  {
   "cell_type": "markdown",
   "source": [
    "## minimum samples to split"
   ],
   "metadata": {
    "collapsed": false
   }
  },
  {
   "cell_type": "code",
   "execution_count": 10,
   "outputs": [
    {
     "name": "stdout",
     "output_type": "stream",
     "text": [
      "At min samples  3 :\n",
      "accuracy:  0.875\n",
      "F1 Score:  0.875\n",
      "precision:  0.875\n",
      "recall:  0.875\n",
      "*****************************************************************************************\n",
      "At min samples  5 :\n",
      "accuracy:  0.875\n",
      "F1 Score:  0.875\n",
      "precision:  0.875\n",
      "recall:  0.875\n",
      "*****************************************************************************************\n",
      "At min samples  8 :\n",
      "accuracy:  0.8676470588235294\n",
      "F1 Score:  0.8676470588235294\n",
      "precision:  0.8676470588235294\n",
      "recall:  0.8676470588235294\n",
      "*****************************************************************************************\n",
      "At min samples  10 :\n",
      "accuracy:  0.8676470588235294\n",
      "F1 Score:  0.8676470588235294\n",
      "precision:  0.8676470588235294\n",
      "recall:  0.8676470588235294\n",
      "*****************************************************************************************\n",
      "At min samples  20 :\n",
      "accuracy:  0.8529411764705882\n",
      "F1 Score:  0.8529411764705882\n",
      "precision:  0.8529411764705882\n",
      "recall:  0.8529411764705882\n",
      "*****************************************************************************************\n",
      "At min samples  30 :\n",
      "accuracy:  0.8529411764705882\n",
      "F1 Score:  0.8529411764705882\n",
      "precision:  0.8529411764705882\n",
      "recall:  0.8529411764705882\n",
      "*****************************************************************************************\n",
      "At min samples  40 :\n",
      "accuracy:  0.8676470588235294\n",
      "F1 Score:  0.8676470588235294\n",
      "precision:  0.8676470588235294\n",
      "recall:  0.8676470588235294\n",
      "*****************************************************************************************\n"
     ]
    }
   ],
   "source": [
    "train,test = train_test_split(cancer_dataset)\n",
    "X_train = list(point[0:len(point)-1] for point in train)\n",
    "y_train = list(point[-1] for point in train)\n",
    "X_test = list(point[0:len(point)-1] for point in test)\n",
    "y_test = list(point[-1] for point in test)\n",
    "min_samples = [3,5,8,10,20,30,40]\n",
    "accuracy1 = []\n",
    "precision1 = []\n",
    "recall1 = []\n",
    "F11 = []\n",
    "for min_sample in min_samples:\n",
    "    my_tree = build_tree(train,cancer_header,'entropy',min_samples_split= min_sample)\n",
    "    #print_tree(my_tree)\n",
    "    print('At min samples ', min_sample,':')\n",
    "    my_test_prediction = predict(my_tree,test)\n",
    "    print('accuracy: ',metrics.accuracy_score(y_test,my_test_prediction))\n",
    "    accuracy1.append(metrics.accuracy_score(y_test,my_test_prediction))\n",
    "    print('F1 Score: ',metrics.f1_score(y_test,my_test_prediction,average= 'micro'))\n",
    "    F11.append(metrics.f1_score(y_test,my_test_prediction,average= 'micro'))\n",
    "    print('precision: ',metrics.precision_score(y_test,my_test_prediction,average= 'micro'))\n",
    "    precision1.append(metrics.precision_score(y_test,my_test_prediction,average= 'micro'))\n",
    "    print('recall: ',metrics.recall_score(y_test,my_test_prediction,average= 'micro'))\n",
    "    recall1.append(metrics.recall_score(y_test,my_test_prediction,average= 'micro'))\n",
    "    print('*****************************************************************************************')"
   ],
   "metadata": {
    "collapsed": false,
    "pycharm": {
     "name": "#%%\n"
    }
   }
  },
  {
   "cell_type": "code",
   "execution_count": 173,
   "outputs": [
    {
     "data": {
      "text/plain": "  min_samples  accuracy  precision    recall        F1\n0           3  0.926471   0.926471  0.926471  0.926471\n1           5  0.926471   0.926471  0.926471  0.926471\n2           8  0.933824   0.933824  0.933824  0.933824\n3          10  0.933824   0.933824  0.933824  0.933824\n4          20  0.933824   0.933824  0.933824  0.933824\n5          30  0.948529   0.948529  0.948529  0.948529\n6          40  0.948529   0.948529  0.948529  0.948529",
      "text/html": "<div>\n<style scoped>\n    .dataframe tbody tr th:only-of-type {\n        vertical-align: middle;\n    }\n\n    .dataframe tbody tr th {\n        vertical-align: top;\n    }\n\n    .dataframe thead th {\n        text-align: right;\n    }\n</style>\n<table border=\"1\" class=\"dataframe\">\n  <thead>\n    <tr style=\"text-align: right;\">\n      <th></th>\n      <th>min_samples</th>\n      <th>accuracy</th>\n      <th>precision</th>\n      <th>recall</th>\n      <th>F1</th>\n    </tr>\n  </thead>\n  <tbody>\n    <tr>\n      <th>0</th>\n      <td>3</td>\n      <td>0.926471</td>\n      <td>0.926471</td>\n      <td>0.926471</td>\n      <td>0.926471</td>\n    </tr>\n    <tr>\n      <th>1</th>\n      <td>5</td>\n      <td>0.926471</td>\n      <td>0.926471</td>\n      <td>0.926471</td>\n      <td>0.926471</td>\n    </tr>\n    <tr>\n      <th>2</th>\n      <td>8</td>\n      <td>0.933824</td>\n      <td>0.933824</td>\n      <td>0.933824</td>\n      <td>0.933824</td>\n    </tr>\n    <tr>\n      <th>3</th>\n      <td>10</td>\n      <td>0.933824</td>\n      <td>0.933824</td>\n      <td>0.933824</td>\n      <td>0.933824</td>\n    </tr>\n    <tr>\n      <th>4</th>\n      <td>20</td>\n      <td>0.933824</td>\n      <td>0.933824</td>\n      <td>0.933824</td>\n      <td>0.933824</td>\n    </tr>\n    <tr>\n      <th>5</th>\n      <td>30</td>\n      <td>0.948529</td>\n      <td>0.948529</td>\n      <td>0.948529</td>\n      <td>0.948529</td>\n    </tr>\n    <tr>\n      <th>6</th>\n      <td>40</td>\n      <td>0.948529</td>\n      <td>0.948529</td>\n      <td>0.948529</td>\n      <td>0.948529</td>\n    </tr>\n  </tbody>\n</table>\n</div>"
     },
     "execution_count": 173,
     "metadata": {},
     "output_type": "execute_result"
    }
   ],
   "source": [
    "df1 = pd.DataFrame({'min_samples': min_samples, 'accuracy':accuracy1, 'precision':precision1, 'recall':recall1, 'F1':F11})\n",
    "df1"
   ],
   "metadata": {
    "collapsed": false,
    "pycharm": {
     "name": "#%%\n"
    }
   }
  },
  {
   "cell_type": "code",
   "execution_count": 174,
   "outputs": [],
   "source": [
    "df1.to_csv('pruning_min_samples.csv', index = False)"
   ],
   "metadata": {
    "collapsed": false,
    "pycharm": {
     "name": "#%%\n"
    }
   }
  }
 ],
 "metadata": {
  "kernelspec": {
   "display_name": "Python 3",
   "language": "python",
   "name": "python3"
  },
  "language_info": {
   "codemirror_mode": {
    "name": "ipython",
    "version": 2
   },
   "file_extension": ".py",
   "mimetype": "text/x-python",
   "name": "python",
   "nbconvert_exporter": "python",
   "pygments_lexer": "ipython2",
   "version": "2.7.6"
  }
 },
 "nbformat": 4,
 "nbformat_minor": 0
}