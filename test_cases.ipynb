{
 "cells": [
  {
   "cell_type": "code",
   "execution_count": 7,
   "outputs": [],
   "source": [
    "from decision_tree import *\n",
    "import sklearn as sk\n",
    "from sklearn import tree #for comparison"
   ],
   "metadata": {
    "collapsed": false,
    "pycharm": {
     "name": "#%%\n"
    }
   }
  },
  {
   "cell_type": "code",
   "execution_count": 5,
   "metadata": {
    "collapsed": true
   },
   "outputs": [
    {
     "name": "stdout",
     "output_type": "stream",
     "text": [
      "is 0 == 8?\n",
      "--> Left:\n",
      "  Prediction:  0\n",
      "--> Right:\n",
      "  Prediction:  1\n",
      "***********************************\n",
      "is 0 <= 9.5?\n",
      "--> Left:\n",
      "  is 0 <= 5.75?\n",
      "  --> Left:\n",
      "    Prediction:  1\n",
      "  --> Right:\n",
      "    Prediction:  0\n",
      "--> Right:\n",
      "  Prediction:  1\n"
     ]
    }
   ],
   "source": [
    "x = [[0,1],[0,0],[8,0],[3.5,1],[11,1]]\n",
    "my_tree = build_tree(x)\n",
    "print_tree(my_tree)\n",
    "print('***********************************')\n",
    "feature =get_feature_type(x,2)\n",
    "my_tree = build_tree(dataset=x,header=None,split_type='gini',min_samples_split=2, max_depth=None,featureType=feature)\n",
    "print_tree(my_tree)\n",
    "print('****************************************')"
   ]
  },
  {
   "cell_type": "code",
   "execution_count": 10,
   "outputs": [
    {
     "ename": "TypeError",
     "evalue": "object of type 'int' has no len()",
     "output_type": "error",
     "traceback": [
      "\u001B[1;31m---------------------------------------------------------------------------\u001B[0m",
      "\u001B[1;31mTypeError\u001B[0m                                 Traceback (most recent call last)",
      "\u001B[1;32m~\\AppData\\Local\\Temp/ipykernel_20844/1057813952.py\u001B[0m in \u001B[0;36m<module>\u001B[1;34m\u001B[0m\n\u001B[0;32m      1\u001B[0m \u001B[0mx\u001B[0m \u001B[1;33m=\u001B[0m \u001B[1;33m[\u001B[0m\u001B[1;36m1\u001B[0m\u001B[1;33m]\u001B[0m\u001B[1;33m\u001B[0m\u001B[1;33m\u001B[0m\u001B[0m\n\u001B[0;32m      2\u001B[0m \u001B[0my\u001B[0m \u001B[1;33m=\u001B[0m \u001B[1;33m[\u001B[0m\u001B[1;33m]\u001B[0m\u001B[1;33m\u001B[0m\u001B[1;33m\u001B[0m\u001B[0m\n\u001B[1;32m----> 3\u001B[1;33m \u001B[0mmy_tree\u001B[0m \u001B[1;33m=\u001B[0m \u001B[0mbuild_tree\u001B[0m\u001B[1;33m(\u001B[0m\u001B[0mx\u001B[0m\u001B[1;33m)\u001B[0m\u001B[1;33m\u001B[0m\u001B[1;33m\u001B[0m\u001B[0m\n\u001B[0m\u001B[0;32m      4\u001B[0m \u001B[0mprint_tree\u001B[0m\u001B[1;33m(\u001B[0m\u001B[0mmy_tree\u001B[0m\u001B[1;33m)\u001B[0m\u001B[1;33m\u001B[0m\u001B[1;33m\u001B[0m\u001B[0m\n",
      "\u001B[1;32mE:\\Lancaster University\\Programming for Data Scientists\\Final Project\\decision_tree.py\u001B[0m in \u001B[0;36mbuild_tree\u001B[1;34m(dataset, header, split_type, min_samples_split, max_depth, counter, featureType)\u001B[0m\n\u001B[0;32m    161\u001B[0m         \u001B[1;32mglobal\u001B[0m \u001B[0mfeature_type\u001B[0m\u001B[1;33m\u001B[0m\u001B[1;33m\u001B[0m\u001B[0m\n\u001B[0;32m    162\u001B[0m         \u001B[1;32mif\u001B[0m \u001B[0mfeatureType\u001B[0m \u001B[1;33m==\u001B[0m \u001B[1;32mNone\u001B[0m\u001B[1;33m:\u001B[0m\u001B[1;33m\u001B[0m\u001B[1;33m\u001B[0m\u001B[0m\n\u001B[1;32m--> 163\u001B[1;33m             \u001B[0mfeature_type\u001B[0m \u001B[1;33m=\u001B[0m \u001B[0mget_feature_type\u001B[0m\u001B[1;33m(\u001B[0m\u001B[0mdataset\u001B[0m\u001B[1;33m)\u001B[0m\u001B[1;33m\u001B[0m\u001B[1;33m\u001B[0m\u001B[0m\n\u001B[0m\u001B[0;32m    164\u001B[0m         \u001B[1;32melse\u001B[0m\u001B[1;33m:\u001B[0m\u001B[1;33m\u001B[0m\u001B[1;33m\u001B[0m\u001B[0m\n\u001B[0;32m    165\u001B[0m             \u001B[1;32mif\u001B[0m \u001B[1;33m(\u001B[0m\u001B[0mlen\u001B[0m\u001B[1;33m(\u001B[0m\u001B[0mdataset\u001B[0m\u001B[1;33m[\u001B[0m\u001B[1;36m0\u001B[0m\u001B[1;33m]\u001B[0m\u001B[1;33m)\u001B[0m\u001B[1;33m-\u001B[0m\u001B[1;36m1\u001B[0m\u001B[1;33m)\u001B[0m \u001B[1;33m==\u001B[0m \u001B[0mlen\u001B[0m\u001B[1;33m(\u001B[0m\u001B[0mfeatureType\u001B[0m\u001B[1;33m)\u001B[0m \u001B[1;32mand\u001B[0m \u001B[0mtype\u001B[0m\u001B[1;33m(\u001B[0m\u001B[0mfeatureType\u001B[0m\u001B[1;33m)\u001B[0m \u001B[1;33m==\u001B[0m \u001B[0mlist\u001B[0m\u001B[1;33m:\u001B[0m\u001B[1;33m\u001B[0m\u001B[1;33m\u001B[0m\u001B[0m\n",
      "\u001B[1;32mE:\\Lancaster University\\Programming for Data Scientists\\Final Project\\decision_tree.py\u001B[0m in \u001B[0;36mget_feature_type\u001B[1;34m(dataset, threshold)\u001B[0m\n\u001B[0;32m     30\u001B[0m     \u001B[1;31m# This function helps in marking features as continuous and categorical.\u001B[0m\u001B[1;33m\u001B[0m\u001B[1;33m\u001B[0m\u001B[0m\n\u001B[0;32m     31\u001B[0m     \u001B[0mfeature_type\u001B[0m \u001B[1;33m=\u001B[0m \u001B[1;33m[\u001B[0m\u001B[1;33m]\u001B[0m\u001B[1;33m\u001B[0m\u001B[1;33m\u001B[0m\u001B[0m\n\u001B[1;32m---> 32\u001B[1;33m     \u001B[1;32mfor\u001B[0m \u001B[0mi\u001B[0m \u001B[1;32min\u001B[0m \u001B[0mrange\u001B[0m\u001B[1;33m(\u001B[0m\u001B[0mlen\u001B[0m\u001B[1;33m(\u001B[0m\u001B[0mdataset\u001B[0m\u001B[1;33m[\u001B[0m\u001B[1;36m0\u001B[0m\u001B[1;33m]\u001B[0m\u001B[1;33m)\u001B[0m \u001B[1;33m-\u001B[0m \u001B[1;36m1\u001B[0m\u001B[1;33m)\u001B[0m\u001B[1;33m:\u001B[0m\u001B[1;33m\u001B[0m\u001B[1;33m\u001B[0m\u001B[0m\n\u001B[0m\u001B[0;32m     33\u001B[0m         \u001B[0mcount\u001B[0m \u001B[1;33m=\u001B[0m \u001B[0mlen\u001B[0m\u001B[1;33m(\u001B[0m\u001B[0mfind_unique\u001B[0m\u001B[1;33m(\u001B[0m\u001B[0mdataset\u001B[0m\u001B[1;33m,\u001B[0m \u001B[0mi\u001B[0m\u001B[1;33m)\u001B[0m\u001B[1;33m)\u001B[0m\u001B[1;33m\u001B[0m\u001B[1;33m\u001B[0m\u001B[0m\n\u001B[0;32m     34\u001B[0m         \u001B[1;32mif\u001B[0m \u001B[0misinstance\u001B[0m\u001B[1;33m(\u001B[0m\u001B[0mdataset\u001B[0m\u001B[1;33m[\u001B[0m\u001B[1;36m0\u001B[0m\u001B[1;33m]\u001B[0m\u001B[1;33m[\u001B[0m\u001B[0mi\u001B[0m\u001B[1;33m]\u001B[0m\u001B[1;33m,\u001B[0m \u001B[0mstr\u001B[0m\u001B[1;33m)\u001B[0m \u001B[1;32mor\u001B[0m \u001B[0mcount\u001B[0m \u001B[1;33m<=\u001B[0m \u001B[0mthreshold\u001B[0m\u001B[1;33m:\u001B[0m\u001B[1;33m\u001B[0m\u001B[1;33m\u001B[0m\u001B[0m\n",
      "\u001B[1;31mTypeError\u001B[0m: object of type 'int' has no len()"
     ]
    }
   ],
   "source": [
    "x = [1]\n",
    "y = []\n",
    "my_tree = build_tree(x)\n",
    "print_tree(my_tree)"
   ],
   "metadata": {
    "collapsed": false,
    "pycharm": {
     "name": "#%%\n"
    }
   }
  },
  {
   "cell_type": "code",
   "execution_count": 13,
   "outputs": [
    {
     "name": "stdout",
     "output_type": "stream",
     "text": [
      "Prediction:  1\n",
      "****************************************\n"
     ]
    }
   ],
   "source": [
    "dataset = [[1,0],[3,0],[5,0],[8,1],[11,1],[12,1],[15,1]]\n",
    "feature =get_feature_type(dataset,2)\n",
    "my_tree = build_tree(dataset=dataset,header=None,split_type='gini',min_samples_split=2, max_depth=None,featureType=feature)\n",
    "print_tree(my_tree)\n",
    "print('****************************************')"
   ],
   "metadata": {
    "collapsed": false,
    "pycharm": {
     "name": "#%%\n"
    }
   }
  },
  {
   "cell_type": "code",
   "execution_count": 14,
   "outputs": [
    {
     "name": "stdout",
     "output_type": "stream",
     "text": [
      "Prediction:  0\n",
      "****************************************\n"
     ]
    }
   ],
   "source": [
    "dataset = [[0,0],[0,0],[0,0],[0,0],[0,0]]\n",
    "feature =get_feature_type(dataset,2)\n",
    "my_tree = build_tree(dataset=dataset,header=None,split_type='gini',min_samples_split=2, max_depth=None,featureType=feature)\n",
    "print_tree(my_tree)\n",
    "print('****************************************')"
   ],
   "metadata": {
    "collapsed": false,
    "pycharm": {
     "name": "#%%\n"
    }
   }
  },
  {
   "cell_type": "code",
   "execution_count": 15,
   "outputs": [
    {
     "name": "stdout",
     "output_type": "stream",
     "text": [
      "Prediction:  0\n",
      "****************************************\n"
     ]
    }
   ],
   "source": [
    "dataset = [[1,0],[2,0],[3,0],[4,0],[5,0],[6,0]]\n",
    "feature =get_feature_type(dataset,2)\n",
    "my_tree = build_tree(dataset=dataset,header=None,split_type='gini',min_samples_split=2, max_depth=None,featureType=feature)\n",
    "print_tree(my_tree)\n",
    "print('****************************************')"
   ],
   "metadata": {
    "collapsed": false,
    "pycharm": {
     "name": "#%%\n"
    }
   }
  },
  {
   "cell_type": "code",
   "execution_count": 16,
   "outputs": [
    {
     "name": "stdout",
     "output_type": "stream",
     "text": [
      "Prediction:  1\n",
      "****************************************\n"
     ]
    }
   ],
   "source": [
    "dataset = [[0,1],[0,2],[0,3],[0,4],[0,5],[0,6],[0,7]]\n",
    "feature =get_feature_type(dataset,2)\n",
    "my_tree = build_tree(dataset=dataset,header=None,split_type='gini',min_samples_split=2, max_depth=None,featureType=feature)\n",
    "print_tree(my_tree)\n",
    "print('****************************************')"
   ],
   "metadata": {
    "collapsed": false,
    "pycharm": {
     "name": "#%%\n"
    }
   }
  },
  {
   "cell_type": "code",
   "execution_count": 17,
   "outputs": [
    {
     "name": "stdout",
     "output_type": "stream",
     "text": [
      "Prediction:  7\n",
      "****************************************\n"
     ]
    }
   ],
   "source": [
    "dataset = [[0,7],[0,2],[0,3],[0,4],[0,5],[0,6],[0,1]]\n",
    "feature =get_feature_type(dataset,2)\n",
    "my_tree = build_tree(dataset=dataset,header=None,split_type='gini',min_samples_split=2, max_depth=None,featureType=feature)\n",
    "print_tree(my_tree)\n",
    "print('****************************************')"
   ],
   "metadata": {
    "collapsed": false,
    "pycharm": {
     "name": "#%%\n"
    }
   }
  },
  {
   "cell_type": "code",
   "execution_count": 24,
   "outputs": [
    {
     "name": "stdout",
     "output_type": "stream",
     "text": [
      "is 0 <= 1.5?\n",
      "--> Left:\n",
      "  is 0 <= 0.5?\n",
      "  --> Left:\n",
      "    Prediction:  0\n",
      "  --> Right:\n",
      "    Prediction:  1\n",
      "--> Right:\n",
      "  Prediction:  1\n",
      "****************************************\n"
     ]
    }
   ],
   "source": [
    "dataset = [[0,0],[0,1],[1,1],[1,0],[2,1]]\n",
    "feature =get_feature_type(dataset,2)\n",
    "my_tree = build_tree(dataset=dataset,header=None,split_type='gini',min_samples_split=2, max_depth=None,featureType=feature)\n",
    "print_tree(my_tree)\n",
    "print('****************************************')"
   ],
   "metadata": {
    "collapsed": false,
    "pycharm": {
     "name": "#%%\n"
    }
   }
  },
  {
   "cell_type": "code",
   "execution_count": 25,
   "outputs": [
    {
     "name": "stdout",
     "output_type": "stream",
     "text": [
      "is 0 <= 1.5?\n",
      "--> Left:\n",
      "  Prediction:  0\n",
      "--> Right:\n",
      "  Prediction:  1\n",
      "****************************************\n"
     ]
    }
   ],
   "source": [
    "dataset = [[1,0],[1,1],[2,1],[1,0],[3,1]]\n",
    "feature =get_feature_type(dataset,2)\n",
    "my_tree = build_tree(dataset=dataset,header=None,split_type='gini',min_samples_split=2, max_depth=None,featureType=feature)\n",
    "print_tree(my_tree)\n",
    "print('****************************************')"
   ],
   "metadata": {
    "collapsed": false,
    "pycharm": {
     "name": "#%%\n"
    }
   }
  },
  {
   "cell_type": "markdown",
   "source": [
    "## Unhandled test case--> datapoint length mismatch\n"
   ],
   "metadata": {
    "collapsed": false
   }
  },
  {
   "cell_type": "code",
   "execution_count": 30,
   "outputs": [
    {
     "name": "stdout",
     "output_type": "stream",
     "text": [
      "is 1 == 0?\n",
      "--> Left:\n",
      "  Prediction:  2\n",
      "--> Right:\n",
      "  Prediction:  1\n",
      "****************************************\n"
     ]
    }
   ],
   "source": [
    "dataset = [[1,0,2],[1,1],[2,1],[1,0],[3,1]]\n",
    "feature =get_feature_type(dataset,2)\n",
    "my_tree = build_tree(dataset=dataset,header=None,split_type='gini',min_samples_split=2, max_depth=None,featureType=feature)\n",
    "print_tree(my_tree)\n",
    "print('****************************************')"
   ],
   "metadata": {
    "collapsed": false,
    "pycharm": {
     "name": "#%%\n"
    }
   }
  },
  {
   "cell_type": "code",
   "execution_count": 32,
   "outputs": [
    {
     "data": {
      "text/plain": "{0: {1.5, 2.5}, 1: {0, 1}}"
     },
     "execution_count": 32,
     "metadata": {},
     "output_type": "execute_result"
    }
   ],
   "source": [
    "p = find_centres(dataset)\n",
    "p"
   ],
   "metadata": {
    "collapsed": false,
    "pycharm": {
     "name": "#%%\n"
    }
   }
  },
  {
   "cell_type": "code",
   "execution_count": 28,
   "outputs": [
    {
     "name": "stderr",
     "output_type": "stream",
     "text": [
      "C:\\ProgramData\\Anaconda3\\lib\\site-packages\\numpy\\core\\_asarray.py:102: VisibleDeprecationWarning: Creating an ndarray from ragged nested sequences (which is a list-or-tuple of lists-or-tuples-or ndarrays with different lengths or shapes) is deprecated. If you meant to do this, you must specify 'dtype=object' when creating the ndarray.\n",
      "  return array(a, dtype, copy=False, order=order)\n"
     ]
    },
    {
     "ename": "ValueError",
     "evalue": "Unknown label type: 'unknown'",
     "output_type": "error",
     "traceback": [
      "\u001B[1;31m---------------------------------------------------------------------------\u001B[0m",
      "\u001B[1;31mValueError\u001B[0m                                Traceback (most recent call last)",
      "\u001B[1;32m~\\AppData\\Local\\Temp/ipykernel_20844/889871975.py\u001B[0m in \u001B[0;36m<module>\u001B[1;34m\u001B[0m\n\u001B[0;32m      2\u001B[0m \u001B[0my\u001B[0m\u001B[1;33m=\u001B[0m \u001B[1;33m[\u001B[0m\u001B[1;33m[\u001B[0m\u001B[1;36m0\u001B[0m\u001B[1;33m,\u001B[0m\u001B[1;36m2\u001B[0m\u001B[1;33m]\u001B[0m\u001B[1;33m,\u001B[0m\u001B[1;36m1\u001B[0m\u001B[1;33m,\u001B[0m\u001B[1;36m1\u001B[0m\u001B[1;33m,\u001B[0m\u001B[1;36m0\u001B[0m\u001B[1;33m,\u001B[0m\u001B[1;36m1\u001B[0m\u001B[1;33m]\u001B[0m\u001B[1;33m\u001B[0m\u001B[1;33m\u001B[0m\u001B[0m\n\u001B[0;32m      3\u001B[0m \u001B[0msklearn_tree\u001B[0m \u001B[1;33m=\u001B[0m \u001B[0mtree\u001B[0m\u001B[1;33m.\u001B[0m\u001B[0mDecisionTreeClassifier\u001B[0m\u001B[1;33m(\u001B[0m \u001B[0mrandom_state\u001B[0m\u001B[1;33m=\u001B[0m\u001B[1;36m0\u001B[0m\u001B[1;33m)\u001B[0m\u001B[1;33m\u001B[0m\u001B[1;33m\u001B[0m\u001B[0m\n\u001B[1;32m----> 4\u001B[1;33m \u001B[0msklearn_tree\u001B[0m \u001B[1;33m=\u001B[0m \u001B[0msklearn_tree\u001B[0m\u001B[1;33m.\u001B[0m\u001B[0mfit\u001B[0m\u001B[1;33m(\u001B[0m\u001B[0mx\u001B[0m\u001B[1;33m,\u001B[0m\u001B[0my\u001B[0m\u001B[1;33m)\u001B[0m\u001B[1;33m\u001B[0m\u001B[1;33m\u001B[0m\u001B[0m\n\u001B[0m",
      "\u001B[1;32mC:\\ProgramData\\Anaconda3\\lib\\site-packages\\sklearn\\tree\\_classes.py\u001B[0m in \u001B[0;36mfit\u001B[1;34m(self, X, y, sample_weight, check_input, X_idx_sorted)\u001B[0m\n\u001B[0;32m    901\u001B[0m         \"\"\"\n\u001B[0;32m    902\u001B[0m \u001B[1;33m\u001B[0m\u001B[0m\n\u001B[1;32m--> 903\u001B[1;33m         super().fit(\n\u001B[0m\u001B[0;32m    904\u001B[0m             \u001B[0mX\u001B[0m\u001B[1;33m,\u001B[0m \u001B[0my\u001B[0m\u001B[1;33m,\u001B[0m\u001B[1;33m\u001B[0m\u001B[1;33m\u001B[0m\u001B[0m\n\u001B[0;32m    905\u001B[0m             \u001B[0msample_weight\u001B[0m\u001B[1;33m=\u001B[0m\u001B[0msample_weight\u001B[0m\u001B[1;33m,\u001B[0m\u001B[1;33m\u001B[0m\u001B[1;33m\u001B[0m\u001B[0m\n",
      "\u001B[1;32mC:\\ProgramData\\Anaconda3\\lib\\site-packages\\sklearn\\tree\\_classes.py\u001B[0m in \u001B[0;36mfit\u001B[1;34m(self, X, y, sample_weight, check_input, X_idx_sorted)\u001B[0m\n\u001B[0;32m    189\u001B[0m \u001B[1;33m\u001B[0m\u001B[0m\n\u001B[0;32m    190\u001B[0m         \u001B[1;32mif\u001B[0m \u001B[0mis_classification\u001B[0m\u001B[1;33m:\u001B[0m\u001B[1;33m\u001B[0m\u001B[1;33m\u001B[0m\u001B[0m\n\u001B[1;32m--> 191\u001B[1;33m             \u001B[0mcheck_classification_targets\u001B[0m\u001B[1;33m(\u001B[0m\u001B[0my\u001B[0m\u001B[1;33m)\u001B[0m\u001B[1;33m\u001B[0m\u001B[1;33m\u001B[0m\u001B[0m\n\u001B[0m\u001B[0;32m    192\u001B[0m             \u001B[0my\u001B[0m \u001B[1;33m=\u001B[0m \u001B[0mnp\u001B[0m\u001B[1;33m.\u001B[0m\u001B[0mcopy\u001B[0m\u001B[1;33m(\u001B[0m\u001B[0my\u001B[0m\u001B[1;33m)\u001B[0m\u001B[1;33m\u001B[0m\u001B[1;33m\u001B[0m\u001B[0m\n\u001B[0;32m    193\u001B[0m \u001B[1;33m\u001B[0m\u001B[0m\n",
      "\u001B[1;32mC:\\ProgramData\\Anaconda3\\lib\\site-packages\\sklearn\\utils\\multiclass.py\u001B[0m in \u001B[0;36mcheck_classification_targets\u001B[1;34m(y)\u001B[0m\n\u001B[0;32m    181\u001B[0m     if y_type not in ['binary', 'multiclass', 'multiclass-multioutput',\n\u001B[0;32m    182\u001B[0m                       'multilabel-indicator', 'multilabel-sequences']:\n\u001B[1;32m--> 183\u001B[1;33m         \u001B[1;32mraise\u001B[0m \u001B[0mValueError\u001B[0m\u001B[1;33m(\u001B[0m\u001B[1;34m\"Unknown label type: %r\"\u001B[0m \u001B[1;33m%\u001B[0m \u001B[0my_type\u001B[0m\u001B[1;33m)\u001B[0m\u001B[1;33m\u001B[0m\u001B[1;33m\u001B[0m\u001B[0m\n\u001B[0m\u001B[0;32m    184\u001B[0m \u001B[1;33m\u001B[0m\u001B[0m\n\u001B[0;32m    185\u001B[0m \u001B[1;33m\u001B[0m\u001B[0m\n",
      "\u001B[1;31mValueError\u001B[0m: Unknown label type: 'unknown'"
     ]
    }
   ],
   "source": [
    "x = [[1],[1],[2],[1],[3]]\n",
    "y= [[0,2],1,1,0,1]\n",
    "sklearn_tree = tree.DecisionTreeClassifier( random_state=0)\n",
    "sklearn_tree = sklearn_tree.fit(x,y)"
   ],
   "metadata": {
    "collapsed": false,
    "pycharm": {
     "name": "#%%\n"
    }
   }
  }
 ],
 "metadata": {
  "kernelspec": {
   "display_name": "Python 3",
   "language": "python",
   "name": "python3"
  },
  "language_info": {
   "codemirror_mode": {
    "name": "ipython",
    "version": 2
   },
   "file_extension": ".py",
   "mimetype": "text/x-python",
   "name": "python",
   "nbconvert_exporter": "python",
   "pygments_lexer": "ipython2",
   "version": "2.7.6"
  }
 },
 "nbformat": 4,
 "nbformat_minor": 0
}